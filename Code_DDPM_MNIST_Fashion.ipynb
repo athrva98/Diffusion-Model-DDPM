{
  "cells": [
    {
      "cell_type": "markdown",
      "metadata": {
        "id": "VY0TfZO16uHX"
      },
      "source": [
        "# Implementation of DDPM paper in Pytorch\n",
        "\n",
        "<p align=\"center\">\n",
        "<img src='https://drive.google.com/uc?id=11C3cBUfz7_vrkj_4CWCyePaQyr-0m85_' width=500>\n",
        "</p>"
      ]
    },
    {
      "cell_type": "code",
      "execution_count": null,
      "metadata": {
        "id": "JmmL3M2E6jLp"
      },
      "outputs": [],
      "source": [
        "# Import functions\n",
        "\n",
        "!pip install -q -U einops &> /dev/null\n",
        "\n",
        "import numpy as np\n",
        "import math\n",
        "from inspect import isfunction\n",
        "from functools import partial\n",
        "from tqdm import tqdm\n",
        "\n",
        "\n",
        "import matplotlib.pyplot as plt\n",
        "from tqdm.auto import tqdm\n",
        "from einops import rearrange\n",
        "\n",
        "import torch\n",
        "from torch import nn, einsum\n",
        "import torch.nn.functional as F\n",
        "import torch.optim as optim\n",
        "from torchvision import datasets, transforms\n",
        "from torch.utils.data import DataLoader, TensorDataset"
      ]
    },
    {
      "cell_type": "code",
      "execution_count": null,
      "metadata": {
        "colab": {
          "base_uri": "https://localhost:8080/"
        },
        "id": "tC4ZwOICF32o",
        "outputId": "3f04dfbc-9ee6-4215-ee87-96e869eb45ad"
      },
      "outputs": [
        {
          "output_type": "stream",
          "name": "stdout",
          "text": [
            "Mounted at /content/gdrive\n"
          ]
        }
      ],
      "source": [
        "# Connect to drive\n",
        "from google.colab import drive\n",
        "drive.mount('/content/gdrive')"
      ]
    },
    {
      "cell_type": "code",
      "execution_count": null,
      "metadata": {
        "colab": {
          "base_uri": "https://localhost:8080/"
        },
        "id": "yhaB3RiNF_Cl",
        "outputId": "88d49b98-50a1-4a5d-e160-00346ec96d61"
      },
      "outputs": [
        {
          "output_type": "stream",
          "name": "stdout",
          "text": [
            "/content/gdrive/.shortcut-targets-by-id/1nxP_Htk3Zxd5HNqy4vwS13iMDyVJoASy/Final Project - Diffusion Models\n"
          ]
        }
      ],
      "source": [
        "cd /content/gdrive/.shortcut-targets-by-id/1nxP_Htk3Zxd5HNqy4vwS13iMDyVJoASy/Final Project - Diffusion Models"
      ]
    },
    {
      "cell_type": "markdown",
      "metadata": {
        "id": "3RmnUEtsCnA0"
      },
      "source": [
        "## Architecture - UNet"
      ]
    },
    {
      "cell_type": "markdown",
      "metadata": {
        "id": "5153024b"
      },
      "source": [
        "\n",
        "\n",
        "<p align=\"center\">\n",
        "    <img src=\"https://drive.google.com/uc?id=1_Hej_VTgdUWGsxxIuyZACCGjpbCGIUi6\" width=\"400\" />\n",
        "</p>\n",
        "\n",
        "### Network helpers\n",
        "\n",
        "First, we define some helper functions and classes which will be used when implementing the neural network. Importantly, we define a `Residual` module, which simply adds the input to the output of a particular function (in other words, adds a residual connection to a particular function).\n",
        "\n",
        "We also define aliases for the up- and downsampling operations."
      ]
    },
    {
      "cell_type": "code",
      "execution_count": null,
      "metadata": {
        "id": "68907f5d"
      },
      "outputs": [],
      "source": [
        "def exists(x):\n",
        "    return x is not None\n",
        "\n",
        "def default(val, d):\n",
        "    if exists(val):\n",
        "        return val\n",
        "    return d() if isfunction(d) else d\n",
        "\n",
        "class Residual(nn.Module):\n",
        "    def __init__(self, fn):\n",
        "        super().__init__()\n",
        "        self.fn = fn\n",
        "\n",
        "    def forward(self, x, *args, **kwargs):\n",
        "        return self.fn(x, *args, **kwargs) + x\n",
        "\n",
        "def Upsample(dim):\n",
        "    return nn.ConvTranspose2d(dim, dim, 4, 2, 1)\n",
        "\n",
        "def Downsample(dim):\n",
        "    return nn.Conv2d(dim, dim, 4, 2, 1)"
      ]
    },
    {
      "cell_type": "markdown",
      "metadata": {
        "id": "592aa765"
      },
      "source": [
        "### Position embeddings\n",
        "\n",
        "As the parameters of the neural network are shared across time (noise level), the authors employ sinusoidal position embeddings to encode $t$, inspired by the Transformer ([Vaswani et al., 2017](https://arxiv.org/abs/1706.03762)). This makes the neural network \"know\" at which particular time step (noise level) it is operating, for every image in a batch.\n",
        "\n",
        "The `SinusoidalPositionEmbeddings` module takes a tensor of shape `(batch_size, 1)` as input (i.e. the noise levels of several noisy images in a batch), and turns this into a tensor of shape `(batch_size, dim)`, with `dim` being the dimensionality of the position embeddings. This is then added to each residual block, as we will see further."
      ]
    },
    {
      "cell_type": "code",
      "execution_count": null,
      "metadata": {
        "id": "5ed0757b"
      },
      "outputs": [],
      "source": [
        "class SinusoidalPositionEmbeddings(nn.Module):\n",
        "    def __init__(self, dim):\n",
        "        super().__init__()\n",
        "        self.dim = dim\n",
        "\n",
        "    def forward(self, time):\n",
        "        device = time.device\n",
        "        half_dim = self.dim // 2\n",
        "        embeddings = math.log(10000) / (half_dim - 1)\n",
        "        embeddings = torch.exp(torch.arange(half_dim, device=device) * -embeddings)\n",
        "        embeddings = time[:, None] * embeddings[None, :]\n",
        "        embeddings = torch.cat((embeddings.sin(), embeddings.cos()), dim=-1)\n",
        "        return embeddings"
      ]
    },
    {
      "cell_type": "markdown",
      "metadata": {
        "id": "9ff47fbb"
      },
      "source": [
        "### ResNet/ConvNeXT block\n",
        "\n",
        "Next, we define the core building block of the U-Net model. The DDPM authors employed a Wide ResNet block ([Zagoruyko et al., 2016](https://arxiv.org/abs/1605.07146)), but Phil Wang decided to also add support for a ConvNeXT block ([Liu et al., 2022](https://arxiv.org/abs/2201.03545)), as the latter has achieved great success in the image domain. One can choose one or another in the final U-Net architecture."
      ]
    },
    {
      "cell_type": "code",
      "execution_count": null,
      "metadata": {
        "id": "2c2d1219"
      },
      "outputs": [],
      "source": [
        "class Block(nn.Module):\n",
        "    def __init__(self, dim, dim_out, groups = 8):\n",
        "        super().__init__()\n",
        "        self.proj = nn.Conv2d(dim, dim_out, 3, padding = 1)\n",
        "        self.norm = nn.GroupNorm(groups, dim_out)\n",
        "        self.act = nn.SiLU()\n",
        "\n",
        "    def forward(self, x, scale_shift = None):\n",
        "        x = self.proj(x)\n",
        "        x = self.norm(x)\n",
        "\n",
        "        if exists(scale_shift):\n",
        "            scale, shift = scale_shift\n",
        "            x = x * (scale + 1) + shift\n",
        "\n",
        "        x = self.act(x)\n",
        "        return x\n",
        "\n",
        "class ResnetBlock(nn.Module):\n",
        "    \"\"\"https://arxiv.org/abs/1512.03385\"\"\"\n",
        "    \n",
        "    def __init__(self, dim, dim_out, *, time_emb_dim=None, groups=8):\n",
        "        super().__init__()\n",
        "        self.mlp = (\n",
        "            nn.Sequential(nn.SiLU(), nn.Linear(time_emb_dim, dim_out))\n",
        "            if exists(time_emb_dim)\n",
        "            else None\n",
        "        )\n",
        "\n",
        "        self.block1 = Block(dim, dim_out, groups=groups)\n",
        "        self.block2 = Block(dim_out, dim_out, groups=groups)\n",
        "        self.res_conv = nn.Conv2d(dim, dim_out, 1) if dim != dim_out else nn.Identity()\n",
        "\n",
        "    def forward(self, x, time_emb=None):\n",
        "        h = self.block1(x)\n",
        "\n",
        "        if exists(self.mlp) and exists(time_emb):\n",
        "            time_emb = self.mlp(time_emb)\n",
        "            h = rearrange(time_emb, \"b c -> b c 1 1\") + h\n",
        "\n",
        "        h = self.block2(h)\n",
        "        return h + self.res_conv(x)\n",
        "    \n",
        "class ConvNextBlock(nn.Module):\n",
        "    \"\"\"https://arxiv.org/abs/2201.03545\"\"\"\n",
        "\n",
        "    def __init__(self, dim, dim_out, *, time_emb_dim=None, mult=2, norm=True):\n",
        "        super().__init__()\n",
        "        self.mlp = (\n",
        "            nn.Sequential(nn.GELU(), nn.Linear(time_emb_dim, dim))\n",
        "            if exists(time_emb_dim)\n",
        "            else None\n",
        "        )\n",
        "\n",
        "        self.ds_conv = nn.Conv2d(dim, dim, 7, padding=3, groups=dim)\n",
        "\n",
        "        self.net = nn.Sequential(\n",
        "            nn.GroupNorm(1, dim) if norm else nn.Identity(),\n",
        "            nn.Conv2d(dim, dim_out * mult, 3, padding=1),\n",
        "            nn.GELU(),\n",
        "            nn.GroupNorm(1, dim_out * mult),\n",
        "            nn.Conv2d(dim_out * mult, dim_out, 3, padding=1),\n",
        "        )\n",
        "\n",
        "        self.res_conv = nn.Conv2d(dim, dim_out, 1) if dim != dim_out else nn.Identity()\n",
        "\n",
        "    def forward(self, x, time_emb=None):\n",
        "        h = self.ds_conv(x)\n",
        "\n",
        "        if exists(self.mlp) and exists(time_emb):\n",
        "            assert exists(time_emb), \"time embedding must be passed in\"\n",
        "            condition = self.mlp(time_emb)\n",
        "            h = h + rearrange(condition, \"b c -> b c 1 1\")\n",
        "\n",
        "        h = self.net(h)\n",
        "        return h + self.res_conv(x)"
      ]
    },
    {
      "cell_type": "markdown",
      "metadata": {
        "id": "51d9a24c"
      },
      "source": [
        "### Attention module\n",
        "\n",
        "Next, we define the attention module, which the DDPM authors added in between the convolutional blocks. Attention is the building block of the famous Transformer architecture ([Vaswani et al., 2017](https://arxiv.org/abs/1706.03762)), which has shown great success in various domains of AI, from NLP and vision to [protein folding](https://www.deepmind.com/blog/alphafold-a-solution-to-a-50-year-old-grand-challenge-in-biology). Phil Wang employs 2 variants of attention: one is regular multi-head self-attention (as used in the Transformer), the other one is a [linear attention variant](https://github.com/lucidrains/linear-attention-transformer) ([Shen et al., 2018](https://arxiv.org/abs/1812.01243)), whose time- and memory requirements scale linear in the sequence length, as opposed to quadratic for regular attention.\n",
        "\n",
        "For an extensive explanation of the attention mechanism, we refer the reader to Jay Allamar's [wonderful blog post](https://jalammar.github.io/illustrated-transformer/)."
      ]
    },
    {
      "cell_type": "code",
      "execution_count": null,
      "metadata": {
        "id": "07bbd544"
      },
      "outputs": [],
      "source": [
        "class Attention(nn.Module):\n",
        "    def __init__(self, dim, heads=4, dim_head=32):\n",
        "        super().__init__()\n",
        "        self.scale = dim_head**-0.5\n",
        "        self.heads = heads\n",
        "        hidden_dim = dim_head * heads\n",
        "        self.to_qkv = nn.Conv2d(dim, hidden_dim * 3, 1, bias=False)\n",
        "        self.to_out = nn.Conv2d(hidden_dim, dim, 1)\n",
        "\n",
        "    def forward(self, x):\n",
        "        b, c, h, w = x.shape\n",
        "        qkv = self.to_qkv(x).chunk(3, dim=1)\n",
        "        q, k, v = map(\n",
        "            lambda t: rearrange(t, \"b (h c) x y -> b h c (x y)\", h=self.heads), qkv\n",
        "        )\n",
        "        q = q * self.scale\n",
        "\n",
        "        sim = einsum(\"b h d i, b h d j -> b h i j\", q, k)\n",
        "        sim = sim - sim.amax(dim=-1, keepdim=True).detach()\n",
        "        attn = sim.softmax(dim=-1)\n",
        "\n",
        "        out = einsum(\"b h i j, b h d j -> b h i d\", attn, v)\n",
        "        out = rearrange(out, \"b h (x y) d -> b (h d) x y\", x=h, y=w)\n",
        "        return self.to_out(out)\n",
        "\n",
        "class LinearAttention(nn.Module):\n",
        "    def __init__(self, dim, heads=4, dim_head=32):\n",
        "        super().__init__()\n",
        "        self.scale = dim_head**-0.5\n",
        "        self.heads = heads\n",
        "        hidden_dim = dim_head * heads\n",
        "        self.to_qkv = nn.Conv2d(dim, hidden_dim * 3, 1, bias=False)\n",
        "\n",
        "        self.to_out = nn.Sequential(nn.Conv2d(hidden_dim, dim, 1), \n",
        "                                    nn.GroupNorm(1, dim))\n",
        "\n",
        "    def forward(self, x):\n",
        "        b, c, h, w = x.shape\n",
        "        qkv = self.to_qkv(x).chunk(3, dim=1)\n",
        "        q, k, v = map(\n",
        "            lambda t: rearrange(t, \"b (h c) x y -> b h c (x y)\", h=self.heads), qkv\n",
        "        )\n",
        "\n",
        "        q = q.softmax(dim=-2)\n",
        "        k = k.softmax(dim=-1)\n",
        "\n",
        "        q = q * self.scale\n",
        "        context = torch.einsum(\"b h d n, b h e n -> b h d e\", k, v)\n",
        "\n",
        "        out = torch.einsum(\"b h d e, b h d n -> b h e n\", context, q)\n",
        "        out = rearrange(out, \"b h c (x y) -> b (h c) x y\", h=self.heads, x=h, y=w)\n",
        "        return self.to_out(out)"
      ]
    },
    {
      "cell_type": "markdown",
      "metadata": {
        "id": "9a8031b0"
      },
      "source": [
        "### Group normalization\n",
        "\n",
        "The DDPM authors interleave the convolutional/attention layers of the U-Net with group normalization ([Wu et al., 2018](https://arxiv.org/abs/1803.08494)). Below, we define a `PreNorm` class, which will be used to apply groupnorm before the attention layer, as we'll see further. Note that there's been a [debate](https://tnq177.github.io/data/transformers_without_tears.pdf) about whether to apply normalization before or after attention in Transformers."
      ]
    },
    {
      "cell_type": "code",
      "execution_count": null,
      "metadata": {
        "id": "5e2ce68f"
      },
      "outputs": [],
      "source": [
        "class PreNorm(nn.Module):\n",
        "    def __init__(self, dim, fn):\n",
        "        super().__init__()\n",
        "        self.fn = fn\n",
        "        self.norm = nn.GroupNorm(1, dim)\n",
        "\n",
        "    def forward(self, x):\n",
        "        x = self.norm(x)\n",
        "        return self.fn(x)"
      ]
    },
    {
      "cell_type": "markdown",
      "metadata": {
        "id": "06b3fad0"
      },
      "source": [
        "### Conditional U-Net\n",
        "\n",
        "Now that we've defined all building blocks (position embeddings, ResNet/ConvNeXT blocks, attention and group normalization), it's time to define the entire neural network. Recall that the job of the network \\\\(\\mathbf{\\epsilon}_\\theta(\\mathbf{x}_t, t)\\\\) is to take in a batch of noisy images + noise levels, and output the noise added to the input. More formally:\n",
        "\n",
        "- the network takes a batch of noisy images of shape `(batch_size, num_channels, height, width)` and a batch of noise levels of shape `(batch_size, 1)` as input, and returns a tensor of shape `(batch_size, num_channels, height, width)`\n",
        "\n",
        "The network is built up as follows:\n",
        "* first, a convolutional layer is applied on the batch of noisy images, and position embeddings are computed for the noise levels\n",
        "* next, a sequence of downsampling stages are applied. Each downsampling stage consists of 2 ResNet/ConvNeXT blocks + groupnorm + attention + residual connection + a downsample operation\n",
        "* at the middle of the network, again ResNet or ConvNeXT blocks are applied, interleaved with attention\n",
        "* next, a sequence of upsampling stages are applied. Each upsampling stage consists of 2 ResNet/ConvNeXT blocks + groupnorm + attention + residual connection + an upsample operation\n",
        "* finally, a ResNet/ConvNeXT block followed by a convolutional layer is applied.\n",
        "\n",
        "Ultimately, neural networks stack up layers as if they were lego blocks (but it's important to [understand how they work](http://karpathy.github.io/2019/04/25/recipe/)).\n"
      ]
    },
    {
      "cell_type": "code",
      "execution_count": null,
      "metadata": {
        "id": "3a159023"
      },
      "outputs": [],
      "source": [
        "class Unet(nn.Module):\n",
        "    def __init__(\n",
        "        self,\n",
        "        dim,\n",
        "        init_dim=None,\n",
        "        out_dim=None,\n",
        "        dim_mults=(1, 2, 4, 8),\n",
        "        channels=3,\n",
        "        with_time_emb=True,\n",
        "        resnet_block_groups=8,\n",
        "        use_convnext=True,\n",
        "        convnext_mult=2,\n",
        "    ):\n",
        "        super().__init__()\n",
        "\n",
        "        # determine dimensions\n",
        "        self.channels = channels\n",
        "\n",
        "        init_dim = default(init_dim, dim // 3 * 2)\n",
        "        self.init_conv = nn.Conv2d(channels, init_dim, 7, padding=3)\n",
        "\n",
        "        dims = [init_dim, *map(lambda m: dim * m, dim_mults)]\n",
        "        in_out = list(zip(dims[:-1], dims[1:]))\n",
        "        \n",
        "        if use_convnext:\n",
        "            block_klass = partial(ConvNextBlock, mult=convnext_mult)\n",
        "        else:\n",
        "            block_klass = partial(ResnetBlock, groups=resnet_block_groups)\n",
        "\n",
        "        # time embeddings\n",
        "        if with_time_emb:\n",
        "            time_dim = dim * 4\n",
        "            self.time_mlp = nn.Sequential(\n",
        "                SinusoidalPositionEmbeddings(dim),\n",
        "                nn.Linear(dim, time_dim),\n",
        "                nn.GELU(),\n",
        "                nn.Linear(time_dim, time_dim),\n",
        "            )\n",
        "        else:\n",
        "            time_dim = None\n",
        "            self.time_mlp = None\n",
        "\n",
        "        # layers\n",
        "        self.downs = nn.ModuleList([])\n",
        "        self.ups = nn.ModuleList([])\n",
        "        num_resolutions = len(in_out)\n",
        "\n",
        "        for ind, (dim_in, dim_out) in enumerate(in_out):\n",
        "            is_last = ind >= (num_resolutions - 1)\n",
        "\n",
        "            self.downs.append(\n",
        "                nn.ModuleList(\n",
        "                    [\n",
        "                        block_klass(dim_in, dim_out, time_emb_dim=time_dim),\n",
        "                        block_klass(dim_out, dim_out, time_emb_dim=time_dim),\n",
        "                        Residual(PreNorm(dim_out, LinearAttention(dim_out))),\n",
        "                        Downsample(dim_out) if not is_last else nn.Identity(),\n",
        "                    ]\n",
        "                )\n",
        "            )\n",
        "\n",
        "        mid_dim = dims[-1]\n",
        "        self.mid_block1 = block_klass(mid_dim, mid_dim, time_emb_dim=time_dim)\n",
        "        self.mid_attn = Residual(PreNorm(mid_dim, Attention(mid_dim)))\n",
        "        self.mid_block2 = block_klass(mid_dim, mid_dim, time_emb_dim=time_dim)\n",
        "\n",
        "        for ind, (dim_in, dim_out) in enumerate(reversed(in_out[1:])):\n",
        "            is_last = ind >= (num_resolutions - 1)\n",
        "\n",
        "            self.ups.append(\n",
        "                nn.ModuleList(\n",
        "                    [\n",
        "                        block_klass(dim_out * 2, dim_in, time_emb_dim=time_dim),\n",
        "                        block_klass(dim_in, dim_in, time_emb_dim=time_dim),\n",
        "                        Residual(PreNorm(dim_in, LinearAttention(dim_in))),\n",
        "                        Upsample(dim_in) if not is_last else nn.Identity(),\n",
        "                    ]\n",
        "                )\n",
        "            )\n",
        "\n",
        "        out_dim = default(out_dim, channels)\n",
        "        self.final_conv = nn.Sequential(\n",
        "            block_klass(dim, dim), nn.Conv2d(dim, out_dim, 1)\n",
        "        )\n",
        "\n",
        "    def forward(self, x, time):\n",
        "        x = self.init_conv(x)\n",
        "\n",
        "        t = self.time_mlp(time) if exists(self.time_mlp) else None\n",
        "\n",
        "        h = []\n",
        "\n",
        "        # downsample\n",
        "        for block1, block2, attn, downsample in self.downs:\n",
        "            x = block1(x, t)\n",
        "            x = block2(x, t)\n",
        "            x = attn(x)\n",
        "            h.append(x)\n",
        "            x = downsample(x)\n",
        "\n",
        "        # bottleneck\n",
        "        x = self.mid_block1(x, t)\n",
        "        x = self.mid_attn(x)\n",
        "        x = self.mid_block2(x, t)\n",
        "\n",
        "        # upsample\n",
        "        for block1, block2, attn, upsample in self.ups:\n",
        "            x = torch.cat((x, h.pop()), dim=1)\n",
        "            x = block1(x, t)\n",
        "            x = block2(x, t)\n",
        "            x = attn(x)\n",
        "            x = upsample(x)\n",
        "\n",
        "        return self.final_conv(x)"
      ]
    },
    {
      "cell_type": "markdown",
      "metadata": {
        "id": "f2PbBl5t9Qiu"
      },
      "source": [
        "## Forward Diffusion Process"
      ]
    },
    {
      "cell_type": "code",
      "execution_count": null,
      "metadata": {
        "id": "6zYqNUGq6-7J"
      },
      "outputs": [],
      "source": [
        "# Different types of schedules for Variance beta_t\n",
        "\n",
        "def cosine_beta_schedule(timesteps, s=0.008):\n",
        "    \"\"\"\n",
        "    cosine schedule as proposed in Nichol et\n",
        "    \"\"\"\n",
        "    steps = timesteps + 1\n",
        "    x = torch.linspace(0, timesteps, steps)\n",
        "    alphas_cumprod = torch.cos(((x / timesteps) + s) / (1 + s) * torch.pi * 0.5) ** 2\n",
        "    alphas_cumprod = alphas_cumprod / alphas_cumprod[0]\n",
        "    betas = 1 - (alphas_cumprod[1:] / alphas_cumprod[:-1])\n",
        "    return torch.clip(betas, 0.0001, 0.9999)\n",
        "\n",
        "def linear_beta_schedule(timesteps):\n",
        "    beta_start = 0.0001\n",
        "    beta_end = 0.02\n",
        "    return torch.linspace(beta_start, beta_end, timesteps)\n",
        "\n",
        "def quadratic_beta_schedule(timesteps):\n",
        "    beta_start = 0.0001\n",
        "    beta_end = 0.02\n",
        "    return torch.linspace(beta_start**0.5, beta_end**0.5, timesteps) ** 2\n",
        "\n",
        "def sigmoid_beta_schedule(timesteps):\n",
        "    beta_start = 0.0001\n",
        "    beta_end = 0.02\n",
        "    betas = torch.linspace(-6, 6, timesteps)\n",
        "    return torch.sigmoid(betas) * (beta_end - beta_start) + beta_start"
      ]
    },
    {
      "cell_type": "code",
      "execution_count": null,
      "metadata": {
        "id": "-yW1jkRH93hT"
      },
      "outputs": [],
      "source": [
        "class Diffusion:\n",
        "\n",
        "  def __init__(self, schedule, timesteps, loss_type):\n",
        "\n",
        "    self.loss_type = loss_type\n",
        "    self.timesteps = timesteps\n",
        "\n",
        "    # define beta schedule\n",
        "    self.betas = schedule(timesteps=timesteps)\n",
        "\n",
        "    # define alphas \n",
        "    self.alphas = 1. - self.betas\n",
        "    self.alphas_cumprod = torch.cumprod(self.alphas, axis=0)\n",
        "    self.alphas_cumprod_prev = F.pad(self.alphas_cumprod[:-1], (1, 0), value=1.0)\n",
        "\n",
        "    # calculations for diffusion q(x_t | x_{t-1}) and others\n",
        "    self.sqrt_alphas_cumprod = torch.sqrt(self.alphas_cumprod)\n",
        "    self.sqrt_one_minus_alphas_cumprod = torch.sqrt(1. - self.alphas_cumprod)\n",
        "    self.sqrt_recip_alphas = torch.sqrt(1.0 / self.alphas)\n",
        "\n",
        "    # calculations for posterior q(x_{t-1} | x_t, x_0) - beta~ \n",
        "    self.posterior_variance = self.betas * (1. - self.alphas_cumprod_prev) / (1. - self.alphas_cumprod)\n",
        "\n",
        "\n",
        "  def extract(self, a, t, x_shape):\n",
        "    batch_size = t.shape[0]\n",
        "    out = a.gather(-1, t.cpu())\n",
        "    return out.reshape(batch_size, *((1,) * (len(x_shape) - 1))).to(t.device)\n",
        "\n",
        "\n",
        "  def q_sample(self, x_start, t, noise=None):\n",
        "    if noise is None:\n",
        "        noise = torch.randn_like(x_start)\n",
        "\n",
        "    sqrt_alphas_cumprod_t = self.extract(self.sqrt_alphas_cumprod, t, x_start.shape)\n",
        "    sqrt_one_minus_alphas_cumprod_t = self.extract(self.sqrt_one_minus_alphas_cumprod, t, x_start.shape)\n",
        "    return sqrt_alphas_cumprod_t * x_start + sqrt_one_minus_alphas_cumprod_t * noise\n",
        "\n",
        "\n",
        "  def loss_func(self, denoise_model, x_start, t, noise=None):\n",
        "    if noise is None:\n",
        "        noise = torch.randn_like(x_start)\n",
        "\n",
        "    x_t = self.q_sample(x_start=x_start, t=t, noise=noise)\n",
        "    predicted_noise = denoise_model(x_t, t)\n",
        "\n",
        "    if self.loss_type == 'l1':\n",
        "        loss = F.l1_loss(noise, predicted_noise)\n",
        "    elif self.loss_type == 'l2':\n",
        "        loss = F.mse_loss(noise, predicted_noise)\n",
        "    elif self.loss_type == \"huber\":\n",
        "        loss = F.smooth_l1_loss(noise, predicted_noise)\n",
        "    else:\n",
        "        raise NotImplementedError()\n",
        "\n",
        "    return loss\n",
        "\n",
        "\n",
        "  @torch.no_grad()\n",
        "  def p_sample(self, model, x, t, t_index):\n",
        "      betas_t = self.extract(self.betas, t, x.shape)\n",
        "      sqrt_one_minus_alphas_cumprod_t = self.extract(self.sqrt_one_minus_alphas_cumprod, t, x.shape)\n",
        "      sqrt_recip_alphas_t = self.extract(self.sqrt_recip_alphas, t, x.shape)\n",
        "      \n",
        "      # Use our model (noise predictor) to predict the mean\n",
        "      model_mean = sqrt_recip_alphas_t * (x - betas_t * model(x, t) / sqrt_one_minus_alphas_cumprod_t)\n",
        "\n",
        "      if t_index == 0:\n",
        "          return model_mean\n",
        "      else:\n",
        "          posterior_variance_t = self.extract(self.posterior_variance, t, x.shape)\n",
        "          noise = torch.randn_like(x)\n",
        "          return model_mean + torch.sqrt(posterior_variance_t) * noise \n",
        "\n",
        "\n",
        "  @torch.no_grad()\n",
        "  def p_sample_loop(self, model, shape):\n",
        "      device = next(model.parameters()).device\n",
        "\n",
        "      b = shape[0]\n",
        "      # start from pure noise (for each example in the batch)\n",
        "      img = torch.randn(shape, device=device)\n",
        "      \n",
        "      for i in tqdm(reversed(range(0, self.timesteps)), desc='sampling loop time step', total=self.timesteps):\n",
        "          img = self.p_sample(model, img, torch.full((b,), i, device=device, dtype=torch.long), i)\n",
        "          if i==0:\n",
        "            gen_img = img.cpu()\n",
        "      return gen_img\n",
        "\n",
        "  @torch.no_grad()\n",
        "  def sample(self, model, image_size, batch_size=16, channels=3):\n",
        "      return self.p_sample_loop(model, shape=(batch_size, channels, image_size, image_size))"
      ]
    },
    {
      "cell_type": "markdown",
      "metadata": {
        "id": "ANAr90yW936g"
      },
      "source": [
        "## Training"
      ]
    },
    {
      "cell_type": "markdown",
      "metadata": {
        "id": "-j5XkN7bEKbp"
      },
      "source": [
        "### Loading the dataset"
      ]
    },
    {
      "cell_type": "code",
      "execution_count": null,
      "metadata": {
        "id": "f17yqvFb-Y0M"
      },
      "outputs": [],
      "source": [
        "train_dataset = datasets.FashionMNIST(root='./mnist_data/', train=True, transform=transforms.ToTensor(), download=True)\n",
        "test_dataset = datasets.FashionMNIST(root='./mnist_data/', train=False, transform=transforms.ToTensor(), download=False)\n",
        "\n",
        "train_batch_size = 128\n",
        "test_batch_size = 128\n",
        "\n",
        "train_loader = torch.utils.data.DataLoader(dataset=train_dataset, batch_size=train_batch_size, shuffle=True)\n",
        "test_loader = torch.utils.data.DataLoader(dataset=test_dataset, batch_size=test_batch_size, shuffle=False)"
      ]
    },
    {
      "cell_type": "markdown",
      "metadata": {
        "id": "KIqlYFrO_t57"
      },
      "source": [
        "### Train"
      ]
    },
    {
      "cell_type": "code",
      "execution_count": null,
      "metadata": {
        "id": "rkyfizArArUh"
      },
      "outputs": [],
      "source": [
        "from inception_score import inception_score\n",
        "import warnings\n",
        "warnings.filterwarnings(\"ignore\")\n",
        "\n",
        "def train(num_epochs, diffusion_model, timesteps, load=False, path=None, plot=True, name='0', eval=False):\n",
        "\n",
        "    device = \"cuda\" if torch.cuda.is_available() else \"cpu\"\n",
        "\n",
        "    model = Unet(\n",
        "        dim=28,\n",
        "        channels=1,\n",
        "        dim_mults=(1, 2, 4,)\n",
        "    )\n",
        "    model.to(device)\n",
        "\n",
        "    optimizer = optim.Adam(model.parameters(), lr=1e-3)\n",
        "  \n",
        "    loss_list = []\n",
        "\n",
        "    start = 0\n",
        "    if load:\n",
        "        print(\"Loading checkpoint.....\")\n",
        "        checkpoint = torch.load(path)\n",
        "        model.load_state_dict(checkpoint['model_state_dict'])\n",
        "        optimizer.load_state_dict(checkpoint['optimizer_state_dict'])\n",
        "        epoch_load = checkpoint['epoch']\n",
        "        loss = checkpoint['loss']\n",
        "        print(\"Checkpoint loaded at epoch {} and loss {}\".format(epoch_load, loss))\n",
        "        start = epoch_load\n",
        "\n",
        "    for epoch in range(start, num_epochs):\n",
        "        with tqdm(train_loader, unit=\"batch\") as tepoch:\n",
        "\n",
        "          # Training phase\n",
        "          model.train()\n",
        "          running_loss = 0.\n",
        "\n",
        "          for batch_idx, (data, _) in enumerate(tepoch):\n",
        "            optimizer.zero_grad()\n",
        "\n",
        "            data = data.to(device)\n",
        "\n",
        "            # sample t uniformally for every example in the batch\n",
        "            t = torch.randint(0, timesteps, (data.shape[0],), device=device).long()\n",
        "\n",
        "            # Compute loss using the current model\n",
        "            loss = diffusion_model.loss_func(model, data, t)\n",
        "            running_loss += loss.item()\n",
        "\n",
        "            loss.backward()\n",
        "            optimizer.step()\n",
        "\n",
        "        # Create Checkpoint\n",
        "        full_loss = running_loss/len(train_loader)\n",
        "        loss_list.append(full_loss)\n",
        "\n",
        "        print('Epoch: {}, Loss: {:.4f}'.format(epoch+1, full_loss))\n",
        "\n",
        "    path = 'model/model_checkpoint_'+name+ '.pth'\n",
        "    torch.save({\n",
        "        'epoch': epoch+1,\n",
        "        'model_state_dict': model.state_dict(),\n",
        "        'loss': full_loss,\n",
        "        }, path)\n",
        "        \n",
        "    if(plot):\n",
        "      plt.title(\"Diffusion Loss\")\n",
        "      plt.plot(loss_list,label=\"train loss\")\n",
        "      plt.xlabel(\"Epochs\")\n",
        "      plt.ylabel(\"Loss\")\n",
        "      plt.legend()\n",
        "      plt.show()\n",
        "\n",
        "    if(eval):\n",
        "      print(\"\\n Evaluating...\")\n",
        "      model.eval()\n",
        "      evaluate_num = 1000\n",
        "      gen_set = []\n",
        "\n",
        "      with torch.no_grad():\n",
        "          fake_batch = diffusion_model.sample(model, image_size=28, batch_size=evaluate_num, channels=1)\n",
        "        \n",
        "          for i in range(evaluate_num):\n",
        "            gen_image = fake_batch[i].cpu().detach()\n",
        "            gen_image = gen_image.reshape(-1,28,28).unsqueeze(0)\n",
        "            gen_image = gen_image.repeat(1,3,1,1)\n",
        "            gen_set.append(gen_image)\n",
        "\n",
        "      gen_set = TensorDataset(torch.cat(gen_set))\n",
        "      \n",
        "      print('generated images IS_score:')\n",
        "      print(inception_score(gen_set, cuda=True, batch_size=64, resize=True, splits=1))\n"
      ]
    },
    {
      "cell_type": "code",
      "source": [
        "df = Diffusion(schedule=linear_beta_schedule, timesteps=1000, loss_type=\"huber\")\n",
        "train(num_epochs=20, diffusion_model=df, timesteps=1000, plot=True, name='og', eval=True)"
      ],
      "metadata": {
        "colab": {
          "base_uri": "https://localhost:8080/",
          "height": 1000,
          "referenced_widgets": [
            "9ae7d643bdd443d183121541c3717a5e",
            "c6ddecd58ddc4c789de71e455de004b2",
            "ec788be8e56249edaa2a1c1c9213b768",
            "61fe1d4323bb41c393e3fa09f0d4a342",
            "0cca7c9f0d484bd8b5f71bfde3b32f62",
            "f50276b4f92e417dbff1b89d6a620aaa",
            "5db1f93a12654d858970e4cb0d926ef5",
            "6304358b1f6d41259980c6f2d9727124",
            "48f2425393ee4c6f98a563a47c3881aa",
            "e93a2b7b63e84af6b25470da8fc6c8b3",
            "2365bc7da52648059014ef3e716c31b3",
            "01e74b9b3d3f42febc31d66f736adfdc",
            "8644dffca2564fd0b59e7638d2061785",
            "64429ee5fbd541fba0bf730de79cb21f",
            "1229407134304bdba1b07a20de59fd4e",
            "74cc68d31ef54ba581c135fcf5265d5a",
            "663a7683b2b94811a0e8f8e7d731ee7e",
            "d2d4ff13d90b4509897423d5eb7af3b5",
            "a87307ab27f04eb0a038ee77793a81fc",
            "7cbf6cb014b7456e932449265dd210a1",
            "0dcca3b4a486490aa2013b4c22c513aa",
            "36bc3eb7f8614a84834069b38f50b7f8",
            "22fce5e711c048dda1005290483ce7c3",
            "fd20ccc27c2548eca0b6a2ed0a9efaed",
            "1130dfde17954e16babb7080f6b0600b",
            "04082b4bb4a14556b5ff507de8d683e7",
            "9d97c98680db4109b7ae121ce207e8aa",
            "0445dfd4a06246f6a24da4a35f8e77a6",
            "d034bdb7742c4c0dbd26fa97aabc9141",
            "1e73988a726a46b5aaf9676b480190bd",
            "7120c69284064f4b9fd6dd802c45d320",
            "2e2571c76cb6494790676d2fa5b42d43",
            "a909c42e427e4ace834354c4dd6aa081",
            "ffd30b085f09400c9b54ab0e2ad9273d",
            "20a8722acae14c8fbf07073422505460",
            "d4fe772267c7491e8256a6648c36efe5",
            "04d132f7bc8846fdaf9af2e4f22d48d3",
            "9db44c2cee134d57b0866b4c21b371ce",
            "19baed15e83b4f2e92f1f27d80a827ab",
            "7d0d43b2966f45248cfac9ca2810d9d1",
            "bb48f547c4974f98a30f81a411999c21",
            "01f80730d6504df78fe9a043285a88aa",
            "e1e3c9fa69314ef19a98c5be9423b6f2",
            "76c054bfdd22460dafaafa6d18d7c328",
            "78c5126534e645aba8dd2a2652eb082c",
            "51838cf830b340adaf65aee9ee29d233",
            "0869a95578654d8b9c7cb3c49d80a2f0",
            "a94d43234c244161b0e9da4f12becb8d",
            "67733c4ff0e84c8790f121d2cbb3cda4",
            "f7402192c90d4b19b20c09be6c88198c",
            "bf0a98de3e394c46afcf606d97daf754",
            "c032381dfb4a4ca6b6dff7ebf8f2d5c0",
            "db1eb0875c754edc914fb37033b08e70",
            "36a220321b0640f6802fd10b44b6c644",
            "edfe8de954c34065bc57ce39fe6ab84c",
            "70dc5e49358a49238ebfb6459bd204b8",
            "469bfcf554df4b94bf0e394b1aa20659",
            "f7e38ebe821647f38a9434cddd8b5cbf",
            "a07715e1c8164c9eaa7816d6ef5641ac",
            "cb564354af49419a828d2cc7ef6f0ed2",
            "fb7246067dcb42509398f8f387719077",
            "c21a41c5048a4aa0bf783a47c9deba1e",
            "73ac0b16a5ba49b9b2a5c5796daf9ba9",
            "b746abf755184a49a282879c00fb8f04",
            "18bcef9494fa47e684de71f4aac2b719",
            "26e4524631114a598ea8d5513cdb4ce6",
            "a7605e25dd274b87a6de5ca8e6a04183",
            "e0c4c91a9e0f41c1bddd0aa162c72978",
            "38cdb85b21c848e9ba9c1e90dd178961",
            "79c006533b604554b1053729678631d6",
            "23d761724ec44644b17fe10ec95a7352",
            "ad168392a1bd4b098fd7286defd0d8ad",
            "814cf15f4e354660afbe5201556298ce",
            "d9603edfadf64d3185ae94499a0be30c",
            "007d07d608714c3bb0bce31e23c3b934",
            "e83b9c455d8b4790b75acda5e9d87609",
            "09a5456177514bdd95b6d248b91be57d",
            "4ad8f49ce9a448b881cc3fda3545fc86",
            "3f3104fd7dc844ee99c7ea6f9282ccc2",
            "df74ae1c8509499cb85cde4d455ed0be",
            "c2403852599847838a1f63261469ccf2",
            "f9d46f03f6b84d16b942f364b1a05341",
            "c04262d15c46430f9fee1988f66b1bd7",
            "31add870fe8e47478b7b8dab84bc6151",
            "e1c9019a2bb84aee8c4afbaeefdfd29a",
            "8e8f116eba624acbb8c40940effcc096",
            "5a56a5496fde41e681dad91efdee2702",
            "ed24f22c0cd543538547adb14ef26b07",
            "ce0de2c444cf44cc9c6d4b54c81084bc",
            "c3967e9a879442a380adbecbae190241",
            "4100bd4054b54796b474b26e308f9e6d",
            "f76d848a58bd4c6a8cb475ef54af308a",
            "f93ce67d1f694ca69e34905421665cee",
            "a14d019cd527473a880f5a3a597ce0c9",
            "7eaaa3a710824138a676f25241fa5af0",
            "5dcf619ef27748ffad51879cd13cc497",
            "701165ede22243f5a0b31a86e1eeb666",
            "8505b2ccfb3a48ba91d17cb8ed51c01e",
            "108110363d194be583cd97285b313c77",
            "55678ce593c44ad9af7dcca4047ece89",
            "3b3ab076115e43a5b8ed4baa58dbf02b",
            "b52efc3ced884928bb0458ed309749dd",
            "432cfe0c27284e01b94cc0db807d01b1",
            "32bb08cec78d4425b4ca84e62372b682",
            "4866665bb0404ad9b92ebddfa91ea826",
            "b9b6e4f0eba746f088dedfd171aeb6ab",
            "b338adb6cbc94e33b1733d07951a9abd",
            "acdd06e124e54bbcb29aff9ba68cccbe",
            "794a5033a4784bdd877c82bf75503d27",
            "6c04072f287a46cc8379a080fbed282b",
            "036c3651b122436897e6e0b59cf58ab6",
            "2d23c3e96bf04450aaee9dc68918cd29",
            "5b5c5bee3de64be499353fdbfd37c343",
            "d1f3f49bb24f4acd92e1c1f44646dd67",
            "d23f3d6c331a439d925f3047c4a7b429",
            "02b277fc4d4240bab03338b3ccd8e61c",
            "ed6978c3b96047d3814fe2df5c4caf54",
            "bf43ea4f621347c89e7e29a6d335a2e9",
            "7018ad6293774272af7b59545162ba50",
            "4455449161bf4187bc2bb30f9700c8a2",
            "11b19cd6749d493e864f60218e1a6671",
            "a5861d97fbf142d8b26cca91e1820559",
            "c75c0845185947b6a823ce65383a4ed6",
            "2b2bef90a23a4951922a116c03eb4a50",
            "2bbe3370b2d140baa1d50764ccca2ee8",
            "c0539d919a2f444d83ea20249cc8bea6",
            "b85d73c31cd648caaee5e0902dccd27b",
            "e6bca1951ddf4cc1945fb645dda08b54",
            "fc1760aee8644acbbc8db52aec23cef2",
            "1d21b5e843154fae8705a8a3e884001d",
            "9c9d0e56909f4de68e206d256df07f14",
            "3db43fceff7642fcb12a36b3ac27480a",
            "3019f83e6d4c4ef897eaa69aae7a6b15",
            "d222fbc9ee8c4b939cdd5ce65aac2dd9",
            "7b76cd070ccc40f1b93e80b94e15384b",
            "df74b92cd30b492a9cd9e9b532037f0b",
            "29fa730278f64e6e8d5dd0ce6df5ca1f",
            "3a923b1d1d244c6f83a746367ef5b2a4",
            "a70e9de80f0c4a078ead77aeefe382f8",
            "57b2de2f17794acf9e6fac8dcca71420",
            "3bcc732c275d483b934eeb97b027e2a7",
            "9b7058ef545d44a48b80a536d01e62be",
            "0e49269ce5da42408c6a87ef99be4be6",
            "f5df8dcf74544a3aab8d691ba0d0c505",
            "5c55999a42b94333919f89674ca0036d",
            "a6be6d97cdbf47568eb2f8e9e332b83d",
            "41eb91c2bf4b4675861805e8604d9d06",
            "31a0b53b5bd14d83814459836cea645d",
            "45e5146bcf0644bdab0e6537d7ca7254",
            "c9098ca0ea2847859efe92f2151facae",
            "ba283c7321e94454aec3bafe594d3c93",
            "08f1faf983fc4e668d2dd6516441eb65",
            "3a87980faeb1416786f9a88cb85afbee",
            "ca97acd9af61405184a1c74fa0a4df91",
            "ae07e7eb072f419fae480a4d127dfa12",
            "15c3c4fbb0fc4da888b13782fc639588",
            "30e6efadeb8c4c7ab4528231f38dbb40",
            "fc4fcc535880473cb6de6cb65dde5c2a",
            "11eac2b82b654bfdad7b3f5c248d5c32",
            "49b920431b924908986be53844c675f5",
            "d96a95b8967847c39cdeb61aaff6e8b5",
            "96130fb5d0384d7aa898640c8a2a84c7",
            "2cc1f3ad1c4440ae9e1a5ceeb868793a",
            "6272e914a20948bf833bd2a44ff27a05",
            "0c7893817b4f44a0a29bc31123dbde85",
            "ba6cebb4d4134fad8d25c5f98636812f",
            "4b8b9bda212f4c759fb6d67576e1e2da",
            "eea09da1f6904b248adfeb914f4f8431",
            "9131bac5b223497db2de09ae18bf28e6",
            "8a8611028d994661953ba27c0644d126",
            "0c52fe7db9b343fcad31e94c8874ca3d",
            "e01d2455af1543c0909ec3e29e6e0261",
            "3874902ce0bb4ca88e04304e4a83c5ff",
            "eaf07a88858647b8bd0def46bc4465c6",
            "f7b7adf367f74aae814c568da294c24a",
            "7ebec7c9d1054af18a05e564225a70df",
            "9b61192f50c240329e44daa4cca5cb28",
            "b4bec9ed406f4d5eb78e86a6b8d058aa",
            "c5cc2d39278449448dd24b09ceeecfa5",
            "d8735d929f294013b49f3819c7e4c159",
            "ed0dfc2d58ae40cdafa85afd37eb457c",
            "7d16d8ac27384004b9332afaf74e9086",
            "eff8c5bd7e0f4b05892da2af3a2ac031",
            "2cd462d507454a2baec84164346ca1d3",
            "b705721606da49d1b16bdc8b33c6ada1",
            "2c07517f53f9407c8d2372ad84dec22a",
            "15110049d30d4636887391638c217384",
            "8bbfeb02092d4625925119a073b73931",
            "803f2e99d32a4612afb11c6c0530a1f3",
            "de9e9e31a96942a599d9ebfb55a57c44",
            "5ce2b45e7f374fd382a9bb25cf0b8e28",
            "261805327b514cfea42b276b41b5d3f9",
            "c394132d5b774f64a2337a24ab8c7b28",
            "aa36804dd989461896cb5dd88db5bcc2",
            "7fb1785b2b9644b8a4a3c3c9c1e766bc",
            "650987c2ed4443d19c899c599134bc60",
            "8392cc95543343c8999041b5c3c742d5",
            "d3a38c49033a4f4dbfc5ba86e69c53b8",
            "0d726fc53a0d4896b0950fed1238d2dd",
            "0843616e5d4b4552b95f705608a8a0a1",
            "7b315f59211f4442a2272be97a644168",
            "9fb923065c21411a88b5d548c5611289",
            "2acd7a6dcc1142028c90d620a22a5e0e",
            "ef7aaa97ed484c2e8b06a026bc97069f",
            "728c9d8b2b36420d854e89a34ffaeebd",
            "80fadda2fdb5445b92e19e0e0ae6f370",
            "8abac0a3106843ee9e91425d3175837e",
            "fe64e51a6e4f4a4893fc626439d870ef",
            "9a9fa8161f89417292c682ed8819b1b1",
            "90278df8a055452eb3929c04c0beb752",
            "35f0d7e4096c4edf92670f72dc14e4d4",
            "848797004ff74c45a7504e063cb50172",
            "f7ff8729dd294f16827e759d92c5c7a7",
            "18f41af9ab7b45f7a8b4b4d805b0ebab",
            "05fcb9ce1d1c4f3fb8e69f5a6d202c89",
            "ef069503eb5543c9ac6d7b75f6ba4140",
            "637316e6c7ef48e0adc6c126efefba76",
            "1c920c6df687416d9462177f320bc58d",
            "5a8c6901ab654ac5af1e92a10251f65e",
            "5318818770fb4423bc1e1563179c967c",
            "7bf23edf6f604f91ba8ae6c74cc39d3c",
            "d50a57922b9449068b6876a9a77fda24",
            "5533f3b525e546c181e0d9fd920c7792",
            "ad5b8c52b26143b4b9635bb7dde9a13f",
            "09711c479ef34ecab35f04cfe4943c93",
            "fcce759abd6841e186491488bdbbb1eb",
            "499913a2f04340de8117d1735732d5c3",
            "5f8610ab87fc460491c46f6bbcfe3012",
            "d4d9a626c49e4b2a89b61371367ac138",
            "79f2e0a272044024a672231c1a56a41e",
            "228444dae6d4426b8e64a2532992a4d6",
            "0384434cfbf447e3b3d48df618578a08",
            "79cf807b05d14c9d911533a947e25930",
            "9393c68f176640e39c7be04207755dd7",
            "01a5388697214bf9a3c875e92bb34b73",
            "dbe8744c6c1d496ba7cd9967f9e79ef5",
            "827b3bbea08649ecb318169f924d1110",
            "d44e3baad920420e8ae7df0bc9cb9117",
            "9c278078aff44ef0b59bbd8ea7381662",
            "bd7b48a9958c47bfaefec11a2f520677",
            "32f9b9fe62434fb0a3ea1594aa010dfd",
            "9f5f2400633e4b25b8beb244a175b8cc"
          ]
        },
        "id": "DNe93EZU5qHr",
        "outputId": "df24c13b-5c31-45b6-b7f1-565c6b20653e"
      },
      "execution_count": null,
      "outputs": [
        {
          "output_type": "display_data",
          "data": {
            "text/plain": [
              "  0%|          | 0/469 [00:00<?, ?batch/s]"
            ],
            "application/vnd.jupyter.widget-view+json": {
              "version_major": 2,
              "version_minor": 0,
              "model_id": "9ae7d643bdd443d183121541c3717a5e"
            }
          },
          "metadata": {}
        },
        {
          "output_type": "stream",
          "name": "stdout",
          "text": [
            "Epoch: 1, Loss: 0.0791\n"
          ]
        },
        {
          "output_type": "display_data",
          "data": {
            "text/plain": [
              "  0%|          | 0/469 [00:00<?, ?batch/s]"
            ],
            "application/vnd.jupyter.widget-view+json": {
              "version_major": 2,
              "version_minor": 0,
              "model_id": "01e74b9b3d3f42febc31d66f736adfdc"
            }
          },
          "metadata": {}
        },
        {
          "output_type": "stream",
          "name": "stdout",
          "text": [
            "Epoch: 2, Loss: 0.0184\n"
          ]
        },
        {
          "output_type": "display_data",
          "data": {
            "text/plain": [
              "  0%|          | 0/469 [00:00<?, ?batch/s]"
            ],
            "application/vnd.jupyter.widget-view+json": {
              "version_major": 2,
              "version_minor": 0,
              "model_id": "22fce5e711c048dda1005290483ce7c3"
            }
          },
          "metadata": {}
        },
        {
          "output_type": "stream",
          "name": "stdout",
          "text": [
            "Epoch: 3, Loss: 0.0153\n"
          ]
        },
        {
          "output_type": "display_data",
          "data": {
            "text/plain": [
              "  0%|          | 0/469 [00:00<?, ?batch/s]"
            ],
            "application/vnd.jupyter.widget-view+json": {
              "version_major": 2,
              "version_minor": 0,
              "model_id": "ffd30b085f09400c9b54ab0e2ad9273d"
            }
          },
          "metadata": {}
        },
        {
          "output_type": "stream",
          "name": "stdout",
          "text": [
            "Epoch: 4, Loss: 0.0141\n"
          ]
        },
        {
          "output_type": "display_data",
          "data": {
            "text/plain": [
              "  0%|          | 0/469 [00:00<?, ?batch/s]"
            ],
            "application/vnd.jupyter.widget-view+json": {
              "version_major": 2,
              "version_minor": 0,
              "model_id": "78c5126534e645aba8dd2a2652eb082c"
            }
          },
          "metadata": {}
        },
        {
          "output_type": "stream",
          "name": "stdout",
          "text": [
            "Epoch: 5, Loss: 0.0135\n"
          ]
        },
        {
          "output_type": "display_data",
          "data": {
            "text/plain": [
              "  0%|          | 0/469 [00:00<?, ?batch/s]"
            ],
            "application/vnd.jupyter.widget-view+json": {
              "version_major": 2,
              "version_minor": 0,
              "model_id": "70dc5e49358a49238ebfb6459bd204b8"
            }
          },
          "metadata": {}
        },
        {
          "output_type": "stream",
          "name": "stdout",
          "text": [
            "Epoch: 6, Loss: 0.0131\n"
          ]
        },
        {
          "output_type": "display_data",
          "data": {
            "text/plain": [
              "  0%|          | 0/469 [00:00<?, ?batch/s]"
            ],
            "application/vnd.jupyter.widget-view+json": {
              "version_major": 2,
              "version_minor": 0,
              "model_id": "a7605e25dd274b87a6de5ca8e6a04183"
            }
          },
          "metadata": {}
        },
        {
          "output_type": "stream",
          "name": "stdout",
          "text": [
            "Epoch: 7, Loss: 0.0125\n"
          ]
        },
        {
          "output_type": "display_data",
          "data": {
            "text/plain": [
              "  0%|          | 0/469 [00:00<?, ?batch/s]"
            ],
            "application/vnd.jupyter.widget-view+json": {
              "version_major": 2,
              "version_minor": 0,
              "model_id": "4ad8f49ce9a448b881cc3fda3545fc86"
            }
          },
          "metadata": {}
        },
        {
          "output_type": "stream",
          "name": "stdout",
          "text": [
            "Epoch: 8, Loss: 0.0125\n"
          ]
        },
        {
          "output_type": "display_data",
          "data": {
            "text/plain": [
              "  0%|          | 0/469 [00:00<?, ?batch/s]"
            ],
            "application/vnd.jupyter.widget-view+json": {
              "version_major": 2,
              "version_minor": 0,
              "model_id": "ce0de2c444cf44cc9c6d4b54c81084bc"
            }
          },
          "metadata": {}
        },
        {
          "output_type": "stream",
          "name": "stdout",
          "text": [
            "Epoch: 9, Loss: 0.0123\n"
          ]
        },
        {
          "output_type": "display_data",
          "data": {
            "text/plain": [
              "  0%|          | 0/469 [00:00<?, ?batch/s]"
            ],
            "application/vnd.jupyter.widget-view+json": {
              "version_major": 2,
              "version_minor": 0,
              "model_id": "55678ce593c44ad9af7dcca4047ece89"
            }
          },
          "metadata": {}
        },
        {
          "output_type": "stream",
          "name": "stdout",
          "text": [
            "Epoch: 10, Loss: 0.0121\n"
          ]
        },
        {
          "output_type": "display_data",
          "data": {
            "text/plain": [
              "  0%|          | 0/469 [00:00<?, ?batch/s]"
            ],
            "application/vnd.jupyter.widget-view+json": {
              "version_major": 2,
              "version_minor": 0,
              "model_id": "036c3651b122436897e6e0b59cf58ab6"
            }
          },
          "metadata": {}
        },
        {
          "output_type": "stream",
          "name": "stdout",
          "text": [
            "Epoch: 11, Loss: 0.0121\n"
          ]
        },
        {
          "output_type": "display_data",
          "data": {
            "text/plain": [
              "  0%|          | 0/469 [00:00<?, ?batch/s]"
            ],
            "application/vnd.jupyter.widget-view+json": {
              "version_major": 2,
              "version_minor": 0,
              "model_id": "a5861d97fbf142d8b26cca91e1820559"
            }
          },
          "metadata": {}
        },
        {
          "output_type": "stream",
          "name": "stdout",
          "text": [
            "Epoch: 12, Loss: 0.0120\n"
          ]
        },
        {
          "output_type": "display_data",
          "data": {
            "text/plain": [
              "  0%|          | 0/469 [00:00<?, ?batch/s]"
            ],
            "application/vnd.jupyter.widget-view+json": {
              "version_major": 2,
              "version_minor": 0,
              "model_id": "3019f83e6d4c4ef897eaa69aae7a6b15"
            }
          },
          "metadata": {}
        },
        {
          "output_type": "stream",
          "name": "stdout",
          "text": [
            "Epoch: 13, Loss: 0.0118\n"
          ]
        },
        {
          "output_type": "display_data",
          "data": {
            "text/plain": [
              "  0%|          | 0/469 [00:00<?, ?batch/s]"
            ],
            "application/vnd.jupyter.widget-view+json": {
              "version_major": 2,
              "version_minor": 0,
              "model_id": "f5df8dcf74544a3aab8d691ba0d0c505"
            }
          },
          "metadata": {}
        },
        {
          "output_type": "stream",
          "name": "stdout",
          "text": [
            "Epoch: 14, Loss: 0.0116\n"
          ]
        },
        {
          "output_type": "display_data",
          "data": {
            "text/plain": [
              "  0%|          | 0/469 [00:00<?, ?batch/s]"
            ],
            "application/vnd.jupyter.widget-view+json": {
              "version_major": 2,
              "version_minor": 0,
              "model_id": "ae07e7eb072f419fae480a4d127dfa12"
            }
          },
          "metadata": {}
        },
        {
          "output_type": "stream",
          "name": "stdout",
          "text": [
            "Epoch: 15, Loss: 0.0116\n"
          ]
        },
        {
          "output_type": "display_data",
          "data": {
            "text/plain": [
              "  0%|          | 0/469 [00:00<?, ?batch/s]"
            ],
            "application/vnd.jupyter.widget-view+json": {
              "version_major": 2,
              "version_minor": 0,
              "model_id": "ba6cebb4d4134fad8d25c5f98636812f"
            }
          },
          "metadata": {}
        },
        {
          "output_type": "stream",
          "name": "stdout",
          "text": [
            "Epoch: 16, Loss: 0.0116\n"
          ]
        },
        {
          "output_type": "display_data",
          "data": {
            "text/plain": [
              "  0%|          | 0/469 [00:00<?, ?batch/s]"
            ],
            "application/vnd.jupyter.widget-view+json": {
              "version_major": 2,
              "version_minor": 0,
              "model_id": "9b61192f50c240329e44daa4cca5cb28"
            }
          },
          "metadata": {}
        },
        {
          "output_type": "stream",
          "name": "stdout",
          "text": [
            "Epoch: 17, Loss: 0.0114\n"
          ]
        },
        {
          "output_type": "display_data",
          "data": {
            "text/plain": [
              "  0%|          | 0/469 [00:00<?, ?batch/s]"
            ],
            "application/vnd.jupyter.widget-view+json": {
              "version_major": 2,
              "version_minor": 0,
              "model_id": "8bbfeb02092d4625925119a073b73931"
            }
          },
          "metadata": {}
        },
        {
          "output_type": "stream",
          "name": "stdout",
          "text": [
            "Epoch: 18, Loss: 0.0113\n"
          ]
        },
        {
          "output_type": "display_data",
          "data": {
            "text/plain": [
              "  0%|          | 0/469 [00:00<?, ?batch/s]"
            ],
            "application/vnd.jupyter.widget-view+json": {
              "version_major": 2,
              "version_minor": 0,
              "model_id": "0d726fc53a0d4896b0950fed1238d2dd"
            }
          },
          "metadata": {}
        },
        {
          "output_type": "stream",
          "name": "stdout",
          "text": [
            "Epoch: 19, Loss: 0.0112\n"
          ]
        },
        {
          "output_type": "display_data",
          "data": {
            "text/plain": [
              "  0%|          | 0/469 [00:00<?, ?batch/s]"
            ],
            "application/vnd.jupyter.widget-view+json": {
              "version_major": 2,
              "version_minor": 0,
              "model_id": "90278df8a055452eb3929c04c0beb752"
            }
          },
          "metadata": {}
        },
        {
          "output_type": "stream",
          "name": "stdout",
          "text": [
            "Epoch: 20, Loss: 0.0111\n"
          ]
        },
        {
          "output_type": "display_data",
          "data": {
            "text/plain": [
              "<Figure size 432x288 with 1 Axes>"
            ],
            "image/png": "[encoded data removed]"
          },
          "metadata": {
            "needs_background": "light"
          }
        },
        {
          "output_type": "stream",
          "name": "stdout",
          "text": [
            "\n",
            " Evaluating...\n"
          ]
        },
        {
          "output_type": "display_data",
          "data": {
            "text/plain": [
              "sampling loop time step:   0%|          | 0/1000 [00:00<?, ?it/s]"
            ],
            "application/vnd.jupyter.widget-view+json": {
              "version_major": 2,
              "version_minor": 0,
              "model_id": "7bf23edf6f604f91ba8ae6c74cc39d3c"
            }
          },
          "metadata": {}
        },
        {
          "output_type": "stream",
          "name": "stdout",
          "text": [
            "generated images IS_score:\n"
          ]
        },
        {
          "output_type": "stream",
          "name": "stderr",
          "text": [
            "Downloading: \"https://download.pytorch.org/models/inception_v3_google-0cc3c7bd.pth\" to /root/.cache/torch/hub/checkpoints/inception_v3_google-0cc3c7bd.pth\n"
          ]
        },
        {
          "output_type": "display_data",
          "data": {
            "text/plain": [
              "  0%|          | 0.00/104M [00:00<?, ?B/s]"
            ],
            "application/vnd.jupyter.widget-view+json": {
              "version_major": 2,
              "version_minor": 0,
              "model_id": "0384434cfbf447e3b3d48df618578a08"
            }
          },
          "metadata": {}
        },
        {
          "output_type": "stream",
          "name": "stdout",
          "text": [
            "(3.680487160875174, 0.0)\n"
          ]
        }
      ]
    },
    {
      "cell_type": "markdown",
      "source": [
        "### Testing"
      ],
      "metadata": {
        "id": "d8IbVDsX7VOC"
      }
    },
    {
      "cell_type": "code",
      "source": [
        "from torchvision import datasets, transforms\n",
        "from torch.utils.data import DataLoader, TensorDataset\n",
        "image_size = 28\n",
        "channels = 1\n",
        "\n",
        "device = torch.device(\"cuda:0\" if torch.cuda.is_available() else \"cpu\")\n",
        "\n",
        "\n",
        "model = Unet(\n",
        "    dim=image_size,\n",
        "    channels=channels,\n",
        "    dim_mults=(1, 2, 4,)\n",
        ")\n",
        "model.to(device)\n",
        "\n",
        "\n",
        "path = 'model_checkpoint_20.pth'\n",
        "checkpoint = torch.load(path)\n",
        "model.load_state_dict(checkpoint['model_state_dict'])\n",
        "\n",
        "\n",
        "evaluate_num = 1000\n",
        "\n",
        "# make the gen data set and folder\n",
        "gen_set = []\n",
        "\n",
        "\n",
        "with torch.no_grad():\n",
        "    fake_batch = df.sample(model, image_size=image_size, batch_size=evaluate_num, channels=channels)\n",
        "\n",
        "  \n",
        "    for i in range(evaluate_num):\n",
        "      gen_image = fake_batch[i].cpu().detach()\n",
        "      gen_image = gen_image.reshape(-1,28,28).unsqueeze(0)\n",
        "      gen_image = gen_image.repeat(1,3,1,1)\n",
        "      gen_set.append(gen_image)\n",
        "\n",
        "gen_set = TensorDataset(torch.cat(gen_set))"
      ],
      "metadata": {
        "colab": {
          "base_uri": "https://localhost:8080/",
          "height": 49,
          "referenced_widgets": [
            "673e96d571794e58ac4bbb2e081aed70",
            "eac7e5def97049688ea06239c74a9454",
            "eed732ede594483392e6aaa39256f9d6",
            "ace51e59b8094358927db5402285c23a",
            "957a34102e0e495687449f246109a7c8",
            "aaea225753c245558222eae13d9cea65",
            "a1ac909084844b3e96493966471b371d",
            "a1767d99bbd047f1875191a4f2e39b08",
            "b1086c18e78a485181e086d34be21475",
            "b6785f1ef85f4d9eaad4a49817a3d518",
            "ef2608911b674982b4c054eb68799064"
          ]
        },
        "id": "g1OKx8FiEV4y",
        "outputId": "9663817f-78bb-4c87-ab33-61fa44c885fc"
      },
      "execution_count": null,
      "outputs": [
        {
          "output_type": "display_data",
          "data": {
            "text/plain": [
              "sampling loop time step:   0%|          | 0/1000 [00:00<?, ?it/s]"
            ],
            "application/vnd.jupyter.widget-view+json": {
              "version_major": 2,
              "version_minor": 0,
              "model_id": "673e96d571794e58ac4bbb2e081aed70"
            }
          },
          "metadata": {}
        }
      ]
    },
    {
      "cell_type": "code",
      "source": [
        "test_batch_size = 1\n",
        "test_dataset = datasets.FashionMNIST(root='./mnist_data/', train=False, transform=transforms.ToTensor(), download=True)\n",
        "test_loader = torch.utils.data.DataLoader(dataset=test_dataset, batch_size=test_batch_size, shuffle=True)"
      ],
      "metadata": {
        "id": "MaMNW6hKHxEN"
      },
      "execution_count": null,
      "outputs": []
    },
    {
      "cell_type": "code",
      "source": [
        "# Prepare the torch dataset\n",
        "evaluate_num = 1000\n",
        "real_set = []\n",
        "\n",
        "for idx, data in enumerate(test_loader, 0):\n",
        "    \n",
        "    image = data[0]\n",
        "    image = image.repeat(1,3,1,1)\n",
        "    \n",
        "    real_set.append(image)\n",
        "\n",
        "    if idx == evaluate_num-1:\n",
        "        break\n",
        "\n",
        "# make the pytorch dataset\n",
        "real_set = TensorDataset(torch.cat(real_set))"
      ],
      "metadata": {
        "id": "WgRYXl5aFu98"
      },
      "execution_count": null,
      "outputs": []
    },
    {
      "cell_type": "code",
      "source": [
        "from inception_score import inception_score\n",
        "import warnings\n",
        "warnings.filterwarnings(\"ignore\")\n",
        "\n",
        "\n",
        "print('real images IS_score:')\n",
        "print(inception_score(real_set, cuda=True, batch_size=64, resize=True, splits=1))\n",
        "\n",
        "print('generated images IS_score:')\n",
        "print(inception_score(gen_set, cuda=True, batch_size=64, resize=True, splits=1))"
      ],
      "metadata": {
        "colab": {
          "base_uri": "https://localhost:8080/"
        },
        "id": "uGZPRA4gF4FS",
        "outputId": "1a2991e6-b755-40fa-ad3c-3d3895ba4375"
      },
      "execution_count": null,
      "outputs": [
        {
          "output_type": "stream",
          "name": "stdout",
          "text": [
            "real images IS_score:\n",
            "(4.0885181993937065, 0.0)\n",
            "generated images IS_score:\n",
            "(4.18422166323025, 0.0)\n"
          ]
        }
      ]
    },
    {
      "cell_type": "markdown",
      "metadata": {
        "id": "MkieYbf0QftB"
      },
      "source": [
        "## Qualitative Visualisations "
      ]
    },
    {
      "cell_type": "code",
      "execution_count": null,
      "metadata": {
        "id": "_H2_76clG7g0",
        "colab": {
          "base_uri": "https://localhost:8080/"
        },
        "outputId": "6a5feaa0-533f-4dce-d7cc-4de3040ce115"
      },
      "outputs": [
        {
          "output_type": "stream",
          "name": "stdout",
          "text": [
            "Checkpoint loaded at epoch 20\n"
          ]
        }
      ],
      "source": [
        "device = \"cuda\" if torch.cuda.is_available() else \"cpu\"\n",
        "\n",
        "# Load the model\n",
        "model = Unet(\n",
        "    dim=28,\n",
        "    channels=1,\n",
        "    dim_mults=(1, 2, 4,)\n",
        ")\n",
        "model.to(device)\n",
        "\n",
        "path = 'model/model_checkpoint_og.pth'\n",
        "checkpoint = torch.load(path)\n",
        "model.load_state_dict(checkpoint['model_state_dict'])\n",
        "print(\"Checkpoint loaded at epoch {}\".format(checkpoint['epoch']))"
      ]
    },
    {
      "cell_type": "code",
      "execution_count": null,
      "metadata": {
        "id": "GxDVdPpAkfkC",
        "colab": {
          "base_uri": "https://localhost:8080/",
          "height": 1000,
          "referenced_widgets": [
            "e069716fa96240baa950670b18d35bfc",
            "621a93a886fe4936ab8f3c4157c0f374",
            "0ba504019f5246efa0d72b72426cec95",
            "12c16494cb154d22b68270e36fdd3425",
            "d744935d55e84eb5ab9b01445384199a",
            "5846076cd99341b68b714ad27e6bf7dd",
            "9c4673c9812a48dbbcf223572a8c05bb",
            "5c43974b8a84457cb96f3be781a6eedb",
            "87e19810006f4352b79b38334df1c581",
            "3cf875fb9283450ba12d514f35f83c50",
            "99ea2c0cbe914f4db3956db07df9247c"
          ]
        },
        "outputId": "fe29dc38-e5b9-46c3-dea2-ef77fce76eac"
      },
      "outputs": [
        {
          "output_type": "display_data",
          "data": {
            "text/plain": [
              "sampling loop time step:   0%|          | 0/1000 [00:00<?, ?it/s]"
            ],
            "application/vnd.jupyter.widget-view+json": {
              "version_major": 2,
              "version_minor": 0,
              "model_id": "e069716fa96240baa950670b18d35bfc"
            }
          },
          "metadata": {}
        },
        {
          "output_type": "display_data",
          "data": {
            "text/plain": [
              "<Figure size 432x288 with 1 Axes>"
            ],
            "image/png": "[encoded data removed]"
          },
          "metadata": {
            "needs_background": "light"
          }
        },
        {
          "output_type": "display_data",
          "data": {
            "text/plain": [
              "<Figure size 432x288 with 1 Axes>"
            ],
            "image/png": "[encoded data removed]"
          },
          "metadata": {
            "needs_background": "light"
          }
        },
        {
          "output_type": "display_data",
          "data": {
            "text/plain": [
              "<Figure size 432x288 with 1 Axes>"
            ],
            "image/png": "[encoded data removed]"
          },
          "metadata": {
            "needs_background": "light"
          }
        },
        {
          "output_type": "display_data",
          "data": {
            "text/plain": [
              "<Figure size 432x288 with 1 Axes>"
            ],
            "image/png": "[encoded data removed]"
          },
          "metadata": {
            "needs_background": "light"
          }
        },
        {
          "output_type": "display_data",
          "data": {
            "text/plain": [
              "<Figure size 432x288 with 1 Axes>"
            ],
            "image/png": "[encoded data removed]"
          },
          "metadata": {
            "needs_background": "light"
          }
        },
        {
          "output_type": "display_data",
          "data": {
            "text/plain": [
              "<Figure size 432x288 with 1 Axes>"
            ],
            "image/png": "[encoded data removed]"
          },
          "metadata": {
            "needs_background": "light"
          }
        },
        {
          "output_type": "display_data",
          "data": {
            "text/plain": [
              "<Figure size 432x288 with 1 Axes>"
            ],
            "image/png": "[encoded data removed]"
          },
          "metadata": {
            "needs_background": "light"
          }
        },
        {
          "output_type": "display_data",
          "data": {
            "text/plain": [
              "<Figure size 432x288 with 1 Axes>"
            ],
            "image/png": "[encoded data removed]"
          },
          "metadata": {
            "needs_background": "light"
          }
        },
        {
          "output_type": "display_data",
          "data": {
            "text/plain": [
              "<Figure size 432x288 with 1 Axes>"
            ],
            "image/png": "[encoded data removed]"
          },
          "metadata": {
            "needs_background": "light"
          }
        },
        {
          "output_type": "display_data",
          "data": {
            "text/plain": [
              "<Figure size 432x288 with 1 Axes>"
            ],
            "image/png": "[encoded data removed]"
          },
          "metadata": {
            "needs_background": "light"
          }
        }
      ],
      "source": [
        "# sample 10 images and plot\n",
        "samples = df.sample(model, image_size=28, batch_size=10, channels=1)\n",
        "\n",
        "for i in range(10):\n",
        "  plt.imshow(samples[i].permute(1, 2, 0)[:, :, 0].numpy(), cmap='gray')\n",
        "  plt.show()"
      ]
    },
    {
      "cell_type": "markdown",
      "metadata": {
        "id": "m-UM5qFpKIzb"
      },
      "source": [
        "## Ablation Study"
      ]
    },
    {
      "cell_type": "code",
      "source": [
        "losses = ['l1', 'l2', 'huber']\n",
        "schedules = [linear_beta_schedule, cosine_beta_schedule, quadratic_beta_schedule, sigmoid_beta_schedule]\n",
        "\n",
        "k = 0\n",
        "for l in losses:\n",
        "  for s in schedules:\n",
        "    print(l, s)\n",
        "    df = Diffusion(schedule=s, timesteps=1000, loss_type=l)\n",
        "    train(num_epochs=15, diffusion_model=df, timesteps=1000, plot=True, name=str(k), eval=True)\n",
        "    print(\"\\n\")\n",
        "    print(\"\\n\")\n",
        "    k = k + 1"
      ],
      "metadata": {
        "colab": {
          "base_uri": "https://localhost:8080/",
          "height": 1000,
          "referenced_widgets": [
            "b30ae20c1f6d42dca40bcc82beed4866",
            "ad3d3efc362b44889cdeeb6a5f32b83d",
            "17dd04034e704013901705803bab9eba",
            "743c93c592a14fae92cf8797e76ea37c",
            "4d88ad7e343b4d6eb789e0678d6811cc",
            "ae4cb09eb5dc49dd9483d672ff77b2a6",
            "cd99ddef79774a7e9d3551504957092f",
            "eb6324e7f8964106ac8af9753b4308cc",
            "d938c929d82846e7b89115a673c7af7a",
            "7afb03fba59e493fa23a355e511d2714",
            "a47b9eaaf70c45d9b484549c05ce19ec",
            "5f1b485e2e0d412fbfa36cbb1be8ca77",
            "ecf24912b8e34de1ade07c3ccd6ba509",
            "f1bef2e879294a928c5d2e26542925bb",
            "4316d113c7294bffbda6922ce2d71d70",
            "eae541d3f97948dbb277e7bb107797f2",
            "d168dba04f674cbfa7085c1fe6b54ec3",
            "2ffc0be8736b4da38a6cd3e55423737a",
            "6af229485b204cf19e9805efeb37d2b5",
            "dc225391eaac49908957b1d82f51ccc4",
            "63355e2b76fa40b6a7afccd6aab1b89c",
            "66631ed6138d41a1a62691da905771a3",
            "d41c9fa9358c4f40bd4c505168aac4d7",
            "279267a43c8d43469d646b1da63e9127",
            "8642d7defb064fbdb8165927595a1a0b",
            "cafd1ea0a4ce4d6a8de98d27279895ef",
            "e1645ffcb4464f67a074c838c21c3d12",
            "b04768b0fe9f47c7abec034fd7e347ef",
            "c6e087fb71504900b42181bee39ca4aa",
            "58a9b0a0431945eba4c14cf3decf8895",
            "1c705a3299524d099a9e98eb1b39b9bb",
            "9fb7249fb1d6476aabce274afe679a86",
            "abe379fc4a5b47aca2667a215f1bf2a2",
            "98bfc4f892524fbc8688831e8e12d1e3",
            "504b7f30f21a49099b4245bc77088f16",
            "c3a863741b494a64be1ffd4c40534682",
            "2286f381e8b74398a3fc6025a0c3b7d8",
            "2eff61e01289417a8400096fcb98602f",
            "93ef677d4ee44dc4bd6fe319b906cb40",
            "422cd597ce3f4d618211e047ecd7d0db",
            "bf110de402eb41c8ac3f03c738f868cb",
            "81c9f6980cb143f7821d40526c9b2536",
            "a1a984968ede4bcd93a27e0e8fa08a64",
            "b110db0702f94b0b85e6fde8a2e2683e",
            "3257770a3269457c8e80333f2bc24ecf",
            "134c62ee4cca41488dda2b1ee0130e8e",
            "00e4aa68625745abbb72c2ec044f17b9",
            "434b869235ec4f7fb675ef38ed6028b3",
            "1c68a9ad378c46d3931c9cd900bdf96a",
            "9a3e4e4682b34eb09845eaba9c855657",
            "645bbe4997b747729c730929108c1e3d",
            "558f59ae1a724eea989e2a23264be664",
            "7a18413fc2254c39ad236ae1879cf6f9",
            "94b7e7c9470246cba7756335d379adbf",
            "d17f999cc17548bbbe87bd91c42a67bd",
            "2e7a074659ac47cab0c6ec34b9da6ce8",
            "14c4ae3c16534b589fd64b611b9d5674",
            "c7e8b8b2d84f4fc3a33faec1351be445",
            "7ba5b0a314d34097b81ab1e76fe475d1",
            "30e7348417e3446997fd0f95b9667bb4",
            "9a66b533d0fb41e1998206d618d8bd88",
            "3a49339813e246af90730e41a021b81b",
            "86670176a7ba44f4ac5ff18656e92b46",
            "2b513f1ca39744698d96d60f5adae48c",
            "c1afe4f0a7b546568cc81d4cecb28211",
            "a3d6fe173ee449c28e0722262b205f5f",
            "bc176094b7c84668a79af427e695ac08",
            "46c7d0f94f53409f9dc9e343d0d72752",
            "57d7278e99df4cda8cbda7c807fd49e7",
            "01c9d96242db430db89af32cc8162875",
            "39e07f3cb7e847fcb0e98b5c923f6a29",
            "991e444f547c4ca4a09e1baa1457f177",
            "36ac859a95d74e8f83d6b10ff9787a4e",
            "e2bce2280c444005b55c5355dc067199",
            "f1a5e8a33add4057984869f6e06205f3",
            "f0a02266ebd24f638835a8b700f795e0",
            "26a05fb8d101415b92dfeb6af2e48bfa",
            "d94033991c3c40c1bf7e995997f6dc51",
            "93db5591ed364ed5a92fcf49c506e338",
            "972b147407674c1890c66132f958f03c",
            "ec79811fed814a4db1142a64a7b8ae00",
            "21cd4e40784c450cbc47f6f89aae1bbe",
            "b9d32c9f92904df58cddfc5d4ba93f54",
            "5d018379662f421da57443b66af46693",
            "912cb0cb359d4b5a9fbb9656e6c78ebe",
            "5dfc18a14e5843f189ff19c17e091fdf",
            "d12e67adaf6943cb9bc570306515d9d3",
            "e5788928434743c7a11a2c98f508021d",
            "c2586c4df2f442158a589fad904418b5",
            "a3fc46b9ba5246a4be3ba45846598f3d",
            "5d5ee3d31873473886e950856dac1a93",
            "9d28e1765e6b4101989ad667ea1750a4",
            "a99f3c94f86949eaa89fe38841425ff2",
            "9fb75510faaf47819dd2f8b07fe5413f",
            "470b1d089fb84f378348b852f1244ef6",
            "d881216f67204ec2b000f1a758cefb72",
            "1c43c9b30c5e4c89b26885859b5c7d7d",
            "c79367fdb62049c0b00ff28360b6e7ae",
            "3f2432e4ac524d07b432b31a81bb2cb7",
            "f3e7c41ca9cd44389b842fe9bb034bb1",
            "217283a33df84775b1f2edcbc4b28feb",
            "3a737287f1e849dd8257087336b2487e",
            "06f08864270b4eedb200e45868b063a7",
            "9eb63543b2924c7ba4271938036b5b2b",
            "b58f92eb130d4405a9e15fddd882521b",
            "12b0968a266944fbbe116d2333f9808f",
            "f04e9a3962c44d0689328320e5b0808e",
            "bd6aac21816b4a0ea438fbb22b43d10f",
            "045f1889f9d944b29fa25ed641194108",
            "3cf779712daf43feb584d1c13d90b3b5",
            "3535130a55a54b90972c6a830c9795d4",
            "2ec7aadda24b4af9ade6960cb87f36a7",
            "82a94cf6bbac406b9eedecda49b8a0dd",
            "8dc700e2c0dc420cb6af7cc909f5747a",
            "ad620f28050a49b58a969c882c7a1d8d",
            "a72f0afa1d934524a34532791b904879",
            "d597c5f70e334af4a7f1d8985d54e7a5",
            "61121ba8494f40babe9c47bce30f2207",
            "7fa4ed034d47464f9dd4628d9e29784e",
            "5bf8561280394d8c80274f43b4887b37",
            "09db691433ff4913af91c624c01e69d9",
            "73c7cf158eaf40cd8d6367618e2bc0fa",
            "08b574564d36476cb670178e0a0e960c",
            "bf534c57b41d49189c6c57bcd2c2f98b",
            "0b035ddf6e9048a69c33ae7fc465cfbe",
            "2ac7b0b2a7a246fbb8a8c031d2a29719",
            "a4ade3fee9874711b3830a2b581827ff",
            "7749aa502237405bb58fdb08026bc465",
            "9d93bf70a4de4d23a904e45b90f2495f",
            "7de933409764485a923b09d2fc97abc8",
            "30bd9680945b4647b11d5b56cef7a5c8",
            "31573fd752fb42e9b4f9d5ccff0badcc",
            "1d165f3d9bd34e25ae3baaa0d2ea16e3",
            "8aab8ad801874ce98ba6a41b3308a443",
            "c3a530fee13f4e6484c24770499da73e",
            "9ee077f2f5514448b43d7ca3d70a496c",
            "449f1016871a405d83eef8ee318a28ca",
            "97a191380081487bb3db5940fe44d999",
            "087fc105cefe45908d56e42d058d2993",
            "6ec259b2560a48a3b5100a2236b96420",
            "334e5ecd2f9847ef85e207cef9d85cea",
            "bbf34673e7644b0db51786f681f4ace5",
            "dfa9f4a69c5c4bb9aac2646cf1a81e23",
            "6e32d7a823764dd38d7d6ee3f0fe3b45",
            "0f5a9ab80f084ffda7a95dbafafb0193",
            "098aaff1bc7548eaa3a081d44b993b01",
            "6766437b39f04dff9b4cf6e0fe6f6b7a",
            "6656b6ad1b0f4d1385ac2258b8af2668",
            "5fe6d2b4c1d24884acdb34439fd60585",
            "cb6df9ea763a4cb99787729f885a5825",
            "73dddeadd9284717a9447cc6f012f6b1",
            "f497bd17e70e4b1eb33fdc268410e55c",
            "629072ee5de54bc3b3e32799d4c96fce",
            "6dc4275952954187ad072652884210f9",
            "4d360d7bf08944329696d671f23f0bf0",
            "adb73d66f88e4227b43e03ca44fdf8e0",
            "63835f3722ce4ffc8a4e5908fa61b256",
            "1e81b34c8496483488bc465c26a1a880",
            "a6cf838e697840b4ae8ba8e2b5ed6d3d",
            "fc03facc81b747a79b8dbe3def29f90f",
            "be67f3aaa410486fa93eb5a181a392ce",
            "a0d59dbf9f3e40dd8d5c8e3085636ffd",
            "abef776b4ba24c609c3b6ada3011157f",
            "f6736e8d40c5436ba6390f88da23cfb8",
            "64a575d6d5d7413aa1049127431269d6",
            "2ac894db117f4e0a9e6d1cd2a58034d3",
            "58063015ef7d49638934ea2e0cbc8ea6",
            "efcd3df4535848558e6a1616dce19103",
            "61fe31086d6744978d9d1c051666b175",
            "b033a647f4a54e4b8cca33b5fdf9bb78",
            "881619e1e7e24d1c9f38a28fea9bc26c",
            "b7eacf3bdc0842d7a525a90bcf6d936d",
            "f79960b62b7c4f33afc0ef702ee197fc",
            "0c74dda1897b4aac84c454ee4a75459e",
            "776745b78c2a44df805d942f6a127b7e",
            "ca76ca70cc8040b399909c56ee131d06",
            "43b3c86a9c9348d7885992011323a902",
            "d7e4359d57f74261b1925eb10ad88e36",
            "7c5afb1fb6764addb5283c996e8da76a",
            "b0cf7796ebc2417ebfef84ad08aa94f8",
            "96ce9844175344cea87eb0b3899fbb4f",
            "afa0b0ea99234bf59651343c84587556",
            "c9a5846373a7420eb0060184c7b0801b",
            "0023e38093234dcdbb4e87d7fccff600",
            "28d9d810c9054620942025ec112a810f",
            "1082efe319c24a71b10719dc13b4a940",
            "8a8d34bdfb3d4b8eac153d430527e70d",
            "80f05e9f668042ccbfd28ba5dfb4ff38",
            "75f5f2f21ad24454acfe0ab4cd3931a1",
            "61c436578a48492c997d910d0fed2bcb",
            "8f1f272a35eb4c78b36dc43789a84ec1",
            "44f54021019a48bcac446e28b7c1adff",
            "1f6be17a4cb04c168735a3838b050b21",
            "7088fff1ce6c426ebabcebb5afc6f222",
            "ec57864459ae4dd684a4c89b04a6bc4c",
            "e6b0dc8aeb3a49f8985272387e7b252f",
            "c99460ae3436476fbe2bb34c304a5dae",
            "d6978f7d674d40478b4524ff3fdae0d0",
            "c710fab5515a41c2a6b44c57fb2ad0f5",
            "b3bf683ca40a4465a7defd236754444b",
            "d04ecc6df36d47c0b66d6779482a6d9a",
            "c1f5f30414434d4a8b47f369d487812f",
            "e8a75ba01ba4400a98264a76be2d84b9",
            "4666482efa84437093b945a7b06c3f0c",
            "0f208e64d0d842269b8464cd8d5e377e",
            "a4191416a94b4d45a43958bea230e4dc",
            "80625c198c964ef4bae18f2077784cb0",
            "ddb34326084a4862b3022e3e8445c249",
            "9455556df3cb44cfb3d1c90860fdc6e5",
            "d4f7e34ad2ce4d7487b63eacab0c4afa",
            "1b8d368d63404e6d930fb5baa3ce0a42",
            "f709e6c4414b4370a6ee9c13ff85af01",
            "572ef1fb93c04656b5b403bdaea298fd",
            "188d94185aef4db8aeef1fec5c9e0da8",
            "4e2549a9c79245569caa29e74b542cf5",
            "498e359772fa4cdbaec6b71799bc25cd",
            "bdf14b895ea24cfa900dd77077910215",
            "ca68a9d9391144f8a6cccc767a89e344",
            "923492c190464884bfe2671d290ae0c6",
            "146c988a9a17480cae9bbe4f0cc50d33",
            "f0a1fc00f83649d0bbcb07feadfd8306",
            "0c2482b4e2da43f69892fcafb8539e5a",
            "e8982ea8fdfb4e328f5b411808c6c31f",
            "77ad32b2d96f457b8f771604bd0d12ce",
            "0ec4ac75b5dd4ead932c60ab039fe46c",
            "beed67c65e064df581c495fe2db96f3a",
            "68a4431cf0a54d478d4b3cff5bed4b50",
            "57931261aca344f093ab7eb0003dcc41",
            "c4c361001e2246728b147255ec5012b9",
            "1afeb08271414c9bb084e65afd01a78d",
            "3bbd5c63d7d2449697bf33e06c7a4a9a",
            "c1a4f0e4f88547508be708c172b4f89b",
            "630e28b18c754350aab4dbabfc9c5ab4",
            "bd257db75a4d4eb89876a96cac181f91",
            "8cfc185721db40099d34a594e7f71f13",
            "8d77fd30cf7b472188ae8222d9ae74c3",
            "6ea362b499444a908ce72aab2862f7d7",
            "c6b4940ad5a346c9b9c5f409917dd8cf",
            "c215eee2c5c54e1986512a50bcf13efb",
            "4dd3b7c1999f431eb92bff04e24153b9",
            "b06b262d555f4643aed7d99653990cee",
            "89f5374b3a05482789a85c4b90f8d17a",
            "c8a8dee2b3c74834aa1a14037ae5143f",
            "1700c03bdbfd4ed5a1751fc948950c65",
            "8f57a60bf822401fb4b60076ba6931e5",
            "9dd1b2054f494b45a7a9a289d97b16ec",
            "252ff65022ef4d19b4c393477a4a663c",
            "7f6411f9a7454faeb0075594b0e660b1",
            "7cc29f0991154f8f95647e3d3f7013e1",
            "bd8033266fb6486db8dd0b78127d5c35",
            "3bdb5b09849647ea814327aaea248c0b",
            "0dea64978ce24a09939aef8f797a6d83",
            "df0143ccc73c4e279f061afd85198447",
            "de6e8c70158042638e0a754ab2a5bd82",
            "ea6909eca10947149fb2bd7e233e6265",
            "1abffc859b8246c18b4df7dd3bd3fc93",
            "17e2aee495e340ff9bd422033f0c2c23",
            "a28aa71fee7c412da95fd42aa291b203",
            "8a5c15e4c7934d108ada65d9be91f905",
            "70de86303e9b4b489c02f16739b86a1c",
            "a07da59df5294677b5accc48955cafee",
            "ea7c7adfd0e44ded97e08c42d3bbd073",
            "e0e05f6940114c42bc29993d6e2f25c6",
            "4895f330db2b4b4aad1edd734b40c8e9",
            "b7812399018646409d043c602f54421f",
            "fbdfad34453044488a1292296e4a863b",
            "875be55d36e942c884517da1f42762ba",
            "648dd318fbb14bb59c5a53be94a9e0f1",
            "76b66a30e5384e749e443ef8bfa1366a",
            "18676df2fcfd4bb19bd32a3a9ccc2894",
            "1f49bd13272e4f40b4c2189f3954f543",
            "9eb236b617944c5ca0726ee74b3e5958",
            "b17ac91555204d58ba47866d6cfd9ae8",
            "a274e717076042c1b24d81844eebcae2",
            "4081916e54eb41f8a129f84dd9c66fed",
            "be175b8bf5084b9c9f0e4b1b9bd581b9",
            "a47533328b064b1c9a425416d9b07a44",
            "5ea59adb56754e7fa6696fb2f8adab73",
            "d96ceb88505d4aaaa882dbb269688853",
            "4743b2d4431b45928e24f25807f81052",
            "482df00899a64c7a903c65e33efb421b",
            "8345d6d812f6423a82a04a30291557d4",
            "dd786fdf5311432696cf9ff5e5667c2c",
            "54bd5912a2284dc9ade13e7d723b72c8",
            "bc1d8f3bc14a430eae4360b47c8c218c",
            "8ed43870324a43c890abfec33d007f7d",
            "bd5a42b31773442bb9d8837a9670f26b",
            "40f29dca2afb48049edaf30857a20de2",
            "34288ac9cb9745f49efebb98c501a556",
            "06136ea51c554b10a6e6b66e21ec2852",
            "7d4c94f649a3478eaf2a57c3fdc7b3bf",
            "3aa53e34f497445eb232c06a3c0dd10b",
            "af8a3f4e14284a64b8546a8d7dc3a863",
            "4947a33dc7f24f8cae8531de983fc4d6",
            "328c3d58fea045c98b8387b14fcaa3e2",
            "d10500be0df34aab82fcd0d97ff0f0d0",
            "02050fb9ad964d2595bf751e9f9245f1",
            "d42f5e8a886241bc872e5a6ec44fc64d",
            "59b473b9b269482488c4c3997941e0a0",
            "9e45d572adaa4c41b973915c24d79a19",
            "81ebc1af0cc6496685169a33ab908823",
            "632216903db34f649b4035557f90c49e",
            "5e146136c07b4f8c8dfee1a17dae5c4e",
            "5aae733b276e4b14b240438076afc2c5",
            "4dafabe6e55646d290d81fe13b08cdde",
            "ce3fa20dd0ac4016b4ecec61226debec",
            "b2c7ee8c3f0a4292842fa72d9128e6c1",
            "466757a122ce4c038806c45ddaa240d5",
            "fd5e5c71ce2841ba8e417a1bae623c7d",
            "a9d031b1b68946fb912a31122c2c8a9f",
            "5416985a3ab546f480deec870563d92f",
            "6fffbef929474e1ebbfdd1aea0e4097f",
            "d007fa308fd2400b94ee76d04ef33a7f",
            "c7c369cb68b54bd99bd7714e5bfc1897",
            "51d8dc22f242441186c04e0d12870b31",
            "1baf449df57147de94ad7c017d158092",
            "434c6bf1e98b42208c5c613a5edb88a5",
            "007d5a5e4a294283af8b7c97d4417429",
            "0bdafe359cb24e68b66b53e673cf9916",
            "4a61b569058546e28b37309173e918a7",
            "4a57e211859f456f9c2d407cbb444905",
            "ff9ad9646dcc4509a1ea7d7a1a388384",
            "c30ef1c01b28424486b0380d3a6d4b8e",
            "d3e203757f9542338b7837d5180c4529",
            "9b67a6e94c7042d29b8c82eed3bb4ef1",
            "da07c6852984451f8c9a03688a53af81",
            "f5f14463e1fe494ba851652be3366a90",
            "78188df4ed9144eeb1035a546e20957b",
            "d64252e388be44859c4b344596ff9e97",
            "a0832a0ebd24424b9022452f03794477",
            "97de4e496b3044e0baa7b0e6972e17d4",
            "5ca37491962f42dd96dc62fca205accc",
            "1eeeb4a7ff7d43d2b162af021fcef6e0",
            "f84ebcf4bcc7413184725ecf1ae10b1a",
            "c6d28842acf44bfd8c5f40d97880c277",
            "e132f7c7850349a3ba5199fcbe976468",
            "7c0e27c44cdb46daa5cb79863425db78",
            "4624b8dea86741cd816c856fe4c176e7",
            "a24fde1256e94cad9ca22dc79c0efc3e",
            "c8076722aee74e1f9523f25f51f7f18c",
            "f68456bc26e645cc8f2bb256ed1b1a67",
            "7ed137a4023b4ecdb001cfb8017f3346",
            "837351c291484d95bb121f44dd3b5bc3",
            "b33280d25989420c86241e92acf710ed",
            "9bb54bdf2d82430fa9b026d99516a8c2",
            "99ba27e207b34c7381c654160bacfe52",
            "75069cd4bda54bc99acfe18d82373982",
            "124c5b5d60124a21b38bbe483f66b26c",
            "1c33fc4e6344413dac9c6c8afd40f162",
            "9355dcbbf2844fe2963cc44e4324e299",
            "4454bc2577724c92bde4ca4123df587a",
            "2ebd1909e4b84d649dd74939bcc845f0",
            "96695bb867db4d21b173d3961e3aa9a5",
            "c96919af38b047cea6dda35c9f3e49bb",
            "5f5e79a475be48058192131cb63b4a0d",
            "7c1c3925be1d44b5b29b3fe2f3aa93cc",
            "ed074068a1ed48318326f47823cfd0f2",
            "0cd62c9a9aa84bb7b65d403fe34aba67",
            "09355ca34a264c7993cf10b11ff0094b",
            "05a1a17e515b47f789e748779bc3c24e",
            "82b316bb616c41d79d696adb27742f4a",
            "310ed2c3435a4767b903decb6d73cdf4",
            "fc0608a074ed4ec3881b585b3f7aa315",
            "864be6c88d4a4a9897e51be729c4b57c",
            "1dd4ca5322fd48a08622dd9081d38f88",
            "c1711e422830402889c7fd4a9b46b929",
            "d63b85ddd2514154bf0602caa6660f56",
            "333a983d26b848679372722211e5e23c",
            "a173d71587a94e7789f1c348840a2b44",
            "d7eac930b2f74c77887b54fb09e745ce",
            "3abe863f1f024a9fa1dd2638c6d5538a",
            "c1f9906076b149d3b576f52d847402a2",
            "15efb0408bed4fc5911a497bfc220b98",
            "6ffea5d3b0d34065bd13d003a4fb0c1d",
            "3a5271e811cf4a0f833d9e142ef1b25d",
            "a328c5f868b74be1b841ab95f07f4697",
            "84c9d1c0aa3b4f2a81706124c62ffe4b",
            "970569f3945940e28e50310e7fb2b2d5",
            "ee2e6a59271848edb81bd91884836543",
            "f24c262560da448f8956ee45cafa2aa2",
            "e5a5985fb1f54bcc9a6b10290823b175",
            "3c84ef6a746c42e987ae2b5c5b504a86",
            "e3934c2a1b2c414db5c8121181ed3365",
            "e01c1d862e494f37bcd625b79f8568f2",
            "d2b3aace038d43239f848ddad77b85cc",
            "4b9cc60f123e4032a42b92258d4178cf",
            "0416c8f75c35441392f1046bc2b7b6be",
            "1e4d44a4b0a44668bc377f9d883a42ae",
            "d339fd6d2f324e9a8de1ec7bbaee5116",
            "10fbd63b2dc841b1bdf07ab28b51384c",
            "c719d43a5a524a64ada7008a6caeb02c",
            "8f838b32747e4990a081dad418b903af",
            "e9950ac538ac442396ce106edebfd753",
            "e41d9cea74384de183c98ffa51723bdc",
            "e8ae39c53e724ba6bc5a03a5ba4dd4ea",
            "9a45e76142e34a178e613875f9246da0",
            "3f89e2b783364b7b967674425a039f74",
            "b6f19d7ae76f45ce9e044a2492b4b6c7",
            "e3db7628594f4796803e59c7dff95e4a",
            "5bf913584c104f2e94b71b47f1a4a606",
            "ed41a4372783405a8d8d0b99f135e2a3",
            "ef75b2beb6524550a6899f5ad76795cb",
            "6812b30e4f054b12b5e8ce252d9214c3",
            "d1a9ac729e8941a1a6751c000951a9ce",
            "1ccbbf15a8e04788bd5a5a88a20a382b",
            "44699252cbad4fdd8ca8d386e93d8008",
            "165040940ebc493a9e69c6becb0b85b1",
            "db867f1dbc3c42c09fc8dfeb10ada815",
            "08b62221be304a66b891d8e432e06df6",
            "7b88193f29b34696b295f10f4b1439e3",
            "2c20a5f161f746e59ded2f7890b72266",
            "a69b22044f87493eac004c1e0e9a5378",
            "ecb3223e669544a59226cc5e16ae3dc3",
            "30a806545fb84f6a9ac5933c5f8d3912",
            "c2706f1fc59946c495ecd3733d8e0767",
            "1d6aedb679b9430e8de478254efaed4f",
            "8c611e46b3fa464d95b48aafddb719a1",
            "865a25f06d7844bb831a54a7b3bb6f09",
            "49d76ad262f04733a24dccaff5f309ec",
            "f486a13eea35449e8d46310beda1165b",
            "5d0e2d46783748f5a30521547aa6e4fe",
            "ad66fdbd7fb844eb929e94939b7c0251",
            "d110ccbfd18d444f926875285cfc533d",
            "7d7cbe6926a649e89f860f02c1e83eb1",
            "1fc470c056bb48c7a5d022914a8ca86b",
            "413a4e2617ac4b43b7b3351dbb19780e",
            "68261da5e3554c778dfea00056179634",
            "dd6b134f239c4a558576a3bcdb3259c9",
            "7db287f33c0f4544a68e4526a52f1e66",
            "6adb3833143f474bae7506f0531eed1c",
            "538f0ce36f854fb9861dfca20ae9d16c",
            "7286500f406b41028f24febd55c59ff8",
            "4b7499a020584507a75e93b102d6cec7",
            "ffcd8a2ed5d84d52a151639a6d4a2667",
            "5677e520251c4d73a8cf3444d56a7563",
            "7888cef619644c6ead8f9af77cd26041",
            "dc7e8488b3c0415b81df51e3ea71544c",
            "25324291861344f9addc0ac9d353836e",
            "f36dc0efc88e4108baa22edd26b7ba7c",
            "44cfadc705c34ff8a17b0b83e4e2ad9d",
            "ea26b49c4ccf40ec93e51a0d5897df91",
            "dc1763fc3229405ba2e6fcc5eb5ed177",
            "8cb7d4b2b25847b4be62a2ddcd0f5e60",
            "4c2c6517f9c74f55af36f1f5cd1cde87",
            "ae9f6d5150ec4ff7a42823c86984a3db",
            "1ef8253fddd64135ba81aa85b01fc61d",
            "ca2336d62b2b413a9a2e832818114a13",
            "c14b0f090ddb49df97395ab532d1ed90",
            "3c50d68159fa4c27be361c69012b87f1",
            "0576f3a00e1047ae9b4fc3b47c586667",
            "83b57e81a4724c4fba749a7d578021d2",
            "c0c57fc8bcec48c4a0225c1fde7e7c0d",
            "8bba8a94474e4d0c9f89457aa7e1b40a",
            "3aeb9a9de0e44ad89d69f9f493487c99",
            "52c56e5b09aa40a28788d37e222cb943",
            "2ec4007cccfb4166a31e7e45987a965a",
            "e432ef68f5554d54b4d8816c26f3fd53",
            "412b97a2cdaf492bb339b81e2792755e",
            "019896c7ad654b67a829da395fd248d8",
            "9cb4b3e4b82f44bca5f0d11e5cb11945",
            "3ad4d1e38e644f90a4a0a9228619cd29",
            "a22d9f160acc4efdb0b4ab9db9df385e",
            "20d53f8be7144892ba351b702776125b",
            "d5c2c9e5932a4af98688ebf5c712de8e",
            "5cbb4abdbc91473ba72f0af56abff56c",
            "843872c77cff48379308d55f32ab294d",
            "b98e00aaadcf48bbbefa70c3c98db5a3",
            "d66731c2e68d4601b0afa5a3354ac8f1",
            "0fca2f6b99f34b4c8ac9d95b3eb7dbe7",
            "7e8066d05f44454f88ebc688fb3f2e43",
            "f8bba1564f2245b3a29503c7baa88f42",
            "f9c3aa4b82c54383b3114c2faccc034e",
            "91671ae9f95540b3a321f448b162dbfd",
            "262dbbe16db745f5b434198bd3249b32",
            "14eee1a7e56b4b64993b91a07e13a911",
            "761c08f0748e415bbd06d6d8d09f09a2",
            "618669a15061451ea88b3c7d27064b4f",
            "f66d1cc444b641e2839074f3d32fecee",
            "52fe333f3d9f47bc96d5241fd2fcecf6",
            "3770afd6f3f24095b9b236c29a180ce4",
            "6522229d65944622aa3c9ec2120e38cd",
            "359e211fd50b46599af55f79df4a0775",
            "5ac2f0549a2d4c39ac257336742b88f2",
            "6a94a4b2a59c4e3db5330ec402cb7383",
            "7ff932581fb64b4082fd2882c85989fa",
            "1d47b6c22f044cf7beff9aebf3cee1e3",
            "af7778613c02427f82ea1ed6dfaf4d43",
            "a59ecf12562f463badb3f9427617a655",
            "914f9ba0c440465f9b7b0731a9cc0c1e",
            "c4514adf80f24262aa635f29bf47884c",
            "7689f30e2c344ebc9618f0228646d168",
            "961ae5e99cb74b249ad3f24eef4a5d06",
            "b0cfd3dec6eb4050a9421d334c8417b2",
            "5553252796e14138922d9e935eeccc76",
            "eccbf54e961c4b648adeaf54a0ee736b",
            "ca06a0ec926348c2ad3b3abc766dae7c",
            "059d9f6cc23a43a39ecc0797b00320b9",
            "ff5556f73098481d958745a2ac0c8f55",
            "05ee881c464441de80be42d66d418981",
            "4fd95082939249558d4dafb17a422ab7",
            "473104729173435db5278eec1d9c9b15",
            "3887f3032cfb456a86c07f5a7683dfdb",
            "db99276b93e749b0a51279fe36beae66",
            "66b70867c450455b99001673d782f66d",
            "4557468b18e940bebb6091b2af0a08bd",
            "932267b8b3624df195bcdec5402ef315",
            "eff8214d5f724a769c2acaeb2ba64fd8",
            "a7583c5f7d21464aa1106506159a5b11",
            "d1732fce94d1425b9bf047b0c02810fc",
            "0712699372ff430a87a18b537484055f",
            "9cd671c7aabb43f08c4f68da5c0ba313",
            "86307b80e5c648adb7c9e434f3a285c7",
            "55fdf97ea54d416ebc77ede3e97f9b3a",
            "124e7c1edd6544da824cea61e1e1241a",
            "d6ed8a537f8243019f050c2a082191ed",
            "64cf8e1e6484463abb4e1af80e7169be",
            "c9ab7ff55b9a48009bb117c616d3f523",
            "9d4f3bc02e204faa8ae8cb3c15b9f615",
            "dcd920abb07b4a1bab0b272aeb5891ae",
            "d361373f02f543b1b29c248501158742",
            "8d14e0a9e37a45ea8e09aa357da8c00c",
            "397dac66ba5d44ad819787e28807d2e0",
            "ed322610cf684c2ba26521a5f843b176",
            "05befe8fa2714bd5b8809879560659ef",
            "8c2142533ffd41a7a643684fa0e57723",
            "aaf010c56a05488ca74394b3c187d827",
            "2722ad187a89465a8370a94a2858bb37",
            "a3c0309e72a049e58d95da60b3b65fa3",
            "b94c8716a76f415ab15364e9854bc967",
            "a698f6e4f3a14945b18e0593a7b5ea62",
            "e4241bc9949945fa988c750753e2af5c",
            "46463260f3ba482d8112c032e8edb5ce",
            "a7cf50fb4c0740459f25219edd0fa920",
            "f18673e673264cf2815568cb8c33f3e9",
            "0785959506024123bada89104b7cd0cc",
            "7bbd652991c245f79c3963e4bf1d4050",
            "1d6711612f7e4884a106f7891b5d0787",
            "1b53c056611e49f296c42469c1f513d9",
            "6a1d76132eff4414b5081475d467d682",
            "1d6998201e2b4bf180a5dba335aaa669",
            "357afdfa9e45487491a40d2b0526dece",
            "606cc26e382049b6a13fea9e5ed6e7bf",
            "8dbc1a73deac455bb0df290ab2c631f5",
            "20aeb1e89eba431e9ceec1ebfbc18f2f",
            "74953bacfed54a7f8778ab40b5f10deb",
            "4984a7942ffa4e1d83b598f944dc9408",
            "8584f042c2c448f3ae271ea88f980714",
            "1b63af8917134b90abc86b4ec4a918c5",
            "0ed65e3d432c4313adc628a9707dd0bc",
            "07b24ebdcee84720ab4763b96b45f17e",
            "72f6c5f09b8e4b688f7070461162e221",
            "f35929a3b5484e69b030e7949684be90",
            "aa62c92c97e94d06ad38b74ff9e53cd3",
            "a646a2f215964016acc26fe3da34231d",
            "7d4cdd88166b429e85505849b6942e0b",
            "b870ec7822c84453a641f255e33302f5",
            "7bb296bf1e174d4da557f5fd7700e162",
            "c23612b631b94c868c120ae4d84564a4",
            "1ca6e378325f4bc0af38ed858eb76e72",
            "50c92ee6679045588a523bfc98536089",
            "9bd6712dc4a8497ea756e0ef6cd8245d",
            "c7fbb4530b274c90aca014620a28c80f",
            "135b77ae7ca2448dad40660ff5dcc8be",
            "e791cd5caa914812923f1d494ff7768d",
            "dd6e77b63fdc4ac08d6de924b31a9b76",
            "eff69d0e30b041d49590bd95fe489832",
            "f89a5c59a29947deab875d6c2288550f",
            "2fa03b50058845f686064776d7802ac9",
            "08b9f988a4b44b749e9b6ef29a788455",
            "835012b866974adc99967149144b46a3",
            "6e4b957dbcc646789bb4ff380c101f07",
            "2ecde863fd474c34bba4cabe6d5b9a69",
            "b0818f19431c49eb8cccf1da40926c32",
            "660421d47999456999d9b9c721585d3c",
            "99326f457b4241c89425084bf2f5504f",
            "8a8b0a4140f645aa94353a71909cf35f",
            "37f5f497f4ee405bbb2fd7b4ea4c1107",
            "0c178d56a8ec47158a4a0fedcff608c0",
            "29f52f49f5e248ed89e6913a38350ceb",
            "d0b7513b3aa84d73a67a5b6be37b4256",
            "3b516900c1224f06879f8915d34afd71",
            "339a403bc4524e4f852a09c8d6ea82f4",
            "aaac935fdaef48adb83cdfaee58127c4",
            "8416ef2662f14b60b61634beb344c443",
            "7481a7c4d4d4439b9dd618f54995a2b7",
            "48a6d8437c794504b69b2ba7eabbb37a",
            "cc2efacb49a0408cacdf3c75d5abe87b",
            "a1163317af0d4029bcb22464b55fdda4",
            "f9490240268144baba8d9f9614622027",
            "8a0155ce03f64724a1cec4b266359ddb",
            "fb6a3072d67b4c12a72d677290f8c8b5",
            "06a592f5d7754b1ea5a596a160748539",
            "333daa619ea540e9aba19126ef809e89",
            "7d58432c8e1a4d1b8630c91b3ef3cdd8",
            "19cbee629fd84345bc967e36be5f2663",
            "f75853e02ace49c796b00896cabfb277",
            "4c842d4726d34e91a0f4f5293daa20ec",
            "789eae97563e4aa5af657e7617ce38f8",
            "fb80c9a8e6f04f0784d2088254e95d48",
            "2458b584d3df455ea0b7dccbbee2162d",
            "17eb78f028564335825240b071587d8e",
            "7d03380409194fab97a6969cc918f788",
            "1c8eca415f544aa19fbac7b54d578b0f",
            "467fd0a225854263abb56388d1af5eff",
            "72e07ed1e5a7418e8f2ce2d96689bd8b",
            "0dfae61277694323af91817276daa4be",
            "2b284d7b7af74f1a859781d03a1d3b6b",
            "fe9364e2cc4f48db88a04b1ea45e73cb",
            "f4ec024b775f452d9dba56a802326617",
            "064eed9126634ff380edfd47ef92f80f",
            "fcbefba36d6147be934814acd8695f13",
            "7c52fb50b78542699e42716253c70542",
            "7adbbefdd18c4fbfb5b3c36ca65c9bf1",
            "5a73286be88a4d12a8548668f699ba27",
            "0970f923ff624c4b813b598180a9fb22",
            "7f716de5c8ea4c03921c91013f255fba",
            "6aece647e0fc45db96ebddc2a19dacf2",
            "9ab92596f1c94f798635e978b9e82891",
            "0f8ebd6d0ec74d178989822d07cdaa0d",
            "c15effa7b3d74cab8363c93a881d5d07",
            "5a675c47ff89454e83e6615b0727b9f7",
            "c1474decf9d8454aa52eb75489811879",
            "63369e46cef5476ab2277959c47658c7",
            "bc181c9cde1f4957a7c019ffad712e90",
            "bb028cc2c44e4fbc9fff91f9c832d7e4",
            "c49899dc3b414edfa6c25fce15edf8b2",
            "bbcf64bddbe843c5b29fff03ed391f6b",
            "c8aad174406e4578b5ba4ce22199c607",
            "53c1fe74fd6346699aae973292360b4c",
            "8f564594c8934abbbc00303bbb8e339f",
            "1a70010e63354f4d8334e3d6cfc2ac6a",
            "dec68c1883b04ceb9bd8ee9a138846db",
            "a0ce79ca5a4646bbbe5af6c5b48a7553",
            "5f7af89bd88346459f0592a5b430c06a",
            "af473d1e6b9644448e523436c12ee9f0",
            "ec821b965eb141d693308c7d00ba9f8d",
            "97d235e2d300455681464f2b57815640",
            "ee5c2c8252c147a7b5c3a976f0cdac9d",
            "1aa5e74067a24aa686c0c5f510f57080",
            "0024d86b5c5e432c86846f748cbdcee8",
            "b81e4854d9da45d8b06abd5793bfda41",
            "becf0174274d43249420aff60e058c33",
            "a24d6305fbc64c35be2e750efe33b0b6",
            "438a9de2831d44729821573357e89443",
            "637dd8b2cde3460c85337ace63269602",
            "e000a80d0036478facbb795fbbc53fa9",
            "f622bfe393544894aa05d7b16516a135",
            "606dcbf41f9f486586573b24aa3f1862",
            "767e1b9fd9b14975aafe3da20acaa868",
            "d9783cdab7cf43eab540f03eee74d299",
            "8f824d6b913e4ed0a6545750d5aef50d",
            "d374ec5a3efc400d80657e0991c7b6ea",
            "99a62212d258421a84bbcfe2b269b5d1",
            "1d280856be024e88b8add827da6589c4",
            "58bb7d50985e4b3487305a8675adebcf",
            "a6778d3be91c4333b5646ed6f3e06b91",
            "3f1fabc4bd6b49dca5209b782d66f738",
            "103f9ceb90db41549e11c6ad57514d48",
            "516444fc0d904f739c2087a77d82b1a3",
            "9189fb3c455540eea51c6f6c8a1544fd",
            "b23362499d344228ba82288d49f148b9",
            "689f61d544114e208a7556aadab32ebe",
            "5158d80d85fb44e381147c4cb9ff1928",
            "c59e49c3c0ce46ad9ff6b4c6ad8c778a",
            "f59333ef70104b01980aa881938bf06f",
            "b2e04975472a4d809ee123ebc70521d4",
            "13af0a21d2d4434a8954ca2f6bb79431",
            "fac237add66746629de07f64d9ce077b",
            "ba1bd27d7c284db3a28c66dadaa62087",
            "a79c8f68db7747f69300c8123b898039",
            "080ff18794bd418e89c5a469560ecbb0",
            "71b61f66c6db4a7ca3a86d53a235174a",
            "7aa6cb1924f449dbb7cf62edb812c84a",
            "9a63104db01b4982b977ee523e2be2fa",
            "ea337bd693f84454af4c236c149f9d70",
            "ea4c2c422c754bbcad6ec590d8190dc9",
            "d9554b5498ca4b88b75819e596c6890e",
            "495767b7500a4de0822f38795d34d344",
            "d1192940fce74c579931792255f4595c",
            "72244674f900444f88a24e6859f75d03",
            "bee79bd1b263402db5e7b738315053f0",
            "b815621837f34ff08f4595c8713c2500",
            "b422d24acb18495a81247646f34e340a",
            "1489bf24983b4d12b0552b814fbe1e77",
            "c7d40f60af624c61b19a388851644428",
            "be2b3bb336f24edca883340c36ce6b68",
            "3ea9aa563e7f401197e7bb20b02e03e6",
            "9e20938b9b964c5fa33c8cbb3438c5b4",
            "443a440debd647cab15e71607edc3db5",
            "c01cfae1bcd940249874da7e612acca2",
            "fa06348125de494f9183fa6348e1874d",
            "da16448231b9497980b387c4d8a01293",
            "c9b11923078342f7a89537ba1bb90c2d",
            "c1561c576e674bd28f7119f03845a49d",
            "0715b2bf9a05495c92d7744860347183",
            "71b7c0f705b74a269101432b3844ac9d",
            "006db04faf3844308b6b72e9df150adc",
            "7e9072495e6f41c2a971b9e54a6b20f5",
            "524c646a26b84ae38bd3b5a54381b0dd",
            "f910ab135a4645449946501d4fc7eb48",
            "361d597bb5e94a7db47959bd56d20858",
            "fa172c37e2324b04ad8818f4264a6348",
            "43fba86293a1408f905b1048d88eb22b",
            "11fa60a8557b48a796dde3c06e2cd627",
            "975907508f064f8ba7ea26c6d4711e2e",
            "49ca3ea91f0940db9e9d2c03c339a0a4",
            "f3887d02a9ea4ed7a2482c147c8ed89e",
            "079f864169ba48628a7f1c5e0e9ce903",
            "f1cb1a5fb5694972ba28ec21ff96dc06",
            "6093428923fd42ab964c3fc64dabe061",
            "9947c1ca698d46f9a9542580ebec73ee",
            "a6125e9c5ad7498d854fa0c45371c3d7",
            "bfbba9059d0f470ea81fe8e8c3ff52d9",
            "2165d6a248ce4b8fb289086efae67eb5",
            "ba2a2c52c383446b90d075e4e8f9bbaf",
            "f68b7278da4e414d9146e893bd348d58",
            "af129e730185468b83817cb7de4c9fce",
            "997f5081b77247ec913f26c5daa4d3d2",
            "e0e31d910302435d9359252f60b9d95b",
            "f250648077854041b397940fa45e66b8",
            "9bd985882c2a4e6f9899ad65ce8c48c7",
            "494a9506636c4402a5b00c74944f6a2d",
            "62d6f215791245e18fbb7b496ed15430",
            "589f33fbcba44579a2a7d142396256cf",
            "dbfca0acbccd4312a58905fcc0d13761",
            "7c9cb10951b147a1a76347d31a30d7cd",
            "51ed288a5af2479cb0eca00d7cb8f4f6",
            "2d87b1548e5045dab9add71e7ca50b8a",
            "bf6c37efb4ec4487ba294d7f1de82175",
            "d937b7f8891b4c15a07d3607f6c581ab",
            "e24e9c6ae8a7498bbc05a5cb0de5ae05",
            "427e80c7ba714150a38f4cc3cea21934",
            "c545ece09e254507bdd904c849c06cc9",
            "a3c3074d1eeb46c0930f7baae94cfca4",
            "68906dcd2c9c40728a8cff44ea5cabe0",
            "c2ec716e9ea04975918616daa4afe694",
            "8e19c02c218f48c3ace8c381deff5ae5",
            "fc65c00848984cc1a0dc6aa9499f2345",
            "8a699e622f8b4fd9b66a6d9728690281",
            "c45420e8579e4953bebc1548986914fe",
            "eaeca352381b41fe9073982d232c7128",
            "51bd032fea9e4fa9b5b16b19f52d1784",
            "1ec224d910634f65a9082c87b6ce016d",
            "ad5dbcf0e96447e984d876e11ce7daa2",
            "d97bdee44ef042ddb3c5feb114271895",
            "748885e86c694d67bd63cfc92d3b5f4c",
            "6fc6ce2d8143435ca414209750f1f73b",
            "bc4b96f4c1aa4c59a62e4d52371958cf",
            "ac226bed70d1492099750b0f09df09d8",
            "ce9390a1adde4f70aab6852e43367ee1",
            "16512adcc3e24dcb9af670fe4cb7db02",
            "0e317f08cb9a4cb38da3c5f8a1de9480",
            "b9995fd13f614203ab25ed94bb2618bc",
            "c8464d3f4d9749a6b8478a9a019cc0a7",
            "276b43c0c7954fa3a55801e2661b1c6a",
            "017526a716f746e59b6b0395cb76b4ea",
            "525bd1c06ac5426b8d922c4b7975e7f0",
            "1982e9fc56e84dceba4c04d7e847a6d6",
            "046b8503de2749bcace6a1637910bde0",
            "d96f21cf104e4991b78176e11ed8beab",
            "1a32b83a86cd48ac856a33d91cfd15b2",
            "ec6a2e534de44a6cb8ced1a474805fc3",
            "ea9cdbae9d6546fbb79d7ba5aa2ee8ee",
            "fe32d35888784800866a851b3f7dd005",
            "61011193027c4cbb8a322ca92eee5f07",
            "5238802a37a04408b6a96ee4d521e19c",
            "5b6f434bd9cc4081bea49a0f4922a857",
            "f1f18231ac3d42968b0cce2b61877a57",
            "8d80d589c53a417190920c9e896f5017",
            "59e52a99cc5d4daebea57c5fa5264a97",
            "22c76344ea0148519a31f0237061545a",
            "9805fd301bed437490f0e0d3da254681",
            "4ba9cea09a9046439b838e67df52e33e",
            "33f5192e9eac49f386471d7f5e7ff38d",
            "796c15a922a249e8a6582765282a44fd",
            "920aced3bdb34a3facbb1fdb49ae3490",
            "abad2564cbe345178ac94dc8d18246fa",
            "3e14633d7af54f9f8df6a3186ad4fae9",
            "0cc7c36b909046cd92971f1c6b6a611a",
            "b54bd4b4d34144348ae96ddbe21b4963",
            "eca8f2bd4d314086b0ae331637674728",
            "bc5e817717f043c4acf0a2077bb233e1",
            "91fcf8b66b8c4e9b925bc24b585e6740",
            "dc2008c2515e4adf9d277998d521fca8",
            "df3656de4ebb48c494e0e0457ad86ece",
            "27720afd259543df8b7197e471b0c447",
            "36bd455f2f964ea39e0515854d802f99",
            "44c58e4260384fe096802e1d530ea752",
            "adedf75764b8464cb48ff338f581a447",
            "5cc58902f0ff444fb901e33f519f4812",
            "5930386156164c3fa5bb3dec99978670",
            "a1ca763675c64b55abb5c9c1cbf019d9",
            "dbaec098c4d149348b9a92d039eac1f8",
            "0378e352cb334a8ebf3bce73de1cafc4",
            "fba79b114597461ab669d41f8119a838",
            "a43c42ffca9f4d5d9c2fc19dec282688",
            "eb7e3352c2134e348ec115c7c5feda55",
            "1adf8109f2af4a34a213a9a84ab75491",
            "af7b262314d6457fa5c610e26297539b",
            "bbee292202dd4d9a817c02e4c8e5bc76",
            "3e990f60ae8b4aa7a0ebff81738956f7",
            "a5cc03853b3944f887603249ac7151cc",
            "504c9cc226d041e78c7cede0f2fc1d75",
            "ebeefc926790452a919f59ff45769c6b",
            "e24cedcd7d884252abb61a6d5eeaaec0",
            "d16f2bc524b24b97b709281960391363",
            "68646d7c835c49e8b5a1ddce907a4b28",
            "def35ff9c6ce4838802f9fc4ee38de9c",
            "96834bab725946f8975ed4d29d416f41",
            "049d62b115bd488ba6fe9da4642420cd",
            "a288734bfdb14f9bb753b8a3e572727c",
            "b551132026724c80b1b16777ecb81b93",
            "118ddf5fdb1e4286aa1567a0c268f432",
            "dc087aa150784b8b9977e6ae0586a862",
            "9be256d74df34e6d9ce362f7e3ce5509",
            "08478b11c5f24c73883dbfada2edc82b",
            "42d83c9a1d2a4ef58042987c2561e156",
            "ab1b24d2dd0c425ca9bc0e5f34b3b4ca",
            "f23468a3747f488292486d75bdc531d8",
            "9bddc50cb72c40dda79c7df3526db70c",
            "c208de80eefd4133b1d4a641fd694ae4",
            "2e0df46e924c42af96ad20a880cf6ceb",
            "756e051c69984e3186aae2370e43f7b4",
            "0f034bdd62c44eeabd5b49f2df3c7452",
            "86ef51a74cae43a89fa74e10bd80514e",
            "406649f830fa441c95c257a39c27fac4",
            "fdbec5b8f9104c50b4bb06c1005932f6",
            "d28852085fab4874bd8b2bf4cd468f69",
            "96f87ccb6ed24d77ac990433dc856e33",
            "b7b2bab59302446c8fbd13085e4a6592",
            "7773a2a13e12429f9f9e8c8085015f37",
            "8e085aed9ba94b7eafadeb294c564437",
            "ca61fdb15d7046a6bf3a84bd02c48006",
            "f0b22961ddcc4c979029c0350fcfc9d3",
            "5068a6e6ee9844b8bb03241f338c697e",
            "532dcfea77b4459c92e0f151dcb8441a",
            "56d97fa00f5e44b79aaba87e46e336cd",
            "b5ea07573e8e484f90e74f812b854dba",
            "ffe7b8d856d24ec59b4e97d3a2995568",
            "d9423ce053ad438d99fb17f064f58c22",
            "dfecad5c9cac42f082fa38c73b65b00c",
            "688e87a270b14664bc6059139f891244",
            "17ae3a92800740cc8b39703c154ee1ec",
            "03e783165c234f62acf1aec1c5b86263",
            "4ff1d4847a604cdaa368d0ba5e0607d9",
            "2f427a9ccb694e3b90d5d8152bb1f5d8",
            "95814a81fbf24c8fb69bffa6b37ddb76",
            "8fc0488a58a14833b007feb7068cfdad",
            "8a286820b6f44d18a6d1dc4a51672252",
            "7b7265f005c44d8d8d5590c78be6f001",
            "51a766958ee4460daa4a671fdddb1e95",
            "58619ab834a04359a2943b7e660da908",
            "194a21d118ea48dbb0932529e81001c9",
            "4bcc50fefe7a45d4809530b91390b5dc",
            "152edc09ee584c2ab1e994a72e3bf6c1",
            "82da332205094ab8b6aba2d6aae836f6",
            "77187dbb360449cb97378a04937211af",
            "d117f08420cc43a7909c36a4676755ba",
            "f9d238b0d41a4b8084772c766a9c0c0b",
            "398d9be722aa4bff8cf12b722677cbae",
            "3b0594dd1c064982803cb1ff9bf01bc2",
            "d9b62e1399bf477a9b269131f63b5b47",
            "0a881553efef41f4bfef0125db37a960",
            "a97c5100802a41c0806cac02332acd3e",
            "692e37f2351c48199bebda2aef45f528",
            "bfec7d01bc3f4864a6c18085b0da24ce",
            "82ecb69abc41474cb3231b78b4f29375",
            "1871daba1afd4101839897f8fe4c6d13",
            "93148c8c364341d2babc9a62c38f1e65",
            "06140fb69c8a4c6990b11aa659500b47",
            "c232afff1f0745d09c3638ab2e98e3a3",
            "422ef22e2ef2436fb0d27cede4a75d72",
            "262ace07259f4b1f95ac849fd167b7d4",
            "5014d18151774feaae6ad580f81793b3",
            "72cab294c7d34aeaa1f50e9a82a1608e",
            "2af5bf637ab14669bf284d4ab6949110",
            "fe35ba11920d44a68cd5133c77b517ec",
            "094be78824c548a487a8278dd293ee52",
            "fa7b83225ed8467e8217774a81217ce3",
            "f6d5d9ca74ee4ddeadcf376fd01766be",
            "06588f17d88b4326902e9cb18ad9a9ef",
            "55b080908cbf4bb49495ce4378b60e4f",
            "335e460dbeab4e6dbb6f904b0ca4b816",
            "fde0540e4ee84c19aa6331c6964fdffa",
            "15860a95f9b04ca9bca8ae339333fe00",
            "91df0fdbaa1c4658a5f85f1644c3d3b7",
            "7d040c34f71447338529dee24af9b92f",
            "efba7cd10ed6412a9f4e17560b003b17",
            "bdad7f0cb02341c0b494e3fff98e08b4",
            "91b6715c762245eab733974730323179",
            "22a81da31d464da8ada6f0e20f85b75e",
            "6de5b3c3761846db98acbf3c06c3c7f4",
            "1d5b510dc3c24abaa1f361aa1b29c773",
            "00dc9a84dc1f46c8a4a3a789fbcc9dd4",
            "07fa944892ff4a738dc87ee4c557f6b2",
            "7c40844537334ce0be870f54ae4ea6f1",
            "3d52f28da8ef44909b3292b4a580c025",
            "bde593a208104135b8aae91bd87db246",
            "732cd9cb7569496a9d57bdf1a3a35d4a",
            "f95854a4d5374043aa9fb749d2ef94c1",
            "7719e7f84020433ba3c5c7e47feb39e4",
            "fb5113d1edb244ada2c030bf01d3b847",
            "d87304c582c84caea6ab8c4c50f6cffd",
            "67165559e0184e5fbbb5fcaffbdf92f5",
            "89cf5073f90d477da443228da62d866e",
            "cfe202ddf1dc4480a65cbb310fc136db",
            "9749fab130cd4c20b69f323eafc20c0a",
            "6c7a6d47bb2f4fcf8e81202967ad1235",
            "61841ef5201542cfb0623aeb9437743e",
            "8059b5341c4143f3ac5f79feaafef2a8",
            "013e52edcc80442da1fa6caa3c5e63bb",
            "ed9cccd9e26b4ace9d1ce0b4c2703220",
            "9d0caab5b7904b9093138122d8a07096",
            "598dc088ab724c40a06a4eaca81006d9",
            "e87994354d014f978df533d0fba96ae8",
            "8a48899e4d7d47389fc03055105fa96d",
            "21a9ea8776f345ff9540fae765b6b83c",
            "a3bc11e35b3a4505aee1a9165080fd19",
            "30f480a0499346ae891358ae9333465d",
            "16e8b1f906d044039d590e3f7a5d2639",
            "d4e225ef182d44499ea0b3e427265d27",
            "03f078854e3b49b89fc3897074ff87bb",
            "a065bd90cbf6478bb43219a8a473e927",
            "aea80b7e0f424a23ae51fece22e79cb0",
            "d63d876e028f4960a506ea3a961b62de",
            "b36c38b2b2204f5fad08e8f2a78041b4",
            "79a9346c9bbb42b6bb0bf62f8051ff73",
            "379367bc53ea43298ebd93a9bca98231",
            "af9329f2453f42c69552d1059be68348",
            "f864d62ded55497db1fe3ed6dcfac35f",
            "d456245978794b98838c07baf34cff3d",
            "828c97732cd7479ba8dc5567f3ad781a",
            "a1bb06902dc641b69142be8f337c4f8d",
            "65ff05bacb0d47b2a8d37e44bbe1377a",
            "e2834284d8d34449907a92f62646cf91",
            "564d262d22694ca69adb2855dc586539",
            "0922d6b3dffd4cd493057ed43049ddfc",
            "8e66896af4f4429c9f4ed23192ab650f",
            "371cff50ee2942d09a589ebca150cd62",
            "6f74fa28dc4f4f4a9f568edf97e3b17e",
            "7cfa1a6649f24a3faa8603ecfcd5f801",
            "58d28657fac14954bd73ee2fb670a056",
            "e74794033a2a41608a2a35cf0fc4fe54",
            "b43a5f3e058d447e96cdd2a3deae439b",
            "8513f883ff90407da9a4af903b25ac92",
            "dd963f9cb5954ee19557f193f637c8dc",
            "df2552af5771473685e0fbf6272451b4",
            "3da0252f07b24c7c994d811d9ee28b39",
            "bf7afedcdafe4b31b8ce0403c2e47978",
            "f0a48e09e11742e58b6473d08cfb37cc",
            "8bd726a94ac8448e9979318a8401b68e",
            "d2e7aa96873d403c9ff3ee8c3ce16846",
            "ed30f205c03742539ecfed693fa636f9",
            "21826d80fc864f4d9a3d6e293cc6c165",
            "ec431fceb9ba4440a3ebc18dc1a423ec",
            "fc2ba947f0a74cd7b083c30123da581a",
            "ddfa3f33d6b0470aa9f6994457633583",
            "d069b51ccc754b9687b22283f7b38884",
            "d0fe4eba21704b07917b7b38ead64419",
            "3150e0a25f5b4673893da8ecf26aeb84",
            "4310e0c067f54d2697255b0190c27269",
            "73097e3995484cae8fcfd984a62a9077",
            "e335166e3d0047a89c7e20dd994d9fc2",
            "6b04950f29214de4ae64d023f8413a01",
            "6480c0a79cb746b2b0e9f53a1e561b55",
            "bf78b43ec4e341b2a815adb9d193ada3",
            "13f8409c5385425784f94a142e10420b",
            "dba233e0e63b42e1a170fda821594c68",
            "d3a5e3daee384e04b8e942929a88eff2",
            "398b5995f7ae4ceeaa52de144b8f3193",
            "ab6ede7fb2154463be5337d4f564f7f2",
            "38f9bd179a2849bfb71d1465ca20824a",
            "9f3939d521ba4e0f89afb6d56a1523bd",
            "313e99406ed249b9b73ea5d2969afed0",
            "62b8963743be4e6e9622e0587dbd2278",
            "8b02cb2cc6c54f998b4a54521f66b4cc",
            "cf46522f4129478393de5d5fb98aed8e",
            "845772c9a41f48ebb51aa15543e86987",
            "d70faa4f457e4c7d90fe068230e57ab0",
            "0c8a2f2067974be09505a4fe70047fa9",
            "83709b242e9b4a3a8e8510241e2725ed",
            "e1ca6f47676d477b9924331f71675206",
            "4e8d749ecdbb489ebf5caf90643e4147",
            "ac7cf6290dd344ba8649527e47f138ee",
            "6b314aff937e49c29875a8c24c713b18",
            "6ac71973937444a99ddec01ef6a396c8",
            "7eba36c7854d44209564df0b3b5671cf",
            "be53d293d8934b5088122699022f7eb3",
            "bca51809e1e941419d1d2bb6011b6d05",
            "f13cac01bd8a4a898f04412ccd3a28a1",
            "8eb656919f174528a47a90fa29b42585",
            "7807d757474a43d69cf12090a76f1b42",
            "87ea04530ec246e98791e6d169538555",
            "ac29f88280424cae986436b171a304bb",
            "e31245f8f129474da3a23be34306e173",
            "ee037df026d2481abf960c05274309e1",
            "71d8691721ba4ab2b16507178cb02fde",
            "7fa24b9f996e4aa497d57d463a1ea832",
            "14bd3ab05752407ea0aa8d58cbfae9e7",
            "c62f31bc06fa43a7b897eb3efc8d18f5",
            "244662d7f7814f4397f3de9007213538",
            "0df0099f6f2648a6a59444734f469ede",
            "aa8e927f91244ed1b8126fbb75b1ae56",
            "c21076aa3fc6497592e5ed314c609262",
            "0ed1ad38a1f44b4784aa77a978657df8",
            "35182a460a9f4cee93aa9f0aca7720ba",
            "147a42c12ad0415ab22aa89a4b65f973",
            "985c510cb04f4a4c9b09e0a48aeed71c",
            "1b38c48060fd4765a0ccec38dbe26d33",
            "6665dac4c2034d078dbc3e31d8888a79",
            "e566b185202d407e82927a6b5519b5fc",
            "3eee2853e2a149cd9f1e284165d88465",
            "24d713ef9b794557b7961827aa7bbe1b",
            "0ef41d45ef27495abf4207294c3b4406",
            "d45c7209e28a467fab42f1515271a7f5",
            "3bae5ca862e443919bc5ea6a5b422e74",
            "70c9f4a5241649919eb695b19e9345be",
            "013629c2b794448899be38b5ff23998e",
            "d9ad7555688e4eb190069a4d3942cf9c",
            "668eed14342344f38ba5362b3383ab81",
            "3f50cc79b83640f1aec9f4a6ed451032",
            "060676ac386b4641a591c96a1bb5196f",
            "738cb1be39f044a2b7c7c0f846065541",
            "b0e07b96532345b0a74d3d3f9d016f1b",
            "a904bfa7b3af49c2b0a21c6a2bbb0e4e",
            "ccd3d1c4220d4d80ad2208dcb82c4368",
            "e777ebb6a01645a687de6fef8b4059d8",
            "526dfaf0ef414065be36cb55b534046d",
            "c0f6e02c5ffd4b378dab8618b72aaef9",
            "dc80809335924f0187d5fc48d9dd3d6d",
            "2002c56436ad4ba1a27032ea4c3bdd4a",
            "f0c8347e49754b9a964912944f7af64a",
            "4045576901b245d48872bee796ae4723",
            "8d95ed6d9b8d453b9302b6aa07a452d9",
            "f9cfe4540f544f5ab8c5e24cd7f4042f",
            "de88515271b74ee4b537ff6d8a48c1fd",
            "1ae3332e871b40f18681ffc904c32543",
            "4edc5a9c418545559e7a3e2870274d9d",
            "2b92525c9be94a24b101ae579c41ba60",
            "36cf9c4b15b34971b38298339f54c11f",
            "56b2b7504b574bd6b5ed874c1bf9b7c6",
            "e9e440aca4ba4d299bf67f9a031c0b2e",
            "f7f2f0a25b484ce0a8754c6641f559d7",
            "1d0126bf3c9b48c8a34760af49f14365",
            "e1ba9444f05c48b1a0bd3968c99367bf",
            "82ddd1b766ec489f826a282c6284d6b5",
            "23f67cb670af4d048db3a0e7fdd7f8fb",
            "035316b02bfe4bbf81cf0683d6db270b",
            "b0d2226f3410408da2583fa117be38f8",
            "506e5221de184f39a4ba5c35357781cd",
            "84b5dc4314f748818fd21a850e7d8894",
            "7e199afce5b94375ac7f6fd6c0d2e989",
            "de14938fec6e4bdea86a5e7f4f541bf7",
            "9feb306b4346492dabeae640903653b6",
            "3eaab30dfb304fd48c41f9180b20600e",
            "8c17204d255c4c0c88471b94a6f3a650",
            "e0f0a4cac93a4a0eb3c84cb0a2cc64e4",
            "d61e1bf2789e41da8230bc5ff05a923c",
            "2e6d34378ae84c0ba7f11841b6774818",
            "d109c65cf8da4593ad2b9835102cb14e",
            "1f41d6c3eef0494b8c2e049f4f9d6930",
            "0afbcaa8357d4662b591de5b94437724",
            "045256c6ad234f2882a33927735afb39",
            "6ff542e599e841adb98d8162c9ce4483",
            "452acb6f05a4478b87283a2afb526d2b",
            "269b83fa5ae5450ebfb232d048486099",
            "93d9d8f68d314ae18330d12c8d582db3",
            "1e7ffb82ca7f41d496b78f50b1164c57",
            "19508c23a7394b1f8fc12756114d4702",
            "3541ce9a9b784044b4e1a79b7e3d6e36",
            "2923adf72fd54cef865472e35b17af52",
            "04eb7df5839b420c84cac82029a73f96",
            "939027ac829c4be396f72fe5fef0a7a6",
            "0ec7e4e9891d4438b5a33d056769208c",
            "4a0918d0dd7d4dd484e7f84d72e740f4",
            "8bd392c8de534a799077a6518ae30522",
            "25cd36d28c8b4ae1893667e32fc1ab53",
            "9dcc30b682714f56954dfdf1072870b4",
            "a3186a6e16474e36b15f5c4e19690ffc",
            "de596efd3384471cbd8120591ef61019",
            "c6190074f45c44138500072416559e9f",
            "feb83d91b4944bc39456eba89de39fbf",
            "1a50bd0ab6604fada672af2e21b8b19b",
            "8f982dc98c11497b9c0b707d33830206",
            "9fd20b656a2e4bcd98bfcfe99fbec3e4",
            "83e80bdca37c4886af378f3af9e9f181",
            "34e42b6e426c45e7aa1488bf9b5b9b00",
            "327c68cdf1eb40759ae9e2b3bcbdbddb",
            "07791bd79f024f5ea0a1d6b1ecd7a6dc",
            "efb5ec085e1141be8fba3ecf227b11d4",
            "9f4fe633ab7b47569611be1851e4bb72",
            "65609dd830a747978dc5544668ac6a13",
            "d64c45d1e90e4d13b4cd73b30a2e06f3",
            "6f754e390ec5482a8cf9afa7cda6427e",
            "a3ff492569164e2989b24b82057d7d5e",
            "985be4ecf8674b0ba6ad04efa54eebc8",
            "c01532bd5f5f4a748f2340b898b2da27",
            "ce70b1f2c38d40c5be492727a6a3c5f8",
            "f92ab21bec81445d9baa26772671fd04",
            "8b0d2dfba333460199b39dbff1447899",
            "2b80703e2e4d401198e1572d208142fc",
            "99a94bee4391445d90586d883d6ce855",
            "c350c1100bde4784a072402af401482b",
            "97c357276f254ff39ef8bea748419eb1",
            "5eb470f7a4ec4847b05e9d78b9e66588",
            "1e16d13a9f844191878b22b49a79d07b",
            "dd7bff02d4a745f4bdae1c40eb4246c7",
            "fec0c907736648958083bd39542138d0",
            "3629ed109ed741d2ba1c468cc815aea4",
            "1150ef972ac34488abb37ed0d31aa374",
            "7e0e00e06ade466c995f9245dcb1f17a",
            "9b81e12e56054170ad9cbf4dee745de6",
            "4f54c2a1a54644bfbe402212f4031c5a",
            "a7b0fcb5559e4891a0553044e2635ad7",
            "b042b0d4923341659e8c283fb2c7474e",
            "8734b33159e04e58b1894a661b685a1b",
            "69a204a968374e37b0823f5c2c30c5c1",
            "4ed8905e8225469e9751034a04a5196e",
            "b50c53891f7c4e3fbb5c6797e645ad0e",
            "bf7273fa70bf4a7fac91f660027a9d84",
            "b0f41b95b28e4a548f6cbcd852f1f010",
            "132f32fae0c64722a5b5c557942cc680",
            "3dd8b464e5b54dce883c7e6bd6c0b3da",
            "8ac8f4d34ff547bdb1269b899c2542b9",
            "533438223c8c4d44b505019bdfe8155e",
            "df2bf892318b4a9fa98c620ee0c05f67",
            "21f3ba61b1c54fbe88afa3ac4529bd1f",
            "d520be8b74e14b9d912b34438fe38edc",
            "25961a0ffb564296b4a45c4885b885bc",
            "e1e43a5af9264fe88b035e6b2730a418",
            "8941656ae6d744a9acadb006f6e526bc",
            "2d8919f3c97b4da7bfef4d5cab195619",
            "cf137e6ab7614514958ade7fee8354d7",
            "fe49a421dcd7403ab4988724f19a176a",
            "4ae7f2d65a32401586ccadb86d7f3b49",
            "c91a26f9830d409ab65b7e123f5bee90",
            "417ba9ea17bf469d960ba801f6121282",
            "ffa077af1b534a83a138c3cd4046742d",
            "666c96844fb44c819aa24b687bf4f8a4",
            "e05d94ae403845719b92bcd9f6ceda61",
            "2d333b44b3114738b6d39c043437398b",
            "05cc8421d04c4fd4a164e616ee140891",
            "4fe3e6cfca47477bac465b96c61e99ee",
            "765765cb178c4350b9ce1645ded2d2d5",
            "939656883c654f07897899e9c6b71a06",
            "820fb779281f48f5bb83b62b7e07f5de",
            "ade5395da8e94fb4ab3919a926afc5e1",
            "eb3da5dd6e2b4fb0bb542e57793319a6",
            "bd658ceab573450d8661e1be346e0fc3",
            "2c59030be9a146b4b07b5a1ac7d67dde",
            "edca261656d543758c61c9028b01932e",
            "dfc5a471b8ff4d24a45467bdf0f81eae",
            "bcc02ff8e6994b4b9e76bb2552474f2c",
            "7c73ebe19bd84c7d8d0db0a7dda71a87",
            "9761d15ac64b4fb797c03fceac45a1fd",
            "6bc3d8af00b84e34a1853e687e401f8a",
            "d88211b766494957923d6545ea39bdbd",
            "afbbe5927af54c0ca9273a1de98e4f8f",
            "4f05d2729c004a93a978c69a43b0b730",
            "c1875cd49b824453859b60e231fbe6ee",
            "65a7bf91e4ab4a2da076ce5dd113d73d",
            "c1155edaf6794e9b9413a77d1589f9b5",
            "691ed39c403c47408d5e6fadcbc66504",
            "6db4f2e42161453f8c5fc5ce0a349f82",
            "56c4f159cea74a4c94274748cb459bc9",
            "1212705216284d37ae5226f3463b12e2",
            "def37272073d42d3aef3700c5decbbb1",
            "8f7170a577f0489ea93f93518dce9457",
            "ea0e723dd0a544d0ac0d38f650e25115",
            "22b7b79254414c9388fd75cc9b4ed466",
            "2b0c34a53db54811aad5fc0900d3e019",
            "d189df5341974eb89c76f128c1502392",
            "b432ba6916354cf69845c4b1f90320c8",
            "4a3cbf67e14e42c4b88ed23c517f4311",
            "f46eef52af894373bac99eb8eaf851ba",
            "6ddc6e38aacd43498801e1b98eede94d",
            "9c35dd20eeba48e390dc925233612c48",
            "7574dfb38439489492111c32bed9bf00",
            "2695a791c4c24631aca4e7f6f497dfce",
            "2b52e00af85d42c589306c266bad5e9b",
            "566b50b415414d3f83dcfbf1a827cfd9",
            "8ab1a3a2a29645a1ba63e3c2ca5c588a",
            "6953d7bf6db1452e83fb15cb2858b6aa",
            "9bcc1a23639b4c54b61032eafc7d4773",
            "4cbcac663d4b49d498c14a0de460ccb6",
            "28aa34c885444de0a5d35a8e792a49dd",
            "ac5c497130954491a3c690d6ffffa78e",
            "0741a35fdcf4436582e06fe50352ba2e",
            "fb272669de874cfd9bea05a2813958dd",
            "584c65848bca48d08b872a658eb0a88f",
            "ab7a04e13a2a408c98df526005577284",
            "8bcd7e85c8a5492db62654a20060e719",
            "208d38df94314c4082f53c3d8f644e9d",
            "8d77dabfbf9448009bf682595ec264d5",
            "04a436c8eb0e4ffd9dbc1534f16ac945",
            "89c8b3df7c054739875664e5c30dd9d8",
            "baee31e9bf0146e496e361f9dd99fb23",
            "2a5ea0670b7445bfb453c76e543889b2",
            "59c4b0d2f71f445fa6801579f1b9c47b",
            "e88843f03ed542e087048899fce24a75",
            "5d6f616cf3ea482aa43af7650694e88f",
            "8ad69be066174c75ae79c37912dcabd6",
            "274275ba707f4f58a10ede3401093285",
            "6198c3db0f11407787264b0d659ec983",
            "ade3309de7834fe281b8a55139877b31",
            "2ba83a8d1ac847249565d7613b799c1d",
            "0ca5c199de4d4932857f6ca49dab6e16",
            "4f3c21f07e0c4d2c9407871a0d424dde",
            "48b6dd8f45db448e96745b69621a0b4e",
            "55acf9c7f1fc4d4e9328b1c6905786b4",
            "c84a01d55e644952ab198e67c59aa502",
            "693963b6ecf64d75858803c8bd13d0f6",
            "186230b85bc7474eba976296982be1bc",
            "566adbc2411c4e428969d45c8811feca",
            "daca71be70a146f08816c566707815d0",
            "fdde02ed9a624468af01fa1d5edfca54",
            "3d51a6e8084048b4bd5479137c1448d7",
            "eb54c2b7f3174e7d8180071f14fc6524",
            "bd2253b79efb4152a739b5b32266815a",
            "4b8ca9d1e7604688874e126a058c997c",
            "6934967ab4e742fc9a2bcec844ca039a",
            "3a5b2ea9393a4712839523e7ffc33841",
            "b2e95a04d92441cbb6d6ac8d94ad4f41",
            "552c9098ffd24f38b704dc407ecbda64",
            "67815eaf1bec4ac7b3767a469e89abdc",
            "5950d2001b8d4dc4833c5e50851b5ac2",
            "0a43ee88f96f4ef0ae7f772fee2219a4",
            "cbfde0d9c55f4d33bb8cc73c3e7a1c38",
            "e94d91df192a492eb612c72c5d576d8f",
            "1acd3239efa94d208627dc4ca35d7870",
            "f2980dc75c2a4952987ee04df1570c24",
            "91dfb5e9452d40f899362a5848b2a9a7",
            "dde383358fbd4809b91d7d0130fb11e3",
            "fff1253c79f440a2aa349ab6f09dbb49",
            "a7b5fd5700d2463a82f2f081756a4a9a",
            "f17a239478ff429bb920cf0ac5187e7b",
            "4e48a035de964b1fb84dfc8a7f519692",
            "f80aa03a202141d4adc5ce064ac4e963",
            "714794fd9ed24aed82e01a5a37b747cf",
            "db7063ce85944661af0d8f6f2eac01e5",
            "ceaadf0e940b43adbaa77a68fb11d119",
            "51eb869e005a4b74b0aa45870af7304d",
            "6bc85bd6c5ec45f3b9990a722f479d3c",
            "f024bd058ede4903b99bced7de1f27e1",
            "935bf461be1443c8861e96883d59b77b",
            "ef297ef3f9c54ec8a0f671cc6d7602f7",
            "a7426d06f27d41dc884896c0054df49b",
            "93bcf83195d64f53b87fcd3fa62ca371",
            "b3396ba7c4084e838913cf1ef5d49dcf",
            "e1dbdb5626474a8c932768843f6b219e",
            "3a34badc41f048cd81b592f70f119504",
            "3c1b9babf2824f54a09ec764d8fb002e",
            "951e3de6c87d42ea94a3cd456fbc7f05",
            "e59d5e6dd5fc4d3bb3a427ab55e73840",
            "cc2556d861e747f7bfafd39913419a09",
            "01aed7f6252d4f9a90a8def44076eb18",
            "eda7f73a34ab419abaade1f80135546a",
            "71e45a12f40f4b858b6bedc82862079b",
            "4bf17c5c243444d2bc3c98322fd3010e",
            "8554d2e6f13346e2b72dc6d284073122",
            "9876cc03a89f4d9db7637b25ecfb1aa3",
            "90aab86f0c9d4f35977fc71161761215",
            "52240c48dff9487693afd7a24d1eb47b",
            "6ba2ce6cebd24e7697c0fd7ee3d048ab",
            "bfda454ecc874ed6be3ff6cd484bd64d",
            "f297a10b1071400fb0395faf1bd20b88",
            "8a14f1f5a0ca45a893b6072073beb74b",
            "e23e48b72d7043d583bb355b96aa00ba",
            "0a9af84745cd4009a0cdad4a1de8cb6b",
            "49dd076011c24ecab00c21282a8f1059",
            "1b545317dd134bbfa3a1a78117bf108a",
            "f698e4fe47304a1d9bc0c3c174df7caa",
            "049d9307725a4a9eba206e42dd78d8a7",
            "0b4a322c0377487885e767fa5ef8d9ca",
            "cadb25ce6b9b4dc78d57a70a8f96a917",
            "98496b0fc82b4797b0033a49bb9227a0"
          ]
        },
        "outputId": "56b28c96-aa29-42ee-b4a3-ee14bc7c9ceb",
        "id": "MblAyc8i7AmS"
      },
      "execution_count": null,
      "outputs": [
        {
          "output_type": "stream",
          "name": "stdout",
          "text": [
            "l1 <function linear_beta_schedule at 0x7fbe2ef9e040>\n"
          ]
        },
        {
          "output_type": "display_data",
          "data": {
            "text/plain": [
              "  0%|          | 0/469 [00:00<?, ?batch/s]"
            ],
            "application/vnd.jupyter.widget-view+json": {
              "version_major": 2,
              "version_minor": 0,
              "model_id": "b30ae20c1f6d42dca40bcc82beed4866"
            }
          },
          "metadata": {}
        },
        {
          "output_type": "stream",
          "name": "stdout",
          "text": [
            "Epoch: 1, Loss: 0.2191\n"
          ]
        },
        {
          "output_type": "display_data",
          "data": {
            "text/plain": [
              "  0%|          | 0/469 [00:00<?, ?batch/s]"
            ],
            "application/vnd.jupyter.widget-view+json": {
              "version_major": 2,
              "version_minor": 0,
              "model_id": "5f1b485e2e0d412fbfa36cbb1be8ca77"
            }
          },
          "metadata": {}
        },
        {
          "output_type": "stream",
          "name": "stdout",
          "text": [
            "Epoch: 2, Loss: 0.0930\n"
          ]
        },
        {
          "output_type": "display_data",
          "data": {
            "text/plain": [
              "  0%|          | 0/469 [00:00<?, ?batch/s]"
            ],
            "application/vnd.jupyter.widget-view+json": {
              "version_major": 2,
              "version_minor": 0,
              "model_id": "d41c9fa9358c4f40bd4c505168aac4d7"
            }
          },
          "metadata": {}
        },
        {
          "output_type": "stream",
          "name": "stdout",
          "text": [
            "Epoch: 3, Loss: 0.0818\n"
          ]
        },
        {
          "output_type": "display_data",
          "data": {
            "text/plain": [
              "  0%|          | 0/469 [00:00<?, ?batch/s]"
            ],
            "application/vnd.jupyter.widget-view+json": {
              "version_major": 2,
              "version_minor": 0,
              "model_id": "98bfc4f892524fbc8688831e8e12d1e3"
            }
          },
          "metadata": {}
        },
        {
          "output_type": "stream",
          "name": "stdout",
          "text": [
            "Epoch: 4, Loss: 0.0757\n"
          ]
        },
        {
          "output_type": "display_data",
          "data": {
            "text/plain": [
              "  0%|          | 0/469 [00:00<?, ?batch/s]"
            ],
            "application/vnd.jupyter.widget-view+json": {
              "version_major": 2,
              "version_minor": 0,
              "model_id": "3257770a3269457c8e80333f2bc24ecf"
            }
          },
          "metadata": {}
        },
        {
          "output_type": "stream",
          "name": "stdout",
          "text": [
            "Epoch: 5, Loss: 0.0731\n"
          ]
        },
        {
          "output_type": "display_data",
          "data": {
            "text/plain": [
              "  0%|          | 0/469 [00:00<?, ?batch/s]"
            ],
            "application/vnd.jupyter.widget-view+json": {
              "version_major": 2,
              "version_minor": 0,
              "model_id": "2e7a074659ac47cab0c6ec34b9da6ce8"
            }
          },
          "metadata": {}
        },
        {
          "output_type": "stream",
          "name": "stdout",
          "text": [
            "Epoch: 6, Loss: 0.0711\n"
          ]
        },
        {
          "output_type": "display_data",
          "data": {
            "text/plain": [
              "  0%|          | 0/469 [00:00<?, ?batch/s]"
            ],
            "application/vnd.jupyter.widget-view+json": {
              "version_major": 2,
              "version_minor": 0,
              "model_id": "bc176094b7c84668a79af427e695ac08"
            }
          },
          "metadata": {}
        },
        {
          "output_type": "stream",
          "name": "stdout",
          "text": [
            "Epoch: 7, Loss: 0.0686\n"
          ]
        },
        {
          "output_type": "display_data",
          "data": {
            "text/plain": [
              "  0%|          | 0/469 [00:00<?, ?batch/s]"
            ],
            "application/vnd.jupyter.widget-view+json": {
              "version_major": 2,
              "version_minor": 0,
              "model_id": "d94033991c3c40c1bf7e995997f6dc51"
            }
          },
          "metadata": {}
        },
        {
          "output_type": "stream",
          "name": "stdout",
          "text": [
            "Epoch: 8, Loss: 0.0683\n"
          ]
        },
        {
          "output_type": "display_data",
          "data": {
            "text/plain": [
              "  0%|          | 0/469 [00:00<?, ?batch/s]"
            ],
            "application/vnd.jupyter.widget-view+json": {
              "version_major": 2,
              "version_minor": 0,
              "model_id": "c2586c4df2f442158a589fad904418b5"
            }
          },
          "metadata": {}
        },
        {
          "output_type": "stream",
          "name": "stdout",
          "text": [
            "Epoch: 9, Loss: 0.0672\n"
          ]
        },
        {
          "output_type": "display_data",
          "data": {
            "text/plain": [
              "  0%|          | 0/469 [00:00<?, ?batch/s]"
            ],
            "application/vnd.jupyter.widget-view+json": {
              "version_major": 2,
              "version_minor": 0,
              "model_id": "f3e7c41ca9cd44389b842fe9bb034bb1"
            }
          },
          "metadata": {}
        },
        {
          "output_type": "stream",
          "name": "stdout",
          "text": [
            "Epoch: 10, Loss: 0.0660\n"
          ]
        },
        {
          "output_type": "display_data",
          "data": {
            "text/plain": [
              "  0%|          | 0/469 [00:00<?, ?batch/s]"
            ],
            "application/vnd.jupyter.widget-view+json": {
              "version_major": 2,
              "version_minor": 0,
              "model_id": "3535130a55a54b90972c6a830c9795d4"
            }
          },
          "metadata": {}
        },
        {
          "output_type": "stream",
          "name": "stdout",
          "text": [
            "Epoch: 11, Loss: 0.0652\n"
          ]
        },
        {
          "output_type": "display_data",
          "data": {
            "text/plain": [
              "  0%|          | 0/469 [00:00<?, ?batch/s]"
            ],
            "application/vnd.jupyter.widget-view+json": {
              "version_major": 2,
              "version_minor": 0,
              "model_id": "73c7cf158eaf40cd8d6367618e2bc0fa"
            }
          },
          "metadata": {}
        },
        {
          "output_type": "stream",
          "name": "stdout",
          "text": [
            "Epoch: 12, Loss: 0.0655\n"
          ]
        },
        {
          "output_type": "display_data",
          "data": {
            "text/plain": [
              "  0%|          | 0/469 [00:00<?, ?batch/s]"
            ],
            "application/vnd.jupyter.widget-view+json": {
              "version_major": 2,
              "version_minor": 0,
              "model_id": "1d165f3d9bd34e25ae3baaa0d2ea16e3"
            }
          },
          "metadata": {}
        },
        {
          "output_type": "stream",
          "name": "stdout",
          "text": [
            "Epoch: 13, Loss: 0.0645\n"
          ]
        },
        {
          "output_type": "display_data",
          "data": {
            "text/plain": [
              "  0%|          | 0/469 [00:00<?, ?batch/s]"
            ],
            "application/vnd.jupyter.widget-view+json": {
              "version_major": 2,
              "version_minor": 0,
              "model_id": "6e32d7a823764dd38d7d6ee3f0fe3b45"
            }
          },
          "metadata": {}
        },
        {
          "output_type": "stream",
          "name": "stdout",
          "text": [
            "Epoch: 14, Loss: 0.0630\n"
          ]
        },
        {
          "output_type": "display_data",
          "data": {
            "text/plain": [
              "  0%|          | 0/469 [00:00<?, ?batch/s]"
            ],
            "application/vnd.jupyter.widget-view+json": {
              "version_major": 2,
              "version_minor": 0,
              "model_id": "4d360d7bf08944329696d671f23f0bf0"
            }
          },
          "metadata": {}
        },
        {
          "output_type": "stream",
          "name": "stdout",
          "text": [
            "Epoch: 15, Loss: 0.0623\n"
          ]
        },
        {
          "output_type": "display_data",
          "data": {
            "text/plain": [
              "<Figure size 432x288 with 1 Axes>"
            ],
            "image/png": "[encoded data removed]"
          },
          "metadata": {
            "needs_background": "light"
          }
        },
        {
          "output_type": "stream",
          "name": "stdout",
          "text": [
            "\n",
            " Evaluating...\n"
          ]
        },
        {
          "output_type": "display_data",
          "data": {
            "text/plain": [
              "sampling loop time step:   0%|          | 0/1000 [00:00<?, ?it/s]"
            ],
            "application/vnd.jupyter.widget-view+json": {
              "version_major": 2,
              "version_minor": 0,
              "model_id": "2ac894db117f4e0a9e6d1cd2a58034d3"
            }
          },
          "metadata": {}
        },
        {
          "output_type": "stream",
          "name": "stdout",
          "text": [
            "generated images IS_score:\n",
            "(3.3707254362007673, 0.0)\n",
            "\n",
            "\n",
            "\n",
            "\n",
            "l1 <function cosine_beta_schedule at 0x7fbe2ef8ad30>\n"
          ]
        },
        {
          "output_type": "display_data",
          "data": {
            "text/plain": [
              "  0%|          | 0/469 [00:00<?, ?batch/s]"
            ],
            "application/vnd.jupyter.widget-view+json": {
              "version_major": 2,
              "version_minor": 0,
              "model_id": "43b3c86a9c9348d7885992011323a902"
            }
          },
          "metadata": {}
        },
        {
          "output_type": "stream",
          "name": "stdout",
          "text": [
            "Epoch: 1, Loss: 0.2322\n"
          ]
        },
        {
          "output_type": "display_data",
          "data": {
            "text/plain": [
              "  0%|          | 0/469 [00:00<?, ?batch/s]"
            ],
            "application/vnd.jupyter.widget-view+json": {
              "version_major": 2,
              "version_minor": 0,
              "model_id": "80f05e9f668042ccbfd28ba5dfb4ff38"
            }
          },
          "metadata": {}
        },
        {
          "output_type": "stream",
          "name": "stdout",
          "text": [
            "Epoch: 2, Loss: 0.1292\n"
          ]
        },
        {
          "output_type": "display_data",
          "data": {
            "text/plain": [
              "  0%|          | 0/469 [00:00<?, ?batch/s]"
            ],
            "application/vnd.jupyter.widget-view+json": {
              "version_major": 2,
              "version_minor": 0,
              "model_id": "c710fab5515a41c2a6b44c57fb2ad0f5"
            }
          },
          "metadata": {}
        },
        {
          "output_type": "stream",
          "name": "stdout",
          "text": [
            "Epoch: 3, Loss: 0.1189\n"
          ]
        },
        {
          "output_type": "display_data",
          "data": {
            "text/plain": [
              "  0%|          | 0/469 [00:00<?, ?batch/s]"
            ],
            "application/vnd.jupyter.widget-view+json": {
              "version_major": 2,
              "version_minor": 0,
              "model_id": "d4f7e34ad2ce4d7487b63eacab0c4afa"
            }
          },
          "metadata": {}
        },
        {
          "output_type": "stream",
          "name": "stdout",
          "text": [
            "Epoch: 4, Loss: 0.1126\n"
          ]
        },
        {
          "output_type": "display_data",
          "data": {
            "text/plain": [
              "  0%|          | 0/469 [00:00<?, ?batch/s]"
            ],
            "application/vnd.jupyter.widget-view+json": {
              "version_major": 2,
              "version_minor": 0,
              "model_id": "f0a1fc00f83649d0bbcb07feadfd8306"
            }
          },
          "metadata": {}
        },
        {
          "output_type": "stream",
          "name": "stdout",
          "text": [
            "Epoch: 5, Loss: 0.1089\n"
          ]
        },
        {
          "output_type": "display_data",
          "data": {
            "text/plain": [
              "  0%|          | 0/469 [00:00<?, ?batch/s]"
            ],
            "application/vnd.jupyter.widget-view+json": {
              "version_major": 2,
              "version_minor": 0,
              "model_id": "c1a4f0e4f88547508be708c172b4f89b"
            }
          },
          "metadata": {}
        },
        {
          "output_type": "stream",
          "name": "stdout",
          "text": [
            "Epoch: 6, Loss: 0.1070\n"
          ]
        },
        {
          "output_type": "display_data",
          "data": {
            "text/plain": [
              "  0%|          | 0/469 [00:00<?, ?batch/s]"
            ],
            "application/vnd.jupyter.widget-view+json": {
              "version_major": 2,
              "version_minor": 0,
              "model_id": "c8a8dee2b3c74834aa1a14037ae5143f"
            }
          },
          "metadata": {}
        },
        {
          "output_type": "stream",
          "name": "stdout",
          "text": [
            "Epoch: 7, Loss: 0.1042\n"
          ]
        },
        {
          "output_type": "display_data",
          "data": {
            "text/plain": [
              "  0%|          | 0/469 [00:00<?, ?batch/s]"
            ],
            "application/vnd.jupyter.widget-view+json": {
              "version_major": 2,
              "version_minor": 0,
              "model_id": "de6e8c70158042638e0a754ab2a5bd82"
            }
          },
          "metadata": {}
        },
        {
          "output_type": "stream",
          "name": "stdout",
          "text": [
            "Epoch: 8, Loss: 0.1018\n"
          ]
        },
        {
          "output_type": "display_data",
          "data": {
            "text/plain": [
              "  0%|          | 0/469 [00:00<?, ?batch/s]"
            ],
            "application/vnd.jupyter.widget-view+json": {
              "version_major": 2,
              "version_minor": 0,
              "model_id": "b7812399018646409d043c602f54421f"
            }
          },
          "metadata": {}
        },
        {
          "output_type": "stream",
          "name": "stdout",
          "text": [
            "Epoch: 9, Loss: 0.1012\n"
          ]
        },
        {
          "output_type": "display_data",
          "data": {
            "text/plain": [
              "  0%|          | 0/469 [00:00<?, ?batch/s]"
            ],
            "application/vnd.jupyter.widget-view+json": {
              "version_major": 2,
              "version_minor": 0,
              "model_id": "be175b8bf5084b9c9f0e4b1b9bd581b9"
            }
          },
          "metadata": {}
        },
        {
          "output_type": "stream",
          "name": "stdout",
          "text": [
            "Epoch: 10, Loss: 0.1005\n"
          ]
        },
        {
          "output_type": "display_data",
          "data": {
            "text/plain": [
              "  0%|          | 0/469 [00:00<?, ?batch/s]"
            ],
            "application/vnd.jupyter.widget-view+json": {
              "version_major": 2,
              "version_minor": 0,
              "model_id": "bd5a42b31773442bb9d8837a9670f26b"
            }
          },
          "metadata": {}
        },
        {
          "output_type": "stream",
          "name": "stdout",
          "text": [
            "Epoch: 11, Loss: 0.0993\n"
          ]
        },
        {
          "output_type": "display_data",
          "data": {
            "text/plain": [
              "  0%|          | 0/469 [00:00<?, ?batch/s]"
            ],
            "application/vnd.jupyter.widget-view+json": {
              "version_major": 2,
              "version_minor": 0,
              "model_id": "d42f5e8a886241bc872e5a6ec44fc64d"
            }
          },
          "metadata": {}
        },
        {
          "output_type": "stream",
          "name": "stdout",
          "text": [
            "Epoch: 12, Loss: 0.0977\n"
          ]
        },
        {
          "output_type": "display_data",
          "data": {
            "text/plain": [
              "  0%|          | 0/469 [00:00<?, ?batch/s]"
            ],
            "application/vnd.jupyter.widget-view+json": {
              "version_major": 2,
              "version_minor": 0,
              "model_id": "fd5e5c71ce2841ba8e417a1bae623c7d"
            }
          },
          "metadata": {}
        },
        {
          "output_type": "stream",
          "name": "stdout",
          "text": [
            "Epoch: 13, Loss: 0.0971\n"
          ]
        },
        {
          "output_type": "display_data",
          "data": {
            "text/plain": [
              "  0%|          | 0/469 [00:00<?, ?batch/s]"
            ],
            "application/vnd.jupyter.widget-view+json": {
              "version_major": 2,
              "version_minor": 0,
              "model_id": "4a61b569058546e28b37309173e918a7"
            }
          },
          "metadata": {}
        },
        {
          "output_type": "stream",
          "name": "stdout",
          "text": [
            "Epoch: 14, Loss: 0.0965\n"
          ]
        },
        {
          "output_type": "display_data",
          "data": {
            "text/plain": [
              "  0%|          | 0/469 [00:00<?, ?batch/s]"
            ],
            "application/vnd.jupyter.widget-view+json": {
              "version_major": 2,
              "version_minor": 0,
              "model_id": "97de4e496b3044e0baa7b0e6972e17d4"
            }
          },
          "metadata": {}
        },
        {
          "output_type": "stream",
          "name": "stdout",
          "text": [
            "Epoch: 15, Loss: 0.0958\n"
          ]
        },
        {
          "output_type": "display_data",
          "data": {
            "text/plain": [
              "<Figure size 432x288 with 1 Axes>"
            ],
            "image/png": "[encoded data removed]"
          },
          "metadata": {
            "needs_background": "light"
          }
        },
        {
          "output_type": "stream",
          "name": "stdout",
          "text": [
            "\n",
            " Evaluating...\n"
          ]
        },
        {
          "output_type": "display_data",
          "data": {
            "text/plain": [
              "sampling loop time step:   0%|          | 0/1000 [00:00<?, ?it/s]"
            ],
            "application/vnd.jupyter.widget-view+json": {
              "version_major": 2,
              "version_minor": 0,
              "model_id": "7ed137a4023b4ecdb001cfb8017f3346"
            }
          },
          "metadata": {}
        },
        {
          "output_type": "stream",
          "name": "stdout",
          "text": [
            "generated images IS_score:\n",
            "(1.6140068170795925, 0.0)\n",
            "\n",
            "\n",
            "\n",
            "\n",
            "l1 <function quadratic_beta_schedule at 0x7fbe2ef9e4c0>\n"
          ]
        },
        {
          "output_type": "display_data",
          "data": {
            "text/plain": [
              "  0%|          | 0/469 [00:00<?, ?batch/s]"
            ],
            "application/vnd.jupyter.widget-view+json": {
              "version_major": 2,
              "version_minor": 0,
              "model_id": "96695bb867db4d21b173d3961e3aa9a5"
            }
          },
          "metadata": {}
        },
        {
          "output_type": "stream",
          "name": "stdout",
          "text": [
            "Epoch: 1, Loss: 0.2299\n"
          ]
        },
        {
          "output_type": "display_data",
          "data": {
            "text/plain": [
              "  0%|          | 0/469 [00:00<?, ?batch/s]"
            ],
            "application/vnd.jupyter.widget-view+json": {
              "version_major": 2,
              "version_minor": 0,
              "model_id": "864be6c88d4a4a9897e51be729c4b57c"
            }
          },
          "metadata": {}
        },
        {
          "output_type": "stream",
          "name": "stdout",
          "text": [
            "Epoch: 2, Loss: 0.1214\n"
          ]
        },
        {
          "output_type": "display_data",
          "data": {
            "text/plain": [
              "  0%|          | 0/469 [00:00<?, ?batch/s]"
            ],
            "application/vnd.jupyter.widget-view+json": {
              "version_major": 2,
              "version_minor": 0,
              "model_id": "3a5271e811cf4a0f833d9e142ef1b25d"
            }
          },
          "metadata": {}
        },
        {
          "output_type": "stream",
          "name": "stdout",
          "text": [
            "Epoch: 3, Loss: 0.1105\n"
          ]
        },
        {
          "output_type": "display_data",
          "data": {
            "text/plain": [
              "  0%|          | 0/469 [00:00<?, ?batch/s]"
            ],
            "application/vnd.jupyter.widget-view+json": {
              "version_major": 2,
              "version_minor": 0,
              "model_id": "4b9cc60f123e4032a42b92258d4178cf"
            }
          },
          "metadata": {}
        },
        {
          "output_type": "stream",
          "name": "stdout",
          "text": [
            "Epoch: 4, Loss: 0.1045\n"
          ]
        },
        {
          "output_type": "display_data",
          "data": {
            "text/plain": [
              "  0%|          | 0/469 [00:00<?, ?batch/s]"
            ],
            "application/vnd.jupyter.widget-view+json": {
              "version_major": 2,
              "version_minor": 0,
              "model_id": "3f89e2b783364b7b967674425a039f74"
            }
          },
          "metadata": {}
        },
        {
          "output_type": "stream",
          "name": "stdout",
          "text": [
            "Epoch: 5, Loss: 0.1009\n"
          ]
        },
        {
          "output_type": "display_data",
          "data": {
            "text/plain": [
              "  0%|          | 0/469 [00:00<?, ?batch/s]"
            ],
            "application/vnd.jupyter.widget-view+json": {
              "version_major": 2,
              "version_minor": 0,
              "model_id": "db867f1dbc3c42c09fc8dfeb10ada815"
            }
          },
          "metadata": {}
        },
        {
          "output_type": "stream",
          "name": "stdout",
          "text": [
            "Epoch: 6, Loss: 0.0986\n"
          ]
        },
        {
          "output_type": "display_data",
          "data": {
            "text/plain": [
              "  0%|          | 0/469 [00:00<?, ?batch/s]"
            ],
            "application/vnd.jupyter.widget-view+json": {
              "version_major": 2,
              "version_minor": 0,
              "model_id": "49d76ad262f04733a24dccaff5f309ec"
            }
          },
          "metadata": {}
        },
        {
          "output_type": "stream",
          "name": "stdout",
          "text": [
            "Epoch: 7, Loss: 0.0969\n"
          ]
        },
        {
          "output_type": "display_data",
          "data": {
            "text/plain": [
              "  0%|          | 0/469 [00:00<?, ?batch/s]"
            ],
            "application/vnd.jupyter.widget-view+json": {
              "version_major": 2,
              "version_minor": 0,
              "model_id": "6adb3833143f474bae7506f0531eed1c"
            }
          },
          "metadata": {}
        },
        {
          "output_type": "stream",
          "name": "stdout",
          "text": [
            "Epoch: 8, Loss: 0.0942\n"
          ]
        },
        {
          "output_type": "display_data",
          "data": {
            "text/plain": [
              "  0%|          | 0/469 [00:00<?, ?batch/s]"
            ],
            "application/vnd.jupyter.widget-view+json": {
              "version_major": 2,
              "version_minor": 0,
              "model_id": "ea26b49c4ccf40ec93e51a0d5897df91"
            }
          },
          "metadata": {}
        },
        {
          "output_type": "stream",
          "name": "stdout",
          "text": [
            "Epoch: 9, Loss: 0.0936\n"
          ]
        },
        {
          "output_type": "display_data",
          "data": {
            "text/plain": [
              "  0%|          | 0/469 [00:00<?, ?batch/s]"
            ],
            "application/vnd.jupyter.widget-view+json": {
              "version_major": 2,
              "version_minor": 0,
              "model_id": "c0c57fc8bcec48c4a0225c1fde7e7c0d"
            }
          },
          "metadata": {}
        },
        {
          "output_type": "stream",
          "name": "stdout",
          "text": [
            "Epoch: 10, Loss: 0.0916\n"
          ]
        },
        {
          "output_type": "display_data",
          "data": {
            "text/plain": [
              "  0%|          | 0/469 [00:00<?, ?batch/s]"
            ],
            "application/vnd.jupyter.widget-view+json": {
              "version_major": 2,
              "version_minor": 0,
              "model_id": "20d53f8be7144892ba351b702776125b"
            }
          },
          "metadata": {}
        },
        {
          "output_type": "stream",
          "name": "stdout",
          "text": [
            "Epoch: 11, Loss: 0.0906\n"
          ]
        },
        {
          "output_type": "display_data",
          "data": {
            "text/plain": [
              "  0%|          | 0/469 [00:00<?, ?batch/s]"
            ],
            "application/vnd.jupyter.widget-view+json": {
              "version_major": 2,
              "version_minor": 0,
              "model_id": "262dbbe16db745f5b434198bd3249b32"
            }
          },
          "metadata": {}
        },
        {
          "output_type": "stream",
          "name": "stdout",
          "text": [
            "Epoch: 12, Loss: 0.0897\n"
          ]
        },
        {
          "output_type": "display_data",
          "data": {
            "text/plain": [
              "  0%|          | 0/469 [00:00<?, ?batch/s]"
            ],
            "application/vnd.jupyter.widget-view+json": {
              "version_major": 2,
              "version_minor": 0,
              "model_id": "7ff932581fb64b4082fd2882c85989fa"
            }
          },
          "metadata": {}
        },
        {
          "output_type": "stream",
          "name": "stdout",
          "text": [
            "Epoch: 13, Loss: 0.0888\n"
          ]
        },
        {
          "output_type": "display_data",
          "data": {
            "text/plain": [
              "  0%|          | 0/469 [00:00<?, ?batch/s]"
            ],
            "application/vnd.jupyter.widget-view+json": {
              "version_major": 2,
              "version_minor": 0,
              "model_id": "ca06a0ec926348c2ad3b3abc766dae7c"
            }
          },
          "metadata": {}
        },
        {
          "output_type": "stream",
          "name": "stdout",
          "text": [
            "Epoch: 14, Loss: 0.0887\n"
          ]
        },
        {
          "output_type": "display_data",
          "data": {
            "text/plain": [
              "  0%|          | 0/469 [00:00<?, ?batch/s]"
            ],
            "application/vnd.jupyter.widget-view+json": {
              "version_major": 2,
              "version_minor": 0,
              "model_id": "eff8214d5f724a769c2acaeb2ba64fd8"
            }
          },
          "metadata": {}
        },
        {
          "output_type": "stream",
          "name": "stdout",
          "text": [
            "Epoch: 15, Loss: 0.0876\n"
          ]
        },
        {
          "output_type": "display_data",
          "data": {
            "text/plain": [
              "<Figure size 432x288 with 1 Axes>"
            ],
            "image/png": "[encoded data removed]"
          },
          "metadata": {
            "needs_background": "light"
          }
        },
        {
          "output_type": "stream",
          "name": "stdout",
          "text": [
            "\n",
            " Evaluating...\n"
          ]
        },
        {
          "output_type": "display_data",
          "data": {
            "text/plain": [
              "sampling loop time step:   0%|          | 0/1000 [00:00<?, ?it/s]"
            ],
            "application/vnd.jupyter.widget-view+json": {
              "version_major": 2,
              "version_minor": 0,
              "model_id": "9d4f3bc02e204faa8ae8cb3c15b9f615"
            }
          },
          "metadata": {}
        },
        {
          "output_type": "stream",
          "name": "stdout",
          "text": [
            "generated images IS_score:\n",
            "(3.6521086731110204, 0.0)\n",
            "\n",
            "\n",
            "\n",
            "\n",
            "l1 <function sigmoid_beta_schedule at 0x7fbe2ef9ef70>\n"
          ]
        },
        {
          "output_type": "display_data",
          "data": {
            "text/plain": [
              "  0%|          | 0/469 [00:00<?, ?batch/s]"
            ],
            "application/vnd.jupyter.widget-view+json": {
              "version_major": 2,
              "version_minor": 0,
              "model_id": "b94c8716a76f415ab15364e9854bc967"
            }
          },
          "metadata": {}
        },
        {
          "output_type": "stream",
          "name": "stdout",
          "text": [
            "Epoch: 1, Loss: 0.2339\n"
          ]
        },
        {
          "output_type": "display_data",
          "data": {
            "text/plain": [
              "  0%|          | 0/469 [00:00<?, ?batch/s]"
            ],
            "application/vnd.jupyter.widget-view+json": {
              "version_major": 2,
              "version_minor": 0,
              "model_id": "1d6998201e2b4bf180a5dba335aaa669"
            }
          },
          "metadata": {}
        },
        {
          "output_type": "stream",
          "name": "stdout",
          "text": [
            "Epoch: 2, Loss: 0.1246\n"
          ]
        },
        {
          "output_type": "display_data",
          "data": {
            "text/plain": [
              "  0%|          | 0/469 [00:00<?, ?batch/s]"
            ],
            "application/vnd.jupyter.widget-view+json": {
              "version_major": 2,
              "version_minor": 0,
              "model_id": "72f6c5f09b8e4b688f7070461162e221"
            }
          },
          "metadata": {}
        },
        {
          "output_type": "stream",
          "name": "stdout",
          "text": [
            "Epoch: 3, Loss: 0.1124\n"
          ]
        },
        {
          "output_type": "display_data",
          "data": {
            "text/plain": [
              "  0%|          | 0/469 [00:00<?, ?batch/s]"
            ],
            "application/vnd.jupyter.widget-view+json": {
              "version_major": 2,
              "version_minor": 0,
              "model_id": "c7fbb4530b274c90aca014620a28c80f"
            }
          },
          "metadata": {}
        },
        {
          "output_type": "stream",
          "name": "stdout",
          "text": [
            "Epoch: 4, Loss: 0.1064\n"
          ]
        },
        {
          "output_type": "display_data",
          "data": {
            "text/plain": [
              "  0%|          | 0/469 [00:00<?, ?batch/s]"
            ],
            "application/vnd.jupyter.widget-view+json": {
              "version_major": 2,
              "version_minor": 0,
              "model_id": "b0818f19431c49eb8cccf1da40926c32"
            }
          },
          "metadata": {}
        },
        {
          "output_type": "stream",
          "name": "stdout",
          "text": [
            "Epoch: 5, Loss: 0.1012\n"
          ]
        },
        {
          "output_type": "display_data",
          "data": {
            "text/plain": [
              "  0%|          | 0/469 [00:00<?, ?batch/s]"
            ],
            "application/vnd.jupyter.widget-view+json": {
              "version_major": 2,
              "version_minor": 0,
              "model_id": "8416ef2662f14b60b61634beb344c443"
            }
          },
          "metadata": {}
        },
        {
          "output_type": "stream",
          "name": "stdout",
          "text": [
            "Epoch: 6, Loss: 0.0987\n"
          ]
        },
        {
          "output_type": "display_data",
          "data": {
            "text/plain": [
              "  0%|          | 0/469 [00:00<?, ?batch/s]"
            ],
            "application/vnd.jupyter.widget-view+json": {
              "version_major": 2,
              "version_minor": 0,
              "model_id": "19cbee629fd84345bc967e36be5f2663"
            }
          },
          "metadata": {}
        },
        {
          "output_type": "stream",
          "name": "stdout",
          "text": [
            "Epoch: 7, Loss: 0.0970\n"
          ]
        },
        {
          "output_type": "display_data",
          "data": {
            "text/plain": [
              "  0%|          | 0/469 [00:00<?, ?batch/s]"
            ],
            "application/vnd.jupyter.widget-view+json": {
              "version_major": 2,
              "version_minor": 0,
              "model_id": "0dfae61277694323af91817276daa4be"
            }
          },
          "metadata": {}
        },
        {
          "output_type": "stream",
          "name": "stdout",
          "text": [
            "Epoch: 8, Loss: 0.0944\n"
          ]
        },
        {
          "output_type": "display_data",
          "data": {
            "text/plain": [
              "  0%|          | 0/469 [00:00<?, ?batch/s]"
            ],
            "application/vnd.jupyter.widget-view+json": {
              "version_major": 2,
              "version_minor": 0,
              "model_id": "6aece647e0fc45db96ebddc2a19dacf2"
            }
          },
          "metadata": {}
        },
        {
          "output_type": "stream",
          "name": "stdout",
          "text": [
            "Epoch: 9, Loss: 0.0939\n"
          ]
        },
        {
          "output_type": "display_data",
          "data": {
            "text/plain": [
              "  0%|          | 0/469 [00:00<?, ?batch/s]"
            ],
            "application/vnd.jupyter.widget-view+json": {
              "version_major": 2,
              "version_minor": 0,
              "model_id": "c8aad174406e4578b5ba4ce22199c607"
            }
          },
          "metadata": {}
        },
        {
          "output_type": "stream",
          "name": "stdout",
          "text": [
            "Epoch: 10, Loss: 0.0920\n"
          ]
        },
        {
          "output_type": "display_data",
          "data": {
            "text/plain": [
              "  0%|          | 0/469 [00:00<?, ?batch/s]"
            ],
            "application/vnd.jupyter.widget-view+json": {
              "version_major": 2,
              "version_minor": 0,
              "model_id": "1aa5e74067a24aa686c0c5f510f57080"
            }
          },
          "metadata": {}
        },
        {
          "output_type": "stream",
          "name": "stdout",
          "text": [
            "Epoch: 11, Loss: 0.0909\n"
          ]
        },
        {
          "output_type": "display_data",
          "data": {
            "text/plain": [
              "  0%|          | 0/469 [00:00<?, ?batch/s]"
            ],
            "application/vnd.jupyter.widget-view+json": {
              "version_major": 2,
              "version_minor": 0,
              "model_id": "d9783cdab7cf43eab540f03eee74d299"
            }
          },
          "metadata": {}
        },
        {
          "output_type": "stream",
          "name": "stdout",
          "text": [
            "Epoch: 12, Loss: 0.0905\n"
          ]
        },
        {
          "output_type": "display_data",
          "data": {
            "text/plain": [
              "  0%|          | 0/469 [00:00<?, ?batch/s]"
            ],
            "application/vnd.jupyter.widget-view+json": {
              "version_major": 2,
              "version_minor": 0,
              "model_id": "b23362499d344228ba82288d49f148b9"
            }
          },
          "metadata": {}
        },
        {
          "output_type": "stream",
          "name": "stdout",
          "text": [
            "Epoch: 13, Loss: 0.0897\n"
          ]
        },
        {
          "output_type": "display_data",
          "data": {
            "text/plain": [
              "  0%|          | 0/469 [00:00<?, ?batch/s]"
            ],
            "application/vnd.jupyter.widget-view+json": {
              "version_major": 2,
              "version_minor": 0,
              "model_id": "71b61f66c6db4a7ca3a86d53a235174a"
            }
          },
          "metadata": {}
        },
        {
          "output_type": "stream",
          "name": "stdout",
          "text": [
            "Epoch: 14, Loss: 0.0885\n"
          ]
        },
        {
          "output_type": "display_data",
          "data": {
            "text/plain": [
              "  0%|          | 0/469 [00:00<?, ?batch/s]"
            ],
            "application/vnd.jupyter.widget-view+json": {
              "version_major": 2,
              "version_minor": 0,
              "model_id": "b422d24acb18495a81247646f34e340a"
            }
          },
          "metadata": {}
        },
        {
          "output_type": "stream",
          "name": "stdout",
          "text": [
            "Epoch: 15, Loss: 0.0878\n"
          ]
        },
        {
          "output_type": "display_data",
          "data": {
            "text/plain": [
              "<Figure size 432x288 with 1 Axes>"
            ],
            "image/png": "[encoded data removed]"
          },
          "metadata": {
            "needs_background": "light"
          }
        },
        {
          "output_type": "stream",
          "name": "stdout",
          "text": [
            "\n",
            " Evaluating...\n"
          ]
        },
        {
          "output_type": "display_data",
          "data": {
            "text/plain": [
              "sampling loop time step:   0%|          | 0/1000 [00:00<?, ?it/s]"
            ],
            "application/vnd.jupyter.widget-view+json": {
              "version_major": 2,
              "version_minor": 0,
              "model_id": "c1561c576e674bd28f7119f03845a49d"
            }
          },
          "metadata": {}
        },
        {
          "output_type": "stream",
          "name": "stdout",
          "text": [
            "generated images IS_score:\n",
            "(3.3040410334045105, 0.0)\n",
            "\n",
            "\n",
            "\n",
            "\n",
            "l2 <function linear_beta_schedule at 0x7fbe2ef9e040>\n"
          ]
        },
        {
          "output_type": "display_data",
          "data": {
            "text/plain": [
              "  0%|          | 0/469 [00:00<?, ?batch/s]"
            ],
            "application/vnd.jupyter.widget-view+json": {
              "version_major": 2,
              "version_minor": 0,
              "model_id": "975907508f064f8ba7ea26c6d4711e2e"
            }
          },
          "metadata": {}
        },
        {
          "output_type": "stream",
          "name": "stdout",
          "text": [
            "Epoch: 1, Loss: 0.1655\n"
          ]
        },
        {
          "output_type": "display_data",
          "data": {
            "text/plain": [
              "  0%|          | 0/469 [00:00<?, ?batch/s]"
            ],
            "application/vnd.jupyter.widget-view+json": {
              "version_major": 2,
              "version_minor": 0,
              "model_id": "f68b7278da4e414d9146e893bd348d58"
            }
          },
          "metadata": {}
        },
        {
          "output_type": "stream",
          "name": "stdout",
          "text": [
            "Epoch: 2, Loss: 0.0419\n"
          ]
        },
        {
          "output_type": "display_data",
          "data": {
            "text/plain": [
              "  0%|          | 0/469 [00:00<?, ?batch/s]"
            ],
            "application/vnd.jupyter.widget-view+json": {
              "version_major": 2,
              "version_minor": 0,
              "model_id": "51ed288a5af2479cb0eca00d7cb8f4f6"
            }
          },
          "metadata": {}
        },
        {
          "output_type": "stream",
          "name": "stdout",
          "text": [
            "Epoch: 3, Loss: 0.0362\n"
          ]
        },
        {
          "output_type": "display_data",
          "data": {
            "text/plain": [
              "  0%|          | 0/469 [00:00<?, ?batch/s]"
            ],
            "application/vnd.jupyter.widget-view+json": {
              "version_major": 2,
              "version_minor": 0,
              "model_id": "fc65c00848984cc1a0dc6aa9499f2345"
            }
          },
          "metadata": {}
        },
        {
          "output_type": "stream",
          "name": "stdout",
          "text": [
            "Epoch: 4, Loss: 0.0325\n"
          ]
        },
        {
          "output_type": "display_data",
          "data": {
            "text/plain": [
              "  0%|          | 0/469 [00:00<?, ?batch/s]"
            ],
            "application/vnd.jupyter.widget-view+json": {
              "version_major": 2,
              "version_minor": 0,
              "model_id": "ac226bed70d1492099750b0f09df09d8"
            }
          },
          "metadata": {}
        },
        {
          "output_type": "stream",
          "name": "stdout",
          "text": [
            "Epoch: 5, Loss: 0.0299\n"
          ]
        },
        {
          "output_type": "display_data",
          "data": {
            "text/plain": [
              "  0%|          | 0/469 [00:00<?, ?batch/s]"
            ],
            "application/vnd.jupyter.widget-view+json": {
              "version_major": 2,
              "version_minor": 0,
              "model_id": "d96f21cf104e4991b78176e11ed8beab"
            }
          },
          "metadata": {}
        },
        {
          "output_type": "stream",
          "name": "stdout",
          "text": [
            "Epoch: 6, Loss: 0.0282\n"
          ]
        },
        {
          "output_type": "display_data",
          "data": {
            "text/plain": [
              "  0%|          | 0/469 [00:00<?, ?batch/s]"
            ],
            "application/vnd.jupyter.widget-view+json": {
              "version_major": 2,
              "version_minor": 0,
              "model_id": "22c76344ea0148519a31f0237061545a"
            }
          },
          "metadata": {}
        },
        {
          "output_type": "stream",
          "name": "stdout",
          "text": [
            "Epoch: 7, Loss: 0.0271\n"
          ]
        },
        {
          "output_type": "display_data",
          "data": {
            "text/plain": [
              "  0%|          | 0/469 [00:00<?, ?batch/s]"
            ],
            "application/vnd.jupyter.widget-view+json": {
              "version_major": 2,
              "version_minor": 0,
              "model_id": "bc5e817717f043c4acf0a2077bb233e1"
            }
          },
          "metadata": {}
        },
        {
          "output_type": "stream",
          "name": "stdout",
          "text": [
            "Epoch: 8, Loss: 0.0271\n"
          ]
        },
        {
          "output_type": "display_data",
          "data": {
            "text/plain": [
              "  0%|          | 0/469 [00:00<?, ?batch/s]"
            ],
            "application/vnd.jupyter.widget-view+json": {
              "version_major": 2,
              "version_minor": 0,
              "model_id": "dbaec098c4d149348b9a92d039eac1f8"
            }
          },
          "metadata": {}
        },
        {
          "output_type": "stream",
          "name": "stdout",
          "text": [
            "Epoch: 9, Loss: 0.0264\n"
          ]
        },
        {
          "output_type": "display_data",
          "data": {
            "text/plain": [
              "  0%|          | 0/469 [00:00<?, ?batch/s]"
            ],
            "application/vnd.jupyter.widget-view+json": {
              "version_major": 2,
              "version_minor": 0,
              "model_id": "ebeefc926790452a919f59ff45769c6b"
            }
          },
          "metadata": {}
        },
        {
          "output_type": "stream",
          "name": "stdout",
          "text": [
            "Epoch: 10, Loss: 0.0257\n"
          ]
        },
        {
          "output_type": "display_data",
          "data": {
            "text/plain": [
              "  0%|          | 0/469 [00:00<?, ?batch/s]"
            ],
            "application/vnd.jupyter.widget-view+json": {
              "version_major": 2,
              "version_minor": 0,
              "model_id": "9be256d74df34e6d9ce362f7e3ce5509"
            }
          },
          "metadata": {}
        },
        {
          "output_type": "stream",
          "name": "stdout",
          "text": [
            "Epoch: 11, Loss: 0.0259\n"
          ]
        },
        {
          "output_type": "display_data",
          "data": {
            "text/plain": [
              "  0%|          | 0/469 [00:00<?, ?batch/s]"
            ],
            "application/vnd.jupyter.widget-view+json": {
              "version_major": 2,
              "version_minor": 0,
              "model_id": "406649f830fa441c95c257a39c27fac4"
            }
          },
          "metadata": {}
        },
        {
          "output_type": "stream",
          "name": "stdout",
          "text": [
            "Epoch: 12, Loss: 0.0254\n"
          ]
        },
        {
          "output_type": "display_data",
          "data": {
            "text/plain": [
              "  0%|          | 0/469 [00:00<?, ?batch/s]"
            ],
            "application/vnd.jupyter.widget-view+json": {
              "version_major": 2,
              "version_minor": 0,
              "model_id": "56d97fa00f5e44b79aaba87e46e336cd"
            }
          },
          "metadata": {}
        },
        {
          "output_type": "stream",
          "name": "stdout",
          "text": [
            "Epoch: 13, Loss: 0.0254\n"
          ]
        },
        {
          "output_type": "display_data",
          "data": {
            "text/plain": [
              "  0%|          | 0/469 [00:00<?, ?batch/s]"
            ],
            "application/vnd.jupyter.widget-view+json": {
              "version_major": 2,
              "version_minor": 0,
              "model_id": "8fc0488a58a14833b007feb7068cfdad"
            }
          },
          "metadata": {}
        },
        {
          "output_type": "stream",
          "name": "stdout",
          "text": [
            "Epoch: 14, Loss: 0.0250\n"
          ]
        },
        {
          "output_type": "display_data",
          "data": {
            "text/plain": [
              "  0%|          | 0/469 [00:00<?, ?batch/s]"
            ],
            "application/vnd.jupyter.widget-view+json": {
              "version_major": 2,
              "version_minor": 0,
              "model_id": "f9d238b0d41a4b8084772c766a9c0c0b"
            }
          },
          "metadata": {}
        },
        {
          "output_type": "stream",
          "name": "stdout",
          "text": [
            "Epoch: 15, Loss: 0.0243\n"
          ]
        },
        {
          "output_type": "display_data",
          "data": {
            "text/plain": [
              "<Figure size 432x288 with 1 Axes>"
            ],
            "image/png": "[encoded data removed]"
          },
          "metadata": {
            "needs_background": "light"
          }
        },
        {
          "output_type": "stream",
          "name": "stdout",
          "text": [
            "\n",
            " Evaluating...\n"
          ]
        },
        {
          "output_type": "display_data",
          "data": {
            "text/plain": [
              "sampling loop time step:   0%|          | 0/1000 [00:00<?, ?it/s]"
            ],
            "application/vnd.jupyter.widget-view+json": {
              "version_major": 2,
              "version_minor": 0,
              "model_id": "06140fb69c8a4c6990b11aa659500b47"
            }
          },
          "metadata": {}
        },
        {
          "output_type": "stream",
          "name": "stdout",
          "text": [
            "generated images IS_score:\n",
            "(3.380880657196319, 0.0)\n",
            "\n",
            "\n",
            "\n",
            "\n",
            "l2 <function cosine_beta_schedule at 0x7fbe2ef8ad30>\n"
          ]
        },
        {
          "output_type": "display_data",
          "data": {
            "text/plain": [
              "  0%|          | 0/469 [00:00<?, ?batch/s]"
            ],
            "application/vnd.jupyter.widget-view+json": {
              "version_major": 2,
              "version_minor": 0,
              "model_id": "06588f17d88b4326902e9cb18ad9a9ef"
            }
          },
          "metadata": {}
        },
        {
          "output_type": "stream",
          "name": "stdout",
          "text": [
            "Epoch: 1, Loss: 0.2263\n"
          ]
        },
        {
          "output_type": "display_data",
          "data": {
            "text/plain": [
              "  0%|          | 0/469 [00:00<?, ?batch/s]"
            ],
            "application/vnd.jupyter.widget-view+json": {
              "version_major": 2,
              "version_minor": 0,
              "model_id": "6de5b3c3761846db98acbf3c06c3c7f4"
            }
          },
          "metadata": {}
        },
        {
          "output_type": "stream",
          "name": "stdout",
          "text": [
            "Epoch: 2, Loss: 0.0703\n"
          ]
        },
        {
          "output_type": "display_data",
          "data": {
            "text/plain": [
              "  0%|          | 0/469 [00:00<?, ?batch/s]"
            ],
            "application/vnd.jupyter.widget-view+json": {
              "version_major": 2,
              "version_minor": 0,
              "model_id": "d87304c582c84caea6ab8c4c50f6cffd"
            }
          },
          "metadata": {}
        },
        {
          "output_type": "stream",
          "name": "stdout",
          "text": [
            "Epoch: 3, Loss: 0.0599\n"
          ]
        },
        {
          "output_type": "display_data",
          "data": {
            "text/plain": [
              "  0%|          | 0/469 [00:00<?, ?batch/s]"
            ],
            "application/vnd.jupyter.widget-view+json": {
              "version_major": 2,
              "version_minor": 0,
              "model_id": "598dc088ab724c40a06a4eaca81006d9"
            }
          },
          "metadata": {}
        },
        {
          "output_type": "stream",
          "name": "stdout",
          "text": [
            "Epoch: 4, Loss: 0.0540\n"
          ]
        },
        {
          "output_type": "display_data",
          "data": {
            "text/plain": [
              "  0%|          | 0/469 [00:00<?, ?batch/s]"
            ],
            "application/vnd.jupyter.widget-view+json": {
              "version_major": 2,
              "version_minor": 0,
              "model_id": "d63d876e028f4960a506ea3a961b62de"
            }
          },
          "metadata": {}
        },
        {
          "output_type": "stream",
          "name": "stdout",
          "text": [
            "Epoch: 5, Loss: 0.0513\n"
          ]
        },
        {
          "output_type": "display_data",
          "data": {
            "text/plain": [
              "  0%|          | 0/469 [00:00<?, ?batch/s]"
            ],
            "application/vnd.jupyter.widget-view+json": {
              "version_major": 2,
              "version_minor": 0,
              "model_id": "564d262d22694ca69adb2855dc586539"
            }
          },
          "metadata": {}
        },
        {
          "output_type": "stream",
          "name": "stdout",
          "text": [
            "Epoch: 6, Loss: 0.0493\n"
          ]
        },
        {
          "output_type": "display_data",
          "data": {
            "text/plain": [
              "  0%|          | 0/469 [00:00<?, ?batch/s]"
            ],
            "application/vnd.jupyter.widget-view+json": {
              "version_major": 2,
              "version_minor": 0,
              "model_id": "df2552af5771473685e0fbf6272451b4"
            }
          },
          "metadata": {}
        },
        {
          "output_type": "stream",
          "name": "stdout",
          "text": [
            "Epoch: 7, Loss: 0.0484\n"
          ]
        },
        {
          "output_type": "display_data",
          "data": {
            "text/plain": [
              "  0%|          | 0/469 [00:00<?, ?batch/s]"
            ],
            "application/vnd.jupyter.widget-view+json": {
              "version_major": 2,
              "version_minor": 0,
              "model_id": "d069b51ccc754b9687b22283f7b38884"
            }
          },
          "metadata": {}
        },
        {
          "output_type": "stream",
          "name": "stdout",
          "text": [
            "Epoch: 8, Loss: 0.0475\n"
          ]
        },
        {
          "output_type": "display_data",
          "data": {
            "text/plain": [
              "  0%|          | 0/469 [00:00<?, ?batch/s]"
            ],
            "application/vnd.jupyter.widget-view+json": {
              "version_major": 2,
              "version_minor": 0,
              "model_id": "d3a5e3daee384e04b8e942929a88eff2"
            }
          },
          "metadata": {}
        },
        {
          "output_type": "stream",
          "name": "stdout",
          "text": [
            "Epoch: 9, Loss: 0.0470\n"
          ]
        },
        {
          "output_type": "display_data",
          "data": {
            "text/plain": [
              "  0%|          | 0/469 [00:00<?, ?batch/s]"
            ],
            "application/vnd.jupyter.widget-view+json": {
              "version_major": 2,
              "version_minor": 0,
              "model_id": "0c8a2f2067974be09505a4fe70047fa9"
            }
          },
          "metadata": {}
        },
        {
          "output_type": "stream",
          "name": "stdout",
          "text": [
            "Epoch: 10, Loss: 0.0462\n"
          ]
        },
        {
          "output_type": "display_data",
          "data": {
            "text/plain": [
              "  0%|          | 0/469 [00:00<?, ?batch/s]"
            ],
            "application/vnd.jupyter.widget-view+json": {
              "version_major": 2,
              "version_minor": 0,
              "model_id": "8eb656919f174528a47a90fa29b42585"
            }
          },
          "metadata": {}
        },
        {
          "output_type": "stream",
          "name": "stdout",
          "text": [
            "Epoch: 11, Loss: 0.0454\n"
          ]
        },
        {
          "output_type": "display_data",
          "data": {
            "text/plain": [
              "  0%|          | 0/469 [00:00<?, ?batch/s]"
            ],
            "application/vnd.jupyter.widget-view+json": {
              "version_major": 2,
              "version_minor": 0,
              "model_id": "0df0099f6f2648a6a59444734f469ede"
            }
          },
          "metadata": {}
        },
        {
          "output_type": "stream",
          "name": "stdout",
          "text": [
            "Epoch: 12, Loss: 0.0448\n"
          ]
        },
        {
          "output_type": "display_data",
          "data": {
            "text/plain": [
              "  0%|          | 0/469 [00:00<?, ?batch/s]"
            ],
            "application/vnd.jupyter.widget-view+json": {
              "version_major": 2,
              "version_minor": 0,
              "model_id": "24d713ef9b794557b7961827aa7bbe1b"
            }
          },
          "metadata": {}
        },
        {
          "output_type": "stream",
          "name": "stdout",
          "text": [
            "Epoch: 13, Loss: 0.0451\n"
          ]
        },
        {
          "output_type": "display_data",
          "data": {
            "text/plain": [
              "  0%|          | 0/469 [00:00<?, ?batch/s]"
            ],
            "application/vnd.jupyter.widget-view+json": {
              "version_major": 2,
              "version_minor": 0,
              "model_id": "b0e07b96532345b0a74d3d3f9d016f1b"
            }
          },
          "metadata": {}
        },
        {
          "output_type": "stream",
          "name": "stdout",
          "text": [
            "Epoch: 14, Loss: 0.0442\n"
          ]
        },
        {
          "output_type": "display_data",
          "data": {
            "text/plain": [
              "  0%|          | 0/469 [00:00<?, ?batch/s]"
            ],
            "application/vnd.jupyter.widget-view+json": {
              "version_major": 2,
              "version_minor": 0,
              "model_id": "f9cfe4540f544f5ab8c5e24cd7f4042f"
            }
          },
          "metadata": {}
        },
        {
          "output_type": "stream",
          "name": "stdout",
          "text": [
            "Epoch: 15, Loss: 0.0438\n"
          ]
        },
        {
          "output_type": "display_data",
          "data": {
            "text/plain": [
              "<Figure size 432x288 with 1 Axes>"
            ],
            "image/png": "[encoded data removed]"
          },
          "metadata": {
            "needs_background": "light"
          }
        },
        {
          "output_type": "stream",
          "name": "stdout",
          "text": [
            "\n",
            " Evaluating...\n"
          ]
        },
        {
          "output_type": "display_data",
          "data": {
            "text/plain": [
              "sampling loop time step:   0%|          | 0/1000 [00:00<?, ?it/s]"
            ],
            "application/vnd.jupyter.widget-view+json": {
              "version_major": 2,
              "version_minor": 0,
              "model_id": "82ddd1b766ec489f826a282c6284d6b5"
            }
          },
          "metadata": {}
        },
        {
          "output_type": "stream",
          "name": "stdout",
          "text": [
            "generated images IS_score:\n",
            "(2.607897357391346, 0.0)\n",
            "\n",
            "\n",
            "\n",
            "\n",
            "l2 <function quadratic_beta_schedule at 0x7fbe2ef9e4c0>\n"
          ]
        },
        {
          "output_type": "display_data",
          "data": {
            "text/plain": [
              "  0%|          | 0/469 [00:00<?, ?batch/s]"
            ],
            "application/vnd.jupyter.widget-view+json": {
              "version_major": 2,
              "version_minor": 0,
              "model_id": "e0f0a4cac93a4a0eb3c84cb0a2cc64e4"
            }
          },
          "metadata": {}
        },
        {
          "output_type": "stream",
          "name": "stdout",
          "text": [
            "Epoch: 1, Loss: 0.1950\n"
          ]
        },
        {
          "output_type": "display_data",
          "data": {
            "text/plain": [
              "  0%|          | 0/469 [00:00<?, ?batch/s]"
            ],
            "application/vnd.jupyter.widget-view+json": {
              "version_major": 2,
              "version_minor": 0,
              "model_id": "1e7ffb82ca7f41d496b78f50b1164c57"
            }
          },
          "metadata": {}
        },
        {
          "output_type": "stream",
          "name": "stdout",
          "text": [
            "Epoch: 2, Loss: 0.0602\n"
          ]
        },
        {
          "output_type": "display_data",
          "data": {
            "text/plain": [
              "  0%|          | 0/469 [00:00<?, ?batch/s]"
            ],
            "application/vnd.jupyter.widget-view+json": {
              "version_major": 2,
              "version_minor": 0,
              "model_id": "a3186a6e16474e36b15f5c4e19690ffc"
            }
          },
          "metadata": {}
        },
        {
          "output_type": "stream",
          "name": "stdout",
          "text": [
            "Epoch: 3, Loss: 0.0526\n"
          ]
        },
        {
          "output_type": "display_data",
          "data": {
            "text/plain": [
              "  0%|          | 0/469 [00:00<?, ?batch/s]"
            ],
            "application/vnd.jupyter.widget-view+json": {
              "version_major": 2,
              "version_minor": 0,
              "model_id": "efb5ec085e1141be8fba3ecf227b11d4"
            }
          },
          "metadata": {}
        },
        {
          "output_type": "stream",
          "name": "stdout",
          "text": [
            "Epoch: 4, Loss: 0.0485\n"
          ]
        },
        {
          "output_type": "display_data",
          "data": {
            "text/plain": [
              "  0%|          | 0/469 [00:00<?, ?batch/s]"
            ],
            "application/vnd.jupyter.widget-view+json": {
              "version_major": 2,
              "version_minor": 0,
              "model_id": "2b80703e2e4d401198e1572d208142fc"
            }
          },
          "metadata": {}
        },
        {
          "output_type": "stream",
          "name": "stdout",
          "text": [
            "Epoch: 5, Loss: 0.0463\n"
          ]
        },
        {
          "output_type": "display_data",
          "data": {
            "text/plain": [
              "  0%|          | 0/469 [00:00<?, ?batch/s]"
            ],
            "application/vnd.jupyter.widget-view+json": {
              "version_major": 2,
              "version_minor": 0,
              "model_id": "9b81e12e56054170ad9cbf4dee745de6"
            }
          },
          "metadata": {}
        },
        {
          "output_type": "stream",
          "name": "stdout",
          "text": [
            "Epoch: 6, Loss: 0.0441\n"
          ]
        },
        {
          "output_type": "display_data",
          "data": {
            "text/plain": [
              "  0%|          | 0/469 [00:00<?, ?batch/s]"
            ],
            "application/vnd.jupyter.widget-view+json": {
              "version_major": 2,
              "version_minor": 0,
              "model_id": "3dd8b464e5b54dce883c7e6bd6c0b3da"
            }
          },
          "metadata": {}
        },
        {
          "output_type": "stream",
          "name": "stdout",
          "text": [
            "Epoch: 7, Loss: 0.0437\n"
          ]
        },
        {
          "output_type": "display_data",
          "data": {
            "text/plain": [
              "  0%|          | 0/469 [00:00<?, ?batch/s]"
            ],
            "application/vnd.jupyter.widget-view+json": {
              "version_major": 2,
              "version_minor": 0,
              "model_id": "fe49a421dcd7403ab4988724f19a176a"
            }
          },
          "metadata": {}
        },
        {
          "output_type": "stream",
          "name": "stdout",
          "text": [
            "Epoch: 8, Loss: 0.0428\n"
          ]
        },
        {
          "output_type": "display_data",
          "data": {
            "text/plain": [
              "  0%|          | 0/469 [00:00<?, ?batch/s]"
            ],
            "application/vnd.jupyter.widget-view+json": {
              "version_major": 2,
              "version_minor": 0,
              "model_id": "939656883c654f07897899e9c6b71a06"
            }
          },
          "metadata": {}
        },
        {
          "output_type": "stream",
          "name": "stdout",
          "text": [
            "Epoch: 9, Loss: 0.0422\n"
          ]
        },
        {
          "output_type": "display_data",
          "data": {
            "text/plain": [
              "  0%|          | 0/469 [00:00<?, ?batch/s]"
            ],
            "application/vnd.jupyter.widget-view+json": {
              "version_major": 2,
              "version_minor": 0,
              "model_id": "6bc3d8af00b84e34a1853e687e401f8a"
            }
          },
          "metadata": {}
        },
        {
          "output_type": "stream",
          "name": "stdout",
          "text": [
            "Epoch: 10, Loss: 0.0415\n"
          ]
        },
        {
          "output_type": "display_data",
          "data": {
            "text/plain": [
              "  0%|          | 0/469 [00:00<?, ?batch/s]"
            ],
            "application/vnd.jupyter.widget-view+json": {
              "version_major": 2,
              "version_minor": 0,
              "model_id": "def37272073d42d3aef3700c5decbbb1"
            }
          },
          "metadata": {}
        },
        {
          "output_type": "stream",
          "name": "stdout",
          "text": [
            "Epoch: 11, Loss: 0.0411\n"
          ]
        },
        {
          "output_type": "display_data",
          "data": {
            "text/plain": [
              "  0%|          | 0/469 [00:00<?, ?batch/s]"
            ],
            "application/vnd.jupyter.widget-view+json": {
              "version_major": 2,
              "version_minor": 0,
              "model_id": "7574dfb38439489492111c32bed9bf00"
            }
          },
          "metadata": {}
        },
        {
          "output_type": "stream",
          "name": "stdout",
          "text": [
            "Epoch: 12, Loss: 0.0408\n"
          ]
        },
        {
          "output_type": "display_data",
          "data": {
            "text/plain": [
              "  0%|          | 0/469 [00:00<?, ?batch/s]"
            ],
            "application/vnd.jupyter.widget-view+json": {
              "version_major": 2,
              "version_minor": 0,
              "model_id": "fb272669de874cfd9bea05a2813958dd"
            }
          },
          "metadata": {}
        },
        {
          "output_type": "stream",
          "name": "stdout",
          "text": [
            "Epoch: 13, Loss: 0.0404\n"
          ]
        },
        {
          "output_type": "display_data",
          "data": {
            "text/plain": [
              "  0%|          | 0/469 [00:00<?, ?batch/s]"
            ],
            "application/vnd.jupyter.widget-view+json": {
              "version_major": 2,
              "version_minor": 0,
              "model_id": "e88843f03ed542e087048899fce24a75"
            }
          },
          "metadata": {}
        },
        {
          "output_type": "stream",
          "name": "stdout",
          "text": [
            "Epoch: 14, Loss: 0.0406\n"
          ]
        },
        {
          "output_type": "display_data",
          "data": {
            "text/plain": [
              "  0%|          | 0/469 [00:00<?, ?batch/s]"
            ],
            "application/vnd.jupyter.widget-view+json": {
              "version_major": 2,
              "version_minor": 0,
              "model_id": "c84a01d55e644952ab198e67c59aa502"
            }
          },
          "metadata": {}
        },
        {
          "output_type": "stream",
          "name": "stdout",
          "text": [
            "Epoch: 15, Loss: 0.0405\n"
          ]
        },
        {
          "output_type": "display_data",
          "data": {
            "text/plain": [
              "<Figure size 432x288 with 1 Axes>"
            ],
            "image/png": "[encoded data removed]"
          },
          "metadata": {
            "needs_background": "light"
          }
        },
        {
          "output_type": "stream",
          "name": "stdout",
          "text": [
            "\n",
            " Evaluating...\n"
          ]
        },
        {
          "output_type": "display_data",
          "data": {
            "text/plain": [
              "sampling loop time step:   0%|          | 0/1000 [00:00<?, ?it/s]"
            ],
            "application/vnd.jupyter.widget-view+json": {
              "version_major": 2,
              "version_minor": 0,
              "model_id": "3a5b2ea9393a4712839523e7ffc33841"
            }
          },
          "metadata": {}
        },
        {
          "output_type": "stream",
          "name": "stdout",
          "text": [
            "generated images IS_score:\n",
            "(3.459249407594748, 0.0)\n",
            "\n",
            "\n",
            "\n",
            "\n",
            "l2 <function sigmoid_beta_schedule at 0x7fbe2ef9ef70>\n"
          ]
        },
        {
          "output_type": "display_data",
          "data": {
            "text/plain": [
              "  0%|          | 0/469 [00:00<?, ?batch/s]"
            ],
            "application/vnd.jupyter.widget-view+json": {
              "version_major": 2,
              "version_minor": 0,
              "model_id": "dde383358fbd4809b91d7d0130fb11e3"
            }
          },
          "metadata": {}
        },
        {
          "output_type": "stream",
          "name": "stdout",
          "text": [
            "Epoch: 1, Loss: 0.2504\n"
          ]
        },
        {
          "output_type": "display_data",
          "data": {
            "text/plain": [
              "  0%|          | 0/469 [00:00<?, ?batch/s]"
            ],
            "application/vnd.jupyter.widget-view+json": {
              "version_major": 2,
              "version_minor": 0,
              "model_id": "f024bd058ede4903b99bced7de1f27e1"
            }
          },
          "metadata": {}
        },
        {
          "output_type": "stream",
          "name": "stdout",
          "text": [
            "Epoch: 2, Loss: 0.0675\n"
          ]
        },
        {
          "output_type": "display_data",
          "data": {
            "text/plain": [
              "  0%|          | 0/469 [00:00<?, ?batch/s]"
            ],
            "application/vnd.jupyter.widget-view+json": {
              "version_major": 2,
              "version_minor": 0,
              "model_id": "cc2556d861e747f7bfafd39913419a09"
            }
          },
          "metadata": {}
        },
        {
          "output_type": "stream",
          "name": "stdout",
          "text": [
            "Epoch: 3, Loss: 0.0591\n"
          ]
        },
        {
          "output_type": "display_data",
          "data": {
            "text/plain": [
              "  0%|          | 0/469 [00:00<?, ?batch/s]"
            ],
            "application/vnd.jupyter.widget-view+json": {
              "version_major": 2,
              "version_minor": 0,
              "model_id": "f297a10b1071400fb0395faf1bd20b88"
            }
          },
          "metadata": {}
        }
      ]
    }
  ],
  "metadata": {
    "accelerator": "GPU",
    "colab": {
      "collapsed_sections": [
        "3RmnUEtsCnA0",
        "5153024b",
        "592aa765"
      ],
      "toc_visible": true,
      "provenance": []
    },
    "gpuClass": "standard",
    "kernelspec": {
      "display_name": "Python 3",
      "name": "python3"
    },
    "language_info": {
      "name": "python"
    },
    "widgets": {
      "application/vnd.jupyter.widget-state+json": {
        "9ae7d643bdd443d183121541c3717a5e": {
          "model_module": "@jupyter-widgets/controls",
          "model_name": "HBoxModel",
          "model_module_version": "1.5.0",
          "state": {
            "_dom_classes": [],
            "_model_module": "@jupyter-widgets/controls",
            "_model_module_version": "1.5.0",
            "_model_name": "HBoxModel",
            "_view_count": null,
            "_view_module": "@jupyter-widgets/controls",
            "_view_module_version": "1.5.0",
            "_view_name": "HBoxView",
            "box_style": "",
            "children": [
              "IPY_MODEL_c6ddecd58ddc4c789de71e455de004b2",
              "IPY_MODEL_ec788be8e56249edaa2a1c1c9213b768",
              "IPY_MODEL_61fe1d4323bb41c393e3fa09f0d4a342"
            ],
            "layout": "IPY_MODEL_0cca7c9f0d484bd8b5f71bfde3b32f62"
          }
        },
        "c6ddecd58ddc4c789de71e455de004b2": {
          "model_module": "@jupyter-widgets/controls",
          "model_name": "HTMLModel",
          "model_module_version": "1.5.0",
          "state": {
            "_dom_classes": [],
            "_model_module": "@jupyter-widgets/controls",
            "_model_module_version": "1.5.0",
            "_model_name": "HTMLModel",
            "_view_count": null,
            "_view_module": "@jupyter-widgets/controls",
            "_view_module_version": "1.5.0",
            "_view_name": "HTMLView",
            "description": "",
            "description_tooltip": null,
            "layout": "IPY_MODEL_f50276b4f92e417dbff1b89d6a620aaa",
            "placeholder": "​",
            "style": "IPY_MODEL_5db1f93a12654d858970e4cb0d926ef5",
            "value": "100%"
          }
        },
        "ec788be8e56249edaa2a1c1c9213b768": {
          "model_module": "@jupyter-widgets/controls",
          "model_name": "FloatProgressModel",
          "model_module_version": "1.5.0",
          "state": {
            "_dom_classes": [],
            "_model_module": "@jupyter-widgets/controls",
            "_model_module_version": "1.5.0",
            "_model_name": "FloatProgressModel",
            "_view_count": null,
            "_view_module": "@jupyter-widgets/controls",
            "_view_module_version": "1.5.0",
            "_view_name": "ProgressView",
            "bar_style": "success",
            "description": "",
            "description_tooltip": null,
            "layout": "IPY_MODEL_6304358b1f6d41259980c6f2d9727124",
            "max": 469,
            "min": 0,
            "orientation": "horizontal",
            "style": "IPY_MODEL_48f2425393ee4c6f98a563a47c3881aa",
            "value": 469
          }
        },
        "61fe1d4323bb41c393e3fa09f0d4a342": {
          "model_module": "@jupyter-widgets/controls",
          "model_name": "HTMLModel",
          "model_module_version": "1.5.0",
          "state": {
            "_dom_classes": [],
            "_model_module": "@jupyter-widgets/controls",
            "_model_module_version": "1.5.0",
            "_model_name": "HTMLModel",
            "_view_count": null,
            "_view_module": "@jupyter-widgets/controls",
            "_view_module_version": "1.5.0",
            "_view_name": "HTMLView",
            "description": "",
            "description_tooltip": null,
            "layout": "IPY_MODEL_e93a2b7b63e84af6b25470da8fc6c8b3",
            "placeholder": "​",
            "style": "IPY_MODEL_2365bc7da52648059014ef3e716c31b3",
            "value": " 469/469 [01:25&lt;00:00,  6.52batch/s]"
          }
        },
        "0cca7c9f0d484bd8b5f71bfde3b32f62": {
          "model_module": "@jupyter-widgets/base",
          "model_name": "LayoutModel",
          "model_module_version": "1.2.0",
          "state": {
            "_model_module": "@jupyter-widgets/base",
            "_model_module_version": "1.2.0",
            "_model_name": "LayoutModel",
            "_view_count": null,
            "_view_module": "@jupyter-widgets/base",
            "_view_module_version": "1.2.0",
            "_view_name": "LayoutView",
            "align_content": null,
            "align_items": null,
            "align_self": null,
            "border": null,
            "bottom": null,
            "display": null,
            "flex": null,
            "flex_flow": null,
            "grid_area": null,
            "grid_auto_columns": null,
            "grid_auto_flow": null,
            "grid_auto_rows": null,
            "grid_column": null,
            "grid_gap": null,
            "grid_row": null,
            "grid_template_areas": null,
            "grid_template_columns": null,
            "grid_template_rows": null,
            "height": null,
            "justify_content": null,
            "justify_items": null,
            "left": null,
            "margin": null,
            "max_height": null,
            "max_width": null,
            "min_height": null,
            "min_width": null,
            "object_fit": null,
            "object_position": null,
            "order": null,
            "overflow": null,
            "overflow_x": null,
            "overflow_y": null,
            "padding": null,
            "right": null,
            "top": null,
            "visibility": null,
            "width": null
          }
        },
        "f50276b4f92e417dbff1b89d6a620aaa": {
          "model_module": "@jupyter-widgets/base",
          "model_name": "LayoutModel",
          "model_module_version": "1.2.0",
          "state": {
            "_model_module": "@jupyter-widgets/base",
            "_model_module_version": "1.2.0",
            "_model_name": "LayoutModel",
            "_view_count": null,
            "_view_module": "@jupyter-widgets/base",
            "_view_module_version": "1.2.0",
            "_view_name": "LayoutView",
            "align_content": null,
            "align_items": null,
            "align_self": null,
            "border": null,
            "bottom": null,
            "display": null,
            "flex": null,
            "flex_flow": null,
            "grid_area": null,
            "grid_auto_columns": null,
            "grid_auto_flow": null,
            "grid_auto_rows": null,
            "grid_column": null,
            "grid_gap": null,
            "grid_row": null,
            "grid_template_areas": null,
            "grid_template_columns": null,
            "grid_template_rows": null,
            "height": null,
            "justify_content": null,
            "justify_items": null,
            "left": null,
            "margin": null,
            "max_height": null,
            "max_width": null,
            "min_height": null,
            "min_width": null,
            "object_fit": null,
            "object_position": null,
            "order": null,
            "overflow": null,
            "overflow_x": null,
            "overflow_y": null,
            "padding": null,
            "right": null,
            "top": null,
            "visibility": null,
            "width": null
          }
        },
        "5db1f93a12654d858970e4cb0d926ef5": {
          "model_module": "@jupyter-widgets/controls",
          "model_name": "DescriptionStyleModel",
          "model_module_version": "1.5.0",
          "state": {
            "_model_module": "@jupyter-widgets/controls",
            "_model_module_version": "1.5.0",
            "_model_name": "DescriptionStyleModel",
            "_view_count": null,
            "_view_module": "@jupyter-widgets/base",
            "_view_module_version": "1.2.0",
            "_view_name": "StyleView",
            "description_width": ""
          }
        },
        "6304358b1f6d41259980c6f2d9727124": {
          "model_module": "@jupyter-widgets/base",
          "model_name": "LayoutModel",
          "model_module_version": "1.2.0",
          "state": {
            "_model_module": "@jupyter-widgets/base",
            "_model_module_version": "1.2.0",
            "_model_name": "LayoutModel",
            "_view_count": null,
            "_view_module": "@jupyter-widgets/base",
            "_view_module_version": "1.2.0",
            "_view_name": "LayoutView",
            "align_content": null,
            "align_items": null,
            "align_self": null,
            "border": null,
            "bottom": null,
            "display": null,
            "flex": null,
            "flex_flow": null,
            "grid_area": null,
            "grid_auto_columns": null,
            "grid_auto_flow": null,
            "grid_auto_rows": null,
            "grid_column": null,
            "grid_gap": null,
            "grid_row": null,
            "grid_template_areas": null,
            "grid_template_columns": null,
            "grid_template_rows": null,
            "height": null,
            "justify_content": null,
            "justify_items": null,
            "left": null,
            "margin": null,
            "max_height": null,
            "max_width": null,
            "min_height": null,
            "min_width": null,
            "object_fit": null,
            "object_position": null,
            "order": null,
            "overflow": null,
            "overflow_x": null,
            "overflow_y": null,
            "padding": null,
            "right": null,
            "top": null,
            "visibility": null,
            "width": null
          }
        },
        "48f2425393ee4c6f98a563a47c3881aa": {
          "model_module": "@jupyter-widgets/controls",
          "model_name": "ProgressStyleModel",
          "model_module_version": "1.5.0",
          "state": {
            "_model_module": "@jupyter-widgets/controls",
            "_model_module_version": "1.5.0",
            "_model_name": "ProgressStyleModel",
            "_view_count": null,
            "_view_module": "@jupyter-widgets/base",
            "_view_module_version": "1.2.0",
            "_view_name": "StyleView",
            "bar_color": null,
            "description_width": ""
          }
        },
        "e93a2b7b63e84af6b25470da8fc6c8b3": {
          "model_module": "@jupyter-widgets/base",
          "model_name": "LayoutModel",
          "model_module_version": "1.2.0",
          "state": {
            "_model_module": "@jupyter-widgets/base",
            "_model_module_version": "1.2.0",
            "_model_name": "LayoutModel",
            "_view_count": null,
            "_view_module": "@jupyter-widgets/base",
            "_view_module_version": "1.2.0",
            "_view_name": "LayoutView",
            "align_content": null,
            "align_items": null,
            "align_self": null,
            "border": null,
            "bottom": null,
            "display": null,
            "flex": null,
            "flex_flow": null,
            "grid_area": null,
            "grid_auto_columns": null,
            "grid_auto_flow": null,
            "grid_auto_rows": null,
            "grid_column": null,
            "grid_gap": null,
            "grid_row": null,
            "grid_template_areas": null,
            "grid_template_columns": null,
            "grid_template_rows": null,
            "height": null,
            "justify_content": null,
            "justify_items": null,
            "left": null,
            "margin": null,
            "max_height": null,
            "max_width": null,
            "min_height": null,
            "min_width": null,
            "object_fit": null,
            "object_position": null,
            "order": null,
            "overflow": null,
            "overflow_x": null,
            "overflow_y": null,
            "padding": null,
            "right": null,
            "top": null,
            "visibility": null,
            "width": null
          }
        },
        "2365bc7da52648059014ef3e716c31b3": {
          "model_module": "@jupyter-widgets/controls",
          "model_name": "DescriptionStyleModel",
          "model_module_version": "1.5.0",
          "state": {
            "_model_module": "@jupyter-widgets/controls",
            "_model_module_version": "1.5.0",
            "_model_name": "DescriptionStyleModel",
            "_view_count": null,
            "_view_module": "@jupyter-widgets/base",
            "_view_module_version": "1.2.0",
            "_view_name": "StyleView",
            "description_width": ""
          }
        },
        "01e74b9b3d3f42febc31d66f736adfdc": {
          "model_module": "@jupyter-widgets/controls",
          "model_name": "HBoxModel",
          "model_module_version": "1.5.0",
          "state": {
            "_dom_classes": [],
            "_model_module": "@jupyter-widgets/controls",
            "_model_module_version": "1.5.0",
            "_model_name": "HBoxModel",
            "_view_count": null,
            "_view_module": "@jupyter-widgets/controls",
            "_view_module_version": "1.5.0",
            "_view_name": "HBoxView",
            "box_style": "",
            "children": [
              "IPY_MODEL_8644dffca2564fd0b59e7638d2061785",
              "IPY_MODEL_64429ee5fbd541fba0bf730de79cb21f",
              "IPY_MODEL_1229407134304bdba1b07a20de59fd4e"
            ],
            "layout": "IPY_MODEL_74cc68d31ef54ba581c135fcf5265d5a"
          }
        },
        "8644dffca2564fd0b59e7638d2061785": {
          "model_module": "@jupyter-widgets/controls",
          "model_name": "HTMLModel",
          "model_module_version": "1.5.0",
          "state": {
            "_dom_classes": [],
            "_model_module": "@jupyter-widgets/controls",
            "_model_module_version": "1.5.0",
            "_model_name": "HTMLModel",
            "_view_count": null,
            "_view_module": "@jupyter-widgets/controls",
            "_view_module_version": "1.5.0",
            "_view_name": "HTMLView",
            "description": "",
            "description_tooltip": null,
            "layout": "IPY_MODEL_663a7683b2b94811a0e8f8e7d731ee7e",
            "placeholder": "​",
            "style": "IPY_MODEL_d2d4ff13d90b4509897423d5eb7af3b5",
            "value": "100%"
          }
        },
        "64429ee5fbd541fba0bf730de79cb21f": {
          "model_module": "@jupyter-widgets/controls",
          "model_name": "FloatProgressModel",
          "model_module_version": "1.5.0",
          "state": {
            "_dom_classes": [],
            "_model_module": "@jupyter-widgets/controls",
            "_model_module_version": "1.5.0",
            "_model_name": "FloatProgressModel",
            "_view_count": null,
            "_view_module": "@jupyter-widgets/controls",
            "_view_module_version": "1.5.0",
            "_view_name": "ProgressView",
            "bar_style": "success",
            "description": "",
            "description_tooltip": null,
            "layout": "IPY_MODEL_a87307ab27f04eb0a038ee77793a81fc",
            "max": 469,
            "min": 0,
            "orientation": "horizontal",
            "style": "IPY_MODEL_7cbf6cb014b7456e932449265dd210a1",
            "value": 469
          }
        },
        "1229407134304bdba1b07a20de59fd4e": {
          "model_module": "@jupyter-widgets/controls",
          "model_name": "HTMLModel",
          "model_module_version": "1.5.0",
          "state": {
            "_dom_classes": [],
            "_model_module": "@jupyter-widgets/controls",
            "_model_module_version": "1.5.0",
            "_model_name": "HTMLModel",
            "_view_count": null,
            "_view_module": "@jupyter-widgets/controls",
            "_view_module_version": "1.5.0",
            "_view_name": "HTMLView",
            "description": "",
            "description_tooltip": null,
            "layout": "IPY_MODEL_0dcca3b4a486490aa2013b4c22c513aa",
            "placeholder": "​",
            "style": "IPY_MODEL_36bc3eb7f8614a84834069b38f50b7f8",
            "value": " 469/469 [01:19&lt;00:00,  6.28batch/s]"
          }
        },
        "74cc68d31ef54ba581c135fcf5265d5a": {
          "model_module": "@jupyter-widgets/base",
          "model_name": "LayoutModel",
          "model_module_version": "1.2.0",
          "state": {
            "_model_module": "@jupyter-widgets/base",
            "_model_module_version": "1.2.0",
            "_model_name": "LayoutModel",
            "_view_count": null,
            "_view_module": "@jupyter-widgets/base",
            "_view_module_version": "1.2.0",
            "_view_name": "LayoutView",
            "align_content": null,
            "align_items": null,
            "align_self": null,
            "border": null,
            "bottom": null,
            "display": null,
            "flex": null,
            "flex_flow": null,
            "grid_area": null,
            "grid_auto_columns": null,
            "grid_auto_flow": null,
            "grid_auto_rows": null,
            "grid_column": null,
            "grid_gap": null,
            "grid_row": null,
            "grid_template_areas": null,
            "grid_template_columns": null,
            "grid_template_rows": null,
            "height": null,
            "justify_content": null,
            "justify_items": null,
            "left": null,
            "margin": null,
            "max_height": null,
            "max_width": null,
            "min_height": null,
            "min_width": null,
            "object_fit": null,
            "object_position": null,
            "order": null,
            "overflow": null,
            "overflow_x": null,
            "overflow_y": null,
            "padding": null,
            "right": null,
            "top": null,
            "visibility": null,
            "width": null
          }
        },
        "663a7683b2b94811a0e8f8e7d731ee7e": {
          "model_module": "@jupyter-widgets/base",
          "model_name": "LayoutModel",
          "model_module_version": "1.2.0",
          "state": {
            "_model_module": "@jupyter-widgets/base",
            "_model_module_version": "1.2.0",
            "_model_name": "LayoutModel",
            "_view_count": null,
            "_view_module": "@jupyter-widgets/base",
            "_view_module_version": "1.2.0",
            "_view_name": "LayoutView",
            "align_content": null,
            "align_items": null,
            "align_self": null,
            "border": null,
            "bottom": null,
            "display": null,
            "flex": null,
            "flex_flow": null,
            "grid_area": null,
            "grid_auto_columns": null,
            "grid_auto_flow": null,
            "grid_auto_rows": null,
            "grid_column": null,
            "grid_gap": null,
            "grid_row": null,
            "grid_template_areas": null,
            "grid_template_columns": null,
            "grid_template_rows": null,
            "height": null,
            "justify_content": null,
            "justify_items": null,
            "left": null,
            "margin": null,
            "max_height": null,
            "max_width": null,
            "min_height": null,
            "min_width": null,
            "object_fit": null,
            "object_position": null,
            "order": null,
            "overflow": null,
            "overflow_x": null,
            "overflow_y": null,
            "padding": null,
            "right": null,
            "top": null,
            "visibility": null,
            "width": null
          }
        },
        "d2d4ff13d90b4509897423d5eb7af3b5": {
          "model_module": "@jupyter-widgets/controls",
          "model_name": "DescriptionStyleModel",
          "model_module_version": "1.5.0",
          "state": {
            "_model_module": "@jupyter-widgets/controls",
            "_model_module_version": "1.5.0",
            "_model_name": "DescriptionStyleModel",
            "_view_count": null,
            "_view_module": "@jupyter-widgets/base",
            "_view_module_version": "1.2.0",
            "_view_name": "StyleView",
            "description_width": ""
          }
        },
        "a87307ab27f04eb0a038ee77793a81fc": {
          "model_module": "@jupyter-widgets/base",
          "model_name": "LayoutModel",
          "model_module_version": "1.2.0",
          "state": {
            "_model_module": "@jupyter-widgets/base",
            "_model_module_version": "1.2.0",
            "_model_name": "LayoutModel",
            "_view_count": null,
            "_view_module": "@jupyter-widgets/base",
            "_view_module_version": "1.2.0",
            "_view_name": "LayoutView",
            "align_content": null,
            "align_items": null,
            "align_self": null,
            "border": null,
            "bottom": null,
            "display": null,
            "flex": null,
            "flex_flow": null,
            "grid_area": null,
            "grid_auto_columns": null,
            "grid_auto_flow": null,
            "grid_auto_rows": null,
            "grid_column": null,
            "grid_gap": null,
            "grid_row": null,
            "grid_template_areas": null,
            "grid_template_columns": null,
            "grid_template_rows": null,
            "height": null,
            "justify_content": null,
            "justify_items": null,
            "left": null,
            "margin": null,
            "max_height": null,
            "max_width": null,
            "min_height": null,
            "min_width": null,
            "object_fit": null,
            "object_position": null,
            "order": null,
            "overflow": null,
            "overflow_x": null,
            "overflow_y": null,
            "padding": null,
            "right": null,
            "top": null,
            "visibility": null,
            "width": null
          }
        },
        "7cbf6cb014b7456e932449265dd210a1": {
          "model_module": "@jupyter-widgets/controls",
          "model_name": "ProgressStyleModel",
          "model_module_version": "1.5.0",
          "state": {
            "_model_module": "@jupyter-widgets/controls",
            "_model_module_version": "1.5.0",
            "_model_name": "ProgressStyleModel",
            "_view_count": null,
            "_view_module": "@jupyter-widgets/base",
            "_view_module_version": "1.2.0",
            "_view_name": "StyleView",
            "bar_color": null,
            "description_width": ""
          }
        },
        "0dcca3b4a486490aa2013b4c22c513aa": {
          "model_module": "@jupyter-widgets/base",
          "model_name": "LayoutModel",
          "model_module_version": "1.2.0",
          "state": {
            "_model_module": "@jupyter-widgets/base",
            "_model_module_version": "1.2.0",
            "_model_name": "LayoutModel",
            "_view_count": null,
            "_view_module": "@jupyter-widgets/base",
            "_view_module_version": "1.2.0",
            "_view_name": "LayoutView",
            "align_content": null,
            "align_items": null,
            "align_self": null,
            "border": null,
            "bottom": null,
            "display": null,
            "flex": null,
            "flex_flow": null,
            "grid_area": null,
            "grid_auto_columns": null,
            "grid_auto_flow": null,
            "grid_auto_rows": null,
            "grid_column": null,
            "grid_gap": null,
            "grid_row": null,
            "grid_template_areas": null,
            "grid_template_columns": null,
            "grid_template_rows": null,
            "height": null,
            "justify_content": null,
            "justify_items": null,
            "left": null,
            "margin": null,
            "max_height": null,
            "max_width": null,
            "min_height": null,
            "min_width": null,
            "object_fit": null,
            "object_position": null,
            "order": null,
            "overflow": null,
            "overflow_x": null,
            "overflow_y": null,
            "padding": null,
            "right": null,
            "top": null,
            "visibility": null,
            "width": null
          }
        },
        "36bc3eb7f8614a84834069b38f50b7f8": {
          "model_module": "@jupyter-widgets/controls",
          "model_name": "DescriptionStyleModel",
          "model_module_version": "1.5.0",
          "state": {
            "_model_module": "@jupyter-widgets/controls",
            "_model_module_version": "1.5.0",
            "_model_name": "DescriptionStyleModel",
            "_view_count": null,
            "_view_module": "@jupyter-widgets/base",
            "_view_module_version": "1.2.0",
            "_view_name": "StyleView",
            "description_width": ""
          }
        },
        "22fce5e711c048dda1005290483ce7c3": {
          "model_module": "@jupyter-widgets/controls",
          "model_name": "HBoxModel",
          "model_module_version": "1.5.0",
          "state": {
            "_dom_classes": [],
            "_model_module": "@jupyter-widgets/controls",
            "_model_module_version": "1.5.0",
            "_model_name": "HBoxModel",
            "_view_count": null,
            "_view_module": "@jupyter-widgets/controls",
            "_view_module_version": "1.5.0",
            "_view_name": "HBoxView",
            "box_style": "",
            "children": [
              "IPY_MODEL_fd20ccc27c2548eca0b6a2ed0a9efaed",
              "IPY_MODEL_1130dfde17954e16babb7080f6b0600b",
              "IPY_MODEL_04082b4bb4a14556b5ff507de8d683e7"
            ],
            "layout": "IPY_MODEL_9d97c98680db4109b7ae121ce207e8aa"
          }
        },
        "fd20ccc27c2548eca0b6a2ed0a9efaed": {
          "model_module": "@jupyter-widgets/controls",
          "model_name": "HTMLModel",
          "model_module_version": "1.5.0",
          "state": {
            "_dom_classes": [],
            "_model_module": "@jupyter-widgets/controls",
            "_model_module_version": "1.5.0",
            "_model_name": "HTMLModel",
            "_view_count": null,
            "_view_module": "@jupyter-widgets/controls",
            "_view_module_version": "1.5.0",
            "_view_name": "HTMLView",
            "description": "",
            "description_tooltip": null,
            "layout": "IPY_MODEL_0445dfd4a06246f6a24da4a35f8e77a6",
            "placeholder": "​",
            "style": "IPY_MODEL_d034bdb7742c4c0dbd26fa97aabc9141",
            "value": "100%"
          }
        },
        "1130dfde17954e16babb7080f6b0600b": {
          "model_module": "@jupyter-widgets/controls",
          "model_name": "FloatProgressModel",
          "model_module_version": "1.5.0",
          "state": {
            "_dom_classes": [],
            "_model_module": "@jupyter-widgets/controls",
            "_model_module_version": "1.5.0",
            "_model_name": "FloatProgressModel",
            "_view_count": null,
            "_view_module": "@jupyter-widgets/controls",
            "_view_module_version": "1.5.0",
            "_view_name": "ProgressView",
            "bar_style": "success",
            "description": "",
            "description_tooltip": null,
            "layout": "IPY_MODEL_1e73988a726a46b5aaf9676b480190bd",
            "max": 469,
            "min": 0,
            "orientation": "horizontal",
            "style": "IPY_MODEL_7120c69284064f4b9fd6dd802c45d320",
            "value": 469
          }
        },
        "04082b4bb4a14556b5ff507de8d683e7": {
          "model_module": "@jupyter-widgets/controls",
          "model_name": "HTMLModel",
          "model_module_version": "1.5.0",
          "state": {
            "_dom_classes": [],
            "_model_module": "@jupyter-widgets/controls",
            "_model_module_version": "1.5.0",
            "_model_name": "HTMLModel",
            "_view_count": null,
            "_view_module": "@jupyter-widgets/controls",
            "_view_module_version": "1.5.0",
            "_view_name": "HTMLView",
            "description": "",
            "description_tooltip": null,
            "layout": "IPY_MODEL_2e2571c76cb6494790676d2fa5b42d43",
            "placeholder": "​",
            "style": "IPY_MODEL_a909c42e427e4ace834354c4dd6aa081",
            "value": " 469/469 [01:20&lt;00:00,  6.26batch/s]"
          }
        },
        "9d97c98680db4109b7ae121ce207e8aa": {
          "model_module": "@jupyter-widgets/base",
          "model_name": "LayoutModel",
          "model_module_version": "1.2.0",
          "state": {
            "_model_module": "@jupyter-widgets/base",
            "_model_module_version": "1.2.0",
            "_model_name": "LayoutModel",
            "_view_count": null,
            "_view_module": "@jupyter-widgets/base",
            "_view_module_version": "1.2.0",
            "_view_name": "LayoutView",
            "align_content": null,
            "align_items": null,
            "align_self": null,
            "border": null,
            "bottom": null,
            "display": null,
            "flex": null,
            "flex_flow": null,
            "grid_area": null,
            "grid_auto_columns": null,
            "grid_auto_flow": null,
            "grid_auto_rows": null,
            "grid_column": null,
            "grid_gap": null,
            "grid_row": null,
            "grid_template_areas": null,
            "grid_template_columns": null,
            "grid_template_rows": null,
            "height": null,
            "justify_content": null,
            "justify_items": null,
            "left": null,
            "margin": null,
            "max_height": null,
            "max_width": null,
            "min_height": null,
            "min_width": null,
            "object_fit": null,
            "object_position": null,
            "order": null,
            "overflow": null,
            "overflow_x": null,
            "overflow_y": null,
            "padding": null,
            "right": null,
            "top": null,
            "visibility": null,
            "width": null
          }
        },
        "0445dfd4a06246f6a24da4a35f8e77a6": {
          "model_module": "@jupyter-widgets/base",
          "model_name": "LayoutModel",
          "model_module_version": "1.2.0",
          "state": {
            "_model_module": "@jupyter-widgets/base",
            "_model_module_version": "1.2.0",
            "_model_name": "LayoutModel",
            "_view_count": null,
            "_view_module": "@jupyter-widgets/base",
            "_view_module_version": "1.2.0",
            "_view_name": "LayoutView",
            "align_content": null,
            "align_items": null,
            "align_self": null,
            "border": null,
            "bottom": null,
            "display": null,
            "flex": null,
            "flex_flow": null,
            "grid_area": null,
            "grid_auto_columns": null,
            "grid_auto_flow": null,
            "grid_auto_rows": null,
            "grid_column": null,
            "grid_gap": null,
            "grid_row": null,
            "grid_template_areas": null,
            "grid_template_columns": null,
            "grid_template_rows": null,
            "height": null,
            "justify_content": null,
            "justify_items": null,
            "left": null,
            "margin": null,
            "max_height": null,
            "max_width": null,
            "min_height": null,
            "min_width": null,
            "object_fit": null,
            "object_position": null,
            "order": null,
            "overflow": null,
            "overflow_x": null,
            "overflow_y": null,
            "padding": null,
            "right": null,
            "top": null,
            "visibility": null,
            "width": null
          }
        },
        "d034bdb7742c4c0dbd26fa97aabc9141": {
          "model_module": "@jupyter-widgets/controls",
          "model_name": "DescriptionStyleModel",
          "model_module_version": "1.5.0",
          "state": {
            "_model_module": "@jupyter-widgets/controls",
            "_model_module_version": "1.5.0",
            "_model_name": "DescriptionStyleModel",
            "_view_count": null,
            "_view_module": "@jupyter-widgets/base",
            "_view_module_version": "1.2.0",
            "_view_name": "StyleView",
            "description_width": ""
          }
        },
        "1e73988a726a46b5aaf9676b480190bd": {
          "model_module": "@jupyter-widgets/base",
          "model_name": "LayoutModel",
          "model_module_version": "1.2.0",
          "state": {
            "_model_module": "@jupyter-widgets/base",
            "_model_module_version": "1.2.0",
            "_model_name": "LayoutModel",
            "_view_count": null,
            "_view_module": "@jupyter-widgets/base",
            "_view_module_version": "1.2.0",
            "_view_name": "LayoutView",
            "align_content": null,
            "align_items": null,
            "align_self": null,
            "border": null,
            "bottom": null,
            "display": null,
            "flex": null,
            "flex_flow": null,
            "grid_area": null,
            "grid_auto_columns": null,
            "grid_auto_flow": null,
            "grid_auto_rows": null,
            "grid_column": null,
            "grid_gap": null,
            "grid_row": null,
            "grid_template_areas": null,
            "grid_template_columns": null,
            "grid_template_rows": null,
            "height": null,
            "justify_content": null,
            "justify_items": null,
            "left": null,
            "margin": null,
            "max_height": null,
            "max_width": null,
            "min_height": null,
            "min_width": null,
            "object_fit": null,
            "object_position": null,
            "order": null,
            "overflow": null,
            "overflow_x": null,
            "overflow_y": null,
            "padding": null,
            "right": null,
            "top": null,
            "visibility": null,
            "width": null
          }
        },
        "7120c69284064f4b9fd6dd802c45d320": {
          "model_module": "@jupyter-widgets/controls",
          "model_name": "ProgressStyleModel",
          "model_module_version": "1.5.0",
          "state": {
            "_model_module": "@jupyter-widgets/controls",
            "_model_module_version": "1.5.0",
            "_model_name": "ProgressStyleModel",
            "_view_count": null,
            "_view_module": "@jupyter-widgets/base",
            "_view_module_version": "1.2.0",
            "_view_name": "StyleView",
            "bar_color": null,
            "description_width": ""
          }
        },
        "2e2571c76cb6494790676d2fa5b42d43": {
          "model_module": "@jupyter-widgets/base",
          "model_name": "LayoutModel",
          "model_module_version": "1.2.0",
          "state": {
            "_model_module": "@jupyter-widgets/base",
            "_model_module_version": "1.2.0",
            "_model_name": "LayoutModel",
            "_view_count": null,
            "_view_module": "@jupyter-widgets/base",
            "_view_module_version": "1.2.0",
            "_view_name": "LayoutView",
            "align_content": null,
            "align_items": null,
            "align_self": null,
            "border": null,
            "bottom": null,
            "display": null,
            "flex": null,
            "flex_flow": null,
            "grid_area": null,
            "grid_auto_columns": null,
            "grid_auto_flow": null,
            "grid_auto_rows": null,
            "grid_column": null,
            "grid_gap": null,
            "grid_row": null,
            "grid_template_areas": null,
            "grid_template_columns": null,
            "grid_template_rows": null,
            "height": null,
            "justify_content": null,
            "justify_items": null,
            "left": null,
            "margin": null,
            "max_height": null,
            "max_width": null,
            "min_height": null,
            "min_width": null,
            "object_fit": null,
            "object_position": null,
            "order": null,
            "overflow": null,
            "overflow_x": null,
            "overflow_y": null,
            "padding": null,
            "right": null,
            "top": null,
            "visibility": null,
            "width": null
          }
        },
        "a909c42e427e4ace834354c4dd6aa081": {
          "model_module": "@jupyter-widgets/controls",
          "model_name": "DescriptionStyleModel",
          "model_module_version": "1.5.0",
          "state": {
            "_model_module": "@jupyter-widgets/controls",
            "_model_module_version": "1.5.0",
            "_model_name": "DescriptionStyleModel",
            "_view_count": null,
            "_view_module": "@jupyter-widgets/base",
            "_view_module_version": "1.2.0",
            "_view_name": "StyleView",
            "description_width": ""
          }
        },
        "ffd30b085f09400c9b54ab0e2ad9273d": {
          "model_module": "@jupyter-widgets/controls",
          "model_name": "HBoxModel",
          "model_module_version": "1.5.0",
          "state": {
            "_dom_classes": [],
            "_model_module": "@jupyter-widgets/controls",
            "_model_module_version": "1.5.0",
            "_model_name": "HBoxModel",
            "_view_count": null,
            "_view_module": "@jupyter-widgets/controls",
            "_view_module_version": "1.5.0",
            "_view_name": "HBoxView",
            "box_style": "",
            "children": [
              "IPY_MODEL_20a8722acae14c8fbf07073422505460",
              "IPY_MODEL_d4fe772267c7491e8256a6648c36efe5",
              "IPY_MODEL_04d132f7bc8846fdaf9af2e4f22d48d3"
            ],
            "layout": "IPY_MODEL_9db44c2cee134d57b0866b4c21b371ce"
          }
        },
        "20a8722acae14c8fbf07073422505460": {
          "model_module": "@jupyter-widgets/controls",
          "model_name": "HTMLModel",
          "model_module_version": "1.5.0",
          "state": {
            "_dom_classes": [],
            "_model_module": "@jupyter-widgets/controls",
            "_model_module_version": "1.5.0",
            "_model_name": "HTMLModel",
            "_view_count": null,
            "_view_module": "@jupyter-widgets/controls",
            "_view_module_version": "1.5.0",
            "_view_name": "HTMLView",
            "description": "",
            "description_tooltip": null,
            "layout": "IPY_MODEL_19baed15e83b4f2e92f1f27d80a827ab",
            "placeholder": "​",
            "style": "IPY_MODEL_7d0d43b2966f45248cfac9ca2810d9d1",
            "value": "100%"
          }
        },
        "d4fe772267c7491e8256a6648c36efe5": {
          "model_module": "@jupyter-widgets/controls",
          "model_name": "FloatProgressModel",
          "model_module_version": "1.5.0",
          "state": {
            "_dom_classes": [],
            "_model_module": "@jupyter-widgets/controls",
            "_model_module_version": "1.5.0",
            "_model_name": "FloatProgressModel",
            "_view_count": null,
            "_view_module": "@jupyter-widgets/controls",
            "_view_module_version": "1.5.0",
            "_view_name": "ProgressView",
            "bar_style": "success",
            "description": "",
            "description_tooltip": null,
            "layout": "IPY_MODEL_bb48f547c4974f98a30f81a411999c21",
            "max": 469,
            "min": 0,
            "orientation": "horizontal",
            "style": "IPY_MODEL_01f80730d6504df78fe9a043285a88aa",
            "value": 469
          }
        },
        "04d132f7bc8846fdaf9af2e4f22d48d3": {
          "model_module": "@jupyter-widgets/controls",
          "model_name": "HTMLModel",
          "model_module_version": "1.5.0",
          "state": {
            "_dom_classes": [],
            "_model_module": "@jupyter-widgets/controls",
            "_model_module_version": "1.5.0",
            "_model_name": "HTMLModel",
            "_view_count": null,
            "_view_module": "@jupyter-widgets/controls",
            "_view_module_version": "1.5.0",
            "_view_name": "HTMLView",
            "description": "",
            "description_tooltip": null,
            "layout": "IPY_MODEL_e1e3c9fa69314ef19a98c5be9423b6f2",
            "placeholder": "​",
            "style": "IPY_MODEL_76c054bfdd22460dafaafa6d18d7c328",
            "value": " 469/469 [01:21&lt;00:00,  6.11batch/s]"
          }
        },
        "9db44c2cee134d57b0866b4c21b371ce": {
          "model_module": "@jupyter-widgets/base",
          "model_name": "LayoutModel",
          "model_module_version": "1.2.0",
          "state": {
            "_model_module": "@jupyter-widgets/base",
            "_model_module_version": "1.2.0",
            "_model_name": "LayoutModel",
            "_view_count": null,
            "_view_module": "@jupyter-widgets/base",
            "_view_module_version": "1.2.0",
            "_view_name": "LayoutView",
            "align_content": null,
            "align_items": null,
            "align_self": null,
            "border": null,
            "bottom": null,
            "display": null,
            "flex": null,
            "flex_flow": null,
            "grid_area": null,
            "grid_auto_columns": null,
            "grid_auto_flow": null,
            "grid_auto_rows": null,
            "grid_column": null,
            "grid_gap": null,
            "grid_row": null,
            "grid_template_areas": null,
            "grid_template_columns": null,
            "grid_template_rows": null,
            "height": null,
            "justify_content": null,
            "justify_items": null,
            "left": null,
            "margin": null,
            "max_height": null,
            "max_width": null,
            "min_height": null,
            "min_width": null,
            "object_fit": null,
            "object_position": null,
            "order": null,
            "overflow": null,
            "overflow_x": null,
            "overflow_y": null,
            "padding": null,
            "right": null,
            "top": null,
            "visibility": null,
            "width": null
          }
        },
        "19baed15e83b4f2e92f1f27d80a827ab": {
          "model_module": "@jupyter-widgets/base",
          "model_name": "LayoutModel",
          "model_module_version": "1.2.0",
          "state": {
            "_model_module": "@jupyter-widgets/base",
            "_model_module_version": "1.2.0",
            "_model_name": "LayoutModel",
            "_view_count": null,
            "_view_module": "@jupyter-widgets/base",
            "_view_module_version": "1.2.0",
            "_view_name": "LayoutView",
            "align_content": null,
            "align_items": null,
            "align_self": null,
            "border": null,
            "bottom": null,
            "display": null,
            "flex": null,
            "flex_flow": null,
            "grid_area": null,
            "grid_auto_columns": null,
            "grid_auto_flow": null,
            "grid_auto_rows": null,
            "grid_column": null,
            "grid_gap": null,
            "grid_row": null,
            "grid_template_areas": null,
            "grid_template_columns": null,
            "grid_template_rows": null,
            "height": null,
            "justify_content": null,
            "justify_items": null,
            "left": null,
            "margin": null,
            "max_height": null,
            "max_width": null,
            "min_height": null,
            "min_width": null,
            "object_fit": null,
            "object_position": null,
            "order": null,
            "overflow": null,
            "overflow_x": null,
            "overflow_y": null,
            "padding": null,
            "right": null,
            "top": null,
            "visibility": null,
            "width": null
          }
        },
        "7d0d43b2966f45248cfac9ca2810d9d1": {
          "model_module": "@jupyter-widgets/controls",
          "model_name": "DescriptionStyleModel",
          "model_module_version": "1.5.0",
          "state": {
            "_model_module": "@jupyter-widgets/controls",
            "_model_module_version": "1.5.0",
            "_model_name": "DescriptionStyleModel",
            "_view_count": null,
            "_view_module": "@jupyter-widgets/base",
            "_view_module_version": "1.2.0",
            "_view_name": "StyleView",
            "description_width": ""
          }
        },
        "bb48f547c4974f98a30f81a411999c21": {
          "model_module": "@jupyter-widgets/base",
          "model_name": "LayoutModel",
          "model_module_version": "1.2.0",
          "state": {
            "_model_module": "@jupyter-widgets/base",
            "_model_module_version": "1.2.0",
            "_model_name": "LayoutModel",
            "_view_count": null,
            "_view_module": "@jupyter-widgets/base",
            "_view_module_version": "1.2.0",
            "_view_name": "LayoutView",
            "align_content": null,
            "align_items": null,
            "align_self": null,
            "border": null,
            "bottom": null,
            "display": null,
            "flex": null,
            "flex_flow": null,
            "grid_area": null,
            "grid_auto_columns": null,
            "grid_auto_flow": null,
            "grid_auto_rows": null,
            "grid_column": null,
            "grid_gap": null,
            "grid_row": null,
            "grid_template_areas": null,
            "grid_template_columns": null,
            "grid_template_rows": null,
            "height": null,
            "justify_content": null,
            "justify_items": null,
            "left": null,
            "margin": null,
            "max_height": null,
            "max_width": null,
            "min_height": null,
            "min_width": null,
            "object_fit": null,
            "object_position": null,
            "order": null,
            "overflow": null,
            "overflow_x": null,
            "overflow_y": null,
            "padding": null,
            "right": null,
            "top": null,
            "visibility": null,
            "width": null
          }
        },
        "01f80730d6504df78fe9a043285a88aa": {
          "model_module": "@jupyter-widgets/controls",
          "model_name": "ProgressStyleModel",
          "model_module_version": "1.5.0",
          "state": {
            "_model_module": "@jupyter-widgets/controls",
            "_model_module_version": "1.5.0",
            "_model_name": "ProgressStyleModel",
            "_view_count": null,
            "_view_module": "@jupyter-widgets/base",
            "_view_module_version": "1.2.0",
            "_view_name": "StyleView",
            "bar_color": null,
            "description_width": ""
          }
        },
        "e1e3c9fa69314ef19a98c5be9423b6f2": {
          "model_module": "@jupyter-widgets/base",
          "model_name": "LayoutModel",
          "model_module_version": "1.2.0",
          "state": {
            "_model_module": "@jupyter-widgets/base",
            "_model_module_version": "1.2.0",
            "_model_name": "LayoutModel",
            "_view_count": null,
            "_view_module": "@jupyter-widgets/base",
            "_view_module_version": "1.2.0",
            "_view_name": "LayoutView",
            "align_content": null,
            "align_items": null,
            "align_self": null,
            "border": null,
            "bottom": null,
            "display": null,
            "flex": null,
            "flex_flow": null,
            "grid_area": null,
            "grid_auto_columns": null,
            "grid_auto_flow": null,
            "grid_auto_rows": null,
            "grid_column": null,
            "grid_gap": null,
            "grid_row": null,
            "grid_template_areas": null,
            "grid_template_columns": null,
            "grid_template_rows": null,
            "height": null,
            "justify_content": null,
            "justify_items": null,
            "left": null,
            "margin": null,
            "max_height": null,
            "max_width": null,
            "min_height": null,
            "min_width": null,
            "object_fit": null,
            "object_position": null,
            "order": null,
            "overflow": null,
            "overflow_x": null,
            "overflow_y": null,
            "padding": null,
            "right": null,
            "top": null,
            "visibility": null,
            "width": null
          }
        },
        "76c054bfdd22460dafaafa6d18d7c328": {
          "model_module": "@jupyter-widgets/controls",
          "model_name": "DescriptionStyleModel",
          "model_module_version": "1.5.0",
          "state": {
            "_model_module": "@jupyter-widgets/controls",
            "_model_module_version": "1.5.0",
            "_model_name": "DescriptionStyleModel",
            "_view_count": null,
            "_view_module": "@jupyter-widgets/base",
            "_view_module_version": "1.2.0",
            "_view_name": "StyleView",
            "description_width": ""
          }
        },
        "78c5126534e645aba8dd2a2652eb082c": {
          "model_module": "@jupyter-widgets/controls",
          "model_name": "HBoxModel",
          "model_module_version": "1.5.0",
          "state": {
            "_dom_classes": [],
            "_model_module": "@jupyter-widgets/controls",
            "_model_module_version": "1.5.0",
            "_model_name": "HBoxModel",
            "_view_count": null,
            "_view_module": "@jupyter-widgets/controls",
            "_view_module_version": "1.5.0",
            "_view_name": "HBoxView",
            "box_style": "",
            "children": [
              "IPY_MODEL_51838cf830b340adaf65aee9ee29d233",
              "IPY_MODEL_0869a95578654d8b9c7cb3c49d80a2f0",
              "IPY_MODEL_a94d43234c244161b0e9da4f12becb8d"
            ],
            "layout": "IPY_MODEL_67733c4ff0e84c8790f121d2cbb3cda4"
          }
        },
        "51838cf830b340adaf65aee9ee29d233": {
          "model_module": "@jupyter-widgets/controls",
          "model_name": "HTMLModel",
          "model_module_version": "1.5.0",
          "state": {
            "_dom_classes": [],
            "_model_module": "@jupyter-widgets/controls",
            "_model_module_version": "1.5.0",
            "_model_name": "HTMLModel",
            "_view_count": null,
            "_view_module": "@jupyter-widgets/controls",
            "_view_module_version": "1.5.0",
            "_view_name": "HTMLView",
            "description": "",
            "description_tooltip": null,
            "layout": "IPY_MODEL_f7402192c90d4b19b20c09be6c88198c",
            "placeholder": "​",
            "style": "IPY_MODEL_bf0a98de3e394c46afcf606d97daf754",
            "value": "100%"
          }
        },
        "0869a95578654d8b9c7cb3c49d80a2f0": {
          "model_module": "@jupyter-widgets/controls",
          "model_name": "FloatProgressModel",
          "model_module_version": "1.5.0",
          "state": {
            "_dom_classes": [],
            "_model_module": "@jupyter-widgets/controls",
            "_model_module_version": "1.5.0",
            "_model_name": "FloatProgressModel",
            "_view_count": null,
            "_view_module": "@jupyter-widgets/controls",
            "_view_module_version": "1.5.0",
            "_view_name": "ProgressView",
            "bar_style": "success",
            "description": "",
            "description_tooltip": null,
            "layout": "IPY_MODEL_c032381dfb4a4ca6b6dff7ebf8f2d5c0",
            "max": 469,
            "min": 0,
            "orientation": "horizontal",
            "style": "IPY_MODEL_db1eb0875c754edc914fb37033b08e70",
            "value": 469
          }
        },
        "a94d43234c244161b0e9da4f12becb8d": {
          "model_module": "@jupyter-widgets/controls",
          "model_name": "HTMLModel",
          "model_module_version": "1.5.0",
          "state": {
            "_dom_classes": [],
            "_model_module": "@jupyter-widgets/controls",
            "_model_module_version": "1.5.0",
            "_model_name": "HTMLModel",
            "_view_count": null,
            "_view_module": "@jupyter-widgets/controls",
            "_view_module_version": "1.5.0",
            "_view_name": "HTMLView",
            "description": "",
            "description_tooltip": null,
            "layout": "IPY_MODEL_36a220321b0640f6802fd10b44b6c644",
            "placeholder": "​",
            "style": "IPY_MODEL_edfe8de954c34065bc57ce39fe6ab84c",
            "value": " 469/469 [01:25&lt;00:00,  6.10batch/s]"
          }
        },
        "67733c4ff0e84c8790f121d2cbb3cda4": {
          "model_module": "@jupyter-widgets/base",
          "model_name": "LayoutModel",
          "model_module_version": "1.2.0",
          "state": {
            "_model_module": "@jupyter-widgets/base",
            "_model_module_version": "1.2.0",
            "_model_name": "LayoutModel",
            "_view_count": null,
            "_view_module": "@jupyter-widgets/base",
            "_view_module_version": "1.2.0",
            "_view_name": "LayoutView",
            "align_content": null,
            "align_items": null,
            "align_self": null,
            "border": null,
            "bottom": null,
            "display": null,
            "flex": null,
            "flex_flow": null,
            "grid_area": null,
            "grid_auto_columns": null,
            "grid_auto_flow": null,
            "grid_auto_rows": null,
            "grid_column": null,
            "grid_gap": null,
            "grid_row": null,
            "grid_template_areas": null,
            "grid_template_columns": null,
            "grid_template_rows": null,
            "height": null,
            "justify_content": null,
            "justify_items": null,
            "left": null,
            "margin": null,
            "max_height": null,
            "max_width": null,
            "min_height": null,
            "min_width": null,
            "object_fit": null,
            "object_position": null,
            "order": null,
            "overflow": null,
            "overflow_x": null,
            "overflow_y": null,
            "padding": null,
            "right": null,
            "top": null,
            "visibility": null,
            "width": null
          }
        },
        "f7402192c90d4b19b20c09be6c88198c": {
          "model_module": "@jupyter-widgets/base",
          "model_name": "LayoutModel",
          "model_module_version": "1.2.0",
          "state": {
            "_model_module": "@jupyter-widgets/base",
            "_model_module_version": "1.2.0",
            "_model_name": "LayoutModel",
            "_view_count": null,
            "_view_module": "@jupyter-widgets/base",
            "_view_module_version": "1.2.0",
            "_view_name": "LayoutView",
            "align_content": null,
            "align_items": null,
            "align_self": null,
            "border": null,
            "bottom": null,
            "display": null,
            "flex": null,
            "flex_flow": null,
            "grid_area": null,
            "grid_auto_columns": null,
            "grid_auto_flow": null,
            "grid_auto_rows": null,
            "grid_column": null,
            "grid_gap": null,
            "grid_row": null,
            "grid_template_areas": null,
            "grid_template_columns": null,
            "grid_template_rows": null,
            "height": null,
            "justify_content": null,
            "justify_items": null,
            "left": null,
            "margin": null,
            "max_height": null,
            "max_width": null,
            "min_height": null,
            "min_width": null,
            "object_fit": null,
            "object_position": null,
            "order": null,
            "overflow": null,
            "overflow_x": null,
            "overflow_y": null,
            "padding": null,
            "right": null,
            "top": null,
            "visibility": null,
            "width": null
          }
        },
        "bf0a98de3e394c46afcf606d97daf754": {
          "model_module": "@jupyter-widgets/controls",
          "model_name": "DescriptionStyleModel",
          "model_module_version": "1.5.0",
          "state": {
            "_model_module": "@jupyter-widgets/controls",
            "_model_module_version": "1.5.0",
            "_model_name": "DescriptionStyleModel",
            "_view_count": null,
            "_view_module": "@jupyter-widgets/base",
            "_view_module_version": "1.2.0",
            "_view_name": "StyleView",
            "description_width": ""
          }
        },
        "c032381dfb4a4ca6b6dff7ebf8f2d5c0": {
          "model_module": "@jupyter-widgets/base",
          "model_name": "LayoutModel",
          "model_module_version": "1.2.0",
          "state": {
            "_model_module": "@jupyter-widgets/base",
            "_model_module_version": "1.2.0",
            "_model_name": "LayoutModel",
            "_view_count": null,
            "_view_module": "@jupyter-widgets/base",
            "_view_module_version": "1.2.0",
            "_view_name": "LayoutView",
            "align_content": null,
            "align_items": null,
            "align_self": null,
            "border": null,
            "bottom": null,
            "display": null,
            "flex": null,
            "flex_flow": null,
            "grid_area": null,
            "grid_auto_columns": null,
            "grid_auto_flow": null,
            "grid_auto_rows": null,
            "grid_column": null,
            "grid_gap": null,
            "grid_row": null,
            "grid_template_areas": null,
            "grid_template_columns": null,
            "grid_template_rows": null,
            "height": null,
            "justify_content": null,
            "justify_items": null,
            "left": null,
            "margin": null,
            "max_height": null,
            "max_width": null,
            "min_height": null,
            "min_width": null,
            "object_fit": null,
            "object_position": null,
            "order": null,
            "overflow": null,
            "overflow_x": null,
            "overflow_y": null,
            "padding": null,
            "right": null,
            "top": null,
            "visibility": null,
            "width": null
          }
        },
        "db1eb0875c754edc914fb37033b08e70": {
          "model_module": "@jupyter-widgets/controls",
          "model_name": "ProgressStyleModel",
          "model_module_version": "1.5.0",
          "state": {
            "_model_module": "@jupyter-widgets/controls",
            "_model_module_version": "1.5.0",
            "_model_name": "ProgressStyleModel",
            "_view_count": null,
            "_view_module": "@jupyter-widgets/base",
            "_view_module_version": "1.2.0",
            "_view_name": "StyleView",
            "bar_color": null,
            "description_width": ""
          }
        },
        "36a220321b0640f6802fd10b44b6c644": {
          "model_module": "@jupyter-widgets/base",
          "model_name": "LayoutModel",
          "model_module_version": "1.2.0",
          "state": {
            "_model_module": "@jupyter-widgets/base",
            "_model_module_version": "1.2.0",
            "_model_name": "LayoutModel",
            "_view_count": null,
            "_view_module": "@jupyter-widgets/base",
            "_view_module_version": "1.2.0",
            "_view_name": "LayoutView",
            "align_content": null,
            "align_items": null,
            "align_self": null,
            "border": null,
            "bottom": null,
            "display": null,
            "flex": null,
            "flex_flow": null,
            "grid_area": null,
            "grid_auto_columns": null,
            "grid_auto_flow": null,
            "grid_auto_rows": null,
            "grid_column": null,
            "grid_gap": null,
            "grid_row": null,
            "grid_template_areas": null,
            "grid_template_columns": null,
            "grid_template_rows": null,
            "height": null,
            "justify_content": null,
            "justify_items": null,
            "left": null,
            "margin": null,
            "max_height": null,
            "max_width": null,
            "min_height": null,
            "min_width": null,
            "object_fit": null,
            "object_position": null,
            "order": null,
            "overflow": null,
            "overflow_x": null,
            "overflow_y": null,
            "padding": null,
            "right": null,
            "top": null,
            "visibility": null,
            "width": null
          }
        },
        "edfe8de954c34065bc57ce39fe6ab84c": {
          "model_module": "@jupyter-widgets/controls",
          "model_name": "DescriptionStyleModel",
          "model_module_version": "1.5.0",
          "state": {
            "_model_module": "@jupyter-widgets/controls",
            "_model_module_version": "1.5.0",
            "_model_name": "DescriptionStyleModel",
            "_view_count": null,
            "_view_module": "@jupyter-widgets/base",
            "_view_module_version": "1.2.0",
            "_view_name": "StyleView",
            "description_width": ""
          }
        },
        "70dc5e49358a49238ebfb6459bd204b8": {
          "model_module": "@jupyter-widgets/controls",
          "model_name": "HBoxModel",
          "model_module_version": "1.5.0",
          "state": {
            "_dom_classes": [],
            "_model_module": "@jupyter-widgets/controls",
            "_model_module_version": "1.5.0",
            "_model_name": "HBoxModel",
            "_view_count": null,
            "_view_module": "@jupyter-widgets/controls",
            "_view_module_version": "1.5.0",
            "_view_name": "HBoxView",
            "box_style": "",
            "children": [
              "IPY_MODEL_469bfcf554df4b94bf0e394b1aa20659",
              "IPY_MODEL_f7e38ebe821647f38a9434cddd8b5cbf",
              "IPY_MODEL_a07715e1c8164c9eaa7816d6ef5641ac"
            ],
            "layout": "IPY_MODEL_cb564354af49419a828d2cc7ef6f0ed2"
          }
        },
        "469bfcf554df4b94bf0e394b1aa20659": {
          "model_module": "@jupyter-widgets/controls",
          "model_name": "HTMLModel",
          "model_module_version": "1.5.0",
          "state": {
            "_dom_classes": [],
            "_model_module": "@jupyter-widgets/controls",
            "_model_module_version": "1.5.0",
            "_model_name": "HTMLModel",
            "_view_count": null,
            "_view_module": "@jupyter-widgets/controls",
            "_view_module_version": "1.5.0",
            "_view_name": "HTMLView",
            "description": "",
            "description_tooltip": null,
            "layout": "IPY_MODEL_fb7246067dcb42509398f8f387719077",
            "placeholder": "​",
            "style": "IPY_MODEL_c21a41c5048a4aa0bf783a47c9deba1e",
            "value": "100%"
          }
        },
        "f7e38ebe821647f38a9434cddd8b5cbf": {
          "model_module": "@jupyter-widgets/controls",
          "model_name": "FloatProgressModel",
          "model_module_version": "1.5.0",
          "state": {
            "_dom_classes": [],
            "_model_module": "@jupyter-widgets/controls",
            "_model_module_version": "1.5.0",
            "_model_name": "FloatProgressModel",
            "_view_count": null,
            "_view_module": "@jupyter-widgets/controls",
            "_view_module_version": "1.5.0",
            "_view_name": "ProgressView",
            "bar_style": "success",
            "description": "",
            "description_tooltip": null,
            "layout": "IPY_MODEL_73ac0b16a5ba49b9b2a5c5796daf9ba9",
            "max": 469,
            "min": 0,
            "orientation": "horizontal",
            "style": "IPY_MODEL_b746abf755184a49a282879c00fb8f04",
            "value": 469
          }
        },
        "a07715e1c8164c9eaa7816d6ef5641ac": {
          "model_module": "@jupyter-widgets/controls",
          "model_name": "HTMLModel",
          "model_module_version": "1.5.0",
          "state": {
            "_dom_classes": [],
            "_model_module": "@jupyter-widgets/controls",
            "_model_module_version": "1.5.0",
            "_model_name": "HTMLModel",
            "_view_count": null,
            "_view_module": "@jupyter-widgets/controls",
            "_view_module_version": "1.5.0",
            "_view_name": "HTMLView",
            "description": "",
            "description_tooltip": null,
            "layout": "IPY_MODEL_18bcef9494fa47e684de71f4aac2b719",
            "placeholder": "​",
            "style": "IPY_MODEL_26e4524631114a598ea8d5513cdb4ce6",
            "value": " 469/469 [01:21&lt;00:00,  6.20batch/s]"
          }
        },
        "cb564354af49419a828d2cc7ef6f0ed2": {
          "model_module": "@jupyter-widgets/base",
          "model_name": "LayoutModel",
          "model_module_version": "1.2.0",
          "state": {
            "_model_module": "@jupyter-widgets/base",
            "_model_module_version": "1.2.0",
            "_model_name": "LayoutModel",
            "_view_count": null,
            "_view_module": "@jupyter-widgets/base",
            "_view_module_version": "1.2.0",
            "_view_name": "LayoutView",
            "align_content": null,
            "align_items": null,
            "align_self": null,
            "border": null,
            "bottom": null,
            "display": null,
            "flex": null,
            "flex_flow": null,
            "grid_area": null,
            "grid_auto_columns": null,
            "grid_auto_flow": null,
            "grid_auto_rows": null,
            "grid_column": null,
            "grid_gap": null,
            "grid_row": null,
            "grid_template_areas": null,
            "grid_template_columns": null,
            "grid_template_rows": null,
            "height": null,
            "justify_content": null,
            "justify_items": null,
            "left": null,
            "margin": null,
            "max_height": null,
            "max_width": null,
            "min_height": null,
            "min_width": null,
            "object_fit": null,
            "object_position": null,
            "order": null,
            "overflow": null,
            "overflow_x": null,
            "overflow_y": null,
            "padding": null,
            "right": null,
            "top": null,
            "visibility": null,
            "width": null
          }
        },
        "fb7246067dcb42509398f8f387719077": {
          "model_module": "@jupyter-widgets/base",
          "model_name": "LayoutModel",
          "model_module_version": "1.2.0",
          "state": {
            "_model_module": "@jupyter-widgets/base",
            "_model_module_version": "1.2.0",
            "_model_name": "LayoutModel",
            "_view_count": null,
            "_view_module": "@jupyter-widgets/base",
            "_view_module_version": "1.2.0",
            "_view_name": "LayoutView",
            "align_content": null,
            "align_items": null,
            "align_self": null,
            "border": null,
            "bottom": null,
            "display": null,
            "flex": null,
            "flex_flow": null,
            "grid_area": null,
            "grid_auto_columns": null,
            "grid_auto_flow": null,
            "grid_auto_rows": null,
            "grid_column": null,
            "grid_gap": null,
            "grid_row": null,
            "grid_template_areas": null,
            "grid_template_columns": null,
            "grid_template_rows": null,
            "height": null,
            "justify_content": null,
            "justify_items": null,
            "left": null,
            "margin": null,
            "max_height": null,
            "max_width": null,
            "min_height": null,
            "min_width": null,
            "object_fit": null,
            "object_position": null,
            "order": null,
            "overflow": null,
            "overflow_x": null,
            "overflow_y": null,
            "padding": null,
            "right": null,
            "top": null,
            "visibility": null,
            "width": null
          }
        },
        "c21a41c5048a4aa0bf783a47c9deba1e": {
          "model_module": "@jupyter-widgets/controls",
          "model_name": "DescriptionStyleModel",
          "model_module_version": "1.5.0",
          "state": {
            "_model_module": "@jupyter-widgets/controls",
            "_model_module_version": "1.5.0",
            "_model_name": "DescriptionStyleModel",
            "_view_count": null,
            "_view_module": "@jupyter-widgets/base",
            "_view_module_version": "1.2.0",
            "_view_name": "StyleView",
            "description_width": ""
          }
        },
        "73ac0b16a5ba49b9b2a5c5796daf9ba9": {
          "model_module": "@jupyter-widgets/base",
          "model_name": "LayoutModel",
          "model_module_version": "1.2.0",
          "state": {
            "_model_module": "@jupyter-widgets/base",
            "_model_module_version": "1.2.0",
            "_model_name": "LayoutModel",
            "_view_count": null,
            "_view_module": "@jupyter-widgets/base",
            "_view_module_version": "1.2.0",
            "_view_name": "LayoutView",
            "align_content": null,
            "align_items": null,
            "align_self": null,
            "border": null,
            "bottom": null,
            "display": null,
            "flex": null,
            "flex_flow": null,
            "grid_area": null,
            "grid_auto_columns": null,
            "grid_auto_flow": null,
            "grid_auto_rows": null,
            "grid_column": null,
            "grid_gap": null,
            "grid_row": null,
            "grid_template_areas": null,
            "grid_template_columns": null,
            "grid_template_rows": null,
            "height": null,
            "justify_content": null,
            "justify_items": null,
            "left": null,
            "margin": null,
            "max_height": null,
            "max_width": null,
            "min_height": null,
            "min_width": null,
            "object_fit": null,
            "object_position": null,
            "order": null,
            "overflow": null,
            "overflow_x": null,
            "overflow_y": null,
            "padding": null,
            "right": null,
            "top": null,
            "visibility": null,
            "width": null
          }
        },
        "b746abf755184a49a282879c00fb8f04": {
          "model_module": "@jupyter-widgets/controls",
          "model_name": "ProgressStyleModel",
          "model_module_version": "1.5.0",
          "state": {
            "_model_module": "@jupyter-widgets/controls",
            "_model_module_version": "1.5.0",
            "_model_name": "ProgressStyleModel",
            "_view_count": null,
            "_view_module": "@jupyter-widgets/base",
            "_view_module_version": "1.2.0",
            "_view_name": "StyleView",
            "bar_color": null,
            "description_width": ""
          }
        },
        "18bcef9494fa47e684de71f4aac2b719": {
          "model_module": "@jupyter-widgets/base",
          "model_name": "LayoutModel",
          "model_module_version": "1.2.0",
          "state": {
            "_model_module": "@jupyter-widgets/base",
            "_model_module_version": "1.2.0",
            "_model_name": "LayoutModel",
            "_view_count": null,
            "_view_module": "@jupyter-widgets/base",
            "_view_module_version": "1.2.0",
            "_view_name": "LayoutView",
            "align_content": null,
            "align_items": null,
            "align_self": null,
            "border": null,
            "bottom": null,
            "display": null,
            "flex": null,
            "flex_flow": null,
            "grid_area": null,
            "grid_auto_columns": null,
            "grid_auto_flow": null,
            "grid_auto_rows": null,
            "grid_column": null,
            "grid_gap": null,
            "grid_row": null,
            "grid_template_areas": null,
            "grid_template_columns": null,
            "grid_template_rows": null,
            "height": null,
            "justify_content": null,
            "justify_items": null,
            "left": null,
            "margin": null,
            "max_height": null,
            "max_width": null,
            "min_height": null,
            "min_width": null,
            "object_fit": null,
            "object_position": null,
            "order": null,
            "overflow": null,
            "overflow_x": null,
            "overflow_y": null,
            "padding": null,
            "right": null,
            "top": null,
            "visibility": null,
            "width": null
          }
        },
        "26e4524631114a598ea8d5513cdb4ce6": {
          "model_module": "@jupyter-widgets/controls",
          "model_name": "DescriptionStyleModel",
          "model_module_version": "1.5.0",
          "state": {
            "_model_module": "@jupyter-widgets/controls",
            "_model_module_version": "1.5.0",
            "_model_name": "DescriptionStyleModel",
            "_view_count": null,
            "_view_module": "@jupyter-widgets/base",
            "_view_module_version": "1.2.0",
            "_view_name": "StyleView",
            "description_width": ""
          }
        },
        "a7605e25dd274b87a6de5ca8e6a04183": {
          "model_module": "@jupyter-widgets/controls",
          "model_name": "HBoxModel",
          "model_module_version": "1.5.0",
          "state": {
            "_dom_classes": [],
            "_model_module": "@jupyter-widgets/controls",
            "_model_module_version": "1.5.0",
            "_model_name": "HBoxModel",
            "_view_count": null,
            "_view_module": "@jupyter-widgets/controls",
            "_view_module_version": "1.5.0",
            "_view_name": "HBoxView",
            "box_style": "",
            "children": [
              "IPY_MODEL_e0c4c91a9e0f41c1bddd0aa162c72978",
              "IPY_MODEL_38cdb85b21c848e9ba9c1e90dd178961",
              "IPY_MODEL_79c006533b604554b1053729678631d6"
            ],
            "layout": "IPY_MODEL_23d761724ec44644b17fe10ec95a7352"
          }
        },
        "e0c4c91a9e0f41c1bddd0aa162c72978": {
          "model_module": "@jupyter-widgets/controls",
          "model_name": "HTMLModel",
          "model_module_version": "1.5.0",
          "state": {
            "_dom_classes": [],
            "_model_module": "@jupyter-widgets/controls",
            "_model_module_version": "1.5.0",
            "_model_name": "HTMLModel",
            "_view_count": null,
            "_view_module": "@jupyter-widgets/controls",
            "_view_module_version": "1.5.0",
            "_view_name": "HTMLView",
            "description": "",
            "description_tooltip": null,
            "layout": "IPY_MODEL_ad168392a1bd4b098fd7286defd0d8ad",
            "placeholder": "​",
            "style": "IPY_MODEL_814cf15f4e354660afbe5201556298ce",
            "value": "100%"
          }
        },
        "38cdb85b21c848e9ba9c1e90dd178961": {
          "model_module": "@jupyter-widgets/controls",
          "model_name": "FloatProgressModel",
          "model_module_version": "1.5.0",
          "state": {
            "_dom_classes": [],
            "_model_module": "@jupyter-widgets/controls",
            "_model_module_version": "1.5.0",
            "_model_name": "FloatProgressModel",
            "_view_count": null,
            "_view_module": "@jupyter-widgets/controls",
            "_view_module_version": "1.5.0",
            "_view_name": "ProgressView",
            "bar_style": "success",
            "description": "",
            "description_tooltip": null,
            "layout": "IPY_MODEL_d9603edfadf64d3185ae94499a0be30c",
            "max": 469,
            "min": 0,
            "orientation": "horizontal",
            "style": "IPY_MODEL_007d07d608714c3bb0bce31e23c3b934",
            "value": 469
          }
        },
        "79c006533b604554b1053729678631d6": {
          "model_module": "@jupyter-widgets/controls",
          "model_name": "HTMLModel",
          "model_module_version": "1.5.0",
          "state": {
            "_dom_classes": [],
            "_model_module": "@jupyter-widgets/controls",
            "_model_module_version": "1.5.0",
            "_model_name": "HTMLModel",
            "_view_count": null,
            "_view_module": "@jupyter-widgets/controls",
            "_view_module_version": "1.5.0",
            "_view_name": "HTMLView",
            "description": "",
            "description_tooltip": null,
            "layout": "IPY_MODEL_e83b9c455d8b4790b75acda5e9d87609",
            "placeholder": "​",
            "style": "IPY_MODEL_09a5456177514bdd95b6d248b91be57d",
            "value": " 469/469 [01:20&lt;00:00,  6.26batch/s]"
          }
        },
        "23d761724ec44644b17fe10ec95a7352": {
          "model_module": "@jupyter-widgets/base",
          "model_name": "LayoutModel",
          "model_module_version": "1.2.0",
          "state": {
            "_model_module": "@jupyter-widgets/base",
            "_model_module_version": "1.2.0",
            "_model_name": "LayoutModel",
            "_view_count": null,
            "_view_module": "@jupyter-widgets/base",
            "_view_module_version": "1.2.0",
            "_view_name": "LayoutView",
            "align_content": null,
            "align_items": null,
            "align_self": null,
            "border": null,
            "bottom": null,
            "display": null,
            "flex": null,
            "flex_flow": null,
            "grid_area": null,
            "grid_auto_columns": null,
            "grid_auto_flow": null,
            "grid_auto_rows": null,
            "grid_column": null,
            "grid_gap": null,
            "grid_row": null,
            "grid_template_areas": null,
            "grid_template_columns": null,
            "grid_template_rows": null,
            "height": null,
            "justify_content": null,
            "justify_items": null,
            "left": null,
            "margin": null,
            "max_height": null,
            "max_width": null,
            "min_height": null,
            "min_width": null,
            "object_fit": null,
            "object_position": null,
            "order": null,
            "overflow": null,
            "overflow_x": null,
            "overflow_y": null,
            "padding": null,
            "right": null,
            "top": null,
            "visibility": null,
            "width": null
          }
        },
        "ad168392a1bd4b098fd7286defd0d8ad": {
          "model_module": "@jupyter-widgets/base",
          "model_name": "LayoutModel",
          "model_module_version": "1.2.0",
          "state": {
            "_model_module": "@jupyter-widgets/base",
            "_model_module_version": "1.2.0",
            "_model_name": "LayoutModel",
            "_view_count": null,
            "_view_module": "@jupyter-widgets/base",
            "_view_module_version": "1.2.0",
            "_view_name": "LayoutView",
            "align_content": null,
            "align_items": null,
            "align_self": null,
            "border": null,
            "bottom": null,
            "display": null,
            "flex": null,
            "flex_flow": null,
            "grid_area": null,
            "grid_auto_columns": null,
            "grid_auto_flow": null,
            "grid_auto_rows": null,
            "grid_column": null,
            "grid_gap": null,
            "grid_row": null,
            "grid_template_areas": null,
            "grid_template_columns": null,
            "grid_template_rows": null,
            "height": null,
            "justify_content": null,
            "justify_items": null,
            "left": null,
            "margin": null,
            "max_height": null,
            "max_width": null,
            "min_height": null,
            "min_width": null,
            "object_fit": null,
            "object_position": null,
            "order": null,
            "overflow": null,
            "overflow_x": null,
            "overflow_y": null,
            "padding": null,
            "right": null,
            "top": null,
            "visibility": null,
            "width": null
          }
        },
        "814cf15f4e354660afbe5201556298ce": {
          "model_module": "@jupyter-widgets/controls",
          "model_name": "DescriptionStyleModel",
          "model_module_version": "1.5.0",
          "state": {
            "_model_module": "@jupyter-widgets/controls",
            "_model_module_version": "1.5.0",
            "_model_name": "DescriptionStyleModel",
            "_view_count": null,
            "_view_module": "@jupyter-widgets/base",
            "_view_module_version": "1.2.0",
            "_view_name": "StyleView",
            "description_width": ""
          }
        },
        "d9603edfadf64d3185ae94499a0be30c": {
          "model_module": "@jupyter-widgets/base",
          "model_name": "LayoutModel",
          "model_module_version": "1.2.0",
          "state": {
            "_model_module": "@jupyter-widgets/base",
            "_model_module_version": "1.2.0",
            "_model_name": "LayoutModel",
            "_view_count": null,
            "_view_module": "@jupyter-widgets/base",
            "_view_module_version": "1.2.0",
            "_view_name": "LayoutView",
            "align_content": null,
            "align_items": null,
            "align_self": null,
            "border": null,
            "bottom": null,
            "display": null,
            "flex": null,
            "flex_flow": null,
            "grid_area": null,
            "grid_auto_columns": null,
            "grid_auto_flow": null,
            "grid_auto_rows": null,
            "grid_column": null,
            "grid_gap": null,
            "grid_row": null,
            "grid_template_areas": null,
            "grid_template_columns": null,
            "grid_template_rows": null,
            "height": null,
            "justify_content": null,
            "justify_items": null,
            "left": null,
            "margin": null,
            "max_height": null,
            "max_width": null,
            "min_height": null,
            "min_width": null,
            "object_fit": null,
            "object_position": null,
            "order": null,
            "overflow": null,
            "overflow_x": null,
            "overflow_y": null,
            "padding": null,
            "right": null,
            "top": null,
            "visibility": null,
            "width": null
          }
        },
        "007d07d608714c3bb0bce31e23c3b934": {
          "model_module": "@jupyter-widgets/controls",
          "model_name": "ProgressStyleModel",
          "model_module_version": "1.5.0",
          "state": {
            "_model_module": "@jupyter-widgets/controls",
            "_model_module_version": "1.5.0",
            "_model_name": "ProgressStyleModel",
            "_view_count": null,
            "_view_module": "@jupyter-widgets/base",
            "_view_module_version": "1.2.0",
            "_view_name": "StyleView",
            "bar_color": null,
            "description_width": ""
          }
        },
        "e83b9c455d8b4790b75acda5e9d87609": {
          "model_module": "@jupyter-widgets/base",
          "model_name": "LayoutModel",
          "model_module_version": "1.2.0",
          "state": {
            "_model_module": "@jupyter-widgets/base",
            "_model_module_version": "1.2.0",
            "_model_name": "LayoutModel",
            "_view_count": null,
            "_view_module": "@jupyter-widgets/base",
            "_view_module_version": "1.2.0",
            "_view_name": "LayoutView",
            "align_content": null,
            "align_items": null,
            "align_self": null,
            "border": null,
            "bottom": null,
            "display": null,
            "flex": null,
            "flex_flow": null,
            "grid_area": null,
            "grid_auto_columns": null,
            "grid_auto_flow": null,
            "grid_auto_rows": null,
            "grid_column": null,
            "grid_gap": null,
            "grid_row": null,
            "grid_template_areas": null,
            "grid_template_columns": null,
            "grid_template_rows": null,
            "height": null,
            "justify_content": null,
            "justify_items": null,
            "left": null,
            "margin": null,
            "max_height": null,
            "max_width": null,
            "min_height": null,
            "min_width": null,
            "object_fit": null,
            "object_position": null,
            "order": null,
            "overflow": null,
            "overflow_x": null,
            "overflow_y": null,
            "padding": null,
            "right": null,
            "top": null,
            "visibility": null,
            "width": null
          }
        },
        "09a5456177514bdd95b6d248b91be57d": {
          "model_module": "@jupyter-widgets/controls",
          "model_name": "DescriptionStyleModel",
          "model_module_version": "1.5.0",
          "state": {
            "_model_module": "@jupyter-widgets/controls",
            "_model_module_version": "1.5.0",
            "_model_name": "DescriptionStyleModel",
            "_view_count": null,
            "_view_module": "@jupyter-widgets/base",
            "_view_module_version": "1.2.0",
            "_view_name": "StyleView",
            "description_width": ""
          }
        },
        "4ad8f49ce9a448b881cc3fda3545fc86": {
          "model_module": "@jupyter-widgets/controls",
          "model_name": "HBoxModel",
          "model_module_version": "1.5.0",
          "state": {
            "_dom_classes": [],
            "_model_module": "@jupyter-widgets/controls",
            "_model_module_version": "1.5.0",
            "_model_name": "HBoxModel",
            "_view_count": null,
            "_view_module": "@jupyter-widgets/controls",
            "_view_module_version": "1.5.0",
            "_view_name": "HBoxView",
            "box_style": "",
            "children": [
              "IPY_MODEL_3f3104fd7dc844ee99c7ea6f9282ccc2",
              "IPY_MODEL_df74ae1c8509499cb85cde4d455ed0be",
              "IPY_MODEL_c2403852599847838a1f63261469ccf2"
            ],
            "layout": "IPY_MODEL_f9d46f03f6b84d16b942f364b1a05341"
          }
        },
        "3f3104fd7dc844ee99c7ea6f9282ccc2": {
          "model_module": "@jupyter-widgets/controls",
          "model_name": "HTMLModel",
          "model_module_version": "1.5.0",
          "state": {
            "_dom_classes": [],
            "_model_module": "@jupyter-widgets/controls",
            "_model_module_version": "1.5.0",
            "_model_name": "HTMLModel",
            "_view_count": null,
            "_view_module": "@jupyter-widgets/controls",
            "_view_module_version": "1.5.0",
            "_view_name": "HTMLView",
            "description": "",
            "description_tooltip": null,
            "layout": "IPY_MODEL_c04262d15c46430f9fee1988f66b1bd7",
            "placeholder": "​",
            "style": "IPY_MODEL_31add870fe8e47478b7b8dab84bc6151",
            "value": "100%"
          }
        },
        "df74ae1c8509499cb85cde4d455ed0be": {
          "model_module": "@jupyter-widgets/controls",
          "model_name": "FloatProgressModel",
          "model_module_version": "1.5.0",
          "state": {
            "_dom_classes": [],
            "_model_module": "@jupyter-widgets/controls",
            "_model_module_version": "1.5.0",
            "_model_name": "FloatProgressModel",
            "_view_count": null,
            "_view_module": "@jupyter-widgets/controls",
            "_view_module_version": "1.5.0",
            "_view_name": "ProgressView",
            "bar_style": "success",
            "description": "",
            "description_tooltip": null,
            "layout": "IPY_MODEL_e1c9019a2bb84aee8c4afbaeefdfd29a",
            "max": 469,
            "min": 0,
            "orientation": "horizontal",
            "style": "IPY_MODEL_8e8f116eba624acbb8c40940effcc096",
            "value": 469
          }
        },
        "c2403852599847838a1f63261469ccf2": {
          "model_module": "@jupyter-widgets/controls",
          "model_name": "HTMLModel",
          "model_module_version": "1.5.0",
          "state": {
            "_dom_classes": [],
            "_model_module": "@jupyter-widgets/controls",
            "_model_module_version": "1.5.0",
            "_model_name": "HTMLModel",
            "_view_count": null,
            "_view_module": "@jupyter-widgets/controls",
            "_view_module_version": "1.5.0",
            "_view_name": "HTMLView",
            "description": "",
            "description_tooltip": null,
            "layout": "IPY_MODEL_5a56a5496fde41e681dad91efdee2702",
            "placeholder": "​",
            "style": "IPY_MODEL_ed24f22c0cd543538547adb14ef26b07",
            "value": " 469/469 [01:19&lt;00:00,  6.25batch/s]"
          }
        },
        "f9d46f03f6b84d16b942f364b1a05341": {
          "model_module": "@jupyter-widgets/base",
          "model_name": "LayoutModel",
          "model_module_version": "1.2.0",
          "state": {
            "_model_module": "@jupyter-widgets/base",
            "_model_module_version": "1.2.0",
            "_model_name": "LayoutModel",
            "_view_count": null,
            "_view_module": "@jupyter-widgets/base",
            "_view_module_version": "1.2.0",
            "_view_name": "LayoutView",
            "align_content": null,
            "align_items": null,
            "align_self": null,
            "border": null,
            "bottom": null,
            "display": null,
            "flex": null,
            "flex_flow": null,
            "grid_area": null,
            "grid_auto_columns": null,
            "grid_auto_flow": null,
            "grid_auto_rows": null,
            "grid_column": null,
            "grid_gap": null,
            "grid_row": null,
            "grid_template_areas": null,
            "grid_template_columns": null,
            "grid_template_rows": null,
            "height": null,
            "justify_content": null,
            "justify_items": null,
            "left": null,
            "margin": null,
            "max_height": null,
            "max_width": null,
            "min_height": null,
            "min_width": null,
            "object_fit": null,
            "object_position": null,
            "order": null,
            "overflow": null,
            "overflow_x": null,
            "overflow_y": null,
            "padding": null,
            "right": null,
            "top": null,
            "visibility": null,
            "width": null
          }
        },
        "c04262d15c46430f9fee1988f66b1bd7": {
          "model_module": "@jupyter-widgets/base",
          "model_name": "LayoutModel",
          "model_module_version": "1.2.0",
          "state": {
            "_model_module": "@jupyter-widgets/base",
            "_model_module_version": "1.2.0",
            "_model_name": "LayoutModel",
            "_view_count": null,
            "_view_module": "@jupyter-widgets/base",
            "_view_module_version": "1.2.0",
            "_view_name": "LayoutView",
            "align_content": null,
            "align_items": null,
            "align_self": null,
            "border": null,
            "bottom": null,
            "display": null,
            "flex": null,
            "flex_flow": null,
            "grid_area": null,
            "grid_auto_columns": null,
            "grid_auto_flow": null,
            "grid_auto_rows": null,
            "grid_column": null,
            "grid_gap": null,
            "grid_row": null,
            "grid_template_areas": null,
            "grid_template_columns": null,
            "grid_template_rows": null,
            "height": null,
            "justify_content": null,
            "justify_items": null,
            "left": null,
            "margin": null,
            "max_height": null,
            "max_width": null,
            "min_height": null,
            "min_width": null,
            "object_fit": null,
            "object_position": null,
            "order": null,
            "overflow": null,
            "overflow_x": null,
            "overflow_y": null,
            "padding": null,
            "right": null,
            "top": null,
            "visibility": null,
            "width": null
          }
        },
        "31add870fe8e47478b7b8dab84bc6151": {
          "model_module": "@jupyter-widgets/controls",
          "model_name": "DescriptionStyleModel",
          "model_module_version": "1.5.0",
          "state": {
            "_model_module": "@jupyter-widgets/controls",
            "_model_module_version": "1.5.0",
            "_model_name": "DescriptionStyleModel",
            "_view_count": null,
            "_view_module": "@jupyter-widgets/base",
            "_view_module_version": "1.2.0",
            "_view_name": "StyleView",
            "description_width": ""
          }
        },
        "e1c9019a2bb84aee8c4afbaeefdfd29a": {
          "model_module": "@jupyter-widgets/base",
          "model_name": "LayoutModel",
          "model_module_version": "1.2.0",
          "state": {
            "_model_module": "@jupyter-widgets/base",
            "_model_module_version": "1.2.0",
            "_model_name": "LayoutModel",
            "_view_count": null,
            "_view_module": "@jupyter-widgets/base",
            "_view_module_version": "1.2.0",
            "_view_name": "LayoutView",
            "align_content": null,
            "align_items": null,
            "align_self": null,
            "border": null,
            "bottom": null,
            "display": null,
            "flex": null,
            "flex_flow": null,
            "grid_area": null,
            "grid_auto_columns": null,
            "grid_auto_flow": null,
            "grid_auto_rows": null,
            "grid_column": null,
            "grid_gap": null,
            "grid_row": null,
            "grid_template_areas": null,
            "grid_template_columns": null,
            "grid_template_rows": null,
            "height": null,
            "justify_content": null,
            "justify_items": null,
            "left": null,
            "margin": null,
            "max_height": null,
            "max_width": null,
            "min_height": null,
            "min_width": null,
            "object_fit": null,
            "object_position": null,
            "order": null,
            "overflow": null,
            "overflow_x": null,
            "overflow_y": null,
            "padding": null,
            "right": null,
            "top": null,
            "visibility": null,
            "width": null
          }
        },
        "8e8f116eba624acbb8c40940effcc096": {
          "model_module": "@jupyter-widgets/controls",
          "model_name": "ProgressStyleModel",
          "model_module_version": "1.5.0",
          "state": {
            "_model_module": "@jupyter-widgets/controls",
            "_model_module_version": "1.5.0",
            "_model_name": "ProgressStyleModel",
            "_view_count": null,
            "_view_module": "@jupyter-widgets/base",
            "_view_module_version": "1.2.0",
            "_view_name": "StyleView",
            "bar_color": null,
            "description_width": ""
          }
        },
        "5a56a5496fde41e681dad91efdee2702": {
          "model_module": "@jupyter-widgets/base",
          "model_name": "LayoutModel",
          "model_module_version": "1.2.0",
          "state": {
            "_model_module": "@jupyter-widgets/base",
            "_model_module_version": "1.2.0",
            "_model_name": "LayoutModel",
            "_view_count": null,
            "_view_module": "@jupyter-widgets/base",
            "_view_module_version": "1.2.0",
            "_view_name": "LayoutView",
            "align_content": null,
            "align_items": null,
            "align_self": null,
            "border": null,
            "bottom": null,
            "display": null,
            "flex": null,
            "flex_flow": null,
            "grid_area": null,
            "grid_auto_columns": null,
            "grid_auto_flow": null,
            "grid_auto_rows": null,
            "grid_column": null,
            "grid_gap": null,
            "grid_row": null,
            "grid_template_areas": null,
            "grid_template_columns": null,
            "grid_template_rows": null,
            "height": null,
            "justify_content": null,
            "justify_items": null,
            "left": null,
            "margin": null,
            "max_height": null,
            "max_width": null,
            "min_height": null,
            "min_width": null,
            "object_fit": null,
            "object_position": null,
            "order": null,
            "overflow": null,
            "overflow_x": null,
            "overflow_y": null,
            "padding": null,
            "right": null,
            "top": null,
            "visibility": null,
            "width": null
          }
        },
        "ed24f22c0cd543538547adb14ef26b07": {
          "model_module": "@jupyter-widgets/controls",
          "model_name": "DescriptionStyleModel",
          "model_module_version": "1.5.0",
          "state": {
            "_model_module": "@jupyter-widgets/controls",
            "_model_module_version": "1.5.0",
            "_model_name": "DescriptionStyleModel",
            "_view_count": null,
            "_view_module": "@jupyter-widgets/base",
            "_view_module_version": "1.2.0",
            "_view_name": "StyleView",
            "description_width": ""
          }
        },
        "ce0de2c444cf44cc9c6d4b54c81084bc": {
          "model_module": "@jupyter-widgets/controls",
          "model_name": "HBoxModel",
          "model_module_version": "1.5.0",
          "state": {
            "_dom_classes": [],
            "_model_module": "@jupyter-widgets/controls",
            "_model_module_version": "1.5.0",
            "_model_name": "HBoxModel",
            "_view_count": null,
            "_view_module": "@jupyter-widgets/controls",
            "_view_module_version": "1.5.0",
            "_view_name": "HBoxView",
            "box_style": "",
            "children": [
              "IPY_MODEL_c3967e9a879442a380adbecbae190241",
              "IPY_MODEL_4100bd4054b54796b474b26e308f9e6d",
              "IPY_MODEL_f76d848a58bd4c6a8cb475ef54af308a"
            ],
            "layout": "IPY_MODEL_f93ce67d1f694ca69e34905421665cee"
          }
        },
        "c3967e9a879442a380adbecbae190241": {
          "model_module": "@jupyter-widgets/controls",
          "model_name": "HTMLModel",
          "model_module_version": "1.5.0",
          "state": {
            "_dom_classes": [],
            "_model_module": "@jupyter-widgets/controls",
            "_model_module_version": "1.5.0",
            "_model_name": "HTMLModel",
            "_view_count": null,
            "_view_module": "@jupyter-widgets/controls",
            "_view_module_version": "1.5.0",
            "_view_name": "HTMLView",
            "description": "",
            "description_tooltip": null,
            "layout": "IPY_MODEL_a14d019cd527473a880f5a3a597ce0c9",
            "placeholder": "​",
            "style": "IPY_MODEL_7eaaa3a710824138a676f25241fa5af0",
            "value": "100%"
          }
        },
        "4100bd4054b54796b474b26e308f9e6d": {
          "model_module": "@jupyter-widgets/controls",
          "model_name": "FloatProgressModel",
          "model_module_version": "1.5.0",
          "state": {
            "_dom_classes": [],
            "_model_module": "@jupyter-widgets/controls",
            "_model_module_version": "1.5.0",
            "_model_name": "FloatProgressModel",
            "_view_count": null,
            "_view_module": "@jupyter-widgets/controls",
            "_view_module_version": "1.5.0",
            "_view_name": "ProgressView",
            "bar_style": "success",
            "description": "",
            "description_tooltip": null,
            "layout": "IPY_MODEL_5dcf619ef27748ffad51879cd13cc497",
            "max": 469,
            "min": 0,
            "orientation": "horizontal",
            "style": "IPY_MODEL_701165ede22243f5a0b31a86e1eeb666",
            "value": 469
          }
        },
        "f76d848a58bd4c6a8cb475ef54af308a": {
          "model_module": "@jupyter-widgets/controls",
          "model_name": "HTMLModel",
          "model_module_version": "1.5.0",
          "state": {
            "_dom_classes": [],
            "_model_module": "@jupyter-widgets/controls",
            "_model_module_version": "1.5.0",
            "_model_name": "HTMLModel",
            "_view_count": null,
            "_view_module": "@jupyter-widgets/controls",
            "_view_module_version": "1.5.0",
            "_view_name": "HTMLView",
            "description": "",
            "description_tooltip": null,
            "layout": "IPY_MODEL_8505b2ccfb3a48ba91d17cb8ed51c01e",
            "placeholder": "​",
            "style": "IPY_MODEL_108110363d194be583cd97285b313c77",
            "value": " 469/469 [01:19&lt;00:00,  6.28batch/s]"
          }
        },
        "f93ce67d1f694ca69e34905421665cee": {
          "model_module": "@jupyter-widgets/base",
          "model_name": "LayoutModel",
          "model_module_version": "1.2.0",
          "state": {
            "_model_module": "@jupyter-widgets/base",
            "_model_module_version": "1.2.0",
            "_model_name": "LayoutModel",
            "_view_count": null,
            "_view_module": "@jupyter-widgets/base",
            "_view_module_version": "1.2.0",
            "_view_name": "LayoutView",
            "align_content": null,
            "align_items": null,
            "align_self": null,
            "border": null,
            "bottom": null,
            "display": null,
            "flex": null,
            "flex_flow": null,
            "grid_area": null,
            "grid_auto_columns": null,
            "grid_auto_flow": null,
            "grid_auto_rows": null,
            "grid_column": null,
            "grid_gap": null,
            "grid_row": null,
            "grid_template_areas": null,
            "grid_template_columns": null,
            "grid_template_rows": null,
            "height": null,
            "justify_content": null,
            "justify_items": null,
            "left": null,
            "margin": null,
            "max_height": null,
            "max_width": null,
            "min_height": null,
            "min_width": null,
            "object_fit": null,
            "object_position": null,
            "order": null,
            "overflow": null,
            "overflow_x": null,
            "overflow_y": null,
            "padding": null,
            "right": null,
            "top": null,
            "visibility": null,
            "width": null
          }
        },
        "a14d019cd527473a880f5a3a597ce0c9": {
          "model_module": "@jupyter-widgets/base",
          "model_name": "LayoutModel",
          "model_module_version": "1.2.0",
          "state": {
            "_model_module": "@jupyter-widgets/base",
            "_model_module_version": "1.2.0",
            "_model_name": "LayoutModel",
            "_view_count": null,
            "_view_module": "@jupyter-widgets/base",
            "_view_module_version": "1.2.0",
            "_view_name": "LayoutView",
            "align_content": null,
            "align_items": null,
            "align_self": null,
            "border": null,
            "bottom": null,
            "display": null,
            "flex": null,
            "flex_flow": null,
            "grid_area": null,
            "grid_auto_columns": null,
            "grid_auto_flow": null,
            "grid_auto_rows": null,
            "grid_column": null,
            "grid_gap": null,
            "grid_row": null,
            "grid_template_areas": null,
            "grid_template_columns": null,
            "grid_template_rows": null,
            "height": null,
            "justify_content": null,
            "justify_items": null,
            "left": null,
            "margin": null,
            "max_height": null,
            "max_width": null,
            "min_height": null,
            "min_width": null,
            "object_fit": null,
            "object_position": null,
            "order": null,
            "overflow": null,
            "overflow_x": null,
            "overflow_y": null,
            "padding": null,
            "right": null,
            "top": null,
            "visibility": null,
            "width": null
          }
        },
        "7eaaa3a710824138a676f25241fa5af0": {
          "model_module": "@jupyter-widgets/controls",
          "model_name": "DescriptionStyleModel",
          "model_module_version": "1.5.0",
          "state": {
            "_model_module": "@jupyter-widgets/controls",
            "_model_module_version": "1.5.0",
            "_model_name": "DescriptionStyleModel",
            "_view_count": null,
            "_view_module": "@jupyter-widgets/base",
            "_view_module_version": "1.2.0",
            "_view_name": "StyleView",
            "description_width": ""
          }
        },
        "5dcf619ef27748ffad51879cd13cc497": {
          "model_module": "@jupyter-widgets/base",
          "model_name": "LayoutModel",
          "model_module_version": "1.2.0",
          "state": {
            "_model_module": "@jupyter-widgets/base",
            "_model_module_version": "1.2.0",
            "_model_name": "LayoutModel",
            "_view_count": null,
            "_view_module": "@jupyter-widgets/base",
            "_view_module_version": "1.2.0",
            "_view_name": "LayoutView",
            "align_content": null,
            "align_items": null,
            "align_self": null,
            "border": null,
            "bottom": null,
            "display": null,
            "flex": null,
            "flex_flow": null,
            "grid_area": null,
            "grid_auto_columns": null,
            "grid_auto_flow": null,
            "grid_auto_rows": null,
            "grid_column": null,
            "grid_gap": null,
            "grid_row": null,
            "grid_template_areas": null,
            "grid_template_columns": null,
            "grid_template_rows": null,
            "height": null,
            "justify_content": null,
            "justify_items": null,
            "left": null,
            "margin": null,
            "max_height": null,
            "max_width": null,
            "min_height": null,
            "min_width": null,
            "object_fit": null,
            "object_position": null,
            "order": null,
            "overflow": null,
            "overflow_x": null,
            "overflow_y": null,
            "padding": null,
            "right": null,
            "top": null,
            "visibility": null,
            "width": null
          }
        },
        "701165ede22243f5a0b31a86e1eeb666": {
          "model_module": "@jupyter-widgets/controls",
          "model_name": "ProgressStyleModel",
          "model_module_version": "1.5.0",
          "state": {
            "_model_module": "@jupyter-widgets/controls",
            "_model_module_version": "1.5.0",
            "_model_name": "ProgressStyleModel",
            "_view_count": null,
            "_view_module": "@jupyter-widgets/base",
            "_view_module_version": "1.2.0",
            "_view_name": "StyleView",
            "bar_color": null,
            "description_width": ""
          }
        },
        "8505b2ccfb3a48ba91d17cb8ed51c01e": {
          "model_module": "@jupyter-widgets/base",
          "model_name": "LayoutModel",
          "model_module_version": "1.2.0",
          "state": {
            "_model_module": "@jupyter-widgets/base",
            "_model_module_version": "1.2.0",
            "_model_name": "LayoutModel",
            "_view_count": null,
            "_view_module": "@jupyter-widgets/base",
            "_view_module_version": "1.2.0",
            "_view_name": "LayoutView",
            "align_content": null,
            "align_items": null,
            "align_self": null,
            "border": null,
            "bottom": null,
            "display": null,
            "flex": null,
            "flex_flow": null,
            "grid_area": null,
            "grid_auto_columns": null,
            "grid_auto_flow": null,
            "grid_auto_rows": null,
            "grid_column": null,
            "grid_gap": null,
            "grid_row": null,
            "grid_template_areas": null,
            "grid_template_columns": null,
            "grid_template_rows": null,
            "height": null,
            "justify_content": null,
            "justify_items": null,
            "left": null,
            "margin": null,
            "max_height": null,
            "max_width": null,
            "min_height": null,
            "min_width": null,
            "object_fit": null,
            "object_position": null,
            "order": null,
            "overflow": null,
            "overflow_x": null,
            "overflow_y": null,
            "padding": null,
            "right": null,
            "top": null,
            "visibility": null,
            "width": null
          }
        },
        "108110363d194be583cd97285b313c77": {
          "model_module": "@jupyter-widgets/controls",
          "model_name": "DescriptionStyleModel",
          "model_module_version": "1.5.0",
          "state": {
            "_model_module": "@jupyter-widgets/controls",
            "_model_module_version": "1.5.0",
            "_model_name": "DescriptionStyleModel",
            "_view_count": null,
            "_view_module": "@jupyter-widgets/base",
            "_view_module_version": "1.2.0",
            "_view_name": "StyleView",
            "description_width": ""
          }
        },
        "55678ce593c44ad9af7dcca4047ece89": {
          "model_module": "@jupyter-widgets/controls",
          "model_name": "HBoxModel",
          "model_module_version": "1.5.0",
          "state": {
            "_dom_classes": [],
            "_model_module": "@jupyter-widgets/controls",
            "_model_module_version": "1.5.0",
            "_model_name": "HBoxModel",
            "_view_count": null,
            "_view_module": "@jupyter-widgets/controls",
            "_view_module_version": "1.5.0",
            "_view_name": "HBoxView",
            "box_style": "",
            "children": [
              "IPY_MODEL_3b3ab076115e43a5b8ed4baa58dbf02b",
              "IPY_MODEL_b52efc3ced884928bb0458ed309749dd",
              "IPY_MODEL_432cfe0c27284e01b94cc0db807d01b1"
            ],
            "layout": "IPY_MODEL_32bb08cec78d4425b4ca84e62372b682"
          }
        },
        "3b3ab076115e43a5b8ed4baa58dbf02b": {
          "model_module": "@jupyter-widgets/controls",
          "model_name": "HTMLModel",
          "model_module_version": "1.5.0",
          "state": {
            "_dom_classes": [],
            "_model_module": "@jupyter-widgets/controls",
            "_model_module_version": "1.5.0",
            "_model_name": "HTMLModel",
            "_view_count": null,
            "_view_module": "@jupyter-widgets/controls",
            "_view_module_version": "1.5.0",
            "_view_name": "HTMLView",
            "description": "",
            "description_tooltip": null,
            "layout": "IPY_MODEL_4866665bb0404ad9b92ebddfa91ea826",
            "placeholder": "​",
            "style": "IPY_MODEL_b9b6e4f0eba746f088dedfd171aeb6ab",
            "value": "100%"
          }
        },
        "b52efc3ced884928bb0458ed309749dd": {
          "model_module": "@jupyter-widgets/controls",
          "model_name": "FloatProgressModel",
          "model_module_version": "1.5.0",
          "state": {
            "_dom_classes": [],
            "_model_module": "@jupyter-widgets/controls",
            "_model_module_version": "1.5.0",
            "_model_name": "FloatProgressModel",
            "_view_count": null,
            "_view_module": "@jupyter-widgets/controls",
            "_view_module_version": "1.5.0",
            "_view_name": "ProgressView",
            "bar_style": "success",
            "description": "",
            "description_tooltip": null,
            "layout": "IPY_MODEL_b338adb6cbc94e33b1733d07951a9abd",
            "max": 469,
            "min": 0,
            "orientation": "horizontal",
            "style": "IPY_MODEL_acdd06e124e54bbcb29aff9ba68cccbe",
            "value": 469
          }
        },
        "432cfe0c27284e01b94cc0db807d01b1": {
          "model_module": "@jupyter-widgets/controls",
          "model_name": "HTMLModel",
          "model_module_version": "1.5.0",
          "state": {
            "_dom_classes": [],
            "_model_module": "@jupyter-widgets/controls",
            "_model_module_version": "1.5.0",
            "_model_name": "HTMLModel",
            "_view_count": null,
            "_view_module": "@jupyter-widgets/controls",
            "_view_module_version": "1.5.0",
            "_view_name": "HTMLView",
            "description": "",
            "description_tooltip": null,
            "layout": "IPY_MODEL_794a5033a4784bdd877c82bf75503d27",
            "placeholder": "​",
            "style": "IPY_MODEL_6c04072f287a46cc8379a080fbed282b",
            "value": " 469/469 [01:19&lt;00:00,  6.28batch/s]"
          }
        },
        "32bb08cec78d4425b4ca84e62372b682": {
          "model_module": "@jupyter-widgets/base",
          "model_name": "LayoutModel",
          "model_module_version": "1.2.0",
          "state": {
            "_model_module": "@jupyter-widgets/base",
            "_model_module_version": "1.2.0",
            "_model_name": "LayoutModel",
            "_view_count": null,
            "_view_module": "@jupyter-widgets/base",
            "_view_module_version": "1.2.0",
            "_view_name": "LayoutView",
            "align_content": null,
            "align_items": null,
            "align_self": null,
            "border": null,
            "bottom": null,
            "display": null,
            "flex": null,
            "flex_flow": null,
            "grid_area": null,
            "grid_auto_columns": null,
            "grid_auto_flow": null,
            "grid_auto_rows": null,
            "grid_column": null,
            "grid_gap": null,
            "grid_row": null,
            "grid_template_areas": null,
            "grid_template_columns": null,
            "grid_template_rows": null,
            "height": null,
            "justify_content": null,
            "justify_items": null,
            "left": null,
            "margin": null,
            "max_height": null,
            "max_width": null,
            "min_height": null,
            "min_width": null,
            "object_fit": null,
            "object_position": null,
            "order": null,
            "overflow": null,
            "overflow_x": null,
            "overflow_y": null,
            "padding": null,
            "right": null,
            "top": null,
            "visibility": null,
            "width": null
          }
        },
        "4866665bb0404ad9b92ebddfa91ea826": {
          "model_module": "@jupyter-widgets/base",
          "model_name": "LayoutModel",
          "model_module_version": "1.2.0",
          "state": {
            "_model_module": "@jupyter-widgets/base",
            "_model_module_version": "1.2.0",
            "_model_name": "LayoutModel",
            "_view_count": null,
            "_view_module": "@jupyter-widgets/base",
            "_view_module_version": "1.2.0",
            "_view_name": "LayoutView",
            "align_content": null,
            "align_items": null,
            "align_self": null,
            "border": null,
            "bottom": null,
            "display": null,
            "flex": null,
            "flex_flow": null,
            "grid_area": null,
            "grid_auto_columns": null,
            "grid_auto_flow": null,
            "grid_auto_rows": null,
            "grid_column": null,
            "grid_gap": null,
            "grid_row": null,
            "grid_template_areas": null,
            "grid_template_columns": null,
            "grid_template_rows": null,
            "height": null,
            "justify_content": null,
            "justify_items": null,
            "left": null,
            "margin": null,
            "max_height": null,
            "max_width": null,
            "min_height": null,
            "min_width": null,
            "object_fit": null,
            "object_position": null,
            "order": null,
            "overflow": null,
            "overflow_x": null,
            "overflow_y": null,
            "padding": null,
            "right": null,
            "top": null,
            "visibility": null,
            "width": null
          }
        },
        "b9b6e4f0eba746f088dedfd171aeb6ab": {
          "model_module": "@jupyter-widgets/controls",
          "model_name": "DescriptionStyleModel",
          "model_module_version": "1.5.0",
          "state": {
            "_model_module": "@jupyter-widgets/controls",
            "_model_module_version": "1.5.0",
            "_model_name": "DescriptionStyleModel",
            "_view_count": null,
            "_view_module": "@jupyter-widgets/base",
            "_view_module_version": "1.2.0",
            "_view_name": "StyleView",
            "description_width": ""
          }
        },
        "b338adb6cbc94e33b1733d07951a9abd": {
          "model_module": "@jupyter-widgets/base",
          "model_name": "LayoutModel",
          "model_module_version": "1.2.0",
          "state": {
            "_model_module": "@jupyter-widgets/base",
            "_model_module_version": "1.2.0",
            "_model_name": "LayoutModel",
            "_view_count": null,
            "_view_module": "@jupyter-widgets/base",
            "_view_module_version": "1.2.0",
            "_view_name": "LayoutView",
            "align_content": null,
            "align_items": null,
            "align_self": null,
            "border": null,
            "bottom": null,
            "display": null,
            "flex": null,
            "flex_flow": null,
            "grid_area": null,
            "grid_auto_columns": null,
            "grid_auto_flow": null,
            "grid_auto_rows": null,
            "grid_column": null,
            "grid_gap": null,
            "grid_row": null,
            "grid_template_areas": null,
            "grid_template_columns": null,
            "grid_template_rows": null,
            "height": null,
            "justify_content": null,
            "justify_items": null,
            "left": null,
            "margin": null,
            "max_height": null,
            "max_width": null,
            "min_height": null,
            "min_width": null,
            "object_fit": null,
            "object_position": null,
            "order": null,
            "overflow": null,
            "overflow_x": null,
            "overflow_y": null,
            "padding": null,
            "right": null,
            "top": null,
            "visibility": null,
            "width": null
          }
        },
        "acdd06e124e54bbcb29aff9ba68cccbe": {
          "model_module": "@jupyter-widgets/controls",
          "model_name": "ProgressStyleModel",
          "model_module_version": "1.5.0",
          "state": {
            "_model_module": "@jupyter-widgets/controls",
            "_model_module_version": "1.5.0",
            "_model_name": "ProgressStyleModel",
            "_view_count": null,
            "_view_module": "@jupyter-widgets/base",
            "_view_module_version": "1.2.0",
            "_view_name": "StyleView",
            "bar_color": null,
            "description_width": ""
          }
        },
        "794a5033a4784bdd877c82bf75503d27": {
          "model_module": "@jupyter-widgets/base",
          "model_name": "LayoutModel",
          "model_module_version": "1.2.0",
          "state": {
            "_model_module": "@jupyter-widgets/base",
            "_model_module_version": "1.2.0",
            "_model_name": "LayoutModel",
            "_view_count": null,
            "_view_module": "@jupyter-widgets/base",
            "_view_module_version": "1.2.0",
            "_view_name": "LayoutView",
            "align_content": null,
            "align_items": null,
            "align_self": null,
            "border": null,
            "bottom": null,
            "display": null,
            "flex": null,
            "flex_flow": null,
            "grid_area": null,
            "grid_auto_columns": null,
            "grid_auto_flow": null,
            "grid_auto_rows": null,
            "grid_column": null,
            "grid_gap": null,
            "grid_row": null,
            "grid_template_areas": null,
            "grid_template_columns": null,
            "grid_template_rows": null,
            "height": null,
            "justify_content": null,
            "justify_items": null,
            "left": null,
            "margin": null,
            "max_height": null,
            "max_width": null,
            "min_height": null,
            "min_width": null,
            "object_fit": null,
            "object_position": null,
            "order": null,
            "overflow": null,
            "overflow_x": null,
            "overflow_y": null,
            "padding": null,
            "right": null,
            "top": null,
            "visibility": null,
            "width": null
          }
        },
        "6c04072f287a46cc8379a080fbed282b": {
          "model_module": "@jupyter-widgets/controls",
          "model_name": "DescriptionStyleModel",
          "model_module_version": "1.5.0",
          "state": {
            "_model_module": "@jupyter-widgets/controls",
            "_model_module_version": "1.5.0",
            "_model_name": "DescriptionStyleModel",
            "_view_count": null,
            "_view_module": "@jupyter-widgets/base",
            "_view_module_version": "1.2.0",
            "_view_name": "StyleView",
            "description_width": ""
          }
        },
        "036c3651b122436897e6e0b59cf58ab6": {
          "model_module": "@jupyter-widgets/controls",
          "model_name": "HBoxModel",
          "model_module_version": "1.5.0",
          "state": {
            "_dom_classes": [],
            "_model_module": "@jupyter-widgets/controls",
            "_model_module_version": "1.5.0",
            "_model_name": "HBoxModel",
            "_view_count": null,
            "_view_module": "@jupyter-widgets/controls",
            "_view_module_version": "1.5.0",
            "_view_name": "HBoxView",
            "box_style": "",
            "children": [
              "IPY_MODEL_2d23c3e96bf04450aaee9dc68918cd29",
              "IPY_MODEL_5b5c5bee3de64be499353fdbfd37c343",
              "IPY_MODEL_d1f3f49bb24f4acd92e1c1f44646dd67"
            ],
            "layout": "IPY_MODEL_d23f3d6c331a439d925f3047c4a7b429"
          }
        },
        "2d23c3e96bf04450aaee9dc68918cd29": {
          "model_module": "@jupyter-widgets/controls",
          "model_name": "HTMLModel",
          "model_module_version": "1.5.0",
          "state": {
            "_dom_classes": [],
            "_model_module": "@jupyter-widgets/controls",
            "_model_module_version": "1.5.0",
            "_model_name": "HTMLModel",
            "_view_count": null,
            "_view_module": "@jupyter-widgets/controls",
            "_view_module_version": "1.5.0",
            "_view_name": "HTMLView",
            "description": "",
            "description_tooltip": null,
            "layout": "IPY_MODEL_02b277fc4d4240bab03338b3ccd8e61c",
            "placeholder": "​",
            "style": "IPY_MODEL_ed6978c3b96047d3814fe2df5c4caf54",
            "value": "100%"
          }
        },
        "5b5c5bee3de64be499353fdbfd37c343": {
          "model_module": "@jupyter-widgets/controls",
          "model_name": "FloatProgressModel",
          "model_module_version": "1.5.0",
          "state": {
            "_dom_classes": [],
            "_model_module": "@jupyter-widgets/controls",
            "_model_module_version": "1.5.0",
            "_model_name": "FloatProgressModel",
            "_view_count": null,
            "_view_module": "@jupyter-widgets/controls",
            "_view_module_version": "1.5.0",
            "_view_name": "ProgressView",
            "bar_style": "success",
            "description": "",
            "description_tooltip": null,
            "layout": "IPY_MODEL_bf43ea4f621347c89e7e29a6d335a2e9",
            "max": 469,
            "min": 0,
            "orientation": "horizontal",
            "style": "IPY_MODEL_7018ad6293774272af7b59545162ba50",
            "value": 469
          }
        },
        "d1f3f49bb24f4acd92e1c1f44646dd67": {
          "model_module": "@jupyter-widgets/controls",
          "model_name": "HTMLModel",
          "model_module_version": "1.5.0",
          "state": {
            "_dom_classes": [],
            "_model_module": "@jupyter-widgets/controls",
            "_model_module_version": "1.5.0",
            "_model_name": "HTMLModel",
            "_view_count": null,
            "_view_module": "@jupyter-widgets/controls",
            "_view_module_version": "1.5.0",
            "_view_name": "HTMLView",
            "description": "",
            "description_tooltip": null,
            "layout": "IPY_MODEL_4455449161bf4187bc2bb30f9700c8a2",
            "placeholder": "​",
            "style": "IPY_MODEL_11b19cd6749d493e864f60218e1a6671",
            "value": " 469/469 [01:19&lt;00:00,  6.31batch/s]"
          }
        },
        "d23f3d6c331a439d925f3047c4a7b429": {
          "model_module": "@jupyter-widgets/base",
          "model_name": "LayoutModel",
          "model_module_version": "1.2.0",
          "state": {
            "_model_module": "@jupyter-widgets/base",
            "_model_module_version": "1.2.0",
            "_model_name": "LayoutModel",
            "_view_count": null,
            "_view_module": "@jupyter-widgets/base",
            "_view_module_version": "1.2.0",
            "_view_name": "LayoutView",
            "align_content": null,
            "align_items": null,
            "align_self": null,
            "border": null,
            "bottom": null,
            "display": null,
            "flex": null,
            "flex_flow": null,
            "grid_area": null,
            "grid_auto_columns": null,
            "grid_auto_flow": null,
            "grid_auto_rows": null,
            "grid_column": null,
            "grid_gap": null,
            "grid_row": null,
            "grid_template_areas": null,
            "grid_template_columns": null,
            "grid_template_rows": null,
            "height": null,
            "justify_content": null,
            "justify_items": null,
            "left": null,
            "margin": null,
            "max_height": null,
            "max_width": null,
            "min_height": null,
            "min_width": null,
            "object_fit": null,
            "object_position": null,
            "order": null,
            "overflow": null,
            "overflow_x": null,
            "overflow_y": null,
            "padding": null,
            "right": null,
            "top": null,
            "visibility": null,
            "width": null
          }
        },
        "02b277fc4d4240bab03338b3ccd8e61c": {
          "model_module": "@jupyter-widgets/base",
          "model_name": "LayoutModel",
          "model_module_version": "1.2.0",
          "state": {
            "_model_module": "@jupyter-widgets/base",
            "_model_module_version": "1.2.0",
            "_model_name": "LayoutModel",
            "_view_count": null,
            "_view_module": "@jupyter-widgets/base",
            "_view_module_version": "1.2.0",
            "_view_name": "LayoutView",
            "align_content": null,
            "align_items": null,
            "align_self": null,
            "border": null,
            "bottom": null,
            "display": null,
            "flex": null,
            "flex_flow": null,
            "grid_area": null,
            "grid_auto_columns": null,
            "grid_auto_flow": null,
            "grid_auto_rows": null,
            "grid_column": null,
            "grid_gap": null,
            "grid_row": null,
            "grid_template_areas": null,
            "grid_template_columns": null,
            "grid_template_rows": null,
            "height": null,
            "justify_content": null,
            "justify_items": null,
            "left": null,
            "margin": null,
            "max_height": null,
            "max_width": null,
            "min_height": null,
            "min_width": null,
            "object_fit": null,
            "object_position": null,
            "order": null,
            "overflow": null,
            "overflow_x": null,
            "overflow_y": null,
            "padding": null,
            "right": null,
            "top": null,
            "visibility": null,
            "width": null
          }
        },
        "ed6978c3b96047d3814fe2df5c4caf54": {
          "model_module": "@jupyter-widgets/controls",
          "model_name": "DescriptionStyleModel",
          "model_module_version": "1.5.0",
          "state": {
            "_model_module": "@jupyter-widgets/controls",
            "_model_module_version": "1.5.0",
            "_model_name": "DescriptionStyleModel",
            "_view_count": null,
            "_view_module": "@jupyter-widgets/base",
            "_view_module_version": "1.2.0",
            "_view_name": "StyleView",
            "description_width": ""
          }
        },
        "bf43ea4f621347c89e7e29a6d335a2e9": {
          "model_module": "@jupyter-widgets/base",
          "model_name": "LayoutModel",
          "model_module_version": "1.2.0",
          "state": {
            "_model_module": "@jupyter-widgets/base",
            "_model_module_version": "1.2.0",
            "_model_name": "LayoutModel",
            "_view_count": null,
            "_view_module": "@jupyter-widgets/base",
            "_view_module_version": "1.2.0",
            "_view_name": "LayoutView",
            "align_content": null,
            "align_items": null,
            "align_self": null,
            "border": null,
            "bottom": null,
            "display": null,
            "flex": null,
            "flex_flow": null,
            "grid_area": null,
            "grid_auto_columns": null,
            "grid_auto_flow": null,
            "grid_auto_rows": null,
            "grid_column": null,
            "grid_gap": null,
            "grid_row": null,
            "grid_template_areas": null,
            "grid_template_columns": null,
            "grid_template_rows": null,
            "height": null,
            "justify_content": null,
            "justify_items": null,
            "left": null,
            "margin": null,
            "max_height": null,
            "max_width": null,
            "min_height": null,
            "min_width": null,
            "object_fit": null,
            "object_position": null,
            "order": null,
            "overflow": null,
            "overflow_x": null,
            "overflow_y": null,
            "padding": null,
            "right": null,
            "top": null,
            "visibility": null,
            "width": null
          }
        },
        "7018ad6293774272af7b59545162ba50": {
          "model_module": "@jupyter-widgets/controls",
          "model_name": "ProgressStyleModel",
          "model_module_version": "1.5.0",
          "state": {
            "_model_module": "@jupyter-widgets/controls",
            "_model_module_version": "1.5.0",
            "_model_name": "ProgressStyleModel",
            "_view_count": null,
            "_view_module": "@jupyter-widgets/base",
            "_view_module_version": "1.2.0",
            "_view_name": "StyleView",
            "bar_color": null,
            "description_width": ""
          }
        },
        "4455449161bf4187bc2bb30f9700c8a2": {
          "model_module": "@jupyter-widgets/base",
          "model_name": "LayoutModel",
          "model_module_version": "1.2.0",
          "state": {
            "_model_module": "@jupyter-widgets/base",
            "_model_module_version": "1.2.0",
            "_model_name": "LayoutModel",
            "_view_count": null,
            "_view_module": "@jupyter-widgets/base",
            "_view_module_version": "1.2.0",
            "_view_name": "LayoutView",
            "align_content": null,
            "align_items": null,
            "align_self": null,
            "border": null,
            "bottom": null,
            "display": null,
            "flex": null,
            "flex_flow": null,
            "grid_area": null,
            "grid_auto_columns": null,
            "grid_auto_flow": null,
            "grid_auto_rows": null,
            "grid_column": null,
            "grid_gap": null,
            "grid_row": null,
            "grid_template_areas": null,
            "grid_template_columns": null,
            "grid_template_rows": null,
            "height": null,
            "justify_content": null,
            "justify_items": null,
            "left": null,
            "margin": null,
            "max_height": null,
            "max_width": null,
            "min_height": null,
            "min_width": null,
            "object_fit": null,
            "object_position": null,
            "order": null,
            "overflow": null,
            "overflow_x": null,
            "overflow_y": null,
            "padding": null,
            "right": null,
            "top": null,
            "visibility": null,
            "width": null
          }
        },
        "11b19cd6749d493e864f60218e1a6671": {
          "model_module": "@jupyter-widgets/controls",
          "model_name": "DescriptionStyleModel",
          "model_module_version": "1.5.0",
          "state": {
            "_model_module": "@jupyter-widgets/controls",
            "_model_module_version": "1.5.0",
            "_model_name": "DescriptionStyleModel",
            "_view_count": null,
            "_view_module": "@jupyter-widgets/base",
            "_view_module_version": "1.2.0",
            "_view_name": "StyleView",
            "description_width": ""
          }
        },
        "a5861d97fbf142d8b26cca91e1820559": {
          "model_module": "@jupyter-widgets/controls",
          "model_name": "HBoxModel",
          "model_module_version": "1.5.0",
          "state": {
            "_dom_classes": [],
            "_model_module": "@jupyter-widgets/controls",
            "_model_module_version": "1.5.0",
            "_model_name": "HBoxModel",
            "_view_count": null,
            "_view_module": "@jupyter-widgets/controls",
            "_view_module_version": "1.5.0",
            "_view_name": "HBoxView",
            "box_style": "",
            "children": [
              "IPY_MODEL_c75c0845185947b6a823ce65383a4ed6",
              "IPY_MODEL_2b2bef90a23a4951922a116c03eb4a50",
              "IPY_MODEL_2bbe3370b2d140baa1d50764ccca2ee8"
            ],
            "layout": "IPY_MODEL_c0539d919a2f444d83ea20249cc8bea6"
          }
        },
        "c75c0845185947b6a823ce65383a4ed6": {
          "model_module": "@jupyter-widgets/controls",
          "model_name": "HTMLModel",
          "model_module_version": "1.5.0",
          "state": {
            "_dom_classes": [],
            "_model_module": "@jupyter-widgets/controls",
            "_model_module_version": "1.5.0",
            "_model_name": "HTMLModel",
            "_view_count": null,
            "_view_module": "@jupyter-widgets/controls",
            "_view_module_version": "1.5.0",
            "_view_name": "HTMLView",
            "description": "",
            "description_tooltip": null,
            "layout": "IPY_MODEL_b85d73c31cd648caaee5e0902dccd27b",
            "placeholder": "​",
            "style": "IPY_MODEL_e6bca1951ddf4cc1945fb645dda08b54",
            "value": "100%"
          }
        },
        "2b2bef90a23a4951922a116c03eb4a50": {
          "model_module": "@jupyter-widgets/controls",
          "model_name": "FloatProgressModel",
          "model_module_version": "1.5.0",
          "state": {
            "_dom_classes": [],
            "_model_module": "@jupyter-widgets/controls",
            "_model_module_version": "1.5.0",
            "_model_name": "FloatProgressModel",
            "_view_count": null,
            "_view_module": "@jupyter-widgets/controls",
            "_view_module_version": "1.5.0",
            "_view_name": "ProgressView",
            "bar_style": "success",
            "description": "",
            "description_tooltip": null,
            "layout": "IPY_MODEL_fc1760aee8644acbbc8db52aec23cef2",
            "max": 469,
            "min": 0,
            "orientation": "horizontal",
            "style": "IPY_MODEL_1d21b5e843154fae8705a8a3e884001d",
            "value": 469
          }
        },
        "2bbe3370b2d140baa1d50764ccca2ee8": {
          "model_module": "@jupyter-widgets/controls",
          "model_name": "HTMLModel",
          "model_module_version": "1.5.0",
          "state": {
            "_dom_classes": [],
            "_model_module": "@jupyter-widgets/controls",
            "_model_module_version": "1.5.0",
            "_model_name": "HTMLModel",
            "_view_count": null,
            "_view_module": "@jupyter-widgets/controls",
            "_view_module_version": "1.5.0",
            "_view_name": "HTMLView",
            "description": "",
            "description_tooltip": null,
            "layout": "IPY_MODEL_9c9d0e56909f4de68e206d256df07f14",
            "placeholder": "​",
            "style": "IPY_MODEL_3db43fceff7642fcb12a36b3ac27480a",
            "value": " 469/469 [01:19&lt;00:00,  6.29batch/s]"
          }
        },
        "c0539d919a2f444d83ea20249cc8bea6": {
          "model_module": "@jupyter-widgets/base",
          "model_name": "LayoutModel",
          "model_module_version": "1.2.0",
          "state": {
            "_model_module": "@jupyter-widgets/base",
            "_model_module_version": "1.2.0",
            "_model_name": "LayoutModel",
            "_view_count": null,
            "_view_module": "@jupyter-widgets/base",
            "_view_module_version": "1.2.0",
            "_view_name": "LayoutView",
            "align_content": null,
            "align_items": null,
            "align_self": null,
            "border": null,
            "bottom": null,
            "display": null,
            "flex": null,
            "flex_flow": null,
            "grid_area": null,
            "grid_auto_columns": null,
            "grid_auto_flow": null,
            "grid_auto_rows": null,
            "grid_column": null,
            "grid_gap": null,
            "grid_row": null,
            "grid_template_areas": null,
            "grid_template_columns": null,
            "grid_template_rows": null,
            "height": null,
            "justify_content": null,
            "justify_items": null,
            "left": null,
            "margin": null,
            "max_height": null,
            "max_width": null,
            "min_height": null,
            "min_width": null,
            "object_fit": null,
            "object_position": null,
            "order": null,
            "overflow": null,
            "overflow_x": null,
            "overflow_y": null,
            "padding": null,
            "right": null,
            "top": null,
            "visibility": null,
            "width": null
          }
        },
        "b85d73c31cd648caaee5e0902dccd27b": {
          "model_module": "@jupyter-widgets/base",
          "model_name": "LayoutModel",
          "model_module_version": "1.2.0",
          "state": {
            "_model_module": "@jupyter-widgets/base",
            "_model_module_version": "1.2.0",
            "_model_name": "LayoutModel",
            "_view_count": null,
            "_view_module": "@jupyter-widgets/base",
            "_view_module_version": "1.2.0",
            "_view_name": "LayoutView",
            "align_content": null,
            "align_items": null,
            "align_self": null,
            "border": null,
            "bottom": null,
            "display": null,
            "flex": null,
            "flex_flow": null,
            "grid_area": null,
            "grid_auto_columns": null,
            "grid_auto_flow": null,
            "grid_auto_rows": null,
            "grid_column": null,
            "grid_gap": null,
            "grid_row": null,
            "grid_template_areas": null,
            "grid_template_columns": null,
            "grid_template_rows": null,
            "height": null,
            "justify_content": null,
            "justify_items": null,
            "left": null,
            "margin": null,
            "max_height": null,
            "max_width": null,
            "min_height": null,
            "min_width": null,
            "object_fit": null,
            "object_position": null,
            "order": null,
            "overflow": null,
            "overflow_x": null,
            "overflow_y": null,
            "padding": null,
            "right": null,
            "top": null,
            "visibility": null,
            "width": null
          }
        },
        "e6bca1951ddf4cc1945fb645dda08b54": {
          "model_module": "@jupyter-widgets/controls",
          "model_name": "DescriptionStyleModel",
          "model_module_version": "1.5.0",
          "state": {
            "_model_module": "@jupyter-widgets/controls",
            "_model_module_version": "1.5.0",
            "_model_name": "DescriptionStyleModel",
            "_view_count": null,
            "_view_module": "@jupyter-widgets/base",
            "_view_module_version": "1.2.0",
            "_view_name": "StyleView",
            "description_width": ""
          }
        },
        "fc1760aee8644acbbc8db52aec23cef2": {
          "model_module": "@jupyter-widgets/base",
          "model_name": "LayoutModel",
          "model_module_version": "1.2.0",
          "state": {
            "_model_module": "@jupyter-widgets/base",
            "_model_module_version": "1.2.0",
            "_model_name": "LayoutModel",
            "_view_count": null,
            "_view_module": "@jupyter-widgets/base",
            "_view_module_version": "1.2.0",
            "_view_name": "LayoutView",
            "align_content": null,
            "align_items": null,
            "align_self": null,
            "border": null,
            "bottom": null,
            "display": null,
            "flex": null,
            "flex_flow": null,
            "grid_area": null,
            "grid_auto_columns": null,
            "grid_auto_flow": null,
            "grid_auto_rows": null,
            "grid_column": null,
            "grid_gap": null,
            "grid_row": null,
            "grid_template_areas": null,
            "grid_template_columns": null,
            "grid_template_rows": null,
            "height": null,
            "justify_content": null,
            "justify_items": null,
            "left": null,
            "margin": null,
            "max_height": null,
            "max_width": null,
            "min_height": null,
            "min_width": null,
            "object_fit": null,
            "object_position": null,
            "order": null,
            "overflow": null,
            "overflow_x": null,
            "overflow_y": null,
            "padding": null,
            "right": null,
            "top": null,
            "visibility": null,
            "width": null
          }
        },
        "1d21b5e843154fae8705a8a3e884001d": {
          "model_module": "@jupyter-widgets/controls",
          "model_name": "ProgressStyleModel",
          "model_module_version": "1.5.0",
          "state": {
            "_model_module": "@jupyter-widgets/controls",
            "_model_module_version": "1.5.0",
            "_model_name": "ProgressStyleModel",
            "_view_count": null,
            "_view_module": "@jupyter-widgets/base",
            "_view_module_version": "1.2.0",
            "_view_name": "StyleView",
            "bar_color": null,
            "description_width": ""
          }
        },
        "9c9d0e56909f4de68e206d256df07f14": {
          "model_module": "@jupyter-widgets/base",
          "model_name": "LayoutModel",
          "model_module_version": "1.2.0",
          "state": {
            "_model_module": "@jupyter-widgets/base",
            "_model_module_version": "1.2.0",
            "_model_name": "LayoutModel",
            "_view_count": null,
            "_view_module": "@jupyter-widgets/base",
            "_view_module_version": "1.2.0",
            "_view_name": "LayoutView",
            "align_content": null,
            "align_items": null,
            "align_self": null,
            "border": null,
            "bottom": null,
            "display": null,
            "flex": null,
            "flex_flow": null,
            "grid_area": null,
            "grid_auto_columns": null,
            "grid_auto_flow": null,
            "grid_auto_rows": null,
            "grid_column": null,
            "grid_gap": null,
            "grid_row": null,
            "grid_template_areas": null,
            "grid_template_columns": null,
            "grid_template_rows": null,
            "height": null,
            "justify_content": null,
            "justify_items": null,
            "left": null,
            "margin": null,
            "max_height": null,
            "max_width": null,
            "min_height": null,
            "min_width": null,
            "object_fit": null,
            "object_position": null,
            "order": null,
            "overflow": null,
            "overflow_x": null,
            "overflow_y": null,
            "padding": null,
            "right": null,
            "top": null,
            "visibility": null,
            "width": null
          }
        },
        "3db43fceff7642fcb12a36b3ac27480a": {
          "model_module": "@jupyter-widgets/controls",
          "model_name": "DescriptionStyleModel",
          "model_module_version": "1.5.0",
          "state": {
            "_model_module": "@jupyter-widgets/controls",
            "_model_module_version": "1.5.0",
            "_model_name": "DescriptionStyleModel",
            "_view_count": null,
            "_view_module": "@jupyter-widgets/base",
            "_view_module_version": "1.2.0",
            "_view_name": "StyleView",
            "description_width": ""
          }
        },
        "3019f83e6d4c4ef897eaa69aae7a6b15": {
          "model_module": "@jupyter-widgets/controls",
          "model_name": "HBoxModel",
          "model_module_version": "1.5.0",
          "state": {
            "_dom_classes": [],
            "_model_module": "@jupyter-widgets/controls",
            "_model_module_version": "1.5.0",
            "_model_name": "HBoxModel",
            "_view_count": null,
            "_view_module": "@jupyter-widgets/controls",
            "_view_module_version": "1.5.0",
            "_view_name": "HBoxView",
            "box_style": "",
            "children": [
              "IPY_MODEL_d222fbc9ee8c4b939cdd5ce65aac2dd9",
              "IPY_MODEL_7b76cd070ccc40f1b93e80b94e15384b",
              "IPY_MODEL_df74b92cd30b492a9cd9e9b532037f0b"
            ],
            "layout": "IPY_MODEL_29fa730278f64e6e8d5dd0ce6df5ca1f"
          }
        },
        "d222fbc9ee8c4b939cdd5ce65aac2dd9": {
          "model_module": "@jupyter-widgets/controls",
          "model_name": "HTMLModel",
          "model_module_version": "1.5.0",
          "state": {
            "_dom_classes": [],
            "_model_module": "@jupyter-widgets/controls",
            "_model_module_version": "1.5.0",
            "_model_name": "HTMLModel",
            "_view_count": null,
            "_view_module": "@jupyter-widgets/controls",
            "_view_module_version": "1.5.0",
            "_view_name": "HTMLView",
            "description": "",
            "description_tooltip": null,
            "layout": "IPY_MODEL_3a923b1d1d244c6f83a746367ef5b2a4",
            "placeholder": "​",
            "style": "IPY_MODEL_a70e9de80f0c4a078ead77aeefe382f8",
            "value": "100%"
          }
        },
        "7b76cd070ccc40f1b93e80b94e15384b": {
          "model_module": "@jupyter-widgets/controls",
          "model_name": "FloatProgressModel",
          "model_module_version": "1.5.0",
          "state": {
            "_dom_classes": [],
            "_model_module": "@jupyter-widgets/controls",
            "_model_module_version": "1.5.0",
            "_model_name": "FloatProgressModel",
            "_view_count": null,
            "_view_module": "@jupyter-widgets/controls",
            "_view_module_version": "1.5.0",
            "_view_name": "ProgressView",
            "bar_style": "success",
            "description": "",
            "description_tooltip": null,
            "layout": "IPY_MODEL_57b2de2f17794acf9e6fac8dcca71420",
            "max": 469,
            "min": 0,
            "orientation": "horizontal",
            "style": "IPY_MODEL_3bcc732c275d483b934eeb97b027e2a7",
            "value": 469
          }
        },
        "df74b92cd30b492a9cd9e9b532037f0b": {
          "model_module": "@jupyter-widgets/controls",
          "model_name": "HTMLModel",
          "model_module_version": "1.5.0",
          "state": {
            "_dom_classes": [],
            "_model_module": "@jupyter-widgets/controls",
            "_model_module_version": "1.5.0",
            "_model_name": "HTMLModel",
            "_view_count": null,
            "_view_module": "@jupyter-widgets/controls",
            "_view_module_version": "1.5.0",
            "_view_name": "HTMLView",
            "description": "",
            "description_tooltip": null,
            "layout": "IPY_MODEL_9b7058ef545d44a48b80a536d01e62be",
            "placeholder": "​",
            "style": "IPY_MODEL_0e49269ce5da42408c6a87ef99be4be6",
            "value": " 469/469 [01:19&lt;00:00,  6.26batch/s]"
          }
        },
        "29fa730278f64e6e8d5dd0ce6df5ca1f": {
          "model_module": "@jupyter-widgets/base",
          "model_name": "LayoutModel",
          "model_module_version": "1.2.0",
          "state": {
            "_model_module": "@jupyter-widgets/base",
            "_model_module_version": "1.2.0",
            "_model_name": "LayoutModel",
            "_view_count": null,
            "_view_module": "@jupyter-widgets/base",
            "_view_module_version": "1.2.0",
            "_view_name": "LayoutView",
            "align_content": null,
            "align_items": null,
            "align_self": null,
            "border": null,
            "bottom": null,
            "display": null,
            "flex": null,
            "flex_flow": null,
            "grid_area": null,
            "grid_auto_columns": null,
            "grid_auto_flow": null,
            "grid_auto_rows": null,
            "grid_column": null,
            "grid_gap": null,
            "grid_row": null,
            "grid_template_areas": null,
            "grid_template_columns": null,
            "grid_template_rows": null,
            "height": null,
            "justify_content": null,
            "justify_items": null,
            "left": null,
            "margin": null,
            "max_height": null,
            "max_width": null,
            "min_height": null,
            "min_width": null,
            "object_fit": null,
            "object_position": null,
            "order": null,
            "overflow": null,
            "overflow_x": null,
            "overflow_y": null,
            "padding": null,
            "right": null,
            "top": null,
            "visibility": null,
            "width": null
          }
        },
        "3a923b1d1d244c6f83a746367ef5b2a4": {
          "model_module": "@jupyter-widgets/base",
          "model_name": "LayoutModel",
          "model_module_version": "1.2.0",
          "state": {
            "_model_module": "@jupyter-widgets/base",
            "_model_module_version": "1.2.0",
            "_model_name": "LayoutModel",
            "_view_count": null,
            "_view_module": "@jupyter-widgets/base",
            "_view_module_version": "1.2.0",
            "_view_name": "LayoutView",
            "align_content": null,
            "align_items": null,
            "align_self": null,
            "border": null,
            "bottom": null,
            "display": null,
            "flex": null,
            "flex_flow": null,
            "grid_area": null,
            "grid_auto_columns": null,
            "grid_auto_flow": null,
            "grid_auto_rows": null,
            "grid_column": null,
            "grid_gap": null,
            "grid_row": null,
            "grid_template_areas": null,
            "grid_template_columns": null,
            "grid_template_rows": null,
            "height": null,
            "justify_content": null,
            "justify_items": null,
            "left": null,
            "margin": null,
            "max_height": null,
            "max_width": null,
            "min_height": null,
            "min_width": null,
            "object_fit": null,
            "object_position": null,
            "order": null,
            "overflow": null,
            "overflow_x": null,
            "overflow_y": null,
            "padding": null,
            "right": null,
            "top": null,
            "visibility": null,
            "width": null
          }
        },
        "a70e9de80f0c4a078ead77aeefe382f8": {
          "model_module": "@jupyter-widgets/controls",
          "model_name": "DescriptionStyleModel",
          "model_module_version": "1.5.0",
          "state": {
            "_model_module": "@jupyter-widgets/controls",
            "_model_module_version": "1.5.0",
            "_model_name": "DescriptionStyleModel",
            "_view_count": null,
            "_view_module": "@jupyter-widgets/base",
            "_view_module_version": "1.2.0",
            "_view_name": "StyleView",
            "description_width": ""
          }
        },
        "57b2de2f17794acf9e6fac8dcca71420": {
          "model_module": "@jupyter-widgets/base",
          "model_name": "LayoutModel",
          "model_module_version": "1.2.0",
          "state": {
            "_model_module": "@jupyter-widgets/base",
            "_model_module_version": "1.2.0",
            "_model_name": "LayoutModel",
            "_view_count": null,
            "_view_module": "@jupyter-widgets/base",
            "_view_module_version": "1.2.0",
            "_view_name": "LayoutView",
            "align_content": null,
            "align_items": null,
            "align_self": null,
            "border": null,
            "bottom": null,
            "display": null,
            "flex": null,
            "flex_flow": null,
            "grid_area": null,
            "grid_auto_columns": null,
            "grid_auto_flow": null,
            "grid_auto_rows": null,
            "grid_column": null,
            "grid_gap": null,
            "grid_row": null,
            "grid_template_areas": null,
            "grid_template_columns": null,
            "grid_template_rows": null,
            "height": null,
            "justify_content": null,
            "justify_items": null,
            "left": null,
            "margin": null,
            "max_height": null,
            "max_width": null,
            "min_height": null,
            "min_width": null,
            "object_fit": null,
            "object_position": null,
            "order": null,
            "overflow": null,
            "overflow_x": null,
            "overflow_y": null,
            "padding": null,
            "right": null,
            "top": null,
            "visibility": null,
            "width": null
          }
        },
        "3bcc732c275d483b934eeb97b027e2a7": {
          "model_module": "@jupyter-widgets/controls",
          "model_name": "ProgressStyleModel",
          "model_module_version": "1.5.0",
          "state": {
            "_model_module": "@jupyter-widgets/controls",
            "_model_module_version": "1.5.0",
            "_model_name": "ProgressStyleModel",
            "_view_count": null,
            "_view_module": "@jupyter-widgets/base",
            "_view_module_version": "1.2.0",
            "_view_name": "StyleView",
            "bar_color": null,
            "description_width": ""
          }
        },
        "9b7058ef545d44a48b80a536d01e62be": {
          "model_module": "@jupyter-widgets/base",
          "model_name": "LayoutModel",
          "model_module_version": "1.2.0",
          "state": {
            "_model_module": "@jupyter-widgets/base",
            "_model_module_version": "1.2.0",
            "_model_name": "LayoutModel",
            "_view_count": null,
            "_view_module": "@jupyter-widgets/base",
            "_view_module_version": "1.2.0",
            "_view_name": "LayoutView",
            "align_content": null,
            "align_items": null,
            "align_self": null,
            "border": null,
            "bottom": null,
            "display": null,
            "flex": null,
            "flex_flow": null,
            "grid_area": null,
            "grid_auto_columns": null,
            "grid_auto_flow": null,
            "grid_auto_rows": null,
            "grid_column": null,
            "grid_gap": null,
            "grid_row": null,
            "grid_template_areas": null,
            "grid_template_columns": null,
            "grid_template_rows": null,
            "height": null,
            "justify_content": null,
            "justify_items": null,
            "left": null,
            "margin": null,
            "max_height": null,
            "max_width": null,
            "min_height": null,
            "min_width": null,
            "object_fit": null,
            "object_position": null,
            "order": null,
            "overflow": null,
            "overflow_x": null,
            "overflow_y": null,
            "padding": null,
            "right": null,
            "top": null,
            "visibility": null,
            "width": null
          }
        },
        "0e49269ce5da42408c6a87ef99be4be6": {
          "model_module": "@jupyter-widgets/controls",
          "model_name": "DescriptionStyleModel",
          "model_module_version": "1.5.0",
          "state": {
            "_model_module": "@jupyter-widgets/controls",
            "_model_module_version": "1.5.0",
            "_model_name": "DescriptionStyleModel",
            "_view_count": null,
            "_view_module": "@jupyter-widgets/base",
            "_view_module_version": "1.2.0",
            "_view_name": "StyleView",
            "description_width": ""
          }
        },
        "f5df8dcf74544a3aab8d691ba0d0c505": {
          "model_module": "@jupyter-widgets/controls",
          "model_name": "HBoxModel",
          "model_module_version": "1.5.0",
          "state": {
            "_dom_classes": [],
            "_model_module": "@jupyter-widgets/controls",
            "_model_module_version": "1.5.0",
            "_model_name": "HBoxModel",
            "_view_count": null,
            "_view_module": "@jupyter-widgets/controls",
            "_view_module_version": "1.5.0",
            "_view_name": "HBoxView",
            "box_style": "",
            "children": [
              "IPY_MODEL_5c55999a42b94333919f89674ca0036d",
              "IPY_MODEL_a6be6d97cdbf47568eb2f8e9e332b83d",
              "IPY_MODEL_41eb91c2bf4b4675861805e8604d9d06"
            ],
            "layout": "IPY_MODEL_31a0b53b5bd14d83814459836cea645d"
          }
        },
        "5c55999a42b94333919f89674ca0036d": {
          "model_module": "@jupyter-widgets/controls",
          "model_name": "HTMLModel",
          "model_module_version": "1.5.0",
          "state": {
            "_dom_classes": [],
            "_model_module": "@jupyter-widgets/controls",
            "_model_module_version": "1.5.0",
            "_model_name": "HTMLModel",
            "_view_count": null,
            "_view_module": "@jupyter-widgets/controls",
            "_view_module_version": "1.5.0",
            "_view_name": "HTMLView",
            "description": "",
            "description_tooltip": null,
            "layout": "IPY_MODEL_45e5146bcf0644bdab0e6537d7ca7254",
            "placeholder": "​",
            "style": "IPY_MODEL_c9098ca0ea2847859efe92f2151facae",
            "value": "100%"
          }
        },
        "a6be6d97cdbf47568eb2f8e9e332b83d": {
          "model_module": "@jupyter-widgets/controls",
          "model_name": "FloatProgressModel",
          "model_module_version": "1.5.0",
          "state": {
            "_dom_classes": [],
            "_model_module": "@jupyter-widgets/controls",
            "_model_module_version": "1.5.0",
            "_model_name": "FloatProgressModel",
            "_view_count": null,
            "_view_module": "@jupyter-widgets/controls",
            "_view_module_version": "1.5.0",
            "_view_name": "ProgressView",
            "bar_style": "success",
            "description": "",
            "description_tooltip": null,
            "layout": "IPY_MODEL_ba283c7321e94454aec3bafe594d3c93",
            "max": 469,
            "min": 0,
            "orientation": "horizontal",
            "style": "IPY_MODEL_08f1faf983fc4e668d2dd6516441eb65",
            "value": 469
          }
        },
        "41eb91c2bf4b4675861805e8604d9d06": {
          "model_module": "@jupyter-widgets/controls",
          "model_name": "HTMLModel",
          "model_module_version": "1.5.0",
          "state": {
            "_dom_classes": [],
            "_model_module": "@jupyter-widgets/controls",
            "_model_module_version": "1.5.0",
            "_model_name": "HTMLModel",
            "_view_count": null,
            "_view_module": "@jupyter-widgets/controls",
            "_view_module_version": "1.5.0",
            "_view_name": "HTMLView",
            "description": "",
            "description_tooltip": null,
            "layout": "IPY_MODEL_3a87980faeb1416786f9a88cb85afbee",
            "placeholder": "​",
            "style": "IPY_MODEL_ca97acd9af61405184a1c74fa0a4df91",
            "value": " 469/469 [01:19&lt;00:00,  6.29batch/s]"
          }
        },
        "31a0b53b5bd14d83814459836cea645d": {
          "model_module": "@jupyter-widgets/base",
          "model_name": "LayoutModel",
          "model_module_version": "1.2.0",
          "state": {
            "_model_module": "@jupyter-widgets/base",
            "_model_module_version": "1.2.0",
            "_model_name": "LayoutModel",
            "_view_count": null,
            "_view_module": "@jupyter-widgets/base",
            "_view_module_version": "1.2.0",
            "_view_name": "LayoutView",
            "align_content": null,
            "align_items": null,
            "align_self": null,
            "border": null,
            "bottom": null,
            "display": null,
            "flex": null,
            "flex_flow": null,
            "grid_area": null,
            "grid_auto_columns": null,
            "grid_auto_flow": null,
            "grid_auto_rows": null,
            "grid_column": null,
            "grid_gap": null,
            "grid_row": null,
            "grid_template_areas": null,
            "grid_template_columns": null,
            "grid_template_rows": null,
            "height": null,
            "justify_content": null,
            "justify_items": null,
            "left": null,
            "margin": null,
            "max_height": null,
            "max_width": null,
            "min_height": null,
            "min_width": null,
            "object_fit": null,
            "object_position": null,
            "order": null,
            "overflow": null,
            "overflow_x": null,
            "overflow_y": null,
            "padding": null,
            "right": null,
            "top": null,
            "visibility": null,
            "width": null
          }
        },
        "45e5146bcf0644bdab0e6537d7ca7254": {
          "model_module": "@jupyter-widgets/base",
          "model_name": "LayoutModel",
          "model_module_version": "1.2.0",
          "state": {
            "_model_module": "@jupyter-widgets/base",
            "_model_module_version": "1.2.0",
            "_model_name": "LayoutModel",
            "_view_count": null,
            "_view_module": "@jupyter-widgets/base",
            "_view_module_version": "1.2.0",
            "_view_name": "LayoutView",
            "align_content": null,
            "align_items": null,
            "align_self": null,
            "border": null,
            "bottom": null,
            "display": null,
            "flex": null,
            "flex_flow": null,
            "grid_area": null,
            "grid_auto_columns": null,
            "grid_auto_flow": null,
            "grid_auto_rows": null,
            "grid_column": null,
            "grid_gap": null,
            "grid_row": null,
            "grid_template_areas": null,
            "grid_template_columns": null,
            "grid_template_rows": null,
            "height": null,
            "justify_content": null,
            "justify_items": null,
            "left": null,
            "margin": null,
            "max_height": null,
            "max_width": null,
            "min_height": null,
            "min_width": null,
            "object_fit": null,
            "object_position": null,
            "order": null,
            "overflow": null,
            "overflow_x": null,
            "overflow_y": null,
            "padding": null,
            "right": null,
            "top": null,
            "visibility": null,
            "width": null
          }
        },
        "c9098ca0ea2847859efe92f2151facae": {
          "model_module": "@jupyter-widgets/controls",
          "model_name": "DescriptionStyleModel",
          "model_module_version": "1.5.0",
          "state": {
            "_model_module": "@jupyter-widgets/controls",
            "_model_module_version": "1.5.0",
            "_model_name": "DescriptionStyleModel",
            "_view_count": null,
            "_view_module": "@jupyter-widgets/base",
            "_view_module_version": "1.2.0",
            "_view_name": "StyleView",
            "description_width": ""
          }
        },
        "ba283c7321e94454aec3bafe594d3c93": {
          "model_module": "@jupyter-widgets/base",
          "model_name": "LayoutModel",
          "model_module_version": "1.2.0",
          "state": {
            "_model_module": "@jupyter-widgets/base",
            "_model_module_version": "1.2.0",
            "_model_name": "LayoutModel",
            "_view_count": null,
            "_view_module": "@jupyter-widgets/base",
            "_view_module_version": "1.2.0",
            "_view_name": "LayoutView",
            "align_content": null,
            "align_items": null,
            "align_self": null,
            "border": null,
            "bottom": null,
            "display": null,
            "flex": null,
            "flex_flow": null,
            "grid_area": null,
            "grid_auto_columns": null,
            "grid_auto_flow": null,
            "grid_auto_rows": null,
            "grid_column": null,
            "grid_gap": null,
            "grid_row": null,
            "grid_template_areas": null,
            "grid_template_columns": null,
            "grid_template_rows": null,
            "height": null,
            "justify_content": null,
            "justify_items": null,
            "left": null,
            "margin": null,
            "max_height": null,
            "max_width": null,
            "min_height": null,
            "min_width": null,
            "object_fit": null,
            "object_position": null,
            "order": null,
            "overflow": null,
            "overflow_x": null,
            "overflow_y": null,
            "padding": null,
            "right": null,
            "top": null,
            "visibility": null,
            "width": null
          }
        },
        "08f1faf983fc4e668d2dd6516441eb65": {
          "model_module": "@jupyter-widgets/controls",
          "model_name": "ProgressStyleModel",
          "model_module_version": "1.5.0",
          "state": {
            "_model_module": "@jupyter-widgets/controls",
            "_model_module_version": "1.5.0",
            "_model_name": "ProgressStyleModel",
            "_view_count": null,
            "_view_module": "@jupyter-widgets/base",
            "_view_module_version": "1.2.0",
            "_view_name": "StyleView",
            "bar_color": null,
            "description_width": ""
          }
        },
        "3a87980faeb1416786f9a88cb85afbee": {
          "model_module": "@jupyter-widgets/base",
          "model_name": "LayoutModel",
          "model_module_version": "1.2.0",
          "state": {
            "_model_module": "@jupyter-widgets/base",
            "_model_module_version": "1.2.0",
            "_model_name": "LayoutModel",
            "_view_count": null,
            "_view_module": "@jupyter-widgets/base",
            "_view_module_version": "1.2.0",
            "_view_name": "LayoutView",
            "align_content": null,
            "align_items": null,
            "align_self": null,
            "border": null,
            "bottom": null,
            "display": null,
            "flex": null,
            "flex_flow": null,
            "grid_area": null,
            "grid_auto_columns": null,
            "grid_auto_flow": null,
            "grid_auto_rows": null,
            "grid_column": null,
            "grid_gap": null,
            "grid_row": null,
            "grid_template_areas": null,
            "grid_template_columns": null,
            "grid_template_rows": null,
            "height": null,
            "justify_content": null,
            "justify_items": null,
            "left": null,
            "margin": null,
            "max_height": null,
            "max_width": null,
            "min_height": null,
            "min_width": null,
            "object_fit": null,
            "object_position": null,
            "order": null,
            "overflow": null,
            "overflow_x": null,
            "overflow_y": null,
            "padding": null,
            "right": null,
            "top": null,
            "visibility": null,
            "width": null
          }
        },
        "ca97acd9af61405184a1c74fa0a4df91": {
          "model_module": "@jupyter-widgets/controls",
          "model_name": "DescriptionStyleModel",
          "model_module_version": "1.5.0",
          "state": {
            "_model_module": "@jupyter-widgets/controls",
            "_model_module_version": "1.5.0",
            "_model_name": "DescriptionStyleModel",
            "_view_count": null,
            "_view_module": "@jupyter-widgets/base",
            "_view_module_version": "1.2.0",
            "_view_name": "StyleView",
            "description_width": ""
          }
        },
        "ae07e7eb072f419fae480a4d127dfa12": {
          "model_module": "@jupyter-widgets/controls",
          "model_name": "HBoxModel",
          "model_module_version": "1.5.0",
          "state": {
            "_dom_classes": [],
            "_model_module": "@jupyter-widgets/controls",
            "_model_module_version": "1.5.0",
            "_model_name": "HBoxModel",
            "_view_count": null,
            "_view_module": "@jupyter-widgets/controls",
            "_view_module_version": "1.5.0",
            "_view_name": "HBoxView",
            "box_style": "",
            "children": [
              "IPY_MODEL_15c3c4fbb0fc4da888b13782fc639588",
              "IPY_MODEL_30e6efadeb8c4c7ab4528231f38dbb40",
              "IPY_MODEL_fc4fcc535880473cb6de6cb65dde5c2a"
            ],
            "layout": "IPY_MODEL_11eac2b82b654bfdad7b3f5c248d5c32"
          }
        },
        "15c3c4fbb0fc4da888b13782fc639588": {
          "model_module": "@jupyter-widgets/controls",
          "model_name": "HTMLModel",
          "model_module_version": "1.5.0",
          "state": {
            "_dom_classes": [],
            "_model_module": "@jupyter-widgets/controls",
            "_model_module_version": "1.5.0",
            "_model_name": "HTMLModel",
            "_view_count": null,
            "_view_module": "@jupyter-widgets/controls",
            "_view_module_version": "1.5.0",
            "_view_name": "HTMLView",
            "description": "",
            "description_tooltip": null,
            "layout": "IPY_MODEL_49b920431b924908986be53844c675f5",
            "placeholder": "​",
            "style": "IPY_MODEL_d96a95b8967847c39cdeb61aaff6e8b5",
            "value": "100%"
          }
        },
        "30e6efadeb8c4c7ab4528231f38dbb40": {
          "model_module": "@jupyter-widgets/controls",
          "model_name": "FloatProgressModel",
          "model_module_version": "1.5.0",
          "state": {
            "_dom_classes": [],
            "_model_module": "@jupyter-widgets/controls",
            "_model_module_version": "1.5.0",
            "_model_name": "FloatProgressModel",
            "_view_count": null,
            "_view_module": "@jupyter-widgets/controls",
            "_view_module_version": "1.5.0",
            "_view_name": "ProgressView",
            "bar_style": "success",
            "description": "",
            "description_tooltip": null,
            "layout": "IPY_MODEL_96130fb5d0384d7aa898640c8a2a84c7",
            "max": 469,
            "min": 0,
            "orientation": "horizontal",
            "style": "IPY_MODEL_2cc1f3ad1c4440ae9e1a5ceeb868793a",
            "value": 469
          }
        },
        "fc4fcc535880473cb6de6cb65dde5c2a": {
          "model_module": "@jupyter-widgets/controls",
          "model_name": "HTMLModel",
          "model_module_version": "1.5.0",
          "state": {
            "_dom_classes": [],
            "_model_module": "@jupyter-widgets/controls",
            "_model_module_version": "1.5.0",
            "_model_name": "HTMLModel",
            "_view_count": null,
            "_view_module": "@jupyter-widgets/controls",
            "_view_module_version": "1.5.0",
            "_view_name": "HTMLView",
            "description": "",
            "description_tooltip": null,
            "layout": "IPY_MODEL_6272e914a20948bf833bd2a44ff27a05",
            "placeholder": "​",
            "style": "IPY_MODEL_0c7893817b4f44a0a29bc31123dbde85",
            "value": " 469/469 [01:19&lt;00:00,  6.31batch/s]"
          }
        },
        "11eac2b82b654bfdad7b3f5c248d5c32": {
          "model_module": "@jupyter-widgets/base",
          "model_name": "LayoutModel",
          "model_module_version": "1.2.0",
          "state": {
            "_model_module": "@jupyter-widgets/base",
            "_model_module_version": "1.2.0",
            "_model_name": "LayoutModel",
            "_view_count": null,
            "_view_module": "@jupyter-widgets/base",
            "_view_module_version": "1.2.0",
            "_view_name": "LayoutView",
            "align_content": null,
            "align_items": null,
            "align_self": null,
            "border": null,
            "bottom": null,
            "display": null,
            "flex": null,
            "flex_flow": null,
            "grid_area": null,
            "grid_auto_columns": null,
            "grid_auto_flow": null,
            "grid_auto_rows": null,
            "grid_column": null,
            "grid_gap": null,
            "grid_row": null,
            "grid_template_areas": null,
            "grid_template_columns": null,
            "grid_template_rows": null,
            "height": null,
            "justify_content": null,
            "justify_items": null,
            "left": null,
            "margin": null,
            "max_height": null,
            "max_width": null,
            "min_height": null,
            "min_width": null,
            "object_fit": null,
            "object_position": null,
            "order": null,
            "overflow": null,
            "overflow_x": null,
            "overflow_y": null,
            "padding": null,
            "right": null,
            "top": null,
            "visibility": null,
            "width": null
          }
        },
        "49b920431b924908986be53844c675f5": {
          "model_module": "@jupyter-widgets/base",
          "model_name": "LayoutModel",
          "model_module_version": "1.2.0",
          "state": {
            "_model_module": "@jupyter-widgets/base",
            "_model_module_version": "1.2.0",
            "_model_name": "LayoutModel",
            "_view_count": null,
            "_view_module": "@jupyter-widgets/base",
            "_view_module_version": "1.2.0",
            "_view_name": "LayoutView",
            "align_content": null,
            "align_items": null,
            "align_self": null,
            "border": null,
            "bottom": null,
            "display": null,
            "flex": null,
            "flex_flow": null,
            "grid_area": null,
            "grid_auto_columns": null,
            "grid_auto_flow": null,
            "grid_auto_rows": null,
            "grid_column": null,
            "grid_gap": null,
            "grid_row": null,
            "grid_template_areas": null,
            "grid_template_columns": null,
            "grid_template_rows": null,
            "height": null,
            "justify_content": null,
            "justify_items": null,
            "left": null,
            "margin": null,
            "max_height": null,
            "max_width": null,
            "min_height": null,
            "min_width": null,
            "object_fit": null,
            "object_position": null,
            "order": null,
            "overflow": null,
            "overflow_x": null,
            "overflow_y": null,
            "padding": null,
            "right": null,
            "top": null,
            "visibility": null,
            "width": null
          }
        },
        "d96a95b8967847c39cdeb61aaff6e8b5": {
          "model_module": "@jupyter-widgets/controls",
          "model_name": "DescriptionStyleModel",
          "model_module_version": "1.5.0",
          "state": {
            "_model_module": "@jupyter-widgets/controls",
            "_model_module_version": "1.5.0",
            "_model_name": "DescriptionStyleModel",
            "_view_count": null,
            "_view_module": "@jupyter-widgets/base",
            "_view_module_version": "1.2.0",
            "_view_name": "StyleView",
            "description_width": ""
          }
        },
        "96130fb5d0384d7aa898640c8a2a84c7": {
          "model_module": "@jupyter-widgets/base",
          "model_name": "LayoutModel",
          "model_module_version": "1.2.0",
          "state": {
            "_model_module": "@jupyter-widgets/base",
            "_model_module_version": "1.2.0",
            "_model_name": "LayoutModel",
            "_view_count": null,
            "_view_module": "@jupyter-widgets/base",
            "_view_module_version": "1.2.0",
            "_view_name": "LayoutView",
            "align_content": null,
            "align_items": null,
            "align_self": null,
            "border": null,
            "bottom": null,
            "display": null,
            "flex": null,
            "flex_flow": null,
            "grid_area": null,
            "grid_auto_columns": null,
            "grid_auto_flow": null,
            "grid_auto_rows": null,
            "grid_column": null,
            "grid_gap": null,
            "grid_row": null,
            "grid_template_areas": null,
            "grid_template_columns": null,
            "grid_template_rows": null,
            "height": null,
            "justify_content": null,
            "justify_items": null,
            "left": null,
            "margin": null,
            "max_height": null,
            "max_width": null,
            "min_height": null,
            "min_width": null,
            "object_fit": null,
            "object_position": null,
            "order": null,
            "overflow": null,
            "overflow_x": null,
            "overflow_y": null,
            "padding": null,
            "right": null,
            "top": null,
            "visibility": null,
            "width": null
          }
        },
        "2cc1f3ad1c4440ae9e1a5ceeb868793a": {
          "model_module": "@jupyter-widgets/controls",
          "model_name": "ProgressStyleModel",
          "model_module_version": "1.5.0",
          "state": {
            "_model_module": "@jupyter-widgets/controls",
            "_model_module_version": "1.5.0",
            "_model_name": "ProgressStyleModel",
            "_view_count": null,
            "_view_module": "@jupyter-widgets/base",
            "_view_module_version": "1.2.0",
            "_view_name": "StyleView",
            "bar_color": null,
            "description_width": ""
          }
        },
        "6272e914a20948bf833bd2a44ff27a05": {
          "model_module": "@jupyter-widgets/base",
          "model_name": "LayoutModel",
          "model_module_version": "1.2.0",
          "state": {
            "_model_module": "@jupyter-widgets/base",
            "_model_module_version": "1.2.0",
            "_model_name": "LayoutModel",
            "_view_count": null,
            "_view_module": "@jupyter-widgets/base",
            "_view_module_version": "1.2.0",
            "_view_name": "LayoutView",
            "align_content": null,
            "align_items": null,
            "align_self": null,
            "border": null,
            "bottom": null,
            "display": null,
            "flex": null,
            "flex_flow": null,
            "grid_area": null,
            "grid_auto_columns": null,
            "grid_auto_flow": null,
            "grid_auto_rows": null,
            "grid_column": null,
            "grid_gap": null,
            "grid_row": null,
            "grid_template_areas": null,
            "grid_template_columns": null,
            "grid_template_rows": null,
            "height": null,
            "justify_content": null,
            "justify_items": null,
            "left": null,
            "margin": null,
            "max_height": null,
            "max_width": null,
            "min_height": null,
            "min_width": null,
            "object_fit": null,
            "object_position": null,
            "order": null,
            "overflow": null,
            "overflow_x": null,
            "overflow_y": null,
            "padding": null,
            "right": null,
            "top": null,
            "visibility": null,
            "width": null
          }
        },
        "0c7893817b4f44a0a29bc31123dbde85": {
          "model_module": "@jupyter-widgets/controls",
          "model_name": "DescriptionStyleModel",
          "model_module_version": "1.5.0",
          "state": {
            "_model_module": "@jupyter-widgets/controls",
            "_model_module_version": "1.5.0",
            "_model_name": "DescriptionStyleModel",
            "_view_count": null,
            "_view_module": "@jupyter-widgets/base",
            "_view_module_version": "1.2.0",
            "_view_name": "StyleView",
            "description_width": ""
          }
        },
        "ba6cebb4d4134fad8d25c5f98636812f": {
          "model_module": "@jupyter-widgets/controls",
          "model_name": "HBoxModel",
          "model_module_version": "1.5.0",
          "state": {
            "_dom_classes": [],
            "_model_module": "@jupyter-widgets/controls",
            "_model_module_version": "1.5.0",
            "_model_name": "HBoxModel",
            "_view_count": null,
            "_view_module": "@jupyter-widgets/controls",
            "_view_module_version": "1.5.0",
            "_view_name": "HBoxView",
            "box_style": "",
            "children": [
              "IPY_MODEL_4b8b9bda212f4c759fb6d67576e1e2da",
              "IPY_MODEL_eea09da1f6904b248adfeb914f4f8431",
              "IPY_MODEL_9131bac5b223497db2de09ae18bf28e6"
            ],
            "layout": "IPY_MODEL_8a8611028d994661953ba27c0644d126"
          }
        },
        "4b8b9bda212f4c759fb6d67576e1e2da": {
          "model_module": "@jupyter-widgets/controls",
          "model_name": "HTMLModel",
          "model_module_version": "1.5.0",
          "state": {
            "_dom_classes": [],
            "_model_module": "@jupyter-widgets/controls",
            "_model_module_version": "1.5.0",
            "_model_name": "HTMLModel",
            "_view_count": null,
            "_view_module": "@jupyter-widgets/controls",
            "_view_module_version": "1.5.0",
            "_view_name": "HTMLView",
            "description": "",
            "description_tooltip": null,
            "layout": "IPY_MODEL_0c52fe7db9b343fcad31e94c8874ca3d",
            "placeholder": "​",
            "style": "IPY_MODEL_e01d2455af1543c0909ec3e29e6e0261",
            "value": "100%"
          }
        },
        "eea09da1f6904b248adfeb914f4f8431": {
          "model_module": "@jupyter-widgets/controls",
          "model_name": "FloatProgressModel",
          "model_module_version": "1.5.0",
          "state": {
            "_dom_classes": [],
            "_model_module": "@jupyter-widgets/controls",
            "_model_module_version": "1.5.0",
            "_model_name": "FloatProgressModel",
            "_view_count": null,
            "_view_module": "@jupyter-widgets/controls",
            "_view_module_version": "1.5.0",
            "_view_name": "ProgressView",
            "bar_style": "success",
            "description": "",
            "description_tooltip": null,
            "layout": "IPY_MODEL_3874902ce0bb4ca88e04304e4a83c5ff",
            "max": 469,
            "min": 0,
            "orientation": "horizontal",
            "style": "IPY_MODEL_eaf07a88858647b8bd0def46bc4465c6",
            "value": 469
          }
        },
        "9131bac5b223497db2de09ae18bf28e6": {
          "model_module": "@jupyter-widgets/controls",
          "model_name": "HTMLModel",
          "model_module_version": "1.5.0",
          "state": {
            "_dom_classes": [],
            "_model_module": "@jupyter-widgets/controls",
            "_model_module_version": "1.5.0",
            "_model_name": "HTMLModel",
            "_view_count": null,
            "_view_module": "@jupyter-widgets/controls",
            "_view_module_version": "1.5.0",
            "_view_name": "HTMLView",
            "description": "",
            "description_tooltip": null,
            "layout": "IPY_MODEL_f7b7adf367f74aae814c568da294c24a",
            "placeholder": "​",
            "style": "IPY_MODEL_7ebec7c9d1054af18a05e564225a70df",
            "value": " 469/469 [01:19&lt;00:00,  6.29batch/s]"
          }
        },
        "8a8611028d994661953ba27c0644d126": {
          "model_module": "@jupyter-widgets/base",
          "model_name": "LayoutModel",
          "model_module_version": "1.2.0",
          "state": {
            "_model_module": "@jupyter-widgets/base",
            "_model_module_version": "1.2.0",
            "_model_name": "LayoutModel",
            "_view_count": null,
            "_view_module": "@jupyter-widgets/base",
            "_view_module_version": "1.2.0",
            "_view_name": "LayoutView",
            "align_content": null,
            "align_items": null,
            "align_self": null,
            "border": null,
            "bottom": null,
            "display": null,
            "flex": null,
            "flex_flow": null,
            "grid_area": null,
            "grid_auto_columns": null,
            "grid_auto_flow": null,
            "grid_auto_rows": null,
            "grid_column": null,
            "grid_gap": null,
            "grid_row": null,
            "grid_template_areas": null,
            "grid_template_columns": null,
            "grid_template_rows": null,
            "height": null,
            "justify_content": null,
            "justify_items": null,
            "left": null,
            "margin": null,
            "max_height": null,
            "max_width": null,
            "min_height": null,
            "min_width": null,
            "object_fit": null,
            "object_position": null,
            "order": null,
            "overflow": null,
            "overflow_x": null,
            "overflow_y": null,
            "padding": null,
            "right": null,
            "top": null,
            "visibility": null,
            "width": null
          }
        },
        "0c52fe7db9b343fcad31e94c8874ca3d": {
          "model_module": "@jupyter-widgets/base",
          "model_name": "LayoutModel",
          "model_module_version": "1.2.0",
          "state": {
            "_model_module": "@jupyter-widgets/base",
            "_model_module_version": "1.2.0",
            "_model_name": "LayoutModel",
            "_view_count": null,
            "_view_module": "@jupyter-widgets/base",
            "_view_module_version": "1.2.0",
            "_view_name": "LayoutView",
            "align_content": null,
            "align_items": null,
            "align_self": null,
            "border": null,
            "bottom": null,
            "display": null,
            "flex": null,
            "flex_flow": null,
            "grid_area": null,
            "grid_auto_columns": null,
            "grid_auto_flow": null,
            "grid_auto_rows": null,
            "grid_column": null,
            "grid_gap": null,
            "grid_row": null,
            "grid_template_areas": null,
            "grid_template_columns": null,
            "grid_template_rows": null,
            "height": null,
            "justify_content": null,
            "justify_items": null,
            "left": null,
            "margin": null,
            "max_height": null,
            "max_width": null,
            "min_height": null,
            "min_width": null,
            "object_fit": null,
            "object_position": null,
            "order": null,
            "overflow": null,
            "overflow_x": null,
            "overflow_y": null,
            "padding": null,
            "right": null,
            "top": null,
            "visibility": null,
            "width": null
          }
        },
        "e01d2455af1543c0909ec3e29e6e0261": {
          "model_module": "@jupyter-widgets/controls",
          "model_name": "DescriptionStyleModel",
          "model_module_version": "1.5.0",
          "state": {
            "_model_module": "@jupyter-widgets/controls",
            "_model_module_version": "1.5.0",
            "_model_name": "DescriptionStyleModel",
            "_view_count": null,
            "_view_module": "@jupyter-widgets/base",
            "_view_module_version": "1.2.0",
            "_view_name": "StyleView",
            "description_width": ""
          }
        },
        "3874902ce0bb4ca88e04304e4a83c5ff": {
          "model_module": "@jupyter-widgets/base",
          "model_name": "LayoutModel",
          "model_module_version": "1.2.0",
          "state": {
            "_model_module": "@jupyter-widgets/base",
            "_model_module_version": "1.2.0",
            "_model_name": "LayoutModel",
            "_view_count": null,
            "_view_module": "@jupyter-widgets/base",
            "_view_module_version": "1.2.0",
            "_view_name": "LayoutView",
            "align_content": null,
            "align_items": null,
            "align_self": null,
            "border": null,
            "bottom": null,
            "display": null,
            "flex": null,
            "flex_flow": null,
            "grid_area": null,
            "grid_auto_columns": null,
            "grid_auto_flow": null,
            "grid_auto_rows": null,
            "grid_column": null,
            "grid_gap": null,
            "grid_row": null,
            "grid_template_areas": null,
            "grid_template_columns": null,
            "grid_template_rows": null,
            "height": null,
            "justify_content": null,
            "justify_items": null,
            "left": null,
            "margin": null,
            "max_height": null,
            "max_width": null,
            "min_height": null,
            "min_width": null,
            "object_fit": null,
            "object_position": null,
            "order": null,
            "overflow": null,
            "overflow_x": null,
            "overflow_y": null,
            "padding": null,
            "right": null,
            "top": null,
            "visibility": null,
            "width": null
          }
        },
        "eaf07a88858647b8bd0def46bc4465c6": {
          "model_module": "@jupyter-widgets/controls",
          "model_name": "ProgressStyleModel",
          "model_module_version": "1.5.0",
          "state": {
            "_model_module": "@jupyter-widgets/controls",
            "_model_module_version": "1.5.0",
            "_model_name": "ProgressStyleModel",
            "_view_count": null,
            "_view_module": "@jupyter-widgets/base",
            "_view_module_version": "1.2.0",
            "_view_name": "StyleView",
            "bar_color": null,
            "description_width": ""
          }
        },
        "f7b7adf367f74aae814c568da294c24a": {
          "model_module": "@jupyter-widgets/base",
          "model_name": "LayoutModel",
          "model_module_version": "1.2.0",
          "state": {
            "_model_module": "@jupyter-widgets/base",
            "_model_module_version": "1.2.0",
            "_model_name": "LayoutModel",
            "_view_count": null,
            "_view_module": "@jupyter-widgets/base",
            "_view_module_version": "1.2.0",
            "_view_name": "LayoutView",
            "align_content": null,
            "align_items": null,
            "align_self": null,
            "border": null,
            "bottom": null,
            "display": null,
            "flex": null,
            "flex_flow": null,
            "grid_area": null,
            "grid_auto_columns": null,
            "grid_auto_flow": null,
            "grid_auto_rows": null,
            "grid_column": null,
            "grid_gap": null,
            "grid_row": null,
            "grid_template_areas": null,
            "grid_template_columns": null,
            "grid_template_rows": null,
            "height": null,
            "justify_content": null,
            "justify_items": null,
            "left": null,
            "margin": null,
            "max_height": null,
            "max_width": null,
            "min_height": null,
            "min_width": null,
            "object_fit": null,
            "object_position": null,
            "order": null,
            "overflow": null,
            "overflow_x": null,
            "overflow_y": null,
            "padding": null,
            "right": null,
            "top": null,
            "visibility": null,
            "width": null
          }
        },
        "7ebec7c9d1054af18a05e564225a70df": {
          "model_module": "@jupyter-widgets/controls",
          "model_name": "DescriptionStyleModel",
          "model_module_version": "1.5.0",
          "state": {
            "_model_module": "@jupyter-widgets/controls",
            "_model_module_version": "1.5.0",
            "_model_name": "DescriptionStyleModel",
            "_view_count": null,
            "_view_module": "@jupyter-widgets/base",
            "_view_module_version": "1.2.0",
            "_view_name": "StyleView",
            "description_width": ""
          }
        },
        "9b61192f50c240329e44daa4cca5cb28": {
          "model_module": "@jupyter-widgets/controls",
          "model_name": "HBoxModel",
          "model_module_version": "1.5.0",
          "state": {
            "_dom_classes": [],
            "_model_module": "@jupyter-widgets/controls",
            "_model_module_version": "1.5.0",
            "_model_name": "HBoxModel",
            "_view_count": null,
            "_view_module": "@jupyter-widgets/controls",
            "_view_module_version": "1.5.0",
            "_view_name": "HBoxView",
            "box_style": "",
            "children": [
              "IPY_MODEL_b4bec9ed406f4d5eb78e86a6b8d058aa",
              "IPY_MODEL_c5cc2d39278449448dd24b09ceeecfa5",
              "IPY_MODEL_d8735d929f294013b49f3819c7e4c159"
            ],
            "layout": "IPY_MODEL_ed0dfc2d58ae40cdafa85afd37eb457c"
          }
        },
        "b4bec9ed406f4d5eb78e86a6b8d058aa": {
          "model_module": "@jupyter-widgets/controls",
          "model_name": "HTMLModel",
          "model_module_version": "1.5.0",
          "state": {
            "_dom_classes": [],
            "_model_module": "@jupyter-widgets/controls",
            "_model_module_version": "1.5.0",
            "_model_name": "HTMLModel",
            "_view_count": null,
            "_view_module": "@jupyter-widgets/controls",
            "_view_module_version": "1.5.0",
            "_view_name": "HTMLView",
            "description": "",
            "description_tooltip": null,
            "layout": "IPY_MODEL_7d16d8ac27384004b9332afaf74e9086",
            "placeholder": "​",
            "style": "IPY_MODEL_eff8c5bd7e0f4b05892da2af3a2ac031",
            "value": "100%"
          }
        },
        "c5cc2d39278449448dd24b09ceeecfa5": {
          "model_module": "@jupyter-widgets/controls",
          "model_name": "FloatProgressModel",
          "model_module_version": "1.5.0",
          "state": {
            "_dom_classes": [],
            "_model_module": "@jupyter-widgets/controls",
            "_model_module_version": "1.5.0",
            "_model_name": "FloatProgressModel",
            "_view_count": null,
            "_view_module": "@jupyter-widgets/controls",
            "_view_module_version": "1.5.0",
            "_view_name": "ProgressView",
            "bar_style": "success",
            "description": "",
            "description_tooltip": null,
            "layout": "IPY_MODEL_2cd462d507454a2baec84164346ca1d3",
            "max": 469,
            "min": 0,
            "orientation": "horizontal",
            "style": "IPY_MODEL_b705721606da49d1b16bdc8b33c6ada1",
            "value": 469
          }
        },
        "d8735d929f294013b49f3819c7e4c159": {
          "model_module": "@jupyter-widgets/controls",
          "model_name": "HTMLModel",
          "model_module_version": "1.5.0",
          "state": {
            "_dom_classes": [],
            "_model_module": "@jupyter-widgets/controls",
            "_model_module_version": "1.5.0",
            "_model_name": "HTMLModel",
            "_view_count": null,
            "_view_module": "@jupyter-widgets/controls",
            "_view_module_version": "1.5.0",
            "_view_name": "HTMLView",
            "description": "",
            "description_tooltip": null,
            "layout": "IPY_MODEL_2c07517f53f9407c8d2372ad84dec22a",
            "placeholder": "​",
            "style": "IPY_MODEL_15110049d30d4636887391638c217384",
            "value": " 469/469 [01:19&lt;00:00,  6.19batch/s]"
          }
        },
        "ed0dfc2d58ae40cdafa85afd37eb457c": {
          "model_module": "@jupyter-widgets/base",
          "model_name": "LayoutModel",
          "model_module_version": "1.2.0",
          "state": {
            "_model_module": "@jupyter-widgets/base",
            "_model_module_version": "1.2.0",
            "_model_name": "LayoutModel",
            "_view_count": null,
            "_view_module": "@jupyter-widgets/base",
            "_view_module_version": "1.2.0",
            "_view_name": "LayoutView",
            "align_content": null,
            "align_items": null,
            "align_self": null,
            "border": null,
            "bottom": null,
            "display": null,
            "flex": null,
            "flex_flow": null,
            "grid_area": null,
            "grid_auto_columns": null,
            "grid_auto_flow": null,
            "grid_auto_rows": null,
            "grid_column": null,
            "grid_gap": null,
            "grid_row": null,
            "grid_template_areas": null,
            "grid_template_columns": null,
            "grid_template_rows": null,
            "height": null,
            "justify_content": null,
            "justify_items": null,
            "left": null,
            "margin": null,
            "max_height": null,
            "max_width": null,
            "min_height": null,
            "min_width": null,
            "object_fit": null,
            "object_position": null,
            "order": null,
            "overflow": null,
            "overflow_x": null,
            "overflow_y": null,
            "padding": null,
            "right": null,
            "top": null,
            "visibility": null,
            "width": null
          }
        },
        "7d16d8ac27384004b9332afaf74e9086": {
          "model_module": "@jupyter-widgets/base",
          "model_name": "LayoutModel",
          "model_module_version": "1.2.0",
          "state": {
            "_model_module": "@jupyter-widgets/base",
            "_model_module_version": "1.2.0",
            "_model_name": "LayoutModel",
            "_view_count": null,
            "_view_module": "@jupyter-widgets/base",
            "_view_module_version": "1.2.0",
            "_view_name": "LayoutView",
            "align_content": null,
            "align_items": null,
            "align_self": null,
            "border": null,
            "bottom": null,
            "display": null,
            "flex": null,
            "flex_flow": null,
            "grid_area": null,
            "grid_auto_columns": null,
            "grid_auto_flow": null,
            "grid_auto_rows": null,
            "grid_column": null,
            "grid_gap": null,
            "grid_row": null,
            "grid_template_areas": null,
            "grid_template_columns": null,
            "grid_template_rows": null,
            "height": null,
            "justify_content": null,
            "justify_items": null,
            "left": null,
            "margin": null,
            "max_height": null,
            "max_width": null,
            "min_height": null,
            "min_width": null,
            "object_fit": null,
            "object_position": null,
            "order": null,
            "overflow": null,
            "overflow_x": null,
            "overflow_y": null,
            "padding": null,
            "right": null,
            "top": null,
            "visibility": null,
            "width": null
          }
        },
        "eff8c5bd7e0f4b05892da2af3a2ac031": {
          "model_module": "@jupyter-widgets/controls",
          "model_name": "DescriptionStyleModel",
          "model_module_version": "1.5.0",
          "state": {
            "_model_module": "@jupyter-widgets/controls",
            "_model_module_version": "1.5.0",
            "_model_name": "DescriptionStyleModel",
            "_view_count": null,
            "_view_module": "@jupyter-widgets/base",
            "_view_module_version": "1.2.0",
            "_view_name": "StyleView",
            "description_width": ""
          }
        },
        "2cd462d507454a2baec84164346ca1d3": {
          "model_module": "@jupyter-widgets/base",
          "model_name": "LayoutModel",
          "model_module_version": "1.2.0",
          "state": {
            "_model_module": "@jupyter-widgets/base",
            "_model_module_version": "1.2.0",
            "_model_name": "LayoutModel",
            "_view_count": null,
            "_view_module": "@jupyter-widgets/base",
            "_view_module_version": "1.2.0",
            "_view_name": "LayoutView",
            "align_content": null,
            "align_items": null,
            "align_self": null,
            "border": null,
            "bottom": null,
            "display": null,
            "flex": null,
            "flex_flow": null,
            "grid_area": null,
            "grid_auto_columns": null,
            "grid_auto_flow": null,
            "grid_auto_rows": null,
            "grid_column": null,
            "grid_gap": null,
            "grid_row": null,
            "grid_template_areas": null,
            "grid_template_columns": null,
            "grid_template_rows": null,
            "height": null,
            "justify_content": null,
            "justify_items": null,
            "left": null,
            "margin": null,
            "max_height": null,
            "max_width": null,
            "min_height": null,
            "min_width": null,
            "object_fit": null,
            "object_position": null,
            "order": null,
            "overflow": null,
            "overflow_x": null,
            "overflow_y": null,
            "padding": null,
            "right": null,
            "top": null,
            "visibility": null,
            "width": null
          }
        },
        "b705721606da49d1b16bdc8b33c6ada1": {
          "model_module": "@jupyter-widgets/controls",
          "model_name": "ProgressStyleModel",
          "model_module_version": "1.5.0",
          "state": {
            "_model_module": "@jupyter-widgets/controls",
            "_model_module_version": "1.5.0",
            "_model_name": "ProgressStyleModel",
            "_view_count": null,
            "_view_module": "@jupyter-widgets/base",
            "_view_module_version": "1.2.0",
            "_view_name": "StyleView",
            "bar_color": null,
            "description_width": ""
          }
        },
        "2c07517f53f9407c8d2372ad84dec22a": {
          "model_module": "@jupyter-widgets/base",
          "model_name": "LayoutModel",
          "model_module_version": "1.2.0",
          "state": {
            "_model_module": "@jupyter-widgets/base",
            "_model_module_version": "1.2.0",
            "_model_name": "LayoutModel",
            "_view_count": null,
            "_view_module": "@jupyter-widgets/base",
            "_view_module_version": "1.2.0",
            "_view_name": "LayoutView",
            "align_content": null,
            "align_items": null,
            "align_self": null,
            "border": null,
            "bottom": null,
            "display": null,
            "flex": null,
            "flex_flow": null,
            "grid_area": null,
            "grid_auto_columns": null,
            "grid_auto_flow": null,
            "grid_auto_rows": null,
            "grid_column": null,
            "grid_gap": null,
            "grid_row": null,
            "grid_template_areas": null,
            "grid_template_columns": null,
            "grid_template_rows": null,
            "height": null,
            "justify_content": null,
            "justify_items": null,
            "left": null,
            "margin": null,
            "max_height": null,
            "max_width": null,
            "min_height": null,
            "min_width": null,
            "object_fit": null,
            "object_position": null,
            "order": null,
            "overflow": null,
            "overflow_x": null,
            "overflow_y": null,
            "padding": null,
            "right": null,
            "top": null,
            "visibility": null,
            "width": null
          }
        },
        "15110049d30d4636887391638c217384": {
          "model_module": "@jupyter-widgets/controls",
          "model_name": "DescriptionStyleModel",
          "model_module_version": "1.5.0",
          "state": {
            "_model_module": "@jupyter-widgets/controls",
            "_model_module_version": "1.5.0",
            "_model_name": "DescriptionStyleModel",
            "_view_count": null,
            "_view_module": "@jupyter-widgets/base",
            "_view_module_version": "1.2.0",
            "_view_name": "StyleView",
            "description_width": ""
          }
        },
        "8bbfeb02092d4625925119a073b73931": {
          "model_module": "@jupyter-widgets/controls",
          "model_name": "HBoxModel",
          "model_module_version": "1.5.0",
          "state": {
            "_dom_classes": [],
            "_model_module": "@jupyter-widgets/controls",
            "_model_module_version": "1.5.0",
            "_model_name": "HBoxModel",
            "_view_count": null,
            "_view_module": "@jupyter-widgets/controls",
            "_view_module_version": "1.5.0",
            "_view_name": "HBoxView",
            "box_style": "",
            "children": [
              "IPY_MODEL_803f2e99d32a4612afb11c6c0530a1f3",
              "IPY_MODEL_de9e9e31a96942a599d9ebfb55a57c44",
              "IPY_MODEL_5ce2b45e7f374fd382a9bb25cf0b8e28"
            ],
            "layout": "IPY_MODEL_261805327b514cfea42b276b41b5d3f9"
          }
        },
        "803f2e99d32a4612afb11c6c0530a1f3": {
          "model_module": "@jupyter-widgets/controls",
          "model_name": "HTMLModel",
          "model_module_version": "1.5.0",
          "state": {
            "_dom_classes": [],
            "_model_module": "@jupyter-widgets/controls",
            "_model_module_version": "1.5.0",
            "_model_name": "HTMLModel",
            "_view_count": null,
            "_view_module": "@jupyter-widgets/controls",
            "_view_module_version": "1.5.0",
            "_view_name": "HTMLView",
            "description": "",
            "description_tooltip": null,
            "layout": "IPY_MODEL_c394132d5b774f64a2337a24ab8c7b28",
            "placeholder": "​",
            "style": "IPY_MODEL_aa36804dd989461896cb5dd88db5bcc2",
            "value": "100%"
          }
        },
        "de9e9e31a96942a599d9ebfb55a57c44": {
          "model_module": "@jupyter-widgets/controls",
          "model_name": "FloatProgressModel",
          "model_module_version": "1.5.0",
          "state": {
            "_dom_classes": [],
            "_model_module": "@jupyter-widgets/controls",
            "_model_module_version": "1.5.0",
            "_model_name": "FloatProgressModel",
            "_view_count": null,
            "_view_module": "@jupyter-widgets/controls",
            "_view_module_version": "1.5.0",
            "_view_name": "ProgressView",
            "bar_style": "success",
            "description": "",
            "description_tooltip": null,
            "layout": "IPY_MODEL_7fb1785b2b9644b8a4a3c3c9c1e766bc",
            "max": 469,
            "min": 0,
            "orientation": "horizontal",
            "style": "IPY_MODEL_650987c2ed4443d19c899c599134bc60",
            "value": 469
          }
        },
        "5ce2b45e7f374fd382a9bb25cf0b8e28": {
          "model_module": "@jupyter-widgets/controls",
          "model_name": "HTMLModel",
          "model_module_version": "1.5.0",
          "state": {
            "_dom_classes": [],
            "_model_module": "@jupyter-widgets/controls",
            "_model_module_version": "1.5.0",
            "_model_name": "HTMLModel",
            "_view_count": null,
            "_view_module": "@jupyter-widgets/controls",
            "_view_module_version": "1.5.0",
            "_view_name": "HTMLView",
            "description": "",
            "description_tooltip": null,
            "layout": "IPY_MODEL_8392cc95543343c8999041b5c3c742d5",
            "placeholder": "​",
            "style": "IPY_MODEL_d3a38c49033a4f4dbfc5ba86e69c53b8",
            "value": " 469/469 [01:19&lt;00:00,  6.17batch/s]"
          }
        },
        "261805327b514cfea42b276b41b5d3f9": {
          "model_module": "@jupyter-widgets/base",
          "model_name": "LayoutModel",
          "model_module_version": "1.2.0",
          "state": {
            "_model_module": "@jupyter-widgets/base",
            "_model_module_version": "1.2.0",
            "_model_name": "LayoutModel",
            "_view_count": null,
            "_view_module": "@jupyter-widgets/base",
            "_view_module_version": "1.2.0",
            "_view_name": "LayoutView",
            "align_content": null,
            "align_items": null,
            "align_self": null,
            "border": null,
            "bottom": null,
            "display": null,
            "flex": null,
            "flex_flow": null,
            "grid_area": null,
            "grid_auto_columns": null,
            "grid_auto_flow": null,
            "grid_auto_rows": null,
            "grid_column": null,
            "grid_gap": null,
            "grid_row": null,
            "grid_template_areas": null,
            "grid_template_columns": null,
            "grid_template_rows": null,
            "height": null,
            "justify_content": null,
            "justify_items": null,
            "left": null,
            "margin": null,
            "max_height": null,
            "max_width": null,
            "min_height": null,
            "min_width": null,
            "object_fit": null,
            "object_position": null,
            "order": null,
            "overflow": null,
            "overflow_x": null,
            "overflow_y": null,
            "padding": null,
            "right": null,
            "top": null,
            "visibility": null,
            "width": null
          }
        },
        "c394132d5b774f64a2337a24ab8c7b28": {
          "model_module": "@jupyter-widgets/base",
          "model_name": "LayoutModel",
          "model_module_version": "1.2.0",
          "state": {
            "_model_module": "@jupyter-widgets/base",
            "_model_module_version": "1.2.0",
            "_model_name": "LayoutModel",
            "_view_count": null,
            "_view_module": "@jupyter-widgets/base",
            "_view_module_version": "1.2.0",
            "_view_name": "LayoutView",
            "align_content": null,
            "align_items": null,
            "align_self": null,
            "border": null,
            "bottom": null,
            "display": null,
            "flex": null,
            "flex_flow": null,
            "grid_area": null,
            "grid_auto_columns": null,
            "grid_auto_flow": null,
            "grid_auto_rows": null,
            "grid_column": null,
            "grid_gap": null,
            "grid_row": null,
            "grid_template_areas": null,
            "grid_template_columns": null,
            "grid_template_rows": null,
            "height": null,
            "justify_content": null,
            "justify_items": null,
            "left": null,
            "margin": null,
            "max_height": null,
            "max_width": null,
            "min_height": null,
            "min_width": null,
            "object_fit": null,
            "object_position": null,
            "order": null,
            "overflow": null,
            "overflow_x": null,
            "overflow_y": null,
            "padding": null,
            "right": null,
            "top": null,
            "visibility": null,
            "width": null
          }
        },
        "aa36804dd989461896cb5dd88db5bcc2": {
          "model_module": "@jupyter-widgets/controls",
          "model_name": "DescriptionStyleModel",
          "model_module_version": "1.5.0",
          "state": {
            "_model_module": "@jupyter-widgets/controls",
            "_model_module_version": "1.5.0",
            "_model_name": "DescriptionStyleModel",
            "_view_count": null,
            "_view_module": "@jupyter-widgets/base",
            "_view_module_version": "1.2.0",
            "_view_name": "StyleView",
            "description_width": ""
          }
        },
        "7fb1785b2b9644b8a4a3c3c9c1e766bc": {
          "model_module": "@jupyter-widgets/base",
          "model_name": "LayoutModel",
          "model_module_version": "1.2.0",
          "state": {
            "_model_module": "@jupyter-widgets/base",
            "_model_module_version": "1.2.0",
            "_model_name": "LayoutModel",
            "_view_count": null,
            "_view_module": "@jupyter-widgets/base",
            "_view_module_version": "1.2.0",
            "_view_name": "LayoutView",
            "align_content": null,
            "align_items": null,
            "align_self": null,
            "border": null,
            "bottom": null,
            "display": null,
            "flex": null,
            "flex_flow": null,
            "grid_area": null,
            "grid_auto_columns": null,
            "grid_auto_flow": null,
            "grid_auto_rows": null,
            "grid_column": null,
            "grid_gap": null,
            "grid_row": null,
            "grid_template_areas": null,
            "grid_template_columns": null,
            "grid_template_rows": null,
            "height": null,
            "justify_content": null,
            "justify_items": null,
            "left": null,
            "margin": null,
            "max_height": null,
            "max_width": null,
            "min_height": null,
            "min_width": null,
            "object_fit": null,
            "object_position": null,
            "order": null,
            "overflow": null,
            "overflow_x": null,
            "overflow_y": null,
            "padding": null,
            "right": null,
            "top": null,
            "visibility": null,
            "width": null
          }
        },
        "650987c2ed4443d19c899c599134bc60": {
          "model_module": "@jupyter-widgets/controls",
          "model_name": "ProgressStyleModel",
          "model_module_version": "1.5.0",
          "state": {
            "_model_module": "@jupyter-widgets/controls",
            "_model_module_version": "1.5.0",
            "_model_name": "ProgressStyleModel",
            "_view_count": null,
            "_view_module": "@jupyter-widgets/base",
            "_view_module_version": "1.2.0",
            "_view_name": "StyleView",
            "bar_color": null,
            "description_width": ""
          }
        },
        "8392cc95543343c8999041b5c3c742d5": {
          "model_module": "@jupyter-widgets/base",
          "model_name": "LayoutModel",
          "model_module_version": "1.2.0",
          "state": {
            "_model_module": "@jupyter-widgets/base",
            "_model_module_version": "1.2.0",
            "_model_name": "LayoutModel",
            "_view_count": null,
            "_view_module": "@jupyter-widgets/base",
            "_view_module_version": "1.2.0",
            "_view_name": "LayoutView",
            "align_content": null,
            "align_items": null,
            "align_self": null,
            "border": null,
            "bottom": null,
            "display": null,
            "flex": null,
            "flex_flow": null,
            "grid_area": null,
            "grid_auto_columns": null,
            "grid_auto_flow": null,
            "grid_auto_rows": null,
            "grid_column": null,
            "grid_gap": null,
            "grid_row": null,
            "grid_template_areas": null,
            "grid_template_columns": null,
            "grid_template_rows": null,
            "height": null,
            "justify_content": null,
            "justify_items": null,
            "left": null,
            "margin": null,
            "max_height": null,
            "max_width": null,
            "min_height": null,
            "min_width": null,
            "object_fit": null,
            "object_position": null,
            "order": null,
            "overflow": null,
            "overflow_x": null,
            "overflow_y": null,
            "padding": null,
            "right": null,
            "top": null,
            "visibility": null,
            "width": null
          }
        },
        "d3a38c49033a4f4dbfc5ba86e69c53b8": {
          "model_module": "@jupyter-widgets/controls",
          "model_name": "DescriptionStyleModel",
          "model_module_version": "1.5.0",
          "state": {
            "_model_module": "@jupyter-widgets/controls",
            "_model_module_version": "1.5.0",
            "_model_name": "DescriptionStyleModel",
            "_view_count": null,
            "_view_module": "@jupyter-widgets/base",
            "_view_module_version": "1.2.0",
            "_view_name": "StyleView",
            "description_width": ""
          }
        },
        "0d726fc53a0d4896b0950fed1238d2dd": {
          "model_module": "@jupyter-widgets/controls",
          "model_name": "HBoxModel",
          "model_module_version": "1.5.0",
          "state": {
            "_dom_classes": [],
            "_model_module": "@jupyter-widgets/controls",
            "_model_module_version": "1.5.0",
            "_model_name": "HBoxModel",
            "_view_count": null,
            "_view_module": "@jupyter-widgets/controls",
            "_view_module_version": "1.5.0",
            "_view_name": "HBoxView",
            "box_style": "",
            "children": [
              "IPY_MODEL_0843616e5d4b4552b95f705608a8a0a1",
              "IPY_MODEL_7b315f59211f4442a2272be97a644168",
              "IPY_MODEL_9fb923065c21411a88b5d548c5611289"
            ],
            "layout": "IPY_MODEL_2acd7a6dcc1142028c90d620a22a5e0e"
          }
        },
        "0843616e5d4b4552b95f705608a8a0a1": {
          "model_module": "@jupyter-widgets/controls",
          "model_name": "HTMLModel",
          "model_module_version": "1.5.0",
          "state": {
            "_dom_classes": [],
            "_model_module": "@jupyter-widgets/controls",
            "_model_module_version": "1.5.0",
            "_model_name": "HTMLModel",
            "_view_count": null,
            "_view_module": "@jupyter-widgets/controls",
            "_view_module_version": "1.5.0",
            "_view_name": "HTMLView",
            "description": "",
            "description_tooltip": null,
            "layout": "IPY_MODEL_ef7aaa97ed484c2e8b06a026bc97069f",
            "placeholder": "​",
            "style": "IPY_MODEL_728c9d8b2b36420d854e89a34ffaeebd",
            "value": "100%"
          }
        },
        "7b315f59211f4442a2272be97a644168": {
          "model_module": "@jupyter-widgets/controls",
          "model_name": "FloatProgressModel",
          "model_module_version": "1.5.0",
          "state": {
            "_dom_classes": [],
            "_model_module": "@jupyter-widgets/controls",
            "_model_module_version": "1.5.0",
            "_model_name": "FloatProgressModel",
            "_view_count": null,
            "_view_module": "@jupyter-widgets/controls",
            "_view_module_version": "1.5.0",
            "_view_name": "ProgressView",
            "bar_style": "success",
            "description": "",
            "description_tooltip": null,
            "layout": "IPY_MODEL_80fadda2fdb5445b92e19e0e0ae6f370",
            "max": 469,
            "min": 0,
            "orientation": "horizontal",
            "style": "IPY_MODEL_8abac0a3106843ee9e91425d3175837e",
            "value": 469
          }
        },
        "9fb923065c21411a88b5d548c5611289": {
          "model_module": "@jupyter-widgets/controls",
          "model_name": "HTMLModel",
          "model_module_version": "1.5.0",
          "state": {
            "_dom_classes": [],
            "_model_module": "@jupyter-widgets/controls",
            "_model_module_version": "1.5.0",
            "_model_name": "HTMLModel",
            "_view_count": null,
            "_view_module": "@jupyter-widgets/controls",
            "_view_module_version": "1.5.0",
            "_view_name": "HTMLView",
            "description": "",
            "description_tooltip": null,
            "layout": "IPY_MODEL_fe64e51a6e4f4a4893fc626439d870ef",
            "placeholder": "​",
            "style": "IPY_MODEL_9a9fa8161f89417292c682ed8819b1b1",
            "value": " 469/469 [01:19&lt;00:00,  6.23batch/s]"
          }
        },
        "2acd7a6dcc1142028c90d620a22a5e0e": {
          "model_module": "@jupyter-widgets/base",
          "model_name": "LayoutModel",
          "model_module_version": "1.2.0",
          "state": {
            "_model_module": "@jupyter-widgets/base",
            "_model_module_version": "1.2.0",
            "_model_name": "LayoutModel",
            "_view_count": null,
            "_view_module": "@jupyter-widgets/base",
            "_view_module_version": "1.2.0",
            "_view_name": "LayoutView",
            "align_content": null,
            "align_items": null,
            "align_self": null,
            "border": null,
            "bottom": null,
            "display": null,
            "flex": null,
            "flex_flow": null,
            "grid_area": null,
            "grid_auto_columns": null,
            "grid_auto_flow": null,
            "grid_auto_rows": null,
            "grid_column": null,
            "grid_gap": null,
            "grid_row": null,
            "grid_template_areas": null,
            "grid_template_columns": null,
            "grid_template_rows": null,
            "height": null,
            "justify_content": null,
            "justify_items": null,
            "left": null,
            "margin": null,
            "max_height": null,
            "max_width": null,
            "min_height": null,
            "min_width": null,
            "object_fit": null,
            "object_position": null,
            "order": null,
            "overflow": null,
            "overflow_x": null,
            "overflow_y": null,
            "padding": null,
            "right": null,
            "top": null,
            "visibility": null,
            "width": null
          }
        },
        "ef7aaa97ed484c2e8b06a026bc97069f": {
          "model_module": "@jupyter-widgets/base",
          "model_name": "LayoutModel",
          "model_module_version": "1.2.0",
          "state": {
            "_model_module": "@jupyter-widgets/base",
            "_model_module_version": "1.2.0",
            "_model_name": "LayoutModel",
            "_view_count": null,
            "_view_module": "@jupyter-widgets/base",
            "_view_module_version": "1.2.0",
            "_view_name": "LayoutView",
            "align_content": null,
            "align_items": null,
            "align_self": null,
            "border": null,
            "bottom": null,
            "display": null,
            "flex": null,
            "flex_flow": null,
            "grid_area": null,
            "grid_auto_columns": null,
            "grid_auto_flow": null,
            "grid_auto_rows": null,
            "grid_column": null,
            "grid_gap": null,
            "grid_row": null,
            "grid_template_areas": null,
            "grid_template_columns": null,
            "grid_template_rows": null,
            "height": null,
            "justify_content": null,
            "justify_items": null,
            "left": null,
            "margin": null,
            "max_height": null,
            "max_width": null,
            "min_height": null,
            "min_width": null,
            "object_fit": null,
            "object_position": null,
            "order": null,
            "overflow": null,
            "overflow_x": null,
            "overflow_y": null,
            "padding": null,
            "right": null,
            "top": null,
            "visibility": null,
            "width": null
          }
        },
        "728c9d8b2b36420d854e89a34ffaeebd": {
          "model_module": "@jupyter-widgets/controls",
          "model_name": "DescriptionStyleModel",
          "model_module_version": "1.5.0",
          "state": {
            "_model_module": "@jupyter-widgets/controls",
            "_model_module_version": "1.5.0",
            "_model_name": "DescriptionStyleModel",
            "_view_count": null,
            "_view_module": "@jupyter-widgets/base",
            "_view_module_version": "1.2.0",
            "_view_name": "StyleView",
            "description_width": ""
          }
        },
        "80fadda2fdb5445b92e19e0e0ae6f370": {
          "model_module": "@jupyter-widgets/base",
          "model_name": "LayoutModel",
          "model_module_version": "1.2.0",
          "state": {
            "_model_module": "@jupyter-widgets/base",
            "_model_module_version": "1.2.0",
            "_model_name": "LayoutModel",
            "_view_count": null,
            "_view_module": "@jupyter-widgets/base",
            "_view_module_version": "1.2.0",
            "_view_name": "LayoutView",
            "align_content": null,
            "align_items": null,
            "align_self": null,
            "border": null,
            "bottom": null,
            "display": null,
            "flex": null,
            "flex_flow": null,
            "grid_area": null,
            "grid_auto_columns": null,
            "grid_auto_flow": null,
            "grid_auto_rows": null,
            "grid_column": null,
            "grid_gap": null,
            "grid_row": null,
            "grid_template_areas": null,
            "grid_template_columns": null,
            "grid_template_rows": null,
            "height": null,
            "justify_content": null,
            "justify_items": null,
            "left": null,
            "margin": null,
            "max_height": null,
            "max_width": null,
            "min_height": null,
            "min_width": null,
            "object_fit": null,
            "object_position": null,
            "order": null,
            "overflow": null,
            "overflow_x": null,
            "overflow_y": null,
            "padding": null,
            "right": null,
            "top": null,
            "visibility": null,
            "width": null
          }
        },
        "8abac0a3106843ee9e91425d3175837e": {
          "model_module": "@jupyter-widgets/controls",
          "model_name": "ProgressStyleModel",
          "model_module_version": "1.5.0",
          "state": {
            "_model_module": "@jupyter-widgets/controls",
            "_model_module_version": "1.5.0",
            "_model_name": "ProgressStyleModel",
            "_view_count": null,
            "_view_module": "@jupyter-widgets/base",
            "_view_module_version": "1.2.0",
            "_view_name": "StyleView",
            "bar_color": null,
            "description_width": ""
          }
        },
        "fe64e51a6e4f4a4893fc626439d870ef": {
          "model_module": "@jupyter-widgets/base",
          "model_name": "LayoutModel",
          "model_module_version": "1.2.0",
          "state": {
            "_model_module": "@jupyter-widgets/base",
            "_model_module_version": "1.2.0",
            "_model_name": "LayoutModel",
            "_view_count": null,
            "_view_module": "@jupyter-widgets/base",
            "_view_module_version": "1.2.0",
            "_view_name": "LayoutView",
            "align_content": null,
            "align_items": null,
            "align_self": null,
            "border": null,
            "bottom": null,
            "display": null,
            "flex": null,
            "flex_flow": null,
            "grid_area": null,
            "grid_auto_columns": null,
            "grid_auto_flow": null,
            "grid_auto_rows": null,
            "grid_column": null,
            "grid_gap": null,
            "grid_row": null,
            "grid_template_areas": null,
            "grid_template_columns": null,
            "grid_template_rows": null,
            "height": null,
            "justify_content": null,
            "justify_items": null,
            "left": null,
            "margin": null,
            "max_height": null,
            "max_width": null,
            "min_height": null,
            "min_width": null,
            "object_fit": null,
            "object_position": null,
            "order": null,
            "overflow": null,
            "overflow_x": null,
            "overflow_y": null,
            "padding": null,
            "right": null,
            "top": null,
            "visibility": null,
            "width": null
          }
        },
        "9a9fa8161f89417292c682ed8819b1b1": {
          "model_module": "@jupyter-widgets/controls",
          "model_name": "DescriptionStyleModel",
          "model_module_version": "1.5.0",
          "state": {
            "_model_module": "@jupyter-widgets/controls",
            "_model_module_version": "1.5.0",
            "_model_name": "DescriptionStyleModel",
            "_view_count": null,
            "_view_module": "@jupyter-widgets/base",
            "_view_module_version": "1.2.0",
            "_view_name": "StyleView",
            "description_width": ""
          }
        },
        "90278df8a055452eb3929c04c0beb752": {
          "model_module": "@jupyter-widgets/controls",
          "model_name": "HBoxModel",
          "model_module_version": "1.5.0",
          "state": {
            "_dom_classes": [],
            "_model_module": "@jupyter-widgets/controls",
            "_model_module_version": "1.5.0",
            "_model_name": "HBoxModel",
            "_view_count": null,
            "_view_module": "@jupyter-widgets/controls",
            "_view_module_version": "1.5.0",
            "_view_name": "HBoxView",
            "box_style": "",
            "children": [
              "IPY_MODEL_35f0d7e4096c4edf92670f72dc14e4d4",
              "IPY_MODEL_848797004ff74c45a7504e063cb50172",
              "IPY_MODEL_f7ff8729dd294f16827e759d92c5c7a7"
            ],
            "layout": "IPY_MODEL_18f41af9ab7b45f7a8b4b4d805b0ebab"
          }
        },
        "35f0d7e4096c4edf92670f72dc14e4d4": {
          "model_module": "@jupyter-widgets/controls",
          "model_name": "HTMLModel",
          "model_module_version": "1.5.0",
          "state": {
            "_dom_classes": [],
            "_model_module": "@jupyter-widgets/controls",
            "_model_module_version": "1.5.0",
            "_model_name": "HTMLModel",
            "_view_count": null,
            "_view_module": "@jupyter-widgets/controls",
            "_view_module_version": "1.5.0",
            "_view_name": "HTMLView",
            "description": "",
            "description_tooltip": null,
            "layout": "IPY_MODEL_05fcb9ce1d1c4f3fb8e69f5a6d202c89",
            "placeholder": "​",
            "style": "IPY_MODEL_ef069503eb5543c9ac6d7b75f6ba4140",
            "value": "100%"
          }
        },
        "848797004ff74c45a7504e063cb50172": {
          "model_module": "@jupyter-widgets/controls",
          "model_name": "FloatProgressModel",
          "model_module_version": "1.5.0",
          "state": {
            "_dom_classes": [],
            "_model_module": "@jupyter-widgets/controls",
            "_model_module_version": "1.5.0",
            "_model_name": "FloatProgressModel",
            "_view_count": null,
            "_view_module": "@jupyter-widgets/controls",
            "_view_module_version": "1.5.0",
            "_view_name": "ProgressView",
            "bar_style": "success",
            "description": "",
            "description_tooltip": null,
            "layout": "IPY_MODEL_637316e6c7ef48e0adc6c126efefba76",
            "max": 469,
            "min": 0,
            "orientation": "horizontal",
            "style": "IPY_MODEL_1c920c6df687416d9462177f320bc58d",
            "value": 469
          }
        },
        "f7ff8729dd294f16827e759d92c5c7a7": {
          "model_module": "@jupyter-widgets/controls",
          "model_name": "HTMLModel",
          "model_module_version": "1.5.0",
          "state": {
            "_dom_classes": [],
            "_model_module": "@jupyter-widgets/controls",
            "_model_module_version": "1.5.0",
            "_model_name": "HTMLModel",
            "_view_count": null,
            "_view_module": "@jupyter-widgets/controls",
            "_view_module_version": "1.5.0",
            "_view_name": "HTMLView",
            "description": "",
            "description_tooltip": null,
            "layout": "IPY_MODEL_5a8c6901ab654ac5af1e92a10251f65e",
            "placeholder": "​",
            "style": "IPY_MODEL_5318818770fb4423bc1e1563179c967c",
            "value": " 469/469 [01:19&lt;00:00,  6.28batch/s]"
          }
        },
        "18f41af9ab7b45f7a8b4b4d805b0ebab": {
          "model_module": "@jupyter-widgets/base",
          "model_name": "LayoutModel",
          "model_module_version": "1.2.0",
          "state": {
            "_model_module": "@jupyter-widgets/base",
            "_model_module_version": "1.2.0",
            "_model_name": "LayoutModel",
            "_view_count": null,
            "_view_module": "@jupyter-widgets/base",
            "_view_module_version": "1.2.0",
            "_view_name": "LayoutView",
            "align_content": null,
            "align_items": null,
            "align_self": null,
            "border": null,
            "bottom": null,
            "display": null,
            "flex": null,
            "flex_flow": null,
            "grid_area": null,
            "grid_auto_columns": null,
            "grid_auto_flow": null,
            "grid_auto_rows": null,
            "grid_column": null,
            "grid_gap": null,
            "grid_row": null,
            "grid_template_areas": null,
            "grid_template_columns": null,
            "grid_template_rows": null,
            "height": null,
            "justify_content": null,
            "justify_items": null,
            "left": null,
            "margin": null,
            "max_height": null,
            "max_width": null,
            "min_height": null,
            "min_width": null,
            "object_fit": null,
            "object_position": null,
            "order": null,
            "overflow": null,
            "overflow_x": null,
            "overflow_y": null,
            "padding": null,
            "right": null,
            "top": null,
            "visibility": null,
            "width": null
          }
        },
        "05fcb9ce1d1c4f3fb8e69f5a6d202c89": {
          "model_module": "@jupyter-widgets/base",
          "model_name": "LayoutModel",
          "model_module_version": "1.2.0",
          "state": {
            "_model_module": "@jupyter-widgets/base",
            "_model_module_version": "1.2.0",
            "_model_name": "LayoutModel",
            "_view_count": null,
            "_view_module": "@jupyter-widgets/base",
            "_view_module_version": "1.2.0",
            "_view_name": "LayoutView",
            "align_content": null,
            "align_items": null,
            "align_self": null,
            "border": null,
            "bottom": null,
            "display": null,
            "flex": null,
            "flex_flow": null,
            "grid_area": null,
            "grid_auto_columns": null,
            "grid_auto_flow": null,
            "grid_auto_rows": null,
            "grid_column": null,
            "grid_gap": null,
            "grid_row": null,
            "grid_template_areas": null,
            "grid_template_columns": null,
            "grid_template_rows": null,
            "height": null,
            "justify_content": null,
            "justify_items": null,
            "left": null,
            "margin": null,
            "max_height": null,
            "max_width": null,
            "min_height": null,
            "min_width": null,
            "object_fit": null,
            "object_position": null,
            "order": null,
            "overflow": null,
            "overflow_x": null,
            "overflow_y": null,
            "padding": null,
            "right": null,
            "top": null,
            "visibility": null,
            "width": null
          }
        },
        "ef069503eb5543c9ac6d7b75f6ba4140": {
          "model_module": "@jupyter-widgets/controls",
          "model_name": "DescriptionStyleModel",
          "model_module_version": "1.5.0",
          "state": {
            "_model_module": "@jupyter-widgets/controls",
            "_model_module_version": "1.5.0",
            "_model_name": "DescriptionStyleModel",
            "_view_count": null,
            "_view_module": "@jupyter-widgets/base",
            "_view_module_version": "1.2.0",
            "_view_name": "StyleView",
            "description_width": ""
          }
        },
        "637316e6c7ef48e0adc6c126efefba76": {
          "model_module": "@jupyter-widgets/base",
          "model_name": "LayoutModel",
          "model_module_version": "1.2.0",
          "state": {
            "_model_module": "@jupyter-widgets/base",
            "_model_module_version": "1.2.0",
            "_model_name": "LayoutModel",
            "_view_count": null,
            "_view_module": "@jupyter-widgets/base",
            "_view_module_version": "1.2.0",
            "_view_name": "LayoutView",
            "align_content": null,
            "align_items": null,
            "align_self": null,
            "border": null,
            "bottom": null,
            "display": null,
            "flex": null,
            "flex_flow": null,
            "grid_area": null,
            "grid_auto_columns": null,
            "grid_auto_flow": null,
            "grid_auto_rows": null,
            "grid_column": null,
            "grid_gap": null,
            "grid_row": null,
            "grid_template_areas": null,
            "grid_template_columns": null,
            "grid_template_rows": null,
            "height": null,
            "justify_content": null,
            "justify_items": null,
            "left": null,
            "margin": null,
            "max_height": null,
            "max_width": null,
            "min_height": null,
            "min_width": null,
            "object_fit": null,
            "object_position": null,
            "order": null,
            "overflow": null,
            "overflow_x": null,
            "overflow_y": null,
            "padding": null,
            "right": null,
            "top": null,
            "visibility": null,
            "width": null
          }
        },
        "1c920c6df687416d9462177f320bc58d": {
          "model_module": "@jupyter-widgets/controls",
          "model_name": "ProgressStyleModel",
          "model_module_version": "1.5.0",
          "state": {
            "_model_module": "@jupyter-widgets/controls",
            "_model_module_version": "1.5.0",
            "_model_name": "ProgressStyleModel",
            "_view_count": null,
            "_view_module": "@jupyter-widgets/base",
            "_view_module_version": "1.2.0",
            "_view_name": "StyleView",
            "bar_color": null,
            "description_width": ""
          }
        },
        "5a8c6901ab654ac5af1e92a10251f65e": {
          "model_module": "@jupyter-widgets/base",
          "model_name": "LayoutModel",
          "model_module_version": "1.2.0",
          "state": {
            "_model_module": "@jupyter-widgets/base",
            "_model_module_version": "1.2.0",
            "_model_name": "LayoutModel",
            "_view_count": null,
            "_view_module": "@jupyter-widgets/base",
            "_view_module_version": "1.2.0",
            "_view_name": "LayoutView",
            "align_content": null,
            "align_items": null,
            "align_self": null,
            "border": null,
            "bottom": null,
            "display": null,
            "flex": null,
            "flex_flow": null,
            "grid_area": null,
            "grid_auto_columns": null,
            "grid_auto_flow": null,
            "grid_auto_rows": null,
            "grid_column": null,
            "grid_gap": null,
            "grid_row": null,
            "grid_template_areas": null,
            "grid_template_columns": null,
            "grid_template_rows": null,
            "height": null,
            "justify_content": null,
            "justify_items": null,
            "left": null,
            "margin": null,
            "max_height": null,
            "max_width": null,
            "min_height": null,
            "min_width": null,
            "object_fit": null,
            "object_position": null,
            "order": null,
            "overflow": null,
            "overflow_x": null,
            "overflow_y": null,
            "padding": null,
            "right": null,
            "top": null,
            "visibility": null,
            "width": null
          }
        },
        "5318818770fb4423bc1e1563179c967c": {
          "model_module": "@jupyter-widgets/controls",
          "model_name": "DescriptionStyleModel",
          "model_module_version": "1.5.0",
          "state": {
            "_model_module": "@jupyter-widgets/controls",
            "_model_module_version": "1.5.0",
            "_model_name": "DescriptionStyleModel",
            "_view_count": null,
            "_view_module": "@jupyter-widgets/base",
            "_view_module_version": "1.2.0",
            "_view_name": "StyleView",
            "description_width": ""
          }
        },
        "7bf23edf6f604f91ba8ae6c74cc39d3c": {
          "model_module": "@jupyter-widgets/controls",
          "model_name": "HBoxModel",
          "model_module_version": "1.5.0",
          "state": {
            "_dom_classes": [],
            "_model_module": "@jupyter-widgets/controls",
            "_model_module_version": "1.5.0",
            "_model_name": "HBoxModel",
            "_view_count": null,
            "_view_module": "@jupyter-widgets/controls",
            "_view_module_version": "1.5.0",
            "_view_name": "HBoxView",
            "box_style": "",
            "children": [
              "IPY_MODEL_d50a57922b9449068b6876a9a77fda24",
              "IPY_MODEL_5533f3b525e546c181e0d9fd920c7792",
              "IPY_MODEL_ad5b8c52b26143b4b9635bb7dde9a13f"
            ],
            "layout": "IPY_MODEL_09711c479ef34ecab35f04cfe4943c93"
          }
        },
        "d50a57922b9449068b6876a9a77fda24": {
          "model_module": "@jupyter-widgets/controls",
          "model_name": "HTMLModel",
          "model_module_version": "1.5.0",
          "state": {
            "_dom_classes": [],
            "_model_module": "@jupyter-widgets/controls",
            "_model_module_version": "1.5.0",
            "_model_name": "HTMLModel",
            "_view_count": null,
            "_view_module": "@jupyter-widgets/controls",
            "_view_module_version": "1.5.0",
            "_view_name": "HTMLView",
            "description": "",
            "description_tooltip": null,
            "layout": "IPY_MODEL_fcce759abd6841e186491488bdbbb1eb",
            "placeholder": "​",
            "style": "IPY_MODEL_499913a2f04340de8117d1735732d5c3",
            "value": "sampling loop time step: 100%"
          }
        },
        "5533f3b525e546c181e0d9fd920c7792": {
          "model_module": "@jupyter-widgets/controls",
          "model_name": "FloatProgressModel",
          "model_module_version": "1.5.0",
          "state": {
            "_dom_classes": [],
            "_model_module": "@jupyter-widgets/controls",
            "_model_module_version": "1.5.0",
            "_model_name": "FloatProgressModel",
            "_view_count": null,
            "_view_module": "@jupyter-widgets/controls",
            "_view_module_version": "1.5.0",
            "_view_name": "ProgressView",
            "bar_style": "success",
            "description": "",
            "description_tooltip": null,
            "layout": "IPY_MODEL_5f8610ab87fc460491c46f6bbcfe3012",
            "max": 1000,
            "min": 0,
            "orientation": "horizontal",
            "style": "IPY_MODEL_d4d9a626c49e4b2a89b61371367ac138",
            "value": 1000
          }
        },
        "ad5b8c52b26143b4b9635bb7dde9a13f": {
          "model_module": "@jupyter-widgets/controls",
          "model_name": "HTMLModel",
          "model_module_version": "1.5.0",
          "state": {
            "_dom_classes": [],
            "_model_module": "@jupyter-widgets/controls",
            "_model_module_version": "1.5.0",
            "_model_name": "HTMLModel",
            "_view_count": null,
            "_view_module": "@jupyter-widgets/controls",
            "_view_module_version": "1.5.0",
            "_view_name": "HTMLView",
            "description": "",
            "description_tooltip": null,
            "layout": "IPY_MODEL_79f2e0a272044024a672231c1a56a41e",
            "placeholder": "​",
            "style": "IPY_MODEL_228444dae6d4426b8e64a2532992a4d6",
            "value": " 1000/1000 [05:28&lt;00:00,  3.02it/s]"
          }
        },
        "09711c479ef34ecab35f04cfe4943c93": {
          "model_module": "@jupyter-widgets/base",
          "model_name": "LayoutModel",
          "model_module_version": "1.2.0",
          "state": {
            "_model_module": "@jupyter-widgets/base",
            "_model_module_version": "1.2.0",
            "_model_name": "LayoutModel",
            "_view_count": null,
            "_view_module": "@jupyter-widgets/base",
            "_view_module_version": "1.2.0",
            "_view_name": "LayoutView",
            "align_content": null,
            "align_items": null,
            "align_self": null,
            "border": null,
            "bottom": null,
            "display": null,
            "flex": null,
            "flex_flow": null,
            "grid_area": null,
            "grid_auto_columns": null,
            "grid_auto_flow": null,
            "grid_auto_rows": null,
            "grid_column": null,
            "grid_gap": null,
            "grid_row": null,
            "grid_template_areas": null,
            "grid_template_columns": null,
            "grid_template_rows": null,
            "height": null,
            "justify_content": null,
            "justify_items": null,
            "left": null,
            "margin": null,
            "max_height": null,
            "max_width": null,
            "min_height": null,
            "min_width": null,
            "object_fit": null,
            "object_position": null,
            "order": null,
            "overflow": null,
            "overflow_x": null,
            "overflow_y": null,
            "padding": null,
            "right": null,
            "top": null,
            "visibility": null,
            "width": null
          }
        },
        "fcce759abd6841e186491488bdbbb1eb": {
          "model_module": "@jupyter-widgets/base",
          "model_name": "LayoutModel",
          "model_module_version": "1.2.0",
          "state": {
            "_model_module": "@jupyter-widgets/base",
            "_model_module_version": "1.2.0",
            "_model_name": "LayoutModel",
            "_view_count": null,
            "_view_module": "@jupyter-widgets/base",
            "_view_module_version": "1.2.0",
            "_view_name": "LayoutView",
            "align_content": null,
            "align_items": null,
            "align_self": null,
            "border": null,
            "bottom": null,
            "display": null,
            "flex": null,
            "flex_flow": null,
            "grid_area": null,
            "grid_auto_columns": null,
            "grid_auto_flow": null,
            "grid_auto_rows": null,
            "grid_column": null,
            "grid_gap": null,
            "grid_row": null,
            "grid_template_areas": null,
            "grid_template_columns": null,
            "grid_template_rows": null,
            "height": null,
            "justify_content": null,
            "justify_items": null,
            "left": null,
            "margin": null,
            "max_height": null,
            "max_width": null,
            "min_height": null,
            "min_width": null,
            "object_fit": null,
            "object_position": null,
            "order": null,
            "overflow": null,
            "overflow_x": null,
            "overflow_y": null,
            "padding": null,
            "right": null,
            "top": null,
            "visibility": null,
            "width": null
          }
        },
        "499913a2f04340de8117d1735732d5c3": {
          "model_module": "@jupyter-widgets/controls",
          "model_name": "DescriptionStyleModel",
          "model_module_version": "1.5.0",
          "state": {
            "_model_module": "@jupyter-widgets/controls",
            "_model_module_version": "1.5.0",
            "_model_name": "DescriptionStyleModel",
            "_view_count": null,
            "_view_module": "@jupyter-widgets/base",
            "_view_module_version": "1.2.0",
            "_view_name": "StyleView",
            "description_width": ""
          }
        },
        "5f8610ab87fc460491c46f6bbcfe3012": {
          "model_module": "@jupyter-widgets/base",
          "model_name": "LayoutModel",
          "model_module_version": "1.2.0",
          "state": {
            "_model_module": "@jupyter-widgets/base",
            "_model_module_version": "1.2.0",
            "_model_name": "LayoutModel",
            "_view_count": null,
            "_view_module": "@jupyter-widgets/base",
            "_view_module_version": "1.2.0",
            "_view_name": "LayoutView",
            "align_content": null,
            "align_items": null,
            "align_self": null,
            "border": null,
            "bottom": null,
            "display": null,
            "flex": null,
            "flex_flow": null,
            "grid_area": null,
            "grid_auto_columns": null,
            "grid_auto_flow": null,
            "grid_auto_rows": null,
            "grid_column": null,
            "grid_gap": null,
            "grid_row": null,
            "grid_template_areas": null,
            "grid_template_columns": null,
            "grid_template_rows": null,
            "height": null,
            "justify_content": null,
            "justify_items": null,
            "left": null,
            "margin": null,
            "max_height": null,
            "max_width": null,
            "min_height": null,
            "min_width": null,
            "object_fit": null,
            "object_position": null,
            "order": null,
            "overflow": null,
            "overflow_x": null,
            "overflow_y": null,
            "padding": null,
            "right": null,
            "top": null,
            "visibility": null,
            "width": null
          }
        },
        "d4d9a626c49e4b2a89b61371367ac138": {
          "model_module": "@jupyter-widgets/controls",
          "model_name": "ProgressStyleModel",
          "model_module_version": "1.5.0",
          "state": {
            "_model_module": "@jupyter-widgets/controls",
            "_model_module_version": "1.5.0",
            "_model_name": "ProgressStyleModel",
            "_view_count": null,
            "_view_module": "@jupyter-widgets/base",
            "_view_module_version": "1.2.0",
            "_view_name": "StyleView",
            "bar_color": null,
            "description_width": ""
          }
        },
        "79f2e0a272044024a672231c1a56a41e": {
          "model_module": "@jupyter-widgets/base",
          "model_name": "LayoutModel",
          "model_module_version": "1.2.0",
          "state": {
            "_model_module": "@jupyter-widgets/base",
            "_model_module_version": "1.2.0",
            "_model_name": "LayoutModel",
            "_view_count": null,
            "_view_module": "@jupyter-widgets/base",
            "_view_module_version": "1.2.0",
            "_view_name": "LayoutView",
            "align_content": null,
            "align_items": null,
            "align_self": null,
            "border": null,
            "bottom": null,
            "display": null,
            "flex": null,
            "flex_flow": null,
            "grid_area": null,
            "grid_auto_columns": null,
            "grid_auto_flow": null,
            "grid_auto_rows": null,
            "grid_column": null,
            "grid_gap": null,
            "grid_row": null,
            "grid_template_areas": null,
            "grid_template_columns": null,
            "grid_template_rows": null,
            "height": null,
            "justify_content": null,
            "justify_items": null,
            "left": null,
            "margin": null,
            "max_height": null,
            "max_width": null,
            "min_height": null,
            "min_width": null,
            "object_fit": null,
            "object_position": null,
            "order": null,
            "overflow": null,
            "overflow_x": null,
            "overflow_y": null,
            "padding": null,
            "right": null,
            "top": null,
            "visibility": null,
            "width": null
          }
        },
        "228444dae6d4426b8e64a2532992a4d6": {
          "model_module": "@jupyter-widgets/controls",
          "model_name": "DescriptionStyleModel",
          "model_module_version": "1.5.0",
          "state": {
            "_model_module": "@jupyter-widgets/controls",
            "_model_module_version": "1.5.0",
            "_model_name": "DescriptionStyleModel",
            "_view_count": null,
            "_view_module": "@jupyter-widgets/base",
            "_view_module_version": "1.2.0",
            "_view_name": "StyleView",
            "description_width": ""
          }
        },
        "0384434cfbf447e3b3d48df618578a08": {
          "model_module": "@jupyter-widgets/controls",
          "model_name": "HBoxModel",
          "model_module_version": "1.5.0",
          "state": {
            "_dom_classes": [],
            "_model_module": "@jupyter-widgets/controls",
            "_model_module_version": "1.5.0",
            "_model_name": "HBoxModel",
            "_view_count": null,
            "_view_module": "@jupyter-widgets/controls",
            "_view_module_version": "1.5.0",
            "_view_name": "HBoxView",
            "box_style": "",
            "children": [
              "IPY_MODEL_79cf807b05d14c9d911533a947e25930",
              "IPY_MODEL_9393c68f176640e39c7be04207755dd7",
              "IPY_MODEL_01a5388697214bf9a3c875e92bb34b73"
            ],
            "layout": "IPY_MODEL_dbe8744c6c1d496ba7cd9967f9e79ef5"
          }
        },
        "79cf807b05d14c9d911533a947e25930": {
          "model_module": "@jupyter-widgets/controls",
          "model_name": "HTMLModel",
          "model_module_version": "1.5.0",
          "state": {
            "_dom_classes": [],
            "_model_module": "@jupyter-widgets/controls",
            "_model_module_version": "1.5.0",
            "_model_name": "HTMLModel",
            "_view_count": null,
            "_view_module": "@jupyter-widgets/controls",
            "_view_module_version": "1.5.0",
            "_view_name": "HTMLView",
            "description": "",
            "description_tooltip": null,
            "layout": "IPY_MODEL_827b3bbea08649ecb318169f924d1110",
            "placeholder": "​",
            "style": "IPY_MODEL_d44e3baad920420e8ae7df0bc9cb9117",
            "value": "100%"
          }
        },
        "9393c68f176640e39c7be04207755dd7": {
          "model_module": "@jupyter-widgets/controls",
          "model_name": "FloatProgressModel",
          "model_module_version": "1.5.0",
          "state": {
            "_dom_classes": [],
            "_model_module": "@jupyter-widgets/controls",
            "_model_module_version": "1.5.0",
            "_model_name": "FloatProgressModel",
            "_view_count": null,
            "_view_module": "@jupyter-widgets/controls",
            "_view_module_version": "1.5.0",
            "_view_name": "ProgressView",
            "bar_style": "success",
            "description": "",
            "description_tooltip": null,
            "layout": "IPY_MODEL_9c278078aff44ef0b59bbd8ea7381662",
            "max": 108949747,
            "min": 0,
            "orientation": "horizontal",
            "style": "IPY_MODEL_bd7b48a9958c47bfaefec11a2f520677",
            "value": 108949747
          }
        },
        "01a5388697214bf9a3c875e92bb34b73": {
          "model_module": "@jupyter-widgets/controls",
          "model_name": "HTMLModel",
          "model_module_version": "1.5.0",
          "state": {
            "_dom_classes": [],
            "_model_module": "@jupyter-widgets/controls",
            "_model_module_version": "1.5.0",
            "_model_name": "HTMLModel",
            "_view_count": null,
            "_view_module": "@jupyter-widgets/controls",
            "_view_module_version": "1.5.0",
            "_view_name": "HTMLView",
            "description": "",
            "description_tooltip": null,
            "layout": "IPY_MODEL_32f9b9fe62434fb0a3ea1594aa010dfd",
            "placeholder": "​",
            "style": "IPY_MODEL_9f5f2400633e4b25b8beb244a175b8cc",
            "value": " 104M/104M [00:00&lt;00:00, 297MB/s]"
          }
        },
        "dbe8744c6c1d496ba7cd9967f9e79ef5": {
          "model_module": "@jupyter-widgets/base",
          "model_name": "LayoutModel",
          "model_module_version": "1.2.0",
          "state": {
            "_model_module": "@jupyter-widgets/base",
            "_model_module_version": "1.2.0",
            "_model_name": "LayoutModel",
            "_view_count": null,
            "_view_module": "@jupyter-widgets/base",
            "_view_module_version": "1.2.0",
            "_view_name": "LayoutView",
            "align_content": null,
            "align_items": null,
            "align_self": null,
            "border": null,
            "bottom": null,
            "display": null,
            "flex": null,
            "flex_flow": null,
            "grid_area": null,
            "grid_auto_columns": null,
            "grid_auto_flow": null,
            "grid_auto_rows": null,
            "grid_column": null,
            "grid_gap": null,
            "grid_row": null,
            "grid_template_areas": null,
            "grid_template_columns": null,
            "grid_template_rows": null,
            "height": null,
            "justify_content": null,
            "justify_items": null,
            "left": null,
            "margin": null,
            "max_height": null,
            "max_width": null,
            "min_height": null,
            "min_width": null,
            "object_fit": null,
            "object_position": null,
            "order": null,
            "overflow": null,
            "overflow_x": null,
            "overflow_y": null,
            "padding": null,
            "right": null,
            "top": null,
            "visibility": null,
            "width": null
          }
        },
        "827b3bbea08649ecb318169f924d1110": {
          "model_module": "@jupyter-widgets/base",
          "model_name": "LayoutModel",
          "model_module_version": "1.2.0",
          "state": {
            "_model_module": "@jupyter-widgets/base",
            "_model_module_version": "1.2.0",
            "_model_name": "LayoutModel",
            "_view_count": null,
            "_view_module": "@jupyter-widgets/base",
            "_view_module_version": "1.2.0",
            "_view_name": "LayoutView",
            "align_content": null,
            "align_items": null,
            "align_self": null,
            "border": null,
            "bottom": null,
            "display": null,
            "flex": null,
            "flex_flow": null,
            "grid_area": null,
            "grid_auto_columns": null,
            "grid_auto_flow": null,
            "grid_auto_rows": null,
            "grid_column": null,
            "grid_gap": null,
            "grid_row": null,
            "grid_template_areas": null,
            "grid_template_columns": null,
            "grid_template_rows": null,
            "height": null,
            "justify_content": null,
            "justify_items": null,
            "left": null,
            "margin": null,
            "max_height": null,
            "max_width": null,
            "min_height": null,
            "min_width": null,
            "object_fit": null,
            "object_position": null,
            "order": null,
            "overflow": null,
            "overflow_x": null,
            "overflow_y": null,
            "padding": null,
            "right": null,
            "top": null,
            "visibility": null,
            "width": null
          }
        },
        "d44e3baad920420e8ae7df0bc9cb9117": {
          "model_module": "@jupyter-widgets/controls",
          "model_name": "DescriptionStyleModel",
          "model_module_version": "1.5.0",
          "state": {
            "_model_module": "@jupyter-widgets/controls",
            "_model_module_version": "1.5.0",
            "_model_name": "DescriptionStyleModel",
            "_view_count": null,
            "_view_module": "@jupyter-widgets/base",
            "_view_module_version": "1.2.0",
            "_view_name": "StyleView",
            "description_width": ""
          }
        },
        "9c278078aff44ef0b59bbd8ea7381662": {
          "model_module": "@jupyter-widgets/base",
          "model_name": "LayoutModel",
          "model_module_version": "1.2.0",
          "state": {
            "_model_module": "@jupyter-widgets/base",
            "_model_module_version": "1.2.0",
            "_model_name": "LayoutModel",
            "_view_count": null,
            "_view_module": "@jupyter-widgets/base",
            "_view_module_version": "1.2.0",
            "_view_name": "LayoutView",
            "align_content": null,
            "align_items": null,
            "align_self": null,
            "border": null,
            "bottom": null,
            "display": null,
            "flex": null,
            "flex_flow": null,
            "grid_area": null,
            "grid_auto_columns": null,
            "grid_auto_flow": null,
            "grid_auto_rows": null,
            "grid_column": null,
            "grid_gap": null,
            "grid_row": null,
            "grid_template_areas": null,
            "grid_template_columns": null,
            "grid_template_rows": null,
            "height": null,
            "justify_content": null,
            "justify_items": null,
            "left": null,
            "margin": null,
            "max_height": null,
            "max_width": null,
            "min_height": null,
            "min_width": null,
            "object_fit": null,
            "object_position": null,
            "order": null,
            "overflow": null,
            "overflow_x": null,
            "overflow_y": null,
            "padding": null,
            "right": null,
            "top": null,
            "visibility": null,
            "width": null
          }
        },
        "bd7b48a9958c47bfaefec11a2f520677": {
          "model_module": "@jupyter-widgets/controls",
          "model_name": "ProgressStyleModel",
          "model_module_version": "1.5.0",
          "state": {
            "_model_module": "@jupyter-widgets/controls",
            "_model_module_version": "1.5.0",
            "_model_name": "ProgressStyleModel",
            "_view_count": null,
            "_view_module": "@jupyter-widgets/base",
            "_view_module_version": "1.2.0",
            "_view_name": "StyleView",
            "bar_color": null,
            "description_width": ""
          }
        },
        "32f9b9fe62434fb0a3ea1594aa010dfd": {
          "model_module": "@jupyter-widgets/base",
          "model_name": "LayoutModel",
          "model_module_version": "1.2.0",
          "state": {
            "_model_module": "@jupyter-widgets/base",
            "_model_module_version": "1.2.0",
            "_model_name": "LayoutModel",
            "_view_count": null,
            "_view_module": "@jupyter-widgets/base",
            "_view_module_version": "1.2.0",
            "_view_name": "LayoutView",
            "align_content": null,
            "align_items": null,
            "align_self": null,
            "border": null,
            "bottom": null,
            "display": null,
            "flex": null,
            "flex_flow": null,
            "grid_area": null,
            "grid_auto_columns": null,
            "grid_auto_flow": null,
            "grid_auto_rows": null,
            "grid_column": null,
            "grid_gap": null,
            "grid_row": null,
            "grid_template_areas": null,
            "grid_template_columns": null,
            "grid_template_rows": null,
            "height": null,
            "justify_content": null,
            "justify_items": null,
            "left": null,
            "margin": null,
            "max_height": null,
            "max_width": null,
            "min_height": null,
            "min_width": null,
            "object_fit": null,
            "object_position": null,
            "order": null,
            "overflow": null,
            "overflow_x": null,
            "overflow_y": null,
            "padding": null,
            "right": null,
            "top": null,
            "visibility": null,
            "width": null
          }
        },
        "9f5f2400633e4b25b8beb244a175b8cc": {
          "model_module": "@jupyter-widgets/controls",
          "model_name": "DescriptionStyleModel",
          "model_module_version": "1.5.0",
          "state": {
            "_model_module": "@jupyter-widgets/controls",
            "_model_module_version": "1.5.0",
            "_model_name": "DescriptionStyleModel",
            "_view_count": null,
            "_view_module": "@jupyter-widgets/base",
            "_view_module_version": "1.2.0",
            "_view_name": "StyleView",
            "description_width": ""
          }
        },
        "e069716fa96240baa950670b18d35bfc": {
          "model_module": "@jupyter-widgets/controls",
          "model_name": "HBoxModel",
          "model_module_version": "1.5.0",
          "state": {
            "_dom_classes": [],
            "_model_module": "@jupyter-widgets/controls",
            "_model_module_version": "1.5.0",
            "_model_name": "HBoxModel",
            "_view_count": null,
            "_view_module": "@jupyter-widgets/controls",
            "_view_module_version": "1.5.0",
            "_view_name": "HBoxView",
            "box_style": "",
            "children": [
              "IPY_MODEL_621a93a886fe4936ab8f3c4157c0f374",
              "IPY_MODEL_0ba504019f5246efa0d72b72426cec95",
              "IPY_MODEL_12c16494cb154d22b68270e36fdd3425"
            ],
            "layout": "IPY_MODEL_d744935d55e84eb5ab9b01445384199a"
          }
        },
        "621a93a886fe4936ab8f3c4157c0f374": {
          "model_module": "@jupyter-widgets/controls",
          "model_name": "HTMLModel",
          "model_module_version": "1.5.0",
          "state": {
            "_dom_classes": [],
            "_model_module": "@jupyter-widgets/controls",
            "_model_module_version": "1.5.0",
            "_model_name": "HTMLModel",
            "_view_count": null,
            "_view_module": "@jupyter-widgets/controls",
            "_view_module_version": "1.5.0",
            "_view_name": "HTMLView",
            "description": "",
            "description_tooltip": null,
            "layout": "IPY_MODEL_5846076cd99341b68b714ad27e6bf7dd",
            "placeholder": "​",
            "style": "IPY_MODEL_9c4673c9812a48dbbcf223572a8c05bb",
            "value": "sampling loop time step: 100%"
          }
        },
        "0ba504019f5246efa0d72b72426cec95": {
          "model_module": "@jupyter-widgets/controls",
          "model_name": "FloatProgressModel",
          "model_module_version": "1.5.0",
          "state": {
            "_dom_classes": [],
            "_model_module": "@jupyter-widgets/controls",
            "_model_module_version": "1.5.0",
            "_model_name": "FloatProgressModel",
            "_view_count": null,
            "_view_module": "@jupyter-widgets/controls",
            "_view_module_version": "1.5.0",
            "_view_name": "ProgressView",
            "bar_style": "success",
            "description": "",
            "description_tooltip": null,
            "layout": "IPY_MODEL_5c43974b8a84457cb96f3be781a6eedb",
            "max": 1000,
            "min": 0,
            "orientation": "horizontal",
            "style": "IPY_MODEL_87e19810006f4352b79b38334df1c581",
            "value": 1000
          }
        },
        "12c16494cb154d22b68270e36fdd3425": {
          "model_module": "@jupyter-widgets/controls",
          "model_name": "HTMLModel",
          "model_module_version": "1.5.0",
          "state": {
            "_dom_classes": [],
            "_model_module": "@jupyter-widgets/controls",
            "_model_module_version": "1.5.0",
            "_model_name": "HTMLModel",
            "_view_count": null,
            "_view_module": "@jupyter-widgets/controls",
            "_view_module_version": "1.5.0",
            "_view_name": "HTMLView",
            "description": "",
            "description_tooltip": null,
            "layout": "IPY_MODEL_3cf875fb9283450ba12d514f35f83c50",
            "placeholder": "​",
            "style": "IPY_MODEL_99ea2c0cbe914f4db3956db07df9247c",
            "value": " 1000/1000 [00:14&lt;00:00, 70.28it/s]"
          }
        },
        "d744935d55e84eb5ab9b01445384199a": {
          "model_module": "@jupyter-widgets/base",
          "model_name": "LayoutModel",
          "model_module_version": "1.2.0",
          "state": {
            "_model_module": "@jupyter-widgets/base",
            "_model_module_version": "1.2.0",
            "_model_name": "LayoutModel",
            "_view_count": null,
            "_view_module": "@jupyter-widgets/base",
            "_view_module_version": "1.2.0",
            "_view_name": "LayoutView",
            "align_content": null,
            "align_items": null,
            "align_self": null,
            "border": null,
            "bottom": null,
            "display": null,
            "flex": null,
            "flex_flow": null,
            "grid_area": null,
            "grid_auto_columns": null,
            "grid_auto_flow": null,
            "grid_auto_rows": null,
            "grid_column": null,
            "grid_gap": null,
            "grid_row": null,
            "grid_template_areas": null,
            "grid_template_columns": null,
            "grid_template_rows": null,
            "height": null,
            "justify_content": null,
            "justify_items": null,
            "left": null,
            "margin": null,
            "max_height": null,
            "max_width": null,
            "min_height": null,
            "min_width": null,
            "object_fit": null,
            "object_position": null,
            "order": null,
            "overflow": null,
            "overflow_x": null,
            "overflow_y": null,
            "padding": null,
            "right": null,
            "top": null,
            "visibility": null,
            "width": null
          }
        },
        "5846076cd99341b68b714ad27e6bf7dd": {
          "model_module": "@jupyter-widgets/base",
          "model_name": "LayoutModel",
          "model_module_version": "1.2.0",
          "state": {
            "_model_module": "@jupyter-widgets/base",
            "_model_module_version": "1.2.0",
            "_model_name": "LayoutModel",
            "_view_count": null,
            "_view_module": "@jupyter-widgets/base",
            "_view_module_version": "1.2.0",
            "_view_name": "LayoutView",
            "align_content": null,
            "align_items": null,
            "align_self": null,
            "border": null,
            "bottom": null,
            "display": null,
            "flex": null,
            "flex_flow": null,
            "grid_area": null,
            "grid_auto_columns": null,
            "grid_auto_flow": null,
            "grid_auto_rows": null,
            "grid_column": null,
            "grid_gap": null,
            "grid_row": null,
            "grid_template_areas": null,
            "grid_template_columns": null,
            "grid_template_rows": null,
            "height": null,
            "justify_content": null,
            "justify_items": null,
            "left": null,
            "margin": null,
            "max_height": null,
            "max_width": null,
            "min_height": null,
            "min_width": null,
            "object_fit": null,
            "object_position": null,
            "order": null,
            "overflow": null,
            "overflow_x": null,
            "overflow_y": null,
            "padding": null,
            "right": null,
            "top": null,
            "visibility": null,
            "width": null
          }
        },
        "9c4673c9812a48dbbcf223572a8c05bb": {
          "model_module": "@jupyter-widgets/controls",
          "model_name": "DescriptionStyleModel",
          "model_module_version": "1.5.0",
          "state": {
            "_model_module": "@jupyter-widgets/controls",
            "_model_module_version": "1.5.0",
            "_model_name": "DescriptionStyleModel",
            "_view_count": null,
            "_view_module": "@jupyter-widgets/base",
            "_view_module_version": "1.2.0",
            "_view_name": "StyleView",
            "description_width": ""
          }
        },
        "5c43974b8a84457cb96f3be781a6eedb": {
          "model_module": "@jupyter-widgets/base",
          "model_name": "LayoutModel",
          "model_module_version": "1.2.0",
          "state": {
            "_model_module": "@jupyter-widgets/base",
            "_model_module_version": "1.2.0",
            "_model_name": "LayoutModel",
            "_view_count": null,
            "_view_module": "@jupyter-widgets/base",
            "_view_module_version": "1.2.0",
            "_view_name": "LayoutView",
            "align_content": null,
            "align_items": null,
            "align_self": null,
            "border": null,
            "bottom": null,
            "display": null,
            "flex": null,
            "flex_flow": null,
            "grid_area": null,
            "grid_auto_columns": null,
            "grid_auto_flow": null,
            "grid_auto_rows": null,
            "grid_column": null,
            "grid_gap": null,
            "grid_row": null,
            "grid_template_areas": null,
            "grid_template_columns": null,
            "grid_template_rows": null,
            "height": null,
            "justify_content": null,
            "justify_items": null,
            "left": null,
            "margin": null,
            "max_height": null,
            "max_width": null,
            "min_height": null,
            "min_width": null,
            "object_fit": null,
            "object_position": null,
            "order": null,
            "overflow": null,
            "overflow_x": null,
            "overflow_y": null,
            "padding": null,
            "right": null,
            "top": null,
            "visibility": null,
            "width": null
          }
        },
        "87e19810006f4352b79b38334df1c581": {
          "model_module": "@jupyter-widgets/controls",
          "model_name": "ProgressStyleModel",
          "model_module_version": "1.5.0",
          "state": {
            "_model_module": "@jupyter-widgets/controls",
            "_model_module_version": "1.5.0",
            "_model_name": "ProgressStyleModel",
            "_view_count": null,
            "_view_module": "@jupyter-widgets/base",
            "_view_module_version": "1.2.0",
            "_view_name": "StyleView",
            "bar_color": null,
            "description_width": ""
          }
        },
        "3cf875fb9283450ba12d514f35f83c50": {
          "model_module": "@jupyter-widgets/base",
          "model_name": "LayoutModel",
          "model_module_version": "1.2.0",
          "state": {
            "_model_module": "@jupyter-widgets/base",
            "_model_module_version": "1.2.0",
            "_model_name": "LayoutModel",
            "_view_count": null,
            "_view_module": "@jupyter-widgets/base",
            "_view_module_version": "1.2.0",
            "_view_name": "LayoutView",
            "align_content": null,
            "align_items": null,
            "align_self": null,
            "border": null,
            "bottom": null,
            "display": null,
            "flex": null,
            "flex_flow": null,
            "grid_area": null,
            "grid_auto_columns": null,
            "grid_auto_flow": null,
            "grid_auto_rows": null,
            "grid_column": null,
            "grid_gap": null,
            "grid_row": null,
            "grid_template_areas": null,
            "grid_template_columns": null,
            "grid_template_rows": null,
            "height": null,
            "justify_content": null,
            "justify_items": null,
            "left": null,
            "margin": null,
            "max_height": null,
            "max_width": null,
            "min_height": null,
            "min_width": null,
            "object_fit": null,
            "object_position": null,
            "order": null,
            "overflow": null,
            "overflow_x": null,
            "overflow_y": null,
            "padding": null,
            "right": null,
            "top": null,
            "visibility": null,
            "width": null
          }
        },
        "99ea2c0cbe914f4db3956db07df9247c": {
          "model_module": "@jupyter-widgets/controls",
          "model_name": "DescriptionStyleModel",
          "model_module_version": "1.5.0",
          "state": {
            "_model_module": "@jupyter-widgets/controls",
            "_model_module_version": "1.5.0",
            "_model_name": "DescriptionStyleModel",
            "_view_count": null,
            "_view_module": "@jupyter-widgets/base",
            "_view_module_version": "1.2.0",
            "_view_name": "StyleView",
            "description_width": ""
          }
        }
      }
    }
  },
  "nbformat": 4,
  "nbformat_minor": 0
}